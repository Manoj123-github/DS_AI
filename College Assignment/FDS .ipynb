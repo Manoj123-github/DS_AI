{
 "cells": [
  {
   "cell_type": "code",
   "execution_count": 47,
   "metadata": {},
   "outputs": [],
   "source": [
    "import pandas as pd\n",
    "import numpy as np\n",
    "import matplotlib.pyplot as plt\n",
    "import seaborn as sns\n",
    "import math\n",
    "import scipy.stats as stats\n",
    "from scipy.stats import ttest_1samp\n",
    "from statsmodels.stats.power import tt_ind_solve_power"
   ]
  },
  {
   "cell_type": "code",
   "execution_count": 48,
   "metadata": {},
   "outputs": [
    {
     "data": {
      "text/html": [
       "<div>\n",
       "<style scoped>\n",
       "    .dataframe tbody tr th:only-of-type {\n",
       "        vertical-align: middle;\n",
       "    }\n",
       "\n",
       "    .dataframe tbody tr th {\n",
       "        vertical-align: top;\n",
       "    }\n",
       "\n",
       "    .dataframe thead th {\n",
       "        text-align: right;\n",
       "    }\n",
       "</style>\n",
       "<table border=\"1\" class=\"dataframe\">\n",
       "  <thead>\n",
       "    <tr style=\"text-align: right;\">\n",
       "      <th></th>\n",
       "      <th>Roll no.</th>\n",
       "      <th>Name</th>\n",
       "      <th>Subj1</th>\n",
       "      <th>Subj2</th>\n",
       "      <th>subj3</th>\n",
       "      <th>total</th>\n",
       "      <th>result</th>\n",
       "    </tr>\n",
       "  </thead>\n",
       "  <tbody>\n",
       "    <tr>\n",
       "      <th>0</th>\n",
       "      <td>101</td>\n",
       "      <td>Manoj</td>\n",
       "      <td>45</td>\n",
       "      <td>45</td>\n",
       "      <td>45</td>\n",
       "      <td>135</td>\n",
       "      <td>P</td>\n",
       "    </tr>\n",
       "    <tr>\n",
       "      <th>1</th>\n",
       "      <td>102</td>\n",
       "      <td>Manish</td>\n",
       "      <td>35</td>\n",
       "      <td>45</td>\n",
       "      <td>42</td>\n",
       "      <td>122</td>\n",
       "      <td>P</td>\n",
       "    </tr>\n",
       "    <tr>\n",
       "      <th>2</th>\n",
       "      <td>103</td>\n",
       "      <td>shubham</td>\n",
       "      <td>29</td>\n",
       "      <td>26</td>\n",
       "      <td>30</td>\n",
       "      <td>85</td>\n",
       "      <td>P</td>\n",
       "    </tr>\n",
       "    <tr>\n",
       "      <th>3</th>\n",
       "      <td>104</td>\n",
       "      <td>shivam</td>\n",
       "      <td>38</td>\n",
       "      <td>35</td>\n",
       "      <td>29</td>\n",
       "      <td>102</td>\n",
       "      <td>P</td>\n",
       "    </tr>\n",
       "    <tr>\n",
       "      <th>4</th>\n",
       "      <td>105</td>\n",
       "      <td>aakash</td>\n",
       "      <td>41</td>\n",
       "      <td>40</td>\n",
       "      <td>34</td>\n",
       "      <td>115</td>\n",
       "      <td>P</td>\n",
       "    </tr>\n",
       "    <tr>\n",
       "      <th>5</th>\n",
       "      <td>106</td>\n",
       "      <td>ritwik</td>\n",
       "      <td>46</td>\n",
       "      <td>62</td>\n",
       "      <td>41</td>\n",
       "      <td>149</td>\n",
       "      <td>P</td>\n",
       "    </tr>\n",
       "    <tr>\n",
       "      <th>6</th>\n",
       "      <td>107</td>\n",
       "      <td>saurabh</td>\n",
       "      <td>29</td>\n",
       "      <td>48</td>\n",
       "      <td>27</td>\n",
       "      <td>104</td>\n",
       "      <td>P</td>\n",
       "    </tr>\n",
       "    <tr>\n",
       "      <th>7</th>\n",
       "      <td>108</td>\n",
       "      <td>nilesh</td>\n",
       "      <td>43</td>\n",
       "      <td>33</td>\n",
       "      <td>33</td>\n",
       "      <td>109</td>\n",
       "      <td>P</td>\n",
       "    </tr>\n",
       "    <tr>\n",
       "      <th>8</th>\n",
       "      <td>109</td>\n",
       "      <td>prakash</td>\n",
       "      <td>37</td>\n",
       "      <td>30</td>\n",
       "      <td>38</td>\n",
       "      <td>105</td>\n",
       "      <td>P</td>\n",
       "    </tr>\n",
       "    <tr>\n",
       "      <th>9</th>\n",
       "      <td>110</td>\n",
       "      <td>vikrant</td>\n",
       "      <td>33</td>\n",
       "      <td>31</td>\n",
       "      <td>41</td>\n",
       "      <td>105</td>\n",
       "      <td>P</td>\n",
       "    </tr>\n",
       "  </tbody>\n",
       "</table>\n",
       "</div>"
      ],
      "text/plain": [
       "   Roll no.     Name  Subj1  Subj2  subj3  total result\n",
       "0       101   Manoj      45     45     45    135      P\n",
       "1       102   Manish     35     45     42    122      P\n",
       "2       103  shubham     29     26     30     85      P\n",
       "3       104   shivam     38     35     29    102      P\n",
       "4       105   aakash     41     40     34    115      P\n",
       "5       106   ritwik     46     62     41    149      P\n",
       "6       107  saurabh     29     48     27    104      P\n",
       "7       108   nilesh     43     33     33    109      P\n",
       "8       109  prakash     37     30     38    105      P\n",
       "9       110  vikrant     33     31     41    105      P"
      ]
     },
     "execution_count": 48,
     "metadata": {},
     "output_type": "execute_result"
    }
   ],
   "source": [
    "df=pd.read_excel('C:/Users/Manoj Yadav/Desktop/result.xlsx')\n",
    "df"
   ]
  },
  {
   "cell_type": "code",
   "execution_count": 49,
   "metadata": {},
   "outputs": [
    {
     "data": {
      "text/html": [
       "<div>\n",
       "<style scoped>\n",
       "    .dataframe tbody tr th:only-of-type {\n",
       "        vertical-align: middle;\n",
       "    }\n",
       "\n",
       "    .dataframe tbody tr th {\n",
       "        vertical-align: top;\n",
       "    }\n",
       "\n",
       "    .dataframe thead th {\n",
       "        text-align: right;\n",
       "    }\n",
       "</style>\n",
       "<table border=\"1\" class=\"dataframe\">\n",
       "  <thead>\n",
       "    <tr style=\"text-align: right;\">\n",
       "      <th></th>\n",
       "      <th>Roll no.</th>\n",
       "      <th>Subj1</th>\n",
       "      <th>Subj2</th>\n",
       "      <th>subj3</th>\n",
       "      <th>total</th>\n",
       "    </tr>\n",
       "  </thead>\n",
       "  <tbody>\n",
       "    <tr>\n",
       "      <th>count</th>\n",
       "      <td>10.00000</td>\n",
       "      <td>10.000000</td>\n",
       "      <td>10.000000</td>\n",
       "      <td>10.000000</td>\n",
       "      <td>10.000000</td>\n",
       "    </tr>\n",
       "    <tr>\n",
       "      <th>mean</th>\n",
       "      <td>105.50000</td>\n",
       "      <td>37.600000</td>\n",
       "      <td>39.500000</td>\n",
       "      <td>36.000000</td>\n",
       "      <td>113.100000</td>\n",
       "    </tr>\n",
       "    <tr>\n",
       "      <th>std</th>\n",
       "      <td>3.02765</td>\n",
       "      <td>6.168018</td>\n",
       "      <td>10.783217</td>\n",
       "      <td>6.236096</td>\n",
       "      <td>18.241893</td>\n",
       "    </tr>\n",
       "    <tr>\n",
       "      <th>min</th>\n",
       "      <td>101.00000</td>\n",
       "      <td>29.000000</td>\n",
       "      <td>26.000000</td>\n",
       "      <td>27.000000</td>\n",
       "      <td>85.000000</td>\n",
       "    </tr>\n",
       "    <tr>\n",
       "      <th>25%</th>\n",
       "      <td>103.25000</td>\n",
       "      <td>33.500000</td>\n",
       "      <td>31.500000</td>\n",
       "      <td>30.750000</td>\n",
       "      <td>104.250000</td>\n",
       "    </tr>\n",
       "    <tr>\n",
       "      <th>50%</th>\n",
       "      <td>105.50000</td>\n",
       "      <td>37.500000</td>\n",
       "      <td>37.500000</td>\n",
       "      <td>36.000000</td>\n",
       "      <td>107.000000</td>\n",
       "    </tr>\n",
       "    <tr>\n",
       "      <th>75%</th>\n",
       "      <td>107.75000</td>\n",
       "      <td>42.500000</td>\n",
       "      <td>45.000000</td>\n",
       "      <td>41.000000</td>\n",
       "      <td>120.250000</td>\n",
       "    </tr>\n",
       "    <tr>\n",
       "      <th>max</th>\n",
       "      <td>110.00000</td>\n",
       "      <td>46.000000</td>\n",
       "      <td>62.000000</td>\n",
       "      <td>45.000000</td>\n",
       "      <td>149.000000</td>\n",
       "    </tr>\n",
       "  </tbody>\n",
       "</table>\n",
       "</div>"
      ],
      "text/plain": [
       "        Roll no.      Subj1      Subj2      subj3       total\n",
       "count   10.00000  10.000000  10.000000  10.000000   10.000000\n",
       "mean   105.50000  37.600000  39.500000  36.000000  113.100000\n",
       "std      3.02765   6.168018  10.783217   6.236096   18.241893\n",
       "min    101.00000  29.000000  26.000000  27.000000   85.000000\n",
       "25%    103.25000  33.500000  31.500000  30.750000  104.250000\n",
       "50%    105.50000  37.500000  37.500000  36.000000  107.000000\n",
       "75%    107.75000  42.500000  45.000000  41.000000  120.250000\n",
       "max    110.00000  46.000000  62.000000  45.000000  149.000000"
      ]
     },
     "execution_count": 49,
     "metadata": {},
     "output_type": "execute_result"
    }
   ],
   "source": [
    "df.describe()"
   ]
  },
  {
   "cell_type": "markdown",
   "metadata": {},
   "source": [
    "# Hypothesis Testing or Significance Testing"
   ]
  },
  {
   "cell_type": "markdown",
   "metadata": {},
   "source": [
    "Hypothesis testing is a set of formal procedures used by statisticians to either accept or reject statistical hypotheses. Statistical hypotheses are of two types:\n",
    "\n",
    "Null hypothesis, H0 - represents a hypothesis of chance basis.\n",
    "\n",
    "Alternative hypothesis, Ha - represents a hypothesis of observations which are influenced by some non-random cause."
   ]
  },
  {
   "cell_type": "markdown",
   "metadata": {},
   "source": [
    " (1) check if total  mean value of marks is not more  than 113.\n",
    "\n",
    "Null Hypothesis will be\n",
    "\n",
    "Ho : mu <= 113\n",
    "\n",
    "Alternate Hypothesis will be\n",
    "\n",
    "Ha : mu > 113"
   ]
  },
  {
   "cell_type": "code",
   "execution_count": 50,
   "metadata": {},
   "outputs": [
    {
     "name": "stdout",
     "output_type": "stream",
     "text": [
      "Ho: mu <= 113\n",
      "Ha: mu > 113\n",
      "al: 0.05\n",
      "mu: 113\n",
      "[135 122  85 102 115 149 104 109 105 105]\n",
      "\n",
      "t-stat 0.01733524930528476\n",
      "p-vals 0.9865473848679749\n",
      "1t pv 1.9730947697359498\n",
      "2t pv 0.9865473848679749\n",
      "Null Hypothesis: Not Rejected\n",
      "Conclusion: mu <= 113\n"
     ]
    }
   ],
   "source": [
    "Ho = \"mu <= 113\"\n",
    "# alt hyp\n",
    "Ha = \"mu > 113\"\n",
    "# alpha\n",
    "al = 0.05\n",
    "# mu - mean\n",
    "mu = 113\n",
    "# tail type\n",
    "tt = 1\n",
    "# data\n",
    "marks = df['total'].values\n",
    "print(\"Ho:\", Ho)\n",
    "print(\"Ha:\", Ha)\n",
    "print(\"al:\", al)\n",
    "print(\"mu:\", mu)\n",
    "print(marks)\n",
    "print(\"\")\n",
    "ts, pv = ttest_1samp(marks, mu)\n",
    "print(\"t-stat\",ts)\n",
    "print(\"p-vals\",pv)\n",
    "t2pv = pv\n",
    "t1pv = pv*2\n",
    "print(\"1t pv\",t1pv)\n",
    "print(\"2t pv\",t2pv)\n",
    "\n",
    "if tt == 1:\n",
    "    if t1pv < al:\n",
    "        print(\"Null Hypothesis: Rejected\")\n",
    "        print(\"Conclusion:\",Ha)\n",
    "    else:\n",
    "        print(\"Null Hypothesis: Not Rejected\")\n",
    "        print(\"Conclusion:\",Ho)\n",
    "else:\n",
    "    if t2pv < al/2:\n",
    "        print(\"Null Hypothesis: Rejected\")\n",
    "        print(\"Conclusion:\",Ha)\n",
    "    else:\n",
    "        print(\"Null Hypothesis: Not Rejected\")\n",
    "        print(\"Conclusion:\",Ho)"
   ]
  },
  {
   "cell_type": "code",
   "execution_count": 60,
   "metadata": {},
   "outputs": [
    {
     "name": "stdout",
     "output_type": "stream",
     "text": [
      "Ho: mu = 113\n",
      "Ha: mu != 113\n",
      "al: 0.05\n",
      "mu: 113\n",
      "[135 122  85 102 115 149 104 109 105 105]\n",
      "\n",
      "t-stat 0.01733524930528476\n",
      "p-vals 0.9865473848679749\n",
      "1t pv 1.9730947697359498\n",
      "2t pv 0.9865473848679749\n",
      "Null Hypothesis: Not Rejected\n",
      "Conclusion: mu = 113\n"
     ]
    }
   ],
   "source": [
    "# Problem: Check if the total mean age is  equal to 113\n",
    "\n",
    "#Ho:\tm = 113\n",
    "#Ha:\tm != 113\n",
    "#Tail: Two\n",
    "#Test: One Sample Mean without std\n",
    "\n",
    "# null hyp\n",
    "Ho = \"mu = 113\"\n",
    "# alt hyp\n",
    "Ha = \"mu != 113\"\n",
    "# alpha\n",
    "al = 0.05\n",
    "# mu - mean\n",
    "mu = 113\n",
    "# tail type\n",
    "tt = 2\n",
    "# data\n",
    "marks = df['total'].values\n",
    "# print\n",
    "print(\"Ho:\", Ho)\n",
    "print(\"Ha:\", Ha)\n",
    "print(\"al:\", al)\n",
    "print(\"mu:\", mu)\n",
    "print(marks)\n",
    "print(\"\")\n",
    "ts, pv = ttest_1samp(marks, mu)\n",
    "print(\"t-stat\",ts)\n",
    "print(\"p-vals\",pv)\n",
    "t2pv = pv\n",
    "t1pv = pv*2\n",
    "print(\"1t pv\",t1pv)\n",
    "print(\"2t pv\",t2pv)\n",
    "\n",
    "if tt == 1:\n",
    "    if t1pv < al:\n",
    "        print(\"Null Hypothesis: Rejected\")\n",
    "        print(\"Conclusion:\",Ha)\n",
    "    else:\n",
    "        print(\"Null Hypothesis: Not Rejected\")\n",
    "        print(\"Conclusion:\",Ho)\n",
    "else:\n",
    "    if t2pv < al/2:\n",
    "        print(\"Null Hypothesis: Rejected\")\n",
    "        print(\"Conclusion:\",Ha)\n",
    "    else:\n",
    "        print(\"Null Hypothesis: Not Rejected\")\n",
    "        print(\"Conclusion:\",Ho)\n"
   ]
  },
  {
   "cell_type": "markdown",
   "metadata": {},
   "source": [
    "# AB Testing"
   ]
  },
  {
   "cell_type": "markdown",
   "metadata": {},
   "source": [
    "AB testing is essentially an experiment where two or more variants of a page are shown to users at random, and statistical analysis is used to determine which variation performs better for a given conversion goal."
   ]
  },
  {
   "cell_type": "code",
   "execution_count": 51,
   "metadata": {},
   "outputs": [],
   "source": [
    "subj1 = np.array([45,36,29,40,46,37,43,39,28,33])\n",
    "subj2 = np.array([40,20,30,35,29,43,40,39,28,31])"
   ]
  },
  {
   "cell_type": "code",
   "execution_count": 52,
   "metadata": {},
   "outputs": [
    {
     "data": {
      "text/plain": [
       "<matplotlib.axes._subplots.AxesSubplot at 0x1f8a13c3d60>"
      ]
     },
     "execution_count": 52,
     "metadata": {},
     "output_type": "execute_result"
    },
    {
     "data": {
      "image/png": "[encoded data removed]",
      "text/plain": [
       "<Figure size 432x288 with 1 Axes>"
      ]
     },
     "metadata": {
      "needs_background": "light"
     },
     "output_type": "display_data"
    }
   ],
   "source": [
    "sns.distplot(subj1)"
   ]
  },
  {
   "cell_type": "code",
   "execution_count": 53,
   "metadata": {},
   "outputs": [
    {
     "data": {
      "text/plain": [
       "<matplotlib.axes._subplots.AxesSubplot at 0x1f8a1425a60>"
      ]
     },
     "execution_count": 53,
     "metadata": {},
     "output_type": "execute_result"
    },
    {
     "data": {
      "image/png": "[encoded data removed]",
      "text/plain": [
       "<Figure size 432x288 with 1 Axes>"
      ]
     },
     "metadata": {
      "needs_background": "light"
     },
     "output_type": "display_data"
    }
   ],
   "source": [
    "sns.distplot(subj2)"
   ]
  },
  {
   "cell_type": "code",
   "execution_count": 54,
   "metadata": {},
   "outputs": [
    {
     "data": {
      "text/plain": [
       "(1.365908039538178, 0.18879292981719703)"
      ]
     },
     "execution_count": 54,
     "metadata": {},
     "output_type": "execute_result"
    }
   ],
   "source": [
    "t_stat, p_val= ss.ttest_ind(subj1,subj2)\n",
    "t_stat , p_val"
   ]
  },
  {
   "cell_type": "markdown",
   "metadata": {},
   "source": [
    "The two hypotheses for this particular two sample t-test are as follows:\n",
    "\n",
    "H0: µ1 = µ2 (the two population means are equal)\n",
    "\n",
    "HA: µ1 ≠µ2 (the two population means are not equal)"
   ]
  },
  {
   "cell_type": "code",
   "execution_count": 55,
   "metadata": {},
   "outputs": [
    {
     "data": {
      "text/plain": [
       "Ttest_indResult(statistic=1.365908039538178, pvalue=0.18879292981719703)"
      ]
     },
     "execution_count": 55,
     "metadata": {},
     "output_type": "execute_result"
    }
   ],
   "source": [
    "#perform two sample t-test with equal variances\n",
    "stats.ttest_ind(subj1, subj2, equal_var=True)"
   ]
  },
  {
   "cell_type": "markdown",
   "metadata": {},
   "source": [
    "The t test statistic is 1.3659 and the corresponding two-sided p-value is 0.1887.\n",
    "Because the p-value of our test (0.1887) is greater than alpha = 0.05, we fail to reject the null hypothesis of the test.\n",
    "\n",
    "We do not have sufficient evidence to say that the mean marks of sub1 and subj2 between the two  is different.\n",
    "\n"
   ]
  },
  {
   "cell_type": "markdown",
   "metadata": {},
   "source": [
    "# Type I error Type II error\n"
   ]
  },
  {
   "cell_type": "markdown",
   "metadata": {},
   "source": [
    "Type I and Type II errors signifies the erroneous outcomes of statistical hypothesis tests. \n",
    "Type I error represents the incorrect rejection of a valid null hypothesis \n",
    "whereas Type II error represents the incorrect retention of an invalid null hypothesis."
   ]
  },
  {
   "cell_type": "code",
   "execution_count": 56,
   "metadata": {},
   "outputs": [
    {
     "name": "stdout",
     "output_type": "stream",
     "text": [
      "1.0\n"
     ]
    }
   ],
   "source": [
    "effect_size=abs((subj1.mean()-subj2.mean())/(subj1.std()-subj2.std()))\n",
    "sample_size=10\n",
    "alpha=0.05\n",
    "ratio=1.0\n",
    "\n",
    "statistical_power = tt_ind_solve_power(effect_size=effect_size, nobs1=sample_size, alpha=alpha, ratio=1.0, alternative='two-sided')\n",
    "print(statistical_power)"
   ]
  },
  {
   "cell_type": "code",
   "execution_count": 57,
   "metadata": {},
   "outputs": [
    {
     "data": {
      "text/plain": [
       "0.0"
      ]
     },
     "execution_count": 57,
     "metadata": {},
     "output_type": "execute_result"
    }
   ],
   "source": [
    "type_2_error=1-statistical_power\n",
    "type_2_error"
   ]
  },
  {
   "cell_type": "code",
   "execution_count": null,
   "metadata": {},
   "outputs": [],
   "source": []
  },
  {
   "cell_type": "code",
   "execution_count": null,
   "metadata": {},
   "outputs": [],
   "source": []
  }
 ],
 "metadata": {
  "kernelspec": {
   "display_name": "Python 3",
   "language": "python",
   "name": "python3"
  },
  "language_info": {
   "codemirror_mode": {
    "name": "ipython",
    "version": 3
   },
   "file_extension": ".py",
   "mimetype": "text/x-python",
   "name": "python",
   "nbconvert_exporter": "python",
   "pygments_lexer": "ipython3",
   "version": "3.8.3"
  }
 },
 "nbformat": 4,
 "nbformat_minor": 4
}
