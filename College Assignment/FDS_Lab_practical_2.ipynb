{
  "nbformat": 4,
  "nbformat_minor": 0,
  "metadata": {
    "colab": {
      "name": "FDS_LAB_Practical_2_Descriptive_Statistics.ipynb",
      "provenance": [],
      "collapsed_sections": [],
      "include_colab_link": true
    },
    "kernelspec": {
      "display_name": "Python 3",
      "language": "python",
      "name": "python3"
    },
    "language_info": {
      "codemirror_mode": {
        "name": "ipython",
        "version": 3
      },
      "file_extension": ".py",
      "mimetype": "text/x-python",
      "name": "python",
      "nbconvert_exporter": "python",
      "pygments_lexer": "ipython3",
      "version": "3.8.3"
    }
  },
  "cells": [
    {
      "cell_type": "markdown",
      "metadata": {
        "id": "view-in-github",
        "colab_type": "text"
      },
      "source": [
        "<a href=\"https://colab.research.google.com/github/Sadiksha08/FDS-Lab-Work/blob/main/FDS_LAB_Practical_2_Descriptive_Statistics.ipynb\" target=\"_parent\"><img src=\"https://colab.research.google.com/assets/colab-badge.svg\" alt=\"Open In Colab\"/></a>"
      ]
    },
    {
      "cell_type": "markdown",
      "metadata": {
        "id": "Gf-rcpRB3Wgu"
      },
      "source": [
        "# **Descriptive Statistics**"
      ]
    },
    {
      "cell_type": "markdown",
      "metadata": {
        "id": "dNB5cBBOQ6RH"
      },
      "source": [
        "* Descriptive Statistics - A descriptive statistic is a summary statistic that quantitatively describes or summarizes features from a collection of information, while descriptive statistics is the process of using and analysing those statistics.\n",
        "* Why is Descriptive Statistics important? - Descriptive statistics are very important because if we simply presented our raw data it would be hard to visualize what the data was showing, especially if there was a lot of it. Descriptive statistics therefore enables us to present the data in a more meaningful way, which allows simpler interpretation of the data. For example, if we had the results of 100 pieces of students' coursework, we may be interested in the overall performance of those students. We would also be interested in the distribution or spread of the marks. Descriptive statistics allow us to do this.\n",
        "* Role of Descriptive Statistics in Machine learning - Descriptive Statistical Analysis helps you to understand your data and is a very important part of Machine Learning. This is due to Machine Learning being all about making predictions. On the other hand, statistics is all about drawing conclusions from data, which is a necessary initial step.\n"
      ]
    },
    {
      "cell_type": "markdown",
      "metadata": {
        "id": "g4Wf5OC5Hjqv"
      },
      "source": [
        "\n",
        "\n",
        "\n",
        "---\n",
        "\n",
        "---\n",
        "\n",
        "---\n",
        "\n",
        "\n",
        "#Dataset Example - 1\n",
        "\n",
        "\n",
        "---\n",
        "\n",
        "\n"
      ]
    },
    {
      "cell_type": "code",
      "metadata": {
        "id": "7v6UbxeZlaln"
      },
      "source": [
        "# importing required libraries\n",
        "\n",
        "import pandas as pd \n",
        "import numpy as np\n",
        "import matplotlib.pyplot as plt\n",
        "import seaborn as sns\n",
        "from scipy.stats import skew\n",
        "from scipy.stats import kurtosis\n"
      ],
      "execution_count": null,
      "outputs": []
    },
    {
      "cell_type": "code",
      "metadata": {
        "id": "SXGhbP7Q3u-m"
      },
      "source": [
        "pd.set_option(\"display.max_columns\",None)  # to display all the columns\n",
        "pd.options.display.float_format = \"{:,.2f}\".format # to display float value upto two decimals"
      ],
      "execution_count": null,
      "outputs": []
    },
    {
      "cell_type": "markdown",
      "metadata": {
        "id": "xEzNOppIwj7L"
      },
      "source": [
        "Format : A data frame with 53940 rows and 10 variables\n",
        "\n",
        "Description : A dataset containing the prices and other attributes of almost 54,000 diamonds.\n",
        "\n",
        "The variables are as follows:\n",
        "\n",
        "*   price:  price in US dollars (\\$326--\\$18,823)\n",
        "*   carat: weight of the diamond (0.2--5.01)\n",
        "*   cut: quality of the cut (Fair, Good, Very Good, Premium, Ideal)\n",
        "*   colour: diamond colour, from J (worst) to D (best)\n",
        "*   clarity: a measurement of how clear the diamond is (IF (best), VVS1, VVS2,VS1, VS2, SI1, SI2, I1 (worst) )\n",
        "*   popularity: popularity of this specs (Good, Fair, Poor)\n",
        "*   x: length in mm (0--10.74)\n",
        "*   y: width in mm (0--58.9)\n",
        "*   z: depth in mm (0--31.8)\n",
        "*   depth: total depth percentage = z / mean(x, y) = 2 * z / (x + y) (43--79)\n",
        "*   table: width of top of diamond relative to widest point (43--95)\n",
        "\n",
        "\n",
        "\n",
        "\n",
        "\n",
        "\n",
        "\n",
        "\n",
        "\n",
        "\n",
        "\n",
        "\n"
      ]
    },
    {
      "cell_type": "code",
      "metadata": {
        "id": "LbMJ02TYst1K"
      },
      "source": [
        "# reading data from csv file \n",
        "xls = pd.read_csv('drive/MyDrive/datasets/diamonds.csv')"
      ],
      "execution_count": null,
      "outputs": []
    },
    {
      "cell_type": "markdown",
      "metadata": {
        "id": "3fCdJi4NLXb7"
      },
      "source": [
        "Measures of Central Tendency\n",
        "* Mean - The sum of a collection of numbers divided by the count of numbers in the collection.\n",
        "* Median - The median is the value separating the higher half from the lower half of a data sample, a population, or a probability distribution.\n",
        "* Mode - The mode is the value that appears most often in a set of data values."
      ]
    },
    {
      "cell_type": "code",
      "metadata": {
        "id": "qeupR7fTvG0p"
      },
      "source": [
        "des_df = xls.drop(['id'],axis = 1) # drop id column\n",
        "for col in des_df:   # drop all alpha-numeric columns\n",
        "  if des_df[col].dtype == 'object':\n",
        "    des_df = des_df.drop([col], axis = 1)\n",
        "\n",
        "des_r = des_df.describe() # describe() gives us mean,min,max,median,1Q,3Q,std\n",
        "des_r = des_r.rename(index={'50%':'median/50%'}) "
      ],
      "execution_count": null,
      "outputs": []
    },
    {
      "cell_type": "markdown",
      "metadata": {
        "id": "5VIfOXq8M2OU"
      },
      "source": [
        "Measures of Dispersion\n",
        "* Standard Deviation - The standard deviation is a measure of the amount of variation or dispersion of a set of values.\n",
        "* Variance - The term variance refers to a statistical measurement of the spread between numbers in a data set.\n",
        "* Min and Max Variables\n",
        "  * Min is the minimum value in the column or in dataset.\n",
        "  * Max is the maximum value in the column or in dataset.\n",
        "\n",
        "Quartiles -  A quartile is a type of quantile which divides the number of data points into four parts, or quarters, of more-or-less equal size.\n",
        "* 25% or 1st quartile - The first quartile (Q1) is defined as the middle number between the smallest number (minimum) and the median of the data set. It is also known as the lower or 25th empirical quartile, as 25% of the data is below this point.\n",
        "* 50% or 2nd quartile - The second quartile (Q2) is the median of a data set; thus 50% of the data lies below this point.\n",
        "* 75% or 3rd quartile - The third quartile (Q3) is the middle value between the median and the highest value (maximum) of the data set. It is known as the upper or 75th empirical quartile, as 75% of the data lies below this point."
      ]
    },
    {
      "cell_type": "code",
      "metadata": {
        "id": "6PRKrZdB7WDW"
      },
      "source": [
        "var_r = des_df.var() # calulating variance seperately\n",
        "\n",
        "varlist = []\n",
        "for col in des_df.columns: # converting result of var() from series to list\n",
        "  if df[col].dtype == 'object':\n",
        "    continue\n",
        "  varlist.append(round(df[col],5))\n",
        "\n",
        "df = pd.DataFrame([varlist],columns=des_r.columns, index=['var']) # putting results of variance into dataframe\n",
        "mct = des_r.append(df) # adding var to describe result"
      ],
      "execution_count": null,
      "outputs": []
    },
    {
      "cell_type": "code",
      "metadata": {
        "id": "tx2SqGwO7kTB"
      },
      "source": [
        "mode_r = des_df.mode() # calculating mode seperately\n",
        "mode_r = mode_r.rename(index={0:'mode'}) # renaming index\n",
        "mct_m = mct.append(mode_r) # adding mode to describe result"
      ],
      "execution_count": null,
      "outputs": []
    },
    {
      "cell_type": "markdown",
      "metadata": {
        "id": "yDBOfeWsMh3H"
      },
      "source": [
        "Skewness and Kurtosis\n",
        "* Skewness is a measure of the symmetry of a distribution. The highest point of a distribution is its mode.\n",
        "* Kurtosis is a statistical measure that defines how heavily the tails of a distribution differ from the tails of a normal distribution."
      ]
    },
    {
      "cell_type": "code",
      "metadata": {
        "id": "MzOeqrSn77Yh"
      },
      "source": [
        "skew_r = skew(des_df) # skewness resultant list\n",
        "df = pd.DataFrame([skew_r],columns=des_df.columns, index=['skewness']) # converting list to dataframe\n",
        "mct_s = mct_m.append(df) # adding skewness to describe dataframe\n",
        "\n",
        "kur_r = kurtosis(des_df) # kurtosis resultant list\n",
        "df = pd.DataFrame([kur_r],columns=des_df.columns, index=['kurtosis']) # converting list to dataframe\n",
        "mct_k = mct_s.append(df) # adding kurtosis to describe dataframe"
      ],
      "execution_count": null,
      "outputs": []
    },
    {
      "cell_type": "markdown",
      "metadata": {
        "id": "5s-64GHkOpYW"
      },
      "source": [
        "Range - It is difference between largest and smallest value."
      ]
    },
    {
      "cell_type": "code",
      "metadata": {
        "id": "y0NWpJkoDmzv"
      },
      "source": [
        "r_list = []\n",
        "for col in des_df.columns.to_list(): # calculating range for all columns\n",
        "  r_list.append(des_df[col].max()-des_df[col].min())\n",
        "\n",
        "df = pd.DataFrame([r_list],columns=des_df.columns, index=['range']) # converting range list to dataframe\n",
        "mct_r = mct_k.append(df) # adding range to describe dataframe"
      ],
      "execution_count": null,
      "outputs": []
    },
    {
      "cell_type": "code",
      "metadata": {
        "colab": {
          "base_uri": "https://localhost:8080/"
        },
        "id": "Glgvrx51Iw_d",
        "outputId": "cce0ee70-3bbe-42b0-c7cd-a9d9d8e8664b"
      },
      "source": [
        "print(mct_r) # print final dataframe"
      ],
      "execution_count": null,
      "outputs": [
        {
          "output_type": "stream",
          "text": [
            "               carat     depth     table         price         x         y  \\\n",
            "count      53,938.00 53,940.00 53,940.00     53,936.00 53,940.00 53,940.00   \n",
            "mean            0.80     61.75     57.46      3,932.83      5.73      5.73   \n",
            "std             0.47      1.43      2.23      3,989.44      1.12      1.14   \n",
            "min             0.20     43.00     43.00        326.00      0.00      0.00   \n",
            "25%             0.40     61.00     56.00        950.00      4.71      4.72   \n",
            "median/50%      0.70     61.80     57.00      2,401.00      5.70      5.71   \n",
            "75%             1.04     62.50     59.00      5,324.25      6.54      6.54   \n",
            "max             5.01     79.00     95.00     18,823.00     10.74     58.90   \n",
            "var             0.22      2.05      4.99 15,915,659.88      1.26      1.30   \n",
            "mode            0.30     62.00     56.00        605.00      4.37      4.34   \n",
            "skewness         nan     -0.08      0.80           nan      0.38      2.43   \n",
            "kurtosis         nan      5.74      2.80           nan     -0.62     91.21   \n",
            "range           4.81     36.00     52.00     18,497.00     10.74     58.90   \n",
            "\n",
            "                   z  \n",
            "count      53,940.00  \n",
            "mean            3.54  \n",
            "std             0.71  \n",
            "min             0.00  \n",
            "25%             2.91  \n",
            "median/50%      3.53  \n",
            "75%             4.04  \n",
            "max            31.80  \n",
            "var             0.50  \n",
            "mode            2.70  \n",
            "skewness        1.52  \n",
            "kurtosis       47.08  \n",
            "range          31.80  \n"
          ],
          "name": "stdout"
        }
      ]
    },
    {
      "cell_type": "markdown",
      "metadata": {
        "id": "bj4J2sBVO1Kp"
      },
      "source": [
        "Box Plots - A box and whisker plot (sometimes called a boxplot) is a graph that presents information from a five-number summary.\n",
        "* Lowest observation\n",
        "* Highest observation\n",
        "* Lower Quartile\n",
        "* Upper Quartile\n",
        "* Median"
      ]
    },
    {
      "cell_type": "code",
      "metadata": {
        "colab": {
          "base_uri": "https://localhost:8080/",
          "height": 1000
        },
        "id": "H_skBosWIxhR",
        "outputId": "8ed76330-a8e1-4ae9-8bec-d9a959b49b19"
      },
      "source": [
        "# plotting boxplots\n",
        "colNames = xls.columns.tolist() # make a list of columns present in dataframes\n",
        "for colName in colNames:\n",
        "    if xls[colName].dtype == \"object\" or colName == 'id': # skip Id and string columns\n",
        "        continue\n",
        "    plt.figure()\n",
        "    sns.boxplot(y=xls[colName], color='g') # plot the boxplot\n",
        "    plt.title(colName) # provide title\n",
        "    plt.ylabel(colName) # name Y axis\n",
        "    plt.xlabel('Bins') # name X axis\n",
        "    plt.show()"
      ],
      "execution_count": null,
      "outputs": [
        {
          "output_type": "display_data",
          "data": {
            "image/png": "[encoded data removed]",
            "text/plain": [
              "<Figure size 432x288 with 1 Axes>"
            ]
          },
          "metadata": {
            "tags": [],
            "needs_background": "light"
          }
        },
        {
          "output_type": "display_data",
          "data": {
            "image/png": "[encoded data removed]",
            "text/plain": [
              "<Figure size 432x288 with 1 Axes>"
            ]
          },
          "metadata": {
            "tags": [],
            "needs_background": "light"
          }
        },
        {
          "output_type": "display_data",
          "data": {
            "image/png": "[encoded data removed]",
            "text/plain": [
              "<Figure size 432x288 with 1 Axes>"
            ]
          },
          "metadata": {
            "tags": [],
            "needs_background": "light"
          }
        },
        {
          "output_type": "display_data",
          "data": {
            "image/png": "[encoded data removed]",
            "text/plain": [
              "<Figure size 432x288 with 1 Axes>"
            ]
          },
          "metadata": {
            "tags": [],
            "needs_background": "light"
          }
        },
        {
          "output_type": "display_data",
          "data": {
            "image/png": "[encoded data removed]",
            "text/plain": [
              "<Figure size 432x288 with 1 Axes>"
            ]
          },
          "metadata": {
            "tags": [],
            "needs_background": "light"
          }
        },
        {
          "output_type": "display_data",
          "data": {
            "image/png": "[encoded data removed]",
            "text/plain": [
              "<Figure size 432x288 with 1 Axes>"
            ]
          },
          "metadata": {
            "tags": [],
            "needs_background": "light"
          }
        },
        {
          "output_type": "display_data",
          "data": {
            "image/png": "[encoded data removed]",
            "text/plain": [
              "<Figure size 432x288 with 1 Axes>"
            ]
          },
          "metadata": {
            "tags": [],
            "needs_background": "light"
          }
        }
      ]
    },
    {
      "cell_type": "markdown",
      "metadata": {
        "id": "Q9CCDq81KmNh"
      },
      "source": [
        "\n",
        "\n",
        "---\n",
        "\n",
        "---\n",
        "\n",
        "---\n",
        "\n",
        "\n",
        "\n",
        "\n",
        "\n"
      ]
    },
    {
      "cell_type": "markdown",
      "metadata": {
        "id": "SumuAxd7Ksiu"
      },
      "source": [
        "\n",
        "\n",
        "\n",
        "\n",
        "#Dataset Example - 2\n",
        "\n",
        "\n",
        "---\n",
        "\n",
        "\n"
      ]
    },
    {
      "cell_type": "markdown",
      "metadata": {
        "id": "PdCtFsGfDBgZ"
      },
      "source": [
        "\n",
        "**Importing Libraries**\n",
        "\n",
        "    * Pandas for reading data file\n",
        "    * Numpy for performing statistical calculations\n",
        "    * Matplotlib and seaborn for visualization\n",
        "    * Scipy.stats for Skewness and Kurtosis\n",
        "\n",
        "\n",
        "\n"
      ]
    },
    {
      "cell_type": "code",
      "metadata": {
        "id": "Imc1_PEEDJON"
      },
      "source": [
        "import pandas as pd \n",
        "import numpy as np\n",
        "import matplotlib.pyplot as plt\n",
        "import seaborn as sb\n",
        "from scipy.stats import skew\n",
        "from scipy.stats import kurtosis"
      ],
      "execution_count": null,
      "outputs": []
    },
    {
      "cell_type": "markdown",
      "metadata": {
        "id": "jM-k6H1tDk1l"
      },
      "source": [
        "***To see all the columns which are present in the dataset***"
      ]
    },
    {
      "cell_type": "code",
      "metadata": {
        "id": "bJDFbUxmDm4v"
      },
      "source": [
        "pd.set_option(\"display.max_columns\",None)#To see all the columns which are present in the dataset"
      ],
      "execution_count": null,
      "outputs": []
    },
    {
      "cell_type": "markdown",
      "metadata": {
        "id": "E1pEvK08DwQZ"
      },
      "source": [
        "***#Mounting Google Drive***"
      ]
    },
    {
      "cell_type": "code",
      "metadata": {
        "colab": {
          "base_uri": "https://localhost:8080/"
        },
        "id": "EiKd3v2iDx_b",
        "outputId": "cd3872e3-f868-4f2f-9b57-686e8bd55850"
      },
      "source": [
        "%cd ..\n",
        "from google.colab import drive\n",
        "drive.mount('/content/gdrive')"
      ],
      "execution_count": null,
      "outputs": [
        {
          "output_type": "stream",
          "text": [
            "/\n",
            "Mounted at /content/gdrive\n"
          ],
          "name": "stdout"
        }
      ]
    },
    {
      "cell_type": "markdown",
      "metadata": {
        "id": "sdNFnHBNVz-D"
      },
      "source": [
        "***Unzip the dataset.zip.***"
      ]
    },
    {
      "cell_type": "code",
      "metadata": {
        "colab": {
          "base_uri": "https://localhost:8080/"
        },
        "id": "lnRbsipXSGe_",
        "outputId": "fc6331ca-6fa5-4dbd-fa51-9d57a9eb6411"
      },
      "source": [
        "!unzip /content/gdrive/MyDrive/dataset.zip\n"
      ],
      "execution_count": null,
      "outputs": [
        {
          "output_type": "stream",
          "text": [
            "Archive:  /content/gdrive/MyDrive/dataset.zip\n",
            "replace dataset.xlsx? [y]es, [n]o, [A]ll, [N]one, [r]ename: y\n",
            "  inflating: dataset.xlsx            \n"
          ],
          "name": "stdout"
        }
      ]
    },
    {
      "cell_type": "markdown",
      "metadata": {
        "id": "bYfJI1HiU9yW"
      },
      "source": [
        "\n",
        "**Reading dataset**\n",
        "\n",
        "    df is dataframe .\n",
        "    pd.read_excel reads the excel file.\n",
        "    head Function prints the first five rows of the dataset. *italicized text*\n",
        "\n",
        "**Description of data**\n",
        "\n",
        "    Data belongs to student category which contains fname , age and gender column.\n",
        "    Fname contins the name of students, age column contains the age of the students and grade column contains the marks obtained. *italicized text*\n",
        "\n"
      ]
    },
    {
      "cell_type": "code",
      "metadata": {
        "colab": {
          "base_uri": "https://localhost:8080/",
          "height": 206
        },
        "id": "eox4G-EgSO5d",
        "outputId": "ec616bde-1d26-4d9c-b3c6-5f065ec2544d"
      },
      "source": [
        "df=pd.read_excel('/content/gdrive/MyDrive/dataset.xlsx')\n",
        "df.head()"
      ],
      "execution_count": null,
      "outputs": [
        {
          "output_type": "execute_result",
          "data": {
            "text/html": [
              "<div>\n",
              "<style scoped>\n",
              "    .dataframe tbody tr th:only-of-type {\n",
              "        vertical-align: middle;\n",
              "    }\n",
              "\n",
              "    .dataframe tbody tr th {\n",
              "        vertical-align: top;\n",
              "    }\n",
              "\n",
              "    .dataframe thead th {\n",
              "        text-align: right;\n",
              "    }\n",
              "</style>\n",
              "<table border=\"1\" class=\"dataframe\">\n",
              "  <thead>\n",
              "    <tr style=\"text-align: right;\">\n",
              "      <th></th>\n",
              "      <th>name</th>\n",
              "      <th>age</th>\n",
              "      <th>grade</th>\n",
              "    </tr>\n",
              "  </thead>\n",
              "  <tbody>\n",
              "    <tr>\n",
              "      <th>0</th>\n",
              "      <td>satish</td>\n",
              "      <td>22</td>\n",
              "      <td>90</td>\n",
              "    </tr>\n",
              "    <tr>\n",
              "      <th>1</th>\n",
              "      <td>ashish</td>\n",
              "      <td>21</td>\n",
              "      <td>70</td>\n",
              "    </tr>\n",
              "    <tr>\n",
              "      <th>2</th>\n",
              "      <td>vishal</td>\n",
              "      <td>22</td>\n",
              "      <td>69</td>\n",
              "    </tr>\n",
              "    <tr>\n",
              "      <th>3</th>\n",
              "      <td>manisha</td>\n",
              "      <td>22</td>\n",
              "      <td>45</td>\n",
              "    </tr>\n",
              "    <tr>\n",
              "      <th>4</th>\n",
              "      <td>neha</td>\n",
              "      <td>20</td>\n",
              "      <td>50</td>\n",
              "    </tr>\n",
              "  </tbody>\n",
              "</table>\n",
              "</div>"
            ],
            "text/plain": [
              "      name  age  grade\n",
              "0   satish   22     90\n",
              "1   ashish   21     70\n",
              "2   vishal   22     69\n",
              "3  manisha   22     45\n",
              "4     neha   20     50"
            ]
          },
          "metadata": {
            "tags": []
          },
          "execution_count": 11
        }
      ]
    },
    {
      "cell_type": "markdown",
      "metadata": {
        "id": "hJqteuNCTaX6"
      },
      "source": [
        "\n",
        "**Measures of Central Tendency**\n",
        "\n",
        "    Mean\n",
        "        The sum of a collection of numbers divided by the count of numbers in the collection.\n",
        "  \n",
        "    Median\n",
        "        The median is the value separating the higher half from the lower half of a data sample, a population, or a probability distribution.\n",
        "   \n",
        "    Mode\n",
        "        The mode is the value that appears most often in a set of data values.\n",
        "\n",
        "\n",
        "**Where the measures of central tendency used?**\n",
        "\n",
        "    The above three values are used in handling null and outlier values in Machine learning, in Image processing mean and median plays an important role , we use mean and median for applying threshold values on the particular image.\n",
        "    cv2.ADAPTIVE_THRESH_MEAN_C threshold value is the mean of neighbourhood area.\n",
        "\n",
        "    cv2.medianBlur() computes the median of all the pixels under the kernel window and the central pixel is replaced with this median value.\n",
        "\n"
      ]
    },
    {
      "cell_type": "code",
      "metadata": {
        "colab": {
          "base_uri": "https://localhost:8080/"
        },
        "id": "jiMC2FFJTbgj",
        "outputId": "b59b3f02-db02-4fda-c147-7c71fa4f688e"
      },
      "source": [
        "df_mean=df.mean()\n",
        "print(\"*Mean of columns age and grade*\")\n",
        "print(df_mean)\n",
        "df_median=df.median()\n",
        "print(\"*Median of columns age and grade*\")\n",
        "print(df_median)\n",
        "df_mode=df.mode()\n",
        "print(\"*Mode of columns age and grade*\")\n",
        "print(df_mode)"
      ],
      "execution_count": null,
      "outputs": [
        {
          "output_type": "stream",
          "text": [
            "*Mean of columns age and grade*\n",
            "age      21.4\n",
            "grade    64.8\n",
            "dtype: float64\n",
            "*Median of columns age and grade*\n",
            "age      22.0\n",
            "grade    69.0\n",
            "dtype: float64\n",
            "*Mode of columns age and grade*\n",
            "      name   age  grade\n",
            "0   ashish  22.0     45\n",
            "1  manisha   NaN     50\n",
            "2     neha   NaN     69\n",
            "3   satish   NaN     70\n",
            "4   vishal   NaN     90\n"
          ],
          "name": "stdout"
        }
      ]
    },
    {
      "cell_type": "markdown",
      "metadata": {
        "id": "7dMh9BFtTjxH"
      },
      "source": [
        "\n",
        "**Measures of Variability**\n",
        "\n",
        "    Standard Deviation\n",
        "       The standard deviation is a measure of the amount of variation or dispersion of a set of values.\n",
        "    \n",
        "    Variance\n",
        "        The term variance refers to a statistical measurement of the spread between numbers in a data set.\n",
        "   \n",
        "    Min and Max Variables\n",
        "        Min is the minimum value in the column or in dataset.\n",
        "        Max is the maximum value in the column or in dataset.\n",
        "\n",
        "**Where the measures of variability is used?**\n",
        "\n",
        "    Standard deviation is used to know how data is spread so we can find some good insigths from it.\n",
        "    Example:-\n",
        "\n",
        "        If we are working with data which consist column of years, tax rate, sales amount etc. so, after applying standard deviation we will get to know at which year the tax rate or sales amount was more or less.\n",
        "        \n",
        "    Min and Max both are used to find range of the array or particilar column, so we can detect the outliers.\n",
        "\n"
      ]
    },
    {
      "cell_type": "code",
      "metadata": {
        "colab": {
          "base_uri": "https://localhost:8080/"
        },
        "id": "Iomc_5wtTk5F",
        "outputId": "dd40b526-c421-4597-85c3-d211483b382e"
      },
      "source": [
        "print(\"Standard deviation of columns age and grade\")\n",
        "print(df.std())\n",
        "print(\"Variance of columns age and grade  \")\n",
        "print(df.var())\n",
        "print(\"The Minimum value are\" )\n",
        "print(df.min())\n",
        "print(\"The Maximum value are\" )\n",
        "print(df.max())"
      ],
      "execution_count": null,
      "outputs": [
        {
          "output_type": "stream",
          "text": [
            "Standard deviation of columns age and grade\n",
            "age       0.894427\n",
            "grade    17.963853\n",
            "dtype: float64\n",
            "Variance of columns age and grade  \n",
            "age        0.8\n",
            "grade    322.7\n",
            "dtype: float64\n",
            "The Minimum value are\n",
            "name     ashish\n",
            "age          20\n",
            "grade        45\n",
            "dtype: object\n",
            "The Maximum value are\n",
            "name     vishal\n",
            "age          22\n",
            "grade        90\n",
            "dtype: object\n"
          ],
          "name": "stdout"
        }
      ]
    },
    {
      "cell_type": "markdown",
      "metadata": {
        "id": "WjSUPcY8TpH_"
      },
      "source": [
        "\n",
        "\n",
        "    Skewness and Kurtosis\n",
        "\n",
        "        Skewness is a measure of the symmetry of a distribution. The highest point of a distribution is its mode.\n",
        "        Kurtosis is a statistical measure that defines how heavily the tails of a distribution differ from the tails of a normal distribution.\n",
        "\n",
        "**Where do we use Skewness and Kurtosis ?**\n",
        "\n",
        "    Skewness can be used to obtain approximate probabilities and quantiles of distributions (such as value at risk in finance) via the Cornish-Fisher expansion.\n",
        "    \n",
        "    Kurtosis is used to describe the extreme values in one versus the other tail. It is actually the measure of outliers present in the distribution . High kurtosis in a data set is an indicator that data has heavy tails or outliers.\n",
        "\n"
      ]
    },
    {
      "cell_type": "code",
      "metadata": {
        "colab": {
          "base_uri": "https://localhost:8080/"
        },
        "id": "Ua7bDCDHTtjy",
        "outputId": "4445aae0-669f-4482-9f0a-e10496c347fa"
      },
      "source": [
        "age_skew=skew(df[\"age\"])\n",
        "grade_skew=skew(df[\"grade\"])\n",
        "print(\"The skewness of column age is : \",age_skew)\n",
        "print(\"The skewness of column grade is : \",grade_skew)"
      ],
      "execution_count": null,
      "outputs": [
        {
          "output_type": "stream",
          "text": [
            "The skewness of column age is :  -0.8437499999999949\n",
            "The skewness of column grade is :  0.2513781993344489\n"
          ],
          "name": "stdout"
        }
      ]
    },
    {
      "cell_type": "code",
      "metadata": {
        "colab": {
          "base_uri": "https://localhost:8080/"
        },
        "id": "X2OxOzT2T3dQ",
        "outputId": "ff8a7fbb-5a8e-4c7b-bc15-ec76b5790dd8"
      },
      "source": [
        "\n",
        "\n",
        "age_kurtosis=kurtosis(df[\"age\"])\n",
        "print(\"The kurtosis of column age is \",age_kurtosis)\n",
        "grade_kurtosis=kurtosis(df[\"grade\"])\n",
        "print(\"The kurtosis of column grade is \",grade_kurtosis)\n",
        "\n"
      ],
      "execution_count": null,
      "outputs": [
        {
          "output_type": "stream",
          "text": [
            "The kurtosis of column age is  -0.9218750000000062\n",
            "The kurtosis of column grade is  -1.181476183530098\n"
          ],
          "name": "stdout"
        }
      ]
    },
    {
      "cell_type": "markdown",
      "metadata": {
        "id": "hCetXUF9UADa"
      },
      "source": [
        "\n",
        " * Range\n",
        "        The Range is the difference between the lowest and highest values.\n",
        "\n",
        "    Given that the range can easily be computed with information on the maximum and minimum value of the data set.\n",
        "\n",
        "    Users requiring only a rough indication of the data may prefer to use this indicator over more sophisticated measures of spread.\n",
        "\n"
      ]
    },
    {
      "cell_type": "code",
      "metadata": {
        "colab": {
          "base_uri": "https://localhost:8080/"
        },
        "id": "l_gyEzbHUEH0",
        "outputId": "91f67092-bc04-416c-91c6-1a5ec32a6183"
      },
      "source": [
        "age_range=(df[\"age\"].max())-(df[\"age\"].min())\n",
        "print(\"The range of column age is :\",age_range)"
      ],
      "execution_count": null,
      "outputs": [
        {
          "output_type": "stream",
          "text": [
            "The range of column age is : 2\n"
          ],
          "name": "stdout"
        }
      ]
    },
    {
      "cell_type": "code",
      "metadata": {
        "colab": {
          "base_uri": "https://localhost:8080/"
        },
        "id": "X7CnQzOhULmU",
        "outputId": "479b99e2-d650-487d-df7a-6237fbf3fa9f"
      },
      "source": [
        "grade_range=(df[\"grade\"].max())-(df[\"grade\"].min())\n",
        "print(\"The range of column grade is :\",grade_range)"
      ],
      "execution_count": null,
      "outputs": [
        {
          "output_type": "stream",
          "text": [
            "The range of column grade is : 45\n"
          ],
          "name": "stdout"
        }
      ]
    },
    {
      "cell_type": "markdown",
      "metadata": {
        "id": "Jd5XFLvgURZ_"
      },
      "source": [
        "\n",
        "\n",
        " * Percentiles/Quartiles\n",
        "        A percentile is a measure at which that percentage of the total values are the same as or below that measure. For example, 90% of the data values lie below the 90th percentile, whereas 10% of the data values lie below the 10th percentile.\n",
        "\n",
        "        Quartiles are values that divide a (part of a) data table into four groups containing an approximately equal number of observations. The total of 100% is split into four equal parts: 25%, 50%, 75% and 100%.\n",
        "\n",
        "    Percentiles are used to understand and interpret data.\n",
        "    Quartiles are used to summarize a group of numbers.\n",
        "\n"
      ]
    },
    {
      "cell_type": "code",
      "metadata": {
        "colab": {
          "base_uri": "https://localhost:8080/"
        },
        "id": "2mWAiDslUSnx",
        "outputId": "b13ac55b-aa65-43a9-e658-3d875d85a419"
      },
      "source": [
        "print(\"50th percentile of age column is:\",np.percentile(df[\"age\"],50))\n",
        "print(\"25th percentile of age column is:\",np.percentile(df[\"age\"],25))\n",
        "print(\"75th percentile of age column is:\",np.percentile(df[\"age\"],75))"
      ],
      "execution_count": null,
      "outputs": [
        {
          "output_type": "stream",
          "text": [
            "50th percentile of age column is: 22.0\n",
            "25th percentile of age column is: 21.0\n",
            "75th percentile of age column is: 22.0\n"
          ],
          "name": "stdout"
        }
      ]
    },
    {
      "cell_type": "code",
      "metadata": {
        "colab": {
          "base_uri": "https://localhost:8080/"
        },
        "id": "a-MIO67MUZy6",
        "outputId": "ad23b236-ed8c-4658-a01e-a297c2756e18"
      },
      "source": [
        "\n",
        "\n",
        "print(\"50th percentile of grade column is:\",np.percentile(df[\"grade\"],50))\n",
        "print(\"25th percentile of grade column is:\",np.percentile(df[\"grade\"],25))\n",
        "print(\"75th percentile of grade column is:\",np.percentile(df[\"grade\"],75))\n",
        "\n"
      ],
      "execution_count": null,
      "outputs": [
        {
          "output_type": "stream",
          "text": [
            "50th percentile of grade column is: 69.0\n",
            "25th percentile of grade column is: 50.0\n",
            "75th percentile of grade column is: 70.0\n"
          ],
          "name": "stdout"
        }
      ]
    },
    {
      "cell_type": "code",
      "metadata": {
        "colab": {
          "base_uri": "https://localhost:8080/"
        },
        "id": "Fq_lu0znUeTX",
        "outputId": "1a75d82d-a70f-4752-e998-356564a1dfdc"
      },
      "source": [
        "print(\"Q2th quantile of age column is : \",np.quantile(df[\"age\"],.50))\n",
        "print(\"Q1th quantile of age column is : \",np.quantile(df[\"age\"],.25))\n",
        "print(\"Q3th quantile of age column is : \",np.quantile(df[\"age\"],.75))"
      ],
      "execution_count": null,
      "outputs": [
        {
          "output_type": "stream",
          "text": [
            "Q2th quantile of age column is :  22.0\n",
            "Q1th quantile of age column is :  21.0\n",
            "Q3th quantile of age column is :  22.0\n"
          ],
          "name": "stdout"
        }
      ]
    },
    {
      "cell_type": "code",
      "metadata": {
        "colab": {
          "base_uri": "https://localhost:8080/"
        },
        "id": "Hcu_mO_GUihx",
        "outputId": "be2f9ea4-a307-4851-b72a-a327bc0b028e"
      },
      "source": [
        "print(\"Q2 quantile of grade column is : \",np.quantile(df[\"grade\"],.50))\n",
        "print(\"Q1th quantile of grade column is : \",np.quantile(df[\"grade\"],.25))\n",
        "print(\"Q3 quantile of grade column is : \",np.quantile(df[\"grade\"],.75))"
      ],
      "execution_count": null,
      "outputs": [
        {
          "output_type": "stream",
          "text": [
            "Q2 quantile of grade column is :  69.0\n",
            "Q1th quantile of grade column is :  50.0\n",
            "Q3 quantile of grade column is :  70.0\n"
          ],
          "name": "stdout"
        }
      ]
    },
    {
      "cell_type": "markdown",
      "metadata": {
        "id": "o7q4ly1_Ulx4"
      },
      "source": [
        "\n",
        "\n",
        "  * Box Plots\n",
        "        A box and whisker plot (sometimes called a boxplot) is a graph that presents information from a five-number summary.\n",
        "        Lowest observation\n",
        "        Highest observation\n",
        "        Lower Quartile\n",
        "        Upper Quartile\n",
        "        Median\n",
        "\n"
      ]
    },
    {
      "cell_type": "code",
      "metadata": {
        "colab": {
          "base_uri": "https://localhost:8080/",
          "height": 265
        },
        "id": "7RhUkbaUUnCz",
        "outputId": "cedbb0d0-7269-4c0f-93ae-ad6bc1d468d4"
      },
      "source": [
        "plt.figure()\n",
        "plt.subplot(1,2,1)\n",
        "df.boxplot(column=\"age\")\n",
        "plt.subplot(1,2,2)\n",
        "df.boxplot(column=\"grade\")\n",
        "plt.show()"
      ],
      "execution_count": null,
      "outputs": [
        {
          "output_type": "display_data",
          "data": {
            "image/png": "[encoded data removed]",
            "text/plain": [
              "<Figure size 432x288 with 2 Axes>"
            ]
          },
          "metadata": {
            "tags": [],
            "needs_background": "light"
          }
        }
      ]
    },
    {
      "cell_type": "markdown",
      "metadata": {
        "id": "S3LL93jXOhy_"
      },
      "source": [
        "\n",
        "\n",
        "---\n",
        "\n",
        "---\n",
        "\n",
        "---\n",
        "\n",
        "\n",
        "\n",
        "\n",
        "\n"
      ]
    },
    {
      "cell_type": "markdown",
      "metadata": {
        "id": "4XeDGxGoJUMD"
      },
      "source": [
        "#Dataset Example - 3\n",
        "\n",
        "\n",
        "---\n",
        "\n",
        "\n"
      ]
    },
    {
      "cell_type": "markdown",
      "metadata": {
        "id": "omUegPvzNY-n"
      },
      "source": [
        "### Importing Libraries\n",
        " - Pandas for reading data file\n",
        " - Numpy for performing statistical calculations \n",
        " - Matplotlib and seaborn for visualization \n",
        " - Scipy.stats for Skewness and Kurtosis"
      ]
    },
    {
      "cell_type": "code",
      "metadata": {
        "id": "KhhAVU31NY-n"
      },
      "source": [
        "import pandas as pd \n",
        "import numpy as np\n",
        "import matplotlib.pyplot as plt\n",
        "import seaborn as sb\n",
        "from scipy.stats import skew\n",
        "from scipy.stats import kurtosis"
      ],
      "execution_count": null,
      "outputs": []
    },
    {
      "cell_type": "markdown",
      "metadata": {
        "id": "BVBJPCGsNY-o"
      },
      "source": [
        "- To see all the columns which are present in the dataset"
      ]
    },
    {
      "cell_type": "code",
      "metadata": {
        "id": "gONxF5kENY-o"
      },
      "source": [
        "pd.set_option(\"display.max_columns\",None)#To see all the columns which are present in the dataset"
      ],
      "execution_count": null,
      "outputs": []
    },
    {
      "cell_type": "markdown",
      "metadata": {
        "id": "yFw3ZnThNY-o"
      },
      "source": [
        "### Reading dataset\n",
        "- df is dataframe .\n",
        "- pd.read_excel reads the excel file.\n",
        "- head Function prints the first five rows of the dataset."
      ]
    },
    {
      "cell_type": "markdown",
      "metadata": {
        "id": "oj0EoaC5NY-o"
      },
      "source": [
        "### Description of data\n",
        "- Data belongs to student category which contains **fname** , **age** and **gender** column.\n",
        "- **Fname** contins the name of students, **age** column contains the age of the students and **grade** column contains the marks obtained. "
      ]
    },
    {
      "cell_type": "code",
      "metadata": {
        "id": "4CNdKgVxNY-o",
        "outputId": "8bc25e82-c026-4f9e-be4a-ebac87bb7d7a"
      },
      "source": [
        "df=pd.read_excel(\"data1.xlsx\")\n",
        "df.head()"
      ],
      "execution_count": null,
      "outputs": [
        {
          "output_type": "execute_result",
          "data": {
            "text/html": [
              "<div>\n",
              "<style scoped>\n",
              "    .dataframe tbody tr th:only-of-type {\n",
              "        vertical-align: middle;\n",
              "    }\n",
              "\n",
              "    .dataframe tbody tr th {\n",
              "        vertical-align: top;\n",
              "    }\n",
              "\n",
              "    .dataframe thead th {\n",
              "        text-align: right;\n",
              "    }\n",
              "</style>\n",
              "<table border=\"1\" class=\"dataframe\">\n",
              "  <thead>\n",
              "    <tr style=\"text-align: right;\">\n",
              "      <th></th>\n",
              "      <th>fname</th>\n",
              "      <th>age</th>\n",
              "      <th>grade</th>\n",
              "    </tr>\n",
              "  </thead>\n",
              "  <tbody>\n",
              "    <tr>\n",
              "      <th>0</th>\n",
              "      <td>Baker</td>\n",
              "      <td>14</td>\n",
              "      <td>90</td>\n",
              "    </tr>\n",
              "    <tr>\n",
              "      <th>1</th>\n",
              "      <td>Josephine</td>\n",
              "      <td>19</td>\n",
              "      <td>100</td>\n",
              "    </tr>\n",
              "    <tr>\n",
              "      <th>2</th>\n",
              "      <td>Calvin</td>\n",
              "      <td>15</td>\n",
              "      <td>66</td>\n",
              "    </tr>\n",
              "    <tr>\n",
              "      <th>3</th>\n",
              "      <td>Aretha</td>\n",
              "      <td>17</td>\n",
              "      <td>84</td>\n",
              "    </tr>\n",
              "    <tr>\n",
              "      <th>4</th>\n",
              "      <td>Britanney</td>\n",
              "      <td>19</td>\n",
              "      <td>66</td>\n",
              "    </tr>\n",
              "  </tbody>\n",
              "</table>\n",
              "</div>"
            ],
            "text/plain": [
              "       fname  age  grade\n",
              "0      Baker   14     90\n",
              "1  Josephine   19    100\n",
              "2     Calvin   15     66\n",
              "3     Aretha   17     84\n",
              "4  Britanney   19     66"
            ]
          },
          "metadata": {
            "tags": []
          },
          "execution_count": 3
        }
      ]
    },
    {
      "cell_type": "markdown",
      "metadata": {
        "id": "lij67E6iNY-p"
      },
      "source": [
        "### Measures of Central Tendency\n",
        "- **Mean**\n",
        "    - The sum of a collection of numbers divided by the count of numbers in the collection.\n",
        "- **Median** \n",
        "    - The median is the value separating the higher half from the lower half of a data sample, a population, or a probability distribution. \n",
        "- **Mode**\n",
        "    - The mode is the value that appears most often in a set of data values."
      ]
    },
    {
      "cell_type": "markdown",
      "metadata": {
        "id": "U43hcaYsNY-p"
      },
      "source": [
        "#### Where the measures of central tendency used?\n",
        "- The above three values are used in handling null and outlier values in **Machine learning**, in **Image processing** mean and median plays an important role , we use mean and median for applying threshold values on the particular image.\n",
        "- cv2.ADAPTIVE_THRESH_MEAN_C threshold value is the mean of neighbourhood area.\n",
        "- cv2.medianBlur() computes the median of all the pixels under the kernel window and the central pixel is replaced with this median value. \n"
      ]
    },
    {
      "cell_type": "markdown",
      "metadata": {
        "id": "juycEXtlNY-p"
      },
      "source": [
        "#### Example of median blur "
      ]
    },
    {
      "cell_type": "markdown",
      "metadata": {
        "id": "CChTuyiqNY-q"
      },
      "source": [
        "![IMG-20210314-WA0001.jpg](data:image/jpeg;base64,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)\n",
        "<br></br>\n",
        "![IMG-20210314-WA0000.jpg](data:image/jpeg;base64,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)"
      ]
    },
    {
      "cell_type": "code",
      "metadata": {
        "id": "K07KhumLNY-q",
        "outputId": "8537efbd-0ee2-40b4-dc71-8ed690f29294"
      },
      "source": [
        "df_mean=df.mean()\n",
        "print(\"*Mean of columns age and grade*\")\n",
        "print(df_mean)\n",
        "df_median=df.median()\n",
        "print(\"*Median of columns age and grade*\")\n",
        "print(df_median)\n",
        "df_mode=df.mode()\n",
        "print(\"*Mode of columns age and grade*\")\n",
        "print(df_mode)"
      ],
      "execution_count": null,
      "outputs": [
        {
          "output_type": "stream",
          "text": [
            "*Mean of columns age and grade*\n",
            "age      16.28\n",
            "grade    82.79\n",
            "dtype: float64\n",
            "*Median of columns age and grade*\n",
            "age      16.0\n",
            "grade    81.5\n",
            "dtype: float64\n",
            "*Mode of columns age and grade*\n",
            "  fname  age  grade\n",
            "0  Emma   14     69\n"
          ],
          "name": "stdout"
        }
      ]
    },
    {
      "cell_type": "markdown",
      "metadata": {
        "id": "wTg9TLsvNY-q"
      },
      "source": [
        "#### Measures of Variability \n",
        "- **Standard Deviation**\n",
        "    - The standard deviation is a measure of the amount of variation or dispersion of a set of values.\n",
        "- **Variance**\n",
        "    - The term variance refers to a statistical measurement of the spread between numbers in a data set.\n",
        "- **Min and Max Variables**\n",
        "    - Min is the minimum value in the column or in dataset.\n",
        "    - Max is the maximum value in the column or in dataset.\n"
      ]
    },
    {
      "cell_type": "markdown",
      "metadata": {
        "id": "JPzjppDFNY-r"
      },
      "source": [
        "#### Where the measures of variability is used?\n",
        "- **Standard deviation** is used to know how data is spread so we can find some good insigths from it.\n",
        "- Example:- \n",
        "    - If we are working with data which consist column of years, tax rate, sales amount etc. so, after applying standard deviation we will get to know at which year the tax rate or sales amount was more or less.\n",
        "- **Min and Max** both are used to find range of the array or particilar column, so we can detect the outliers."
      ]
    },
    {
      "cell_type": "code",
      "metadata": {
        "id": "WQ1WiTjMNY-r",
        "outputId": "66c61067-5070-4885-ace9-1a7f12b5a8c3"
      },
      "source": [
        "print(\"Standard deviation of columns age and grade\")\n",
        "print(df.std())\n",
        "print(\"Variance of columns age and grade  \")\n",
        "print(df.var())\n",
        "print(\"The Minimum value are\" )\n",
        "print(df.min())\n",
        "print(\"The Maximum value are\" )\n",
        "print(df.max())"
      ],
      "execution_count": null,
      "outputs": [
        {
          "output_type": "stream",
          "text": [
            "Standard deviation of columns age and grade\n",
            "age       1.752804\n",
            "grade    10.915928\n",
            "dtype: float64\n",
            "Variance of columns age and grade  \n",
            "age        3.072323\n",
            "grade    119.157475\n",
            "dtype: float64\n",
            "The Minimum value are\n",
            "fname    Adrienne\n",
            "age            14\n",
            "grade          65\n",
            "dtype: object\n",
            "The Maximum value are\n",
            "fname    Zia\n",
            "age       19\n",
            "grade    100\n",
            "dtype: object\n"
          ],
          "name": "stdout"
        }
      ]
    },
    {
      "cell_type": "markdown",
      "metadata": {
        "id": "BUsa_eKRNY-r"
      },
      "source": [
        "- **Skewness and Kurtosis**\n",
        "    - **Skewness** is a measure of the symmetry of a distribution. The highest point of a distribution is its mode.\n",
        "    - **Kurtosis** is a statistical measure that defines how heavily the tails of a distribution differ from the tails of a normal distribution."
      ]
    },
    {
      "cell_type": "markdown",
      "metadata": {
        "id": "3M6EQZtHNY-r"
      },
      "source": [
        "#### Where do we use Skewness and Kurtosis ?\n",
        "- **Skewness** can be used to obtain approximate probabilities and quantiles of distributions (such as value at risk in finance) via the Cornish-Fisher expansion.\n",
        "- **Kurtosis** is used to describe the extreme values in one versus the other tail. It is actually the measure of outliers present in the distribution . High kurtosis in a data set is an indicator that data has heavy tails or outliers."
      ]
    },
    {
      "cell_type": "code",
      "metadata": {
        "id": "5zawd2uINY-r",
        "outputId": "0ab400f3-b1fa-42bb-c4b1-4123cc995a84"
      },
      "source": [
        "age_skew=skew(df[\"age\"])\n",
        "grade_skew=skew(df[\"grade\"])\n",
        "print(\"The skewness of column age is : \",age_skew)\n",
        "print(\"The skewness of column grade is : \",grade_skew)"
      ],
      "execution_count": null,
      "outputs": [
        {
          "output_type": "stream",
          "text": [
            "The skewness of column age is :  0.1891005591179678\n",
            "The skewness of column grade is :  0.0923141826958847\n"
          ],
          "name": "stdout"
        }
      ]
    },
    {
      "cell_type": "code",
      "metadata": {
        "id": "lThYHQ2kNY-r",
        "outputId": "5e9b021d-2b21-4e33-9f39-6ca598d58477"
      },
      "source": [
        "age_kurtosis=kurtosis(df[\"age\"])\n",
        "print(\"The kurtosis of column age is \",age_kurtosis)\n",
        "grade_kurtosis=kurtosis(df[\"grade\"])\n",
        "print(\"The kurtosis of column grade is \",grade_kurtosis)"
      ],
      "execution_count": null,
      "outputs": [
        {
          "output_type": "stream",
          "text": [
            "The kurtosis of column age is  -1.2143532529876444\n",
            "The kurtosis of column grade is  -1.3309524922789433\n"
          ],
          "name": "stdout"
        }
      ]
    },
    {
      "cell_type": "markdown",
      "metadata": {
        "id": "M6YH85GGNY-s"
      },
      "source": [
        "- **Range**\n",
        "    - The Range is the difference between the lowest and highest values. \n",
        "- Given that the range can easily be computed with information on the maximum and minimum value of the data set.\n",
        "- Users requiring only a rough indication of the data may prefer to use this indicator over more sophisticated measures of spread. "
      ]
    },
    {
      "cell_type": "code",
      "metadata": {
        "id": "qKZ-QxuENY-s",
        "outputId": "d039b708-576b-4b87-ed0a-e14060a9eee7"
      },
      "source": [
        "age_range=(df[\"age\"].max())-(df[\"age\"].min())\n",
        "print(\"The range of column age is :\",age_range)"
      ],
      "execution_count": null,
      "outputs": [
        {
          "output_type": "stream",
          "text": [
            "The range of column age is : 5\n"
          ],
          "name": "stdout"
        }
      ]
    },
    {
      "cell_type": "code",
      "metadata": {
        "id": "VObzKU9UNY-s",
        "outputId": "534f576b-21a4-412d-fe14-93ae926dabfe"
      },
      "source": [
        "grade_range=(df[\"grade\"].max())-(df[\"grade\"].min())\n",
        "print(\"The range of column grade is :\",grade_range)"
      ],
      "execution_count": null,
      "outputs": [
        {
          "output_type": "stream",
          "text": [
            "The range of column grade is : 35\n"
          ],
          "name": "stdout"
        }
      ]
    },
    {
      "cell_type": "markdown",
      "metadata": {
        "id": "Pdayeh2iNY-s"
      },
      "source": [
        "- **Percentiles/Quartiles**\n",
        "    - A **percentile** is a measure at which that percentage of the total values are the same as or below that measure. For example, 90% of the data values lie below the 90th percentile, whereas 10% of the data values lie below the 10th percentile.\n",
        "    - **Quartiles** are values that divide a (part of a) data table into four groups containing an approximately equal number of observations. The total of 100% is split into four equal parts: 25%, 50%, 75% and 100%.\n",
        "\n",
        "- Percentiles are used to understand and interpret data. \n",
        "- Quartiles are used to summarize a group of numbers. "
      ]
    },
    {
      "cell_type": "code",
      "metadata": {
        "id": "mz0rQ1FpNY-s",
        "outputId": "60664dda-9ad5-4e3d-dc38-9ff9b5a95ee9"
      },
      "source": [
        "print(\"50th percentile of age column is:\",np.percentile(df[\"age\"],50))\n",
        "print(\"25th percentile of age column is:\",np.percentile(df[\"age\"],25))\n",
        "print(\"75th percentile of age column is:\",np.percentile(df[\"age\"],75))"
      ],
      "execution_count": null,
      "outputs": [
        {
          "output_type": "stream",
          "text": [
            "50th percentile of age column is: 16.0\n",
            "25th percentile of age column is: 15.0\n",
            "75th percentile of age column is: 18.0\n"
          ],
          "name": "stdout"
        }
      ]
    },
    {
      "cell_type": "code",
      "metadata": {
        "id": "mFU-Qu27NY-s",
        "outputId": "96d51092-730c-4bbb-ff29-4a8a2c2f7886"
      },
      "source": [
        "print(\"50th percentile of grade column is:\",np.percentile(df[\"grade\"],50))\n",
        "print(\"25th percentile of grade column is:\",np.percentile(df[\"grade\"],25))\n",
        "print(\"75th percentile of grade column is:\",np.percentile(df[\"grade\"],75))"
      ],
      "execution_count": null,
      "outputs": [
        {
          "output_type": "stream",
          "text": [
            "50th percentile of grade column is: 81.5\n",
            "25th percentile of grade column is: 73.0\n",
            "75th percentile of grade column is: 92.0\n"
          ],
          "name": "stdout"
        }
      ]
    },
    {
      "cell_type": "code",
      "metadata": {
        "id": "JKokVDiANY-t",
        "outputId": "635b2539-a1f0-43c3-88c5-71a49ff40b84"
      },
      "source": [
        "print(\"Q2th quantile of age column is : \",np.quantile(df[\"age\"],.50))\n",
        "print(\"Q1th quantile of age column is : \",np.quantile(df[\"age\"],.25))\n",
        "print(\"Q3th quantile of age column is : \",np.quantile(df[\"age\"],.75))"
      ],
      "execution_count": null,
      "outputs": [
        {
          "output_type": "stream",
          "text": [
            "Q2th quantile of age column is :  16.0\n",
            "Q1th quantile of age column is :  15.0\n",
            "Q3th quantile of age column is :  18.0\n"
          ],
          "name": "stdout"
        }
      ]
    },
    {
      "cell_type": "code",
      "metadata": {
        "id": "TPgW1ADtNY-t",
        "outputId": "f770665f-03d7-4bb1-8ac0-80aa7dcc0b27"
      },
      "source": [
        "print(\"Q2 quantile of grade column is : \",np.quantile(df[\"grade\"],.50))\n",
        "print(\"Q1th quantile of grade column is : \",np.quantile(df[\"grade\"],.25))\n",
        "print(\"Q3 quantile of grade column is : \",np.quantile(df[\"grade\"],.75))"
      ],
      "execution_count": null,
      "outputs": [
        {
          "output_type": "stream",
          "text": [
            "Q2 quantile of grade column is :  81.5\n",
            "Q1th quantile of grade column is :  73.0\n",
            "Q3 quantile of grade column is :  92.0\n"
          ],
          "name": "stdout"
        }
      ]
    },
    {
      "cell_type": "markdown",
      "metadata": {
        "id": "pswbXTihNY-t"
      },
      "source": [
        "- **Box Plots**\n",
        "    - A box and whisker plot (sometimes called a boxplot) is a graph that presents information from a five-number summary. \n",
        "    - Lowest observation\n",
        "    - Highest observation\n",
        "    - Lower Quartile\n",
        "    - Upper Quartile \n",
        "    - Median "
      ]
    },
    {
      "cell_type": "code",
      "metadata": {
        "id": "caC6jafqNY-t",
        "outputId": "7dd26101-6e8a-4b87-8a22-13ed10375890"
      },
      "source": [
        "plt.figure()\n",
        "plt.subplot(1,2,1)\n",
        "df.boxplot(column=\"age\")\n",
        "plt.subplot(1,2,2)\n",
        "df.boxplot(column=\"grade\")\n",
        "plt.show()"
      ],
      "execution_count": null,
      "outputs": [
        {
          "output_type": "display_data",
          "data": {
            "image/png": "[encoded data removed]",
            "text/plain": [
              "<Figure size 432x288 with 2 Axes>"
            ]
          },
          "metadata": {
            "tags": [],
            "needs_background": "light"
          }
        }
      ]
    },
    {
      "cell_type": "markdown",
      "metadata": {
        "id": "hcj0KOY-OdwR"
      },
      "source": [
        "\n",
        "\n",
        "---\n",
        "\n",
        "---\n",
        "\n",
        "---\n",
        "\n",
        "\n",
        "\n",
        "\n",
        "\n"
      ]
    },
    {
      "cell_type": "markdown",
      "metadata": {
        "id": "IaKgSYmfJUkm"
      },
      "source": [
        "#Dataset Example - 4\n",
        "\n",
        "\n",
        "---\n",
        "\n",
        "\n"
      ]
    },
    {
      "cell_type": "markdown",
      "metadata": {
        "id": "ChIN7NQ9pT_7"
      },
      "source": [
        "**Importing packages**"
      ]
    },
    {
      "cell_type": "markdown",
      "metadata": {
        "id": "9yvAVj7ebUkP"
      },
      "source": [
        "Importing packages that are needed in python to perform  statistical operations \n",
        "<br>\n",
        "<br>\n",
        "* numpy- \n",
        "It is a library for the Python programming language, adding support for large, multi-dimensional arrays and matrices, along with a large collection of high-level mathematical functions to operate on these arrays.\n",
        "<br>\n",
        "\n",
        "* pandas-\n",
        "pandas is a software library written for the Python programming language for data manipulation and analysis. In particular, it offers data structures and operations for manipulating numerical tables and time series.\n",
        "<br>\n",
        "\n",
        "*   seaborn- Seaborn is a Python data visualization library based on matplotlib. It provides a high-level interface for drawing attractive and informative statistical graphics.\n",
        "<br>\n",
        "\n",
        "*   Scipy.stats- It is a module contains a large number of probability distributions as well as a growing library of statistical functions.\n",
        "\n",
        "\n",
        "\n",
        "\n",
        "\n",
        "\n",
        "\n"
      ]
    },
    {
      "cell_type": "code",
      "metadata": {
        "id": "A2PAxiOppc4t"
      },
      "source": [
        "import numpy as np\n",
        "import pandas as pd\n",
        "import seaborn as sns\n",
        "import scipy.stats as stats\n",
        "pd.set_option(\"display.max_columns\",None)"
      ],
      "execution_count": null,
      "outputs": []
    },
    {
      "cell_type": "markdown",
      "metadata": {
        "id": "QFSBembVMbw0"
      },
      "source": [
        "\n",
        "\n",
        "---\n",
        "\n",
        "\n",
        "\n",
        "\n",
        "\n"
      ]
    },
    {
      "cell_type": "markdown",
      "metadata": {
        "id": "JpsIPciOqHFf"
      },
      "source": [
        "**Importing Dataset**"
      ]
    },
    {
      "cell_type": "markdown",
      "metadata": {
        "id": "Wo-bGU7uMxr_"
      },
      "source": [
        "Mounting Google Drive locally and reading LaptopDS.csv to a dataframe then displaying its basic info using df.info()\n",
        "<br>\n",
        "<br>\n",
        "LaptopDS.csv -\n",
        "\n",
        "It is a dataset which contains 205 entries of latpops based on their model name and specification.This dataset has combined information of diffrent laptops so that it can be used in analysis by or can be used by customers to identify which laptops meets their requirements.\n",
        "\n",
        "It contains 8 columns as brand(brand of the laptop), laptop_name(Model name of the laptop),display_size(Screen display size), processor_type(processor model name), graphics_card(graphic card model name), disk_space(size of disk and its type), discount_price(discounted price), price(orignal price) and ratings_5max(rating from 0 to 5).    \n"
      ]
    },
    {
      "cell_type": "code",
      "metadata": {
        "colab": {
          "base_uri": "https://localhost:8080/"
        },
        "id": "jymqC3fzqQAv",
        "outputId": "88600513-0975-47f3-e3c9-437144a29a3f"
      },
      "source": [
        "%cd\n",
        "from google.colab import drive\n",
        "drive.mount('/content/gdrive')"
      ],
      "execution_count": null,
      "outputs": [
        {
          "output_type": "stream",
          "text": [
            "/root\n",
            "Drive already mounted at /content/gdrive; to attempt to forcibly remount, call drive.mount(\"/content/gdrive\", force_remount=True).\n"
          ],
          "name": "stdout"
        }
      ]
    },
    {
      "cell_type": "code",
      "metadata": {
        "colab": {
          "base_uri": "https://localhost:8080/"
        },
        "id": "MOEEA4XTrAcj",
        "outputId": "471ab196-f292-4593-e181-15d4d4a6d6ef"
      },
      "source": [
        "df=pd.read_csv('/content/gdrive/MyDrive/DS/LaptopsDS.csv')\n",
        "print(\"Dataset On Laptop specedication based on brands : - \\n\",df)"
      ],
      "execution_count": null,
      "outputs": [
        {
          "output_type": "stream",
          "text": [
            "Dataset On Laptop specedication based on brands : - \n",
            "       brand                       laptop_name  display_size  \\\n",
            "0        HP              Notebook 14-df0008nx          14.0   \n",
            "1    Lenovo                IdeaPad 330S-14IKB          14.0   \n",
            "2    Huawei                  MateBook D Volta          14.0   \n",
            "3      Dell                  Inspiron 15 3567          15.6   \n",
            "4      Asus                VivoBook 15 X510UR          15.6   \n",
            "..      ...                               ...           ...   \n",
            "200  Lenovo               IdeaPad 320-15IKBRN          15.6   \n",
            "201  Huawei                        MateBook D          15.6   \n",
            "202   Apple  MacBook Pro (Retina + Touch Bar)          15.4   \n",
            "203   Apple  MacBook Pro (Retina + Touch Bar)          15.4   \n",
            "204    Dell                  Inspiron 15 3576          15.6   \n",
            "\n",
            "            processor_type                  graphics_card  \\\n",
            "0      Intel Celeron N4000          Intel HD Graphics 600   \n",
            "1      Intel Core i5-8250U         Intel UHD Graphics 620   \n",
            "2      Intel Core i5-8250U    NVIDIA GeForce MX150 (2 GB)   \n",
            "3      Intel Core i3-7020U          Intel HD Graphics 620   \n",
            "4      Intel Core i7-8550U    NVIDIA GeForce 930MX (2 GB)   \n",
            "..                     ...                            ...   \n",
            "200    Intel Core i5-8250U                   Intel GMA HD   \n",
            "201    Intel Core i7-8550U    NVIDIA GeForce MX150 (2 GB)   \n",
            "202   Intel Core i7 6 Core   Radeon Pro 555X GDDR5 (4 GB)   \n",
            "203   Intel Core i7 6 Core   Radeon Pro 560X GDDR5 (4 GB)   \n",
            "204    Intel Core i5-8250U          AMD Radeon 520 (2 GB)   \n",
            "\n",
            "               disk_space  discount_price    price ratings_5max  \n",
            "0            64 GB (eMMC)          1259.0   1259.0        0 / 5  \n",
            "1                1 TB HDD          1849.0   2099.0      3.3 / 5  \n",
            "2              256 GB SSD          2999.0   3799.0        0 / 5  \n",
            "3                1 TB HDD          1849.0   1849.0        0 / 5  \n",
            "4                1 TB HDD          2499.0   3149.0        0 / 5  \n",
            "..                    ...             ...      ...          ...  \n",
            "200              1 TB HDD          2099.0   2099.0      3.8 / 5  \n",
            "201   128 GB SSD/1 TB HDD          3299.0   3299.0      4.0 / 5  \n",
            "202            256 GB SSD         10199.0  10199.0        0 / 5  \n",
            "203            512 GB SSD         11899.0  11899.0      4.4 / 5  \n",
            "204              1 TB HDD          2299.0   2299.0        0 / 5  \n",
            "\n",
            "[205 rows x 9 columns]\n"
          ],
          "name": "stdout"
        }
      ]
    },
    {
      "cell_type": "code",
      "metadata": {
        "colab": {
          "base_uri": "https://localhost:8080/"
        },
        "id": "m30cG9SpwOeC",
        "outputId": "48fd872a-beab-4b79-9c3f-44999e9ce225"
      },
      "source": [
        "df.info()"
      ],
      "execution_count": null,
      "outputs": [
        {
          "output_type": "stream",
          "text": [
            "<class 'pandas.core.frame.DataFrame'>\n",
            "RangeIndex: 205 entries, 0 to 204\n",
            "Data columns (total 9 columns):\n",
            " #   Column          Non-Null Count  Dtype  \n",
            "---  ------          --------------  -----  \n",
            " 0   brand           205 non-null    object \n",
            " 1   laptop_name     204 non-null    object \n",
            " 2   display_size    205 non-null    float64\n",
            " 3   processor_type  205 non-null    object \n",
            " 4   graphics_card   205 non-null    object \n",
            " 5   disk_space      205 non-null    object \n",
            " 6   discount_price  205 non-null    float64\n",
            " 7   price           205 non-null    float64\n",
            " 8   ratings_5max    205 non-null    object \n",
            "dtypes: float64(3), object(6)\n",
            "memory usage: 14.5+ KB\n"
          ],
          "name": "stdout"
        }
      ]
    },
    {
      "cell_type": "markdown",
      "metadata": {
        "id": "7wTrHjtkMh2P"
      },
      "source": [
        "\n",
        "\n",
        "---\n",
        "\n",
        "\n",
        "\n",
        "\n",
        "\n"
      ]
    },
    {
      "cell_type": "markdown",
      "metadata": {
        "id": "zjcrHyRH1cE3"
      },
      "source": [
        " **Measures of Central Tendency**\n",
        "\n"
      ]
    },
    {
      "cell_type": "markdown",
      "metadata": {
        "id": "V2uobqAiftXc"
      },
      "source": [
        "central tendency is a central or typical value for a probability distribution. It may also be called a center or location of the distribution.\n",
        "<br>\n",
        "<br>\n",
        "\n",
        "\n",
        "Use of central tendency statistical model- \n",
        "\n",
        "\n",
        "*   A statistical model is a mathematical model that embodies a set of statistical assumptions concerning the generation of sample data (and similar data from a larger population).\n",
        "*   The central tendency is dependent on the analysis of concentration of the values of observations in an distribution.\n",
        "*   In statistical sense, this statement is said to be the concentration of n items in Xi variable.\n",
        "*   The study of central  are essential dimensions in understanding the distributional characteristics of a series/variable. \n",
        "*   For example, the two sets of daily rainfall for the months of April and May 2004 in Cherrapunji have same magnitude of average rainfall (a most familiar measure of central tendency) called mean while the ranges of distribution (a difference of maximum and minimum value of data –series) are different as it vary from 0 to 492.2 mm in the month of April and from 0 to 327.6mm in the month of May. \n",
        "*   It shows different degree of dispersion despite the same value of their mean. So the nature of these two distributions is different from each other showing differences in distributions.\n",
        "\n",
        "\n",
        "The 3 most common measures of central tendency are the mean, median and mode.\n",
        "\n",
        "\n",
        "\n",
        "\n",
        "\n",
        "\n"
      ]
    },
    {
      "cell_type": "markdown",
      "metadata": {
        "id": "j1OVEXgefIm9"
      },
      "source": [
        "\n",
        "\n",
        "---\n",
        "\n"
      ]
    },
    {
      "cell_type": "markdown",
      "metadata": {
        "id": "5EP2lAcG3ftE"
      },
      "source": [
        "**Mean**\n",
        "\n",
        "\n"
      ]
    },
    {
      "cell_type": "markdown",
      "metadata": {
        "id": "_WYvKjWPWMm9"
      },
      "source": [
        "\n",
        "*   It is sum of all values divided by number of values( average )\n",
        "*   df.mean() Returns the mean of the values over the requested axis.\n",
        "*   Using it on the data set LaptopDS.csv returned mean of all the column of numeric type in the dataset.\n",
        "*   The data that are returned are showing the display_size, price and the discount price that the most of the laptops have. \n",
        "\n",
        "\n",
        "\n",
        "\n",
        "\n"
      ]
    },
    {
      "cell_type": "code",
      "metadata": {
        "colab": {
          "base_uri": "https://localhost:8080/"
        },
        "id": "YySwHnL_cbZn",
        "outputId": "9dc0258c-9c75-494a-c74e-d5efb0c6d61e"
      },
      "source": [
        "print('Mean of numeric columns-\\n',df.mean())"
      ],
      "execution_count": null,
      "outputs": [
        {
          "output_type": "stream",
          "text": [
            "Mean of numeric columns-\n",
            " display_size        14.579805\n",
            "discount_price    3812.550976\n",
            "price             4040.355854\n",
            "dtype: float64\n"
          ],
          "name": "stdout"
        }
      ]
    },
    {
      "cell_type": "markdown",
      "metadata": {
        "id": "uT4TnzexfJ_G"
      },
      "source": [
        "\n",
        "\n",
        "---\n",
        "\n"
      ]
    },
    {
      "cell_type": "markdown",
      "metadata": {
        "id": "OCvG5lgCEzqU"
      },
      "source": [
        "**Trimmed Mean**"
      ]
    },
    {
      "cell_type": "markdown",
      "metadata": {
        "id": "ktcbsUioZcI_"
      },
      "source": [
        "\n",
        "\n",
        "*   It is similar to mean except here we exclude the smallest and largest values in our data set.\n",
        "*   Calculated by the average of all values after dropping a fixed number of extreme values. \n",
        "*   The use of a trimmed mean helps eliminate the influence of outliers or data points on the tails that may unfairly affect the traditional mean. \n",
        "*   Here we are calculating the 10 % trimmed mean of the columns display_size, price and discount.\n",
        "\n",
        "\n"
      ]
    },
    {
      "cell_type": "code",
      "metadata": {
        "colab": {
          "base_uri": "https://localhost:8080/"
        },
        "id": "wgLbzAAPEy1P",
        "outputId": "9b115394-0df2-4744-bb0a-51de5c112e37"
      },
      "source": [
        "print('Trimmed Mean of the column display_size = ',stats.trim_mean(df['display_size'],0.1))\n",
        "print('Trimmed Mean of the column price = ',stats.trim_mean(df['price'],0.1))\n",
        "print('Trimmed Mean of the column discount_price = ',stats.trim_mean(df['discount_price'],0.1))"
      ],
      "execution_count": null,
      "outputs": [
        {
          "output_type": "stream",
          "text": [
            "Trimmed Mean of the column display_size =  14.584606060606058\n",
            "Trimmed Mean of the column price =  3756.7454545454543\n",
            "Trimmed Mean of the column discount_price =  3508.018181818182\n"
          ],
          "name": "stdout"
        }
      ]
    },
    {
      "cell_type": "markdown",
      "metadata": {
        "id": "2EMLC9azfLZp"
      },
      "source": [
        "\n",
        "\n",
        "---\n",
        "\n"
      ]
    },
    {
      "cell_type": "markdown",
      "metadata": {
        "id": "POkZQ7qpFWPc"
      },
      "source": [
        "**Weighted Mean**"
      ]
    },
    {
      "cell_type": "markdown",
      "metadata": {
        "id": "YtS2SN5-cHkQ"
      },
      "source": [
        "* It is similar to mean except weights are used to balance the observation\n",
        "* calculated by the sum of all values times a weight divided by the sum of the weights.\n",
        "*   It is used when we consider some data values to be more important than other values and so we want them to contribute more to the final \"average\". \n",
        "* np.average() is used to Compute the weighted average along the specified axis.\n",
        "*    Here we are calculating the Weightedmean where weights are shifted by 10 of the columns display_size, price and discount.\n",
        "\n",
        "\n"
      ]
    },
    {
      "cell_type": "code",
      "metadata": {
        "colab": {
          "base_uri": "https://localhost:8080/"
        },
        "id": "g-wnVeYMFdj0",
        "outputId": "cd2b71f3-1fca-449f-9d51-e68632134810"
      },
      "source": [
        "weights=[i for i in range(10,215)]\n",
        "print('Weighted Mean of the column display_size = ',np.average(df['display_size'],weights=weights))\n",
        "print('Weighted Mean of the column price = ',np.average(df['price'],weights=weights))\n",
        "print('Weighted Mean of the column discount_price = ',np.average(df['discount_price'],weights=weights))"
      ],
      "execution_count": null,
      "outputs": [
        {
          "output_type": "stream",
          "text": [
            "Weighted Mean of the column display_size =  14.676464285714285\n",
            "Weighted Mean of the column price =  4115.339146341464\n",
            "Weighted Mean of the column discount_price =  3975.319111498258\n"
          ],
          "name": "stdout"
        }
      ]
    },
    {
      "cell_type": "markdown",
      "metadata": {
        "id": "2bLaAa67fMpS"
      },
      "source": [
        "\n",
        "\n",
        "---\n",
        "\n"
      ]
    },
    {
      "cell_type": "markdown",
      "metadata": {
        "id": "X31qaW94Dj9R"
      },
      "source": [
        "**Median**"
      ]
    },
    {
      "cell_type": "markdown",
      "metadata": {
        "id": "P7a_CEt4jK7C"
      },
      "source": [
        "\n",
        "*   It is the value such that one-half of the data lies above and below. \n",
        "*   df.median() Return the median of the values over the requested axis.\n",
        "*   Using it on the data set LaptopDS.csv returned median of all the column of numeric type in the dataset \n",
        "*   The data that are returned are showing  middle values of column the display_size, price and the discount price. \n",
        "\n"
      ]
    },
    {
      "cell_type": "code",
      "metadata": {
        "colab": {
          "base_uri": "https://localhost:8080/"
        },
        "id": "DhaaYqHd3jfe",
        "outputId": "0de7adc9-3b4d-4b56-b629-e0ea888bec30"
      },
      "source": [
        "print('Median of numeric columns-\\n',df.median())"
      ],
      "execution_count": null,
      "outputs": [
        {
          "output_type": "stream",
          "text": [
            "Median of column display_size =  14.0\n",
            "Median of column discount_price =  3149.0\n",
            "Median of column price =  3299.0\n"
          ],
          "name": "stdout"
        }
      ]
    },
    {
      "cell_type": "markdown",
      "metadata": {
        "id": "Cu3Mi7_pfNr3"
      },
      "source": [
        "\n",
        "\n",
        "---\n",
        "\n"
      ]
    },
    {
      "cell_type": "markdown",
      "metadata": {
        "id": "dXiurFC_DpGH"
      },
      "source": [
        "**Mode**"
      ]
    },
    {
      "cell_type": "markdown",
      "metadata": {
        "id": "sBqBRi46jLnB"
      },
      "source": [
        "*   It is the value that frequenty occurs.\n",
        "*   df.mode() Returns The mode of a set of values is the value that appears most often. It can have multiple values.\n"
      ]
    },
    {
      "cell_type": "code",
      "metadata": {
        "colab": {
          "base_uri": "https://localhost:8080/"
        },
        "id": "jbg9Sd3sexv6",
        "outputId": "ba89c416-e932-4bd7-fa43-0915e49ad230"
      },
      "source": [
        "for i in df.columns:\n",
        "  print(\"\\nMode of column \"+i+\" -\\n\",df[i].mode())"
      ],
      "execution_count": null,
      "outputs": [
        {
          "output_type": "stream",
          "text": [
            "\n",
            "Mode of column brand -\n",
            " 0    HP\n",
            "dtype: object\n",
            "\n",
            "Mode of column laptop_name -\n",
            " 0    MacBook Pro (Retina + Touch Bar)\n",
            "dtype: object\n",
            "\n",
            "Mode of column display_size -\n",
            " 0    15.6\n",
            "dtype: float64\n",
            "\n",
            "Mode of column processor_type -\n",
            " 0     Intel Core i5-8250U\n",
            "dtype: object\n",
            "\n",
            "Mode of column graphics_card -\n",
            " 0     NVIDIA GeForce MX150 (2 GB)\n",
            "dtype: object\n",
            "\n",
            "Mode of column disk_space -\n",
            " 0     1 TB HDD\n",
            "dtype: object\n",
            "\n",
            "Mode of column discount_price -\n",
            " 0    2299.0\n",
            "1    3599.0\n",
            "dtype: float64\n",
            "\n",
            "Mode of column price -\n",
            " 0    3149.0\n",
            "dtype: float64\n",
            "\n",
            "Mode of column ratings_5max -\n",
            " 0    0 / 5\n",
            "dtype: object\n"
          ],
          "name": "stdout"
        }
      ]
    },
    {
      "cell_type": "markdown",
      "metadata": {
        "id": "PF0IsvWBMoSB"
      },
      "source": [
        "\n",
        "---\n"
      ]
    },
    {
      "cell_type": "markdown",
      "metadata": {
        "id": "sJKIW05Do7G8"
      },
      "source": [
        "**Measures of Variability**"
      ]
    },
    {
      "cell_type": "markdown",
      "metadata": {
        "id": "KMGNrRyyqODv"
      },
      "source": [
        "*  A measure of variability is a summary statistic that represents the amount of dispersion in a dataset i.e How spread out are the values.\n",
        "* Analysts frequently use the mean to summarize the center of a population or a process. \n",
        "* When a distribution has lower variability, the values in a dataset are more consistent. \n",
        "*However, when the variability is higher, the data points are more dissimilar and extreme values become more likely. \n",
        "* Consequently, understanding variability helps us grasp the likelihood of unusual events.\n",
        "* following are the most common Measure of variablity \n"
      ]
    },
    {
      "cell_type": "markdown",
      "metadata": {
        "id": "XAcVexxjfP9w"
      },
      "source": [
        "\n",
        "\n",
        "---\n",
        "\n"
      ]
    },
    {
      "cell_type": "markdown",
      "metadata": {
        "id": "9MBqSx2gEHBS"
      },
      "source": [
        "**Standard Deviation**"
      ]
    },
    {
      "cell_type": "markdown",
      "metadata": {
        "id": "rfyXhD1btNy2"
      },
      "source": [
        "*   A standard deviation is a statistic that measures the dispersion of a dataset relative to its mean and is calculated as the square root of the variance.\n",
        "*   Standard deviation is an especially useful tool in investing and trading strategies as it helps measure market and security volatility and predict performance trends. \n",
        "* As it relates to investing, for example, an index fund is likely to have a low standard deviation versus its benchmark index, as the fund's goal is to replicate the index.\n",
        "* df.std() Return sample standard deviation over requested axis.\n"
      ]
    },
    {
      "cell_type": "code",
      "metadata": {
        "colab": {
          "base_uri": "https://localhost:8080/"
        },
        "id": "AcHB0_NnoLo9",
        "outputId": "a8c9f1a1-d5c6-445a-c36b-950a5526f31c"
      },
      "source": [
        "print('standard deviation of numeric columns - \\n',df.std())"
      ],
      "execution_count": null,
      "outputs": [
        {
          "output_type": "stream",
          "text": [
            "standard deviation of numeric columns - \n",
            " display_size         1.109458\n",
            "discount_price    2308.702005\n",
            "price             2327.147396\n",
            "dtype: float64\n"
          ],
          "name": "stdout"
        }
      ]
    },
    {
      "cell_type": "markdown",
      "metadata": {
        "id": "GQYETtW-fRFY"
      },
      "source": [
        "\n",
        "\n",
        "---\n",
        "\n"
      ]
    },
    {
      "cell_type": "markdown",
      "metadata": {
        "id": "TOxFx9UOFPZW"
      },
      "source": [
        "**Variance**"
      ]
    },
    {
      "cell_type": "markdown",
      "metadata": {
        "id": "NdLEi3_SxGAJ"
      },
      "source": [
        "*  The term variance refers to a statistical measurement of the spread between numbers in a data set. \n",
        "*  More specifically, variance measures how far each number in the set is from the mean and thus from every other number in the set.\n",
        "*  Statisticians use variance to see how individual numbers relate to each other within a data set, rather than using broader mathematical techniques such as arranging numbers into quartiles. \n",
        "* The advantage of variance is that it treats all deviations from the mean the same regardless of their direction. \n",
        "* The squared deviations cannot sum to zero and give the appearance of no variability at all in the data. \n",
        "* One drawback to variance, though, is that it gives added weight to outliers. These are the numbers that are far from the mean.  \n",
        "* df.var() Return unbiased variance over requested axis."
      ]
    },
    {
      "cell_type": "code",
      "metadata": {
        "colab": {
          "base_uri": "https://localhost:8080/"
        },
        "id": "FSPeIPqNFZp3",
        "outputId": "da5a5a97-e8ec-480f-83a2-2f9f384fe652"
      },
      "source": [
        "print('variance of numeric columns - \\n',df.var())"
      ],
      "execution_count": null,
      "outputs": [
        {
          "output_type": "stream",
          "text": [
            "variance of numeric columns - \n",
            " display_size      1.230898e+00\n",
            "discount_price    5.330105e+06\n",
            "price             5.415615e+06\n",
            "dtype: float64\n"
          ],
          "name": "stdout"
        }
      ]
    },
    {
      "cell_type": "markdown",
      "metadata": {
        "id": "TpNcfFMxfSF1"
      },
      "source": [
        "\n",
        "\n",
        "---\n",
        "\n"
      ]
    },
    {
      "cell_type": "markdown",
      "metadata": {
        "id": "F0rNTBLEGQdw"
      },
      "source": [
        "**Min and Max Variables**\n"
      ]
    },
    {
      "cell_type": "markdown",
      "metadata": {
        "id": "EoOJdbNsFmvi"
      },
      "source": [
        "* df.min() Returns the minimum of the values over the requested axis.\n",
        "* df.max() Returns the maximum of the values over the requested axis.\n",
        "* Using it in LaptopDS.csv returns minimum and maximum values of all columns."
      ]
    },
    {
      "cell_type": "code",
      "metadata": {
        "colab": {
          "base_uri": "https://localhost:8080/"
        },
        "id": "EB-270zcFmru",
        "outputId": "42d255d6-01db-4493-a8f8-d30e77679e2d"
      },
      "source": [
        "print('\\nMin variables of all columns -\\n',df.min())\n",
        "print('\\nMax variables of all columns -\\n ',df.max())"
      ],
      "execution_count": null,
      "outputs": [
        {
          "output_type": "stream",
          "text": [
            "\n",
            "Min variables of numeric columns -\n",
            " brand                               Acer\n",
            "display_size                          12\n",
            "processor_type               AMD A9-9425\n",
            "graphics_card      AMD Radeon 520 (2 GB)\n",
            "disk_space                      1 TB HDD\n",
            "discount_price                       899\n",
            "price                                999\n",
            "ratings_5max                       0 / 5\n",
            "dtype: object\n",
            "\n",
            "Max variables of numeric columns -\n",
            "  brand                                 Microsoft\n",
            "display_size                               18.4\n",
            "processor_type                    Intel Core i9\n",
            "graphics_card      Radeon Pro 560X GDDR5 (4 GB)\n",
            "disk_space          8 GB (Cache Flash)/1 TB HDD\n",
            "discount_price                            12499\n",
            "price                                     12499\n",
            "ratings_5max                            5.0 / 5\n",
            "dtype: object\n"
          ],
          "name": "stdout"
        }
      ]
    },
    {
      "cell_type": "markdown",
      "metadata": {
        "id": "RYdp2_D8fTDm"
      },
      "source": [
        "\n",
        "\n",
        "---\n",
        "\n"
      ]
    },
    {
      "cell_type": "markdown",
      "metadata": {
        "id": "nFbR3_zUIJO_"
      },
      "source": [
        "**Skewness**"
      ]
    },
    {
      "cell_type": "markdown",
      "metadata": {
        "id": "okuEPhUoNWdy"
      },
      "source": [
        "* In probability theory and statistics, skewness is a measure of the asymmetry of the probability distribution of a real-valued random variable about its mean. \n",
        "* The skewness value can be positive, zero, negative, or undefined.\n",
        "* For a unimodal distribution, negative skew commonly indicates that the tail is on the left side of the distribution, and positive skew indicates that the tail is on the right. \n",
        "* df.skew() return unbiased skew over requested axis."
      ]
    },
    {
      "cell_type": "code",
      "metadata": {
        "colab": {
          "base_uri": "https://localhost:8080/"
        },
        "id": "vbV95AtjIPsJ",
        "outputId": "deee779d-197c-412e-8624-8766a19b35cd"
      },
      "source": [
        "print('Skewness of numeric columns - \\n',df.skew())"
      ],
      "execution_count": null,
      "outputs": [
        {
          "output_type": "stream",
          "text": [
            "Skewness of numeric columns - \n",
            " display_size      0.178277\n",
            "discount_price    1.239832\n",
            "price             1.163004\n",
            "dtype: float64\n"
          ],
          "name": "stdout"
        }
      ]
    },
    {
      "cell_type": "markdown",
      "metadata": {
        "id": "5bSEXJadfUWh"
      },
      "source": [
        "\n",
        "\n",
        "---\n",
        "\n"
      ]
    },
    {
      "cell_type": "markdown",
      "metadata": {
        "id": "8z8wMGNPNAsS"
      },
      "source": [
        "**Kurtosis**"
      ]
    },
    {
      "cell_type": "markdown",
      "metadata": {
        "id": "uVOwg2-sODDA"
      },
      "source": [
        "* In probability theory and statistics, kurtosis is a measure of the \"tailedness\" of the probability distribution of a real-valued random variable.\n",
        "* Like skewness, kurtosis describes the shape of a probability distribution and there are different ways of quantifying it for a theoretical distribution and corresponding ways of estimating it from a sample from a population.\n",
        "* df.kurtosis() Returns unbiased kurtosis over requested axis.\n",
        "* df.kurtosis() computes the Fisher's Kurtosis which is obtained by subtracting the Pearson's Kurtosis by three. With Fisher's Kurtosis, definition a normal distribution has a kurtosis of 0."
      ]
    },
    {
      "cell_type": "code",
      "metadata": {
        "colab": {
          "base_uri": "https://localhost:8080/"
        },
        "id": "JaD_LU1VLBba",
        "outputId": "8aee4bb2-af85-48fd-a4e4-7ae063589e97"
      },
      "source": [
        "print('kurtosis of numeric columns - \\n',df.kurtosis())"
      ],
      "execution_count": null,
      "outputs": [
        {
          "output_type": "stream",
          "text": [
            "kurtosis of numeric columns - \n",
            " display_size     -0.650084\n",
            "discount_price    1.377946\n",
            "price             1.279941\n",
            "dtype: float64\n"
          ],
          "name": "stdout"
        }
      ]
    },
    {
      "cell_type": "markdown",
      "metadata": {
        "id": "k3uU9OmOfV3Z"
      },
      "source": [
        "\n",
        "\n",
        "---\n",
        "\n"
      ]
    },
    {
      "cell_type": "markdown",
      "metadata": {
        "id": "foMRmYPrNW4Y"
      },
      "source": [
        "**Range**"
      ]
    },
    {
      "cell_type": "markdown",
      "metadata": {
        "id": "chbWNdsNPwW2"
      },
      "source": [
        "*    Range is the difference between the lowest and highest values.\n",
        "*   It is calculated by max-min value of a column.\n",
        "* It is a good way to get a very basic understanding of how spread out numbers in the data set really are because it is easy to calculate as it only requires a basic arithmetic operation, but there are also a few other applications of the range of a data set in statistics.\n",
        "\n"
      ]
    },
    {
      "cell_type": "code",
      "metadata": {
        "colab": {
          "base_uri": "https://localhost:8080/"
        },
        "id": "-c4Y3PVMMywQ",
        "outputId": "de82d350-9dd3-44c4-ee53-6adc4d9eef79"
      },
      "source": [
        "print('Range of the column display_size = ',df['display_size'].max()-df['display_size'].min())\n",
        "print('Range of the column price = ',df['price'].max()-df['price'].min())\n",
        "print('Range of the column discount_price = ',df['discount_price'].max()-df['discount_price'].min())"
      ],
      "execution_count": null,
      "outputs": [
        {
          "output_type": "stream",
          "text": [
            "Range of the column display_size =  6.399999999999999\n",
            "Range of the column price =  11500.0\n",
            "Range of the column discount_price =  11600.0\n"
          ],
          "name": "stdout"
        }
      ]
    },
    {
      "cell_type": "markdown",
      "metadata": {
        "id": "7uk8a78WfWng"
      },
      "source": [
        "\n",
        "\n",
        "---\n",
        "\n"
      ]
    },
    {
      "cell_type": "markdown",
      "metadata": {
        "id": "5-lZdAyWRkIU"
      },
      "source": [
        "**Percentile**"
      ]
    },
    {
      "cell_type": "markdown",
      "metadata": {
        "id": "BsjNlq-rRy_d"
      },
      "source": [
        "* percentile is a term used in statistics to express how a score compares to other scores in the same set. \n",
        "* While there is technically no standard definition of percentile, it's typically communicated as the percentage of values that fall below a particular value in a set of data scores.\n",
        "* In statistics, a percentile is a score below which a given percentage of scores in its frequency distribution fall or a score at or below which a given percentage fall.\n",
        "*  For example, the 50th percentile (the median) is the score below which 50% (exclusive) or at or below which (inclusive) 50% of the scores in the distribution may be found.\n",
        "* np.percentile() Returns the q-th percentile(s) of the array elements."
      ]
    },
    {
      "cell_type": "code",
      "metadata": {
        "colab": {
          "base_uri": "https://localhost:8080/"
        },
        "id": "_xNWofHoURSs",
        "outputId": "afc5d028-f4a9-4e89-c3d2-1b01b9f2316f"
      },
      "source": [
        "print(\"\\nPercentile summary-\")\n",
        "print('\\n\\n10th Percentile of the column display_size = ',np.percentile(df['display_size'],10))\n",
        "print('50th Percentile(medain) of the display_size = ',np.percentile(df['display_size'],50))\n",
        "print('90th Percentile of the column display_size = ',np.percentile(df['display_size'],90))\n",
        "print('\\n\\n10th Percentile of the column price = ',np.percentile(df['price'],10))\n",
        "print('50th Percentile(medain) of the column price = ',np.percentile(df['price'],50))\n",
        "print('90th Percentile of the column price = ',np.percentile(df['price'],90))\n",
        "print('\\n\\n10th Percentile of the column discount_price = ',np.percentile(df['discount_price'],10))\n",
        "print('50th Percentile(medain) of the column discount_price = ',np.percentile(df['discount_price'],50))\n",
        "print('90th Percentile of the column discount_price = ',np.percentile(df['discount_price'],90))"
      ],
      "execution_count": null,
      "outputs": [
        {
          "output_type": "stream",
          "text": [
            "\n",
            "Percentile summary-\n",
            "\n",
            "\n",
            "10th Percentile of the column display_size =  13.3\n",
            "50th Percentile(medain) of the display_size =  14.0\n",
            "90th Percentile of the column display_size =  15.599999999999998\n",
            "\n",
            "\n",
            "10th Percentile of the column price =  1719.0\n",
            "50th Percentile(medain) of the column price =  3299.0\n",
            "90th Percentile of the column price =  6999.0\n",
            "\n",
            "\n",
            "10th Percentile of the column discount_price =  1499.0\n",
            "50th Percentile(medain) of the column discount_price =  3149.0\n",
            "90th Percentile of the column discount_price =  6910.999999999999\n"
          ],
          "name": "stdout"
        }
      ]
    },
    {
      "cell_type": "markdown",
      "metadata": {
        "id": "WrL5UudKfX8H"
      },
      "source": [
        "\n",
        "\n",
        "---\n",
        "\n"
      ]
    },
    {
      "cell_type": "markdown",
      "metadata": {
        "id": "VVxMZE3gQqQP"
      },
      "source": [
        "**Quertiles**"
      ]
    },
    {
      "cell_type": "markdown",
      "metadata": {
        "id": "8gyRu6ePRvnd"
      },
      "source": [
        "*   In statistics, a quartile is a type of quantile which divides the number of data points into four parts, or quarters, of more-or-less equal size. \n",
        "* The data must be ordered from smallest to largest to compute quartiles\n",
        "*  The first quartile (Q1) is defined as the middle number between the smallest number (minimum) and the median of the data set. It is also known as the lower or 25th empirical quartile, as 25% of the data is below this point.\n",
        "* The second quartile (Q2) is the median of a data set; thus 50% of the data lies below this point.\n",
        "* The third quartile (Q3) is the middle value between the median and the highest value (maximum) of the data set. It is known as the upper or 75th empirical quartile, as 75% of the data lies below this point.\n",
        "* df.quantile() Returns values at the given quantile over requested axis.\n",
        "\n"
      ]
    },
    {
      "cell_type": "code",
      "metadata": {
        "colab": {
          "base_uri": "https://localhost:8080/"
        },
        "id": "bvkz4RhnPrqv",
        "outputId": "56648172-55db-4555-b503-de600ed93027"
      },
      "source": [
        "print(\"\\nQuertile summary-\")\n",
        "print(\"\\n25% quertile (Lower quertile) of numeric columns-\\n \",df.quantile(q=0.25))\n",
        "print(\"\\n50% quertile (Middle quertile)of numeric columns-\\n\",df.quantile(q=0.5))\n",
        "print(\"\\n75% quertile (Upper quertile) of numeric columns-\\n\",df.quantile(q=0.75))"
      ],
      "execution_count": null,
      "outputs": [
        {
          "output_type": "stream",
          "text": [
            "\n",
            "Quertile summary-\n",
            "\n",
            "25% quertile (Lower quertile) of numeric columns-\n",
            "  display_size        13.3\n",
            "discount_price    2099.0\n",
            "price             2249.0\n",
            "Name: 0.25, dtype: float64\n",
            "\n",
            "50% quertile (Middle quertile)of numeric columns-\n",
            " display_size        14.0\n",
            "discount_price    3149.0\n",
            "price             3299.0\n",
            "Name: 0.5, dtype: float64\n",
            "\n",
            "75% quertile (Upper quertile) of numeric columns-\n",
            " display_size        15.6\n",
            "discount_price    4939.0\n",
            "price             5649.0\n",
            "Name: 0.75, dtype: float64\n"
          ],
          "name": "stdout"
        }
      ]
    },
    {
      "cell_type": "markdown",
      "metadata": {
        "id": "l6DKbpe0fZJe"
      },
      "source": [
        "\n",
        "\n",
        "---\n",
        "\n"
      ]
    },
    {
      "cell_type": "markdown",
      "metadata": {
        "id": "oeY1FW5hTFDY"
      },
      "source": [
        "**Boxplot**"
      ]
    },
    {
      "cell_type": "markdown",
      "metadata": {
        "id": "kpnHxTo-bKEA"
      },
      "source": [
        "\n",
        "\n",
        "* A boxplot is a standardized way of displaying the distribution of data based on a five number summary (“minimum”, first quartile (Q1), median, third quartile (Q3), and “maximum”).\n",
        "* Diffrent parts of boxplot are-\n",
        "*   median (Q2/50th Percentile): the middle value of the dataset.\n",
        "* first quartile (Q1/25th Percentile): the middle number between the smallest number (not the “minimum”) and the median of the dataset.\n",
        "* third quartile (Q3/75th Percentile): the middle value between the median and the highest value (not the “maximum”) of the dataset.\n",
        "* interquartile range (IQR): 25th to the 75th percentile.\n",
        "* “maximum”: Q3 + 1.5*IQR\n",
        "* “minimum”: Q1 -1.5*IQR\n",
        "* whiskers ( the two lines outside the box that extend to the highest and lowest observations.)\n",
        "* outliers (shown as black diamond)\n",
        "*  sns.boxplot() Draws a box plot to show distributions with respect to categories.\n",
        "* The below boxplot shows us that there are some outliers in discount_price and price columns\n",
        "\n",
        "\n",
        "\n"
      ]
    },
    {
      "cell_type": "code",
      "metadata": {
        "colab": {
          "base_uri": "https://localhost:8080/",
          "height": 337
        },
        "id": "1UGLBiR3SVzQ",
        "outputId": "f52906e2-6d99-4a04-d9cc-24240e9ab7ae"
      },
      "source": [
        "print(\"Boxplot for all numeric columns-\\n\\n\")\n",
        "sns.boxplot(data=df)"
      ],
      "execution_count": null,
      "outputs": [
        {
          "output_type": "stream",
          "text": [
            "Boxplot for all numeric columns-\n",
            "\n",
            "\n"
          ],
          "name": "stdout"
        },
        {
          "output_type": "execute_result",
          "data": {
            "text/plain": [
              "<matplotlib.axes._subplots.AxesSubplot at 0x7fdc313a6c10>"
            ]
          },
          "metadata": {
            "tags": []
          },
          "execution_count": 11
        },
        {
          "output_type": "display_data",
          "data": {
            "image/png": "[encoded data removed]",
            "text/plain": [
              "<Figure size 432x288 with 1 Axes>"
            ]
          },
          "metadata": {
            "tags": [],
            "needs_background": "light"
          }
        }
      ]
    },
    {
      "cell_type": "code",
      "metadata": {
        "colab": {
          "base_uri": "https://localhost:8080/",
          "height": 335
        },
        "id": "29PGbpQ6T4B0",
        "outputId": "096f261b-c630-4c60-8f6d-db20d9e003ac"
      },
      "source": [
        "print(\"Boxplot for column display_size-\\n\\n\")\n",
        "sns.boxplot(data=df['display_size'])"
      ],
      "execution_count": null,
      "outputs": [
        {
          "output_type": "stream",
          "text": [
            "Boxplot for column display_size-\n",
            "\n",
            "\n"
          ],
          "name": "stdout"
        },
        {
          "output_type": "execute_result",
          "data": {
            "text/plain": [
              "<matplotlib.axes._subplots.AxesSubplot at 0x7fdc30e46250>"
            ]
          },
          "metadata": {
            "tags": []
          },
          "execution_count": 12
        },
        {
          "output_type": "display_data",
          "data": {
            "image/png": "[encoded data removed]",
            "text/plain": [
              "<Figure size 432x288 with 1 Axes>"
            ]
          },
          "metadata": {
            "tags": [],
            "needs_background": "light"
          }
        }
      ]
    },
    {
      "cell_type": "markdown",
      "metadata": {
        "id": "iMHAq7L5ehXo"
      },
      "source": [
        "\n",
        "\n",
        "---\n",
        "\n",
        "---\n",
        "\n",
        "---\n",
        "\n",
        "\n",
        "\n",
        "\n",
        "\n"
      ]
    },
    {
      "cell_type": "markdown",
      "metadata": {
        "id": "J1_vUvXcLH-u"
      },
      "source": [
        "#Dataset Example - 5\n",
        "\n",
        "\n",
        "---\n",
        "\n",
        "\n"
      ]
    },
    {
      "cell_type": "markdown",
      "metadata": {
        "id": "Hv8QTLNCUCRd"
      },
      "source": [
        "**Importing packages**"
      ]
    },
    {
      "cell_type": "code",
      "metadata": {
        "id": "5LT6TBXcP_kq"
      },
      "source": [
        "import pandas as pd \n",
        "import numpy as np\n",
        "import matplotlib.pyplot as plt\n",
        "import seaborn as sns\n",
        "import scipy.stats as stats\n",
        "from scipy.stats import skew\n",
        "from scipy.stats import kurtosis\n",
        "pd.set_option(\"display.max_columns\",None)"
      ],
      "execution_count": null,
      "outputs": []
    },
    {
      "cell_type": "markdown",
      "metadata": {
        "id": "xhxga7OrUAIp"
      },
      "source": [
        "**Importing Dataset**"
      ]
    },
    {
      "cell_type": "code",
      "metadata": {
        "colab": {
          "base_uri": "https://localhost:8080/"
        },
        "id": "qIF01gh_QSQ3",
        "outputId": "2b93067f-b2ca-45b5-9b3f-8fded318c04d"
      },
      "source": [
        "%cd\n",
        "from google.colab import drive\n",
        "drive.mount('/content/gdrive')"
      ],
      "execution_count": null,
      "outputs": [
        {
          "output_type": "stream",
          "text": [
            "/root\n",
            "Drive already mounted at /content/gdrive; to attempt to forcibly remount, call drive.mount(\"/content/gdrive\", force_remount=True).\n"
          ],
          "name": "stdout"
        }
      ]
    },
    {
      "cell_type": "code",
      "metadata": {
        "colab": {
          "base_uri": "https://localhost:8080/",
          "height": 404
        },
        "id": "ekN2FN6UQSQ4",
        "outputId": "4bdadc3b-6bd1-4a82-a963-08d9c407972d"
      },
      "source": [
        "df=pd.read_excel('/content/gdrive/MyDrive/DS/iris.xlsx')\n",
        "df"
      ],
      "execution_count": null,
      "outputs": [
        {
          "output_type": "execute_result",
          "data": {
            "text/html": [
              "<div>\n",
              "<style scoped>\n",
              "    .dataframe tbody tr th:only-of-type {\n",
              "        vertical-align: middle;\n",
              "    }\n",
              "\n",
              "    .dataframe tbody tr th {\n",
              "        vertical-align: top;\n",
              "    }\n",
              "\n",
              "    .dataframe thead th {\n",
              "        text-align: right;\n",
              "    }\n",
              "</style>\n",
              "<table border=\"1\" class=\"dataframe\">\n",
              "  <thead>\n",
              "    <tr style=\"text-align: right;\">\n",
              "      <th></th>\n",
              "      <th>SepalLength</th>\n",
              "      <th>SepalWidth</th>\n",
              "      <th>PetalLength</th>\n",
              "      <th>PetalWidth</th>\n",
              "      <th>species</th>\n",
              "    </tr>\n",
              "  </thead>\n",
              "  <tbody>\n",
              "    <tr>\n",
              "      <th>0</th>\n",
              "      <td>5.1</td>\n",
              "      <td>3.5</td>\n",
              "      <td>1.4</td>\n",
              "      <td>0.2</td>\n",
              "      <td>Iris-setosa</td>\n",
              "    </tr>\n",
              "    <tr>\n",
              "      <th>1</th>\n",
              "      <td>4.9</td>\n",
              "      <td>3.0</td>\n",
              "      <td>1.4</td>\n",
              "      <td>0.2</td>\n",
              "      <td>Iris-setosa</td>\n",
              "    </tr>\n",
              "    <tr>\n",
              "      <th>2</th>\n",
              "      <td>4.7</td>\n",
              "      <td>3.2</td>\n",
              "      <td>1.3</td>\n",
              "      <td>0.2</td>\n",
              "      <td>Iris-setosa</td>\n",
              "    </tr>\n",
              "    <tr>\n",
              "      <th>3</th>\n",
              "      <td>4.6</td>\n",
              "      <td>3.1</td>\n",
              "      <td>1.5</td>\n",
              "      <td>0.2</td>\n",
              "      <td>Iris-setosa</td>\n",
              "    </tr>\n",
              "    <tr>\n",
              "      <th>4</th>\n",
              "      <td>5.0</td>\n",
              "      <td>3.6</td>\n",
              "      <td>1.4</td>\n",
              "      <td>0.2</td>\n",
              "      <td>Iris-setosa</td>\n",
              "    </tr>\n",
              "    <tr>\n",
              "      <th>...</th>\n",
              "      <td>...</td>\n",
              "      <td>...</td>\n",
              "      <td>...</td>\n",
              "      <td>...</td>\n",
              "      <td>...</td>\n",
              "    </tr>\n",
              "    <tr>\n",
              "      <th>141</th>\n",
              "      <td>6.7</td>\n",
              "      <td>3.0</td>\n",
              "      <td>5.2</td>\n",
              "      <td>2.3</td>\n",
              "      <td>Iris-virginica</td>\n",
              "    </tr>\n",
              "    <tr>\n",
              "      <th>142</th>\n",
              "      <td>6.3</td>\n",
              "      <td>2.5</td>\n",
              "      <td>5.0</td>\n",
              "      <td>1.9</td>\n",
              "      <td>Iris-virginica</td>\n",
              "    </tr>\n",
              "    <tr>\n",
              "      <th>143</th>\n",
              "      <td>6.5</td>\n",
              "      <td>3.0</td>\n",
              "      <td>5.2</td>\n",
              "      <td>2.0</td>\n",
              "      <td>Iris-virginica</td>\n",
              "    </tr>\n",
              "    <tr>\n",
              "      <th>144</th>\n",
              "      <td>6.2</td>\n",
              "      <td>3.4</td>\n",
              "      <td>5.4</td>\n",
              "      <td>2.3</td>\n",
              "      <td>Iris-virginica</td>\n",
              "    </tr>\n",
              "    <tr>\n",
              "      <th>145</th>\n",
              "      <td>5.9</td>\n",
              "      <td>3.0</td>\n",
              "      <td>5.1</td>\n",
              "      <td>1.8</td>\n",
              "      <td>Iris-virginica</td>\n",
              "    </tr>\n",
              "  </tbody>\n",
              "</table>\n",
              "<p>146 rows × 5 columns</p>\n",
              "</div>"
            ],
            "text/plain": [
              "     SepalLength  SepalWidth  PetalLength  PetalWidth           species\n",
              "0            5.1         3.5          1.4         0.2       Iris-setosa\n",
              "1            4.9         3.0          1.4         0.2       Iris-setosa\n",
              "2            4.7         3.2          1.3         0.2       Iris-setosa\n",
              "3            4.6         3.1          1.5         0.2       Iris-setosa\n",
              "4            5.0         3.6          1.4         0.2       Iris-setosa\n",
              "..           ...         ...          ...         ...               ...\n",
              "141          6.7         3.0          5.2         2.3    Iris-virginica\n",
              "142          6.3         2.5          5.0         1.9    Iris-virginica\n",
              "143          6.5         3.0          5.2         2.0    Iris-virginica\n",
              "144          6.2         3.4          5.4         2.3  Iris-virginica  \n",
              "145          5.9         3.0          5.1         1.8  Iris-virginica  \n",
              "\n",
              "[146 rows x 5 columns]"
            ]
          },
          "metadata": {
            "tags": []
          },
          "execution_count": 35
        }
      ]
    },
    {
      "cell_type": "markdown",
      "metadata": {
        "id": "_VvmLD_4To-o"
      },
      "source": [
        " **Measures of Central Tendency**\n",
        "\n"
      ]
    },
    {
      "cell_type": "markdown",
      "metadata": {
        "id": "DyP-vYYdT191"
      },
      "source": [
        "**Mean**\n",
        "\n",
        "\n"
      ]
    },
    {
      "cell_type": "code",
      "metadata": {
        "colab": {
          "base_uri": "https://localhost:8080/"
        },
        "id": "ajKH2VcpT4_Y",
        "outputId": "16e8bdb4-4fe6-4bf7-c0ea-3735900b6eaf"
      },
      "source": [
        "print('Mean of numeric columns-\\n',df.mean())"
      ],
      "execution_count": null,
      "outputs": [
        {
          "output_type": "stream",
          "text": [
            "Mean of numeric columns-\n",
            " SepalLength    5.790411\n",
            "SepalWidth     3.019863\n",
            "PetalLength    3.734390\n",
            "PetalWidth     1.186986\n",
            "dtype: float64\n"
          ],
          "name": "stdout"
        }
      ]
    },
    {
      "cell_type": "markdown",
      "metadata": {
        "id": "qJgK3cnfUGM3"
      },
      "source": [
        "**Trimmed Mean**"
      ]
    },
    {
      "cell_type": "code",
      "metadata": {
        "colab": {
          "base_uri": "https://localhost:8080/"
        },
        "id": "vo9qluETUIYU",
        "outputId": "e3a02f9b-39df-4a78-855b-361a4b14743b"
      },
      "source": [
        "print('Trimmed Mean of the column SepalLength = ',stats.trim_mean(df['SepalLength'],0.1))\n",
        "print('Trimmed Mean of the column SepalWidth = ',stats.trim_mean(df['SepalWidth'],0.1))\n",
        "print('Trimmed Mean of the column PetalLength = ',stats.trim_mean(df['PetalLength'],0.1))\n",
        "print('Trimmed Mean of the column PetalWidth = ',stats.trim_mean(df['PetalWidth'],0.1))"
      ],
      "execution_count": null,
      "outputs": [
        {
          "output_type": "stream",
          "text": [
            "Trimmed Mean of the column SepalLength =  5.786440677966102\n",
            "Trimmed Mean of the column SepalWidth =  3.020338983050847\n",
            "Trimmed Mean of the column PetalLength =  3.741703389830509\n",
            "Trimmed Mean of the column PetalWidth =  1.1737288135593218\n"
          ],
          "name": "stdout"
        }
      ]
    },
    {
      "cell_type": "markdown",
      "metadata": {
        "id": "DUTD6UdVXOWL"
      },
      "source": [
        "**Weighted Mean**"
      ]
    },
    {
      "cell_type": "code",
      "metadata": {
        "colab": {
          "base_uri": "https://localhost:8080/"
        },
        "id": "dGfGCrLJXS1T",
        "outputId": "9254695d-f793-4645-b12c-ec59273ff313"
      },
      "source": [
        "weights=[i for i in range(10,156)]\n",
        "print('Weighted Mean of the column SepalLength = ',np.average(df['SepalLength'],weights=weights))\n",
        "print('Weighted Mean of the column SepalWidth = ',np.average(df['SepalWidth'],weights=weights))\n",
        "print('Weighted Mean of the column PetalLength = ',np.average(df['PetalLength'],weights=weights))\n",
        "print('Weighted Mean of the column PetalWidth = ',np.average(df['PetalWidth'],weights=weights))"
      ],
      "execution_count": null,
      "outputs": [
        {
          "output_type": "stream",
          "text": [
            "Weighted Mean of the column SepalLength =  6.122681610626816\n",
            "Weighted Mean of the column SepalWidth =  2.9513408053134076\n",
            "Weighted Mean of the column PetalLength =  4.533803652968037\n",
            "Weighted Mean of the column PetalWidth =  1.5370029057700292\n"
          ],
          "name": "stdout"
        }
      ]
    },
    {
      "cell_type": "markdown",
      "metadata": {
        "id": "vIVUsp6aaYk1"
      },
      "source": [
        "**Median**"
      ]
    },
    {
      "cell_type": "code",
      "metadata": {
        "colab": {
          "base_uri": "https://localhost:8080/"
        },
        "id": "ntANSTSSabIf",
        "outputId": "77585fab-a97b-4a50-e051-d509b133eaf0"
      },
      "source": [
        "print('Median of numeric columns-\\n',df.median())"
      ],
      "execution_count": null,
      "outputs": [
        {
          "output_type": "stream",
          "text": [
            "Median of numeric columns-\n",
            " SepalLength    5.8\n",
            "SepalWidth     3.0\n",
            "PetalLength    4.3\n",
            "PetalWidth     1.3\n",
            "dtype: float64\n"
          ],
          "name": "stdout"
        }
      ]
    },
    {
      "cell_type": "markdown",
      "metadata": {
        "id": "1oCiaZc7af4d"
      },
      "source": [
        "**Mode**"
      ]
    },
    {
      "cell_type": "code",
      "metadata": {
        "colab": {
          "base_uri": "https://localhost:8080/"
        },
        "id": "Hj6myujualJB",
        "outputId": "f05dd285-523d-40f6-e805-8baa9ae66bb1"
      },
      "source": [
        "for i in df.columns:\n",
        "  print(\"\\nMode of column \"+i+\" -\\n\",df[i].mode())"
      ],
      "execution_count": null,
      "outputs": [
        {
          "output_type": "stream",
          "text": [
            "\n",
            "Mode of column SepalLength -\n",
            " 0    5.0\n",
            "1    5.1\n",
            "2    6.3\n",
            "dtype: float64\n",
            "\n",
            "Mode of column SepalWidth -\n",
            " 0    3.0\n",
            "dtype: float64\n",
            "\n",
            "Mode of column PetalLength -\n",
            " 0    1.5\n",
            "dtype: float64\n",
            "\n",
            "Mode of column PetalWidth -\n",
            " 0    0.2\n",
            "dtype: float64\n",
            "\n",
            "Mode of column species -\n",
            " 0    Iris-setosa\n",
            "dtype: object\n"
          ],
          "name": "stdout"
        }
      ]
    },
    {
      "cell_type": "markdown",
      "metadata": {
        "id": "wyYwOTNhatwD"
      },
      "source": [
        "**Measures of Variability**"
      ]
    },
    {
      "cell_type": "markdown",
      "metadata": {
        "id": "jsOM7m8faw01"
      },
      "source": [
        "**Standard Deviation**"
      ]
    },
    {
      "cell_type": "code",
      "metadata": {
        "colab": {
          "base_uri": "https://localhost:8080/"
        },
        "id": "cqhufiTnwKjB",
        "outputId": "5ad6fa43-d901-4c7d-83f9-aef751007d81"
      },
      "source": [
        "print(\"Standard deviation of columns SepalLength, SepalWidth, PetalLength and PetalWidth \")\n",
        "print(df.std())"
      ],
      "execution_count": null,
      "outputs": [
        {
          "output_type": "stream",
          "text": [
            "Standard deviation of columns SepalLength, SepalWidth, PetalLength and PetalWidth \n",
            "SepalLength    0.951900\n",
            "SepalWidth     0.498635\n",
            "PetalLength    1.777466\n",
            "PetalWidth     0.761963\n",
            "dtype: float64\n"
          ],
          "name": "stdout"
        }
      ]
    },
    {
      "cell_type": "markdown",
      "metadata": {
        "id": "VFrUdXkyay32"
      },
      "source": [
        "**Variance**"
      ]
    },
    {
      "cell_type": "code",
      "metadata": {
        "colab": {
          "base_uri": "https://localhost:8080/"
        },
        "id": "a083Y-GTbwBJ",
        "outputId": "d5a9ff3f-ffba-4a08-d69b-55e1e5588d52"
      },
      "source": [
        "print(\"Variance of columns SepalLength, SepalWidth, PetalLength and PetalWidth  \")\n",
        "print(df.var())"
      ],
      "execution_count": null,
      "outputs": [
        {
          "output_type": "stream",
          "text": [
            "Variance of columns SepalLength, SepalWidth, PetalLength and PetalWidth  \n",
            "SepalLength    0.906114\n",
            "SepalWidth     0.248637\n",
            "PetalLength    3.159386\n",
            "PetalWidth     0.580588\n",
            "dtype: float64\n"
          ],
          "name": "stdout"
        }
      ]
    },
    {
      "cell_type": "markdown",
      "metadata": {
        "id": "B0YNLonwa0j4"
      },
      "source": [
        "**Min and Max Variables**\n"
      ]
    },
    {
      "cell_type": "code",
      "metadata": {
        "colab": {
          "base_uri": "https://localhost:8080/"
        },
        "id": "qizKX3hvb0Jn",
        "outputId": "f7902e28-2ffd-486c-d57b-b8d540027b55"
      },
      "source": [
        "print(\"The Minimum value are\" )\n",
        "print(df.min())\n",
        "print(\"The Maximum value are\" )\n",
        "print(df.max())"
      ],
      "execution_count": null,
      "outputs": [
        {
          "output_type": "stream",
          "text": [
            "The Minimum value are\n",
            "SepalLength                  0\n",
            "SepalWidth                   0\n",
            "PetalLength                  0\n",
            "PetalWidth                   0\n",
            "species        IRIS-VERSICOLOR\n",
            "dtype: object\n",
            "The Maximum value are\n",
            "SepalLength       7.9\n",
            "SepalWidth        4.4\n",
            "PetalLength       6.9\n",
            "PetalWidth        2.5\n",
            "species        setosa\n",
            "dtype: object\n"
          ],
          "name": "stdout"
        }
      ]
    },
    {
      "cell_type": "markdown",
      "metadata": {
        "id": "cgy_ihcJa3Bs"
      },
      "source": [
        "**Skewness**"
      ]
    },
    {
      "cell_type": "code",
      "metadata": {
        "colab": {
          "base_uri": "https://localhost:8080/"
        },
        "id": "LmL4mocmwKjC",
        "outputId": "e8600528-cb75-4c65-b7ff-08729a0d0a30"
      },
      "source": [
        "SepalLength_skew=skew(df[\"SepalLength\"])\n",
        "SepalWidth_skew=skew(df[\"SepalWidth\"])\n",
        "PetalLength_skew=skew(df[\"PetalLength\"])\n",
        "PetalWidth_skew=skew(df[\"PetalWidth\"])\n",
        "print(\"The skewness of column SepalLength is : \",SepalLength_skew)\n",
        "print(\"The skewness of column SepalWidth is : \",SepalWidth_skew)\n",
        "print(\"The skewness of column PetalLength is : \",PetalLength_skew)\n",
        "print(\"The skewness of column PetalWidth is : \",PetalWidth_skew)"
      ],
      "execution_count": null,
      "outputs": [
        {
          "output_type": "stream",
          "text": [
            "The skewness of column SepalLength is :  -1.2515477210397683\n",
            "The skewness of column SepalWidth is :  -1.2041348306576325\n",
            "The skewness of column PetalLength is :  -0.2827664375692608\n",
            "The skewness of column PetalWidth is :  -0.10721755066546522\n"
          ],
          "name": "stdout"
        }
      ]
    },
    {
      "cell_type": "markdown",
      "metadata": {
        "id": "QO7-8GMQa4n5"
      },
      "source": [
        "**Kurtosis**"
      ]
    },
    {
      "cell_type": "code",
      "metadata": {
        "colab": {
          "base_uri": "https://localhost:8080/"
        },
        "id": "OVEwuZ4nwKjD",
        "outputId": "fe1e8ff3-4abe-4078-81bc-b734d09494c7"
      },
      "source": [
        "SepalLength_kurtosis=kurtosis(df[\"SepalLength\"])\n",
        "SepalWidth_kurtosis=kurtosis(df[\"SepalWidth\"])\n",
        "PetalLength_kurtosis=kurtosis(df[\"PetalLength\"])\n",
        "PetalWidth_kurtosis=kurtosis(df[\"PetalWidth\"])\n",
        "print(\"The kurtosis of column SepalLength is : \",SepalLength_kurtosis)\n",
        "print(\"The kurtosis of column SepalWidth is : \",SepalWidth_kurtosis)\n",
        "print(\"The kurtosis of column PetalLength is : \",PetalLength_kurtosis)\n",
        "print(\"The kurtosis of column PetalWidth is : \",PetalWidth_kurtosis)"
      ],
      "execution_count": null,
      "outputs": [
        {
          "output_type": "stream",
          "text": [
            "The kurtosis of column SepalLength is :  7.940546956976549\n",
            "The kurtosis of column SepalWidth is :  8.248987661959049\n",
            "The kurtosis of column PetalLength is :  -1.3471178620291377\n",
            "The kurtosis of column PetalWidth is :  -1.3401951626371529\n"
          ],
          "name": "stdout"
        }
      ]
    },
    {
      "cell_type": "markdown",
      "metadata": {
        "id": "WZhrZRTza7TW"
      },
      "source": [
        "**Range**"
      ]
    },
    {
      "cell_type": "code",
      "metadata": {
        "colab": {
          "base_uri": "https://localhost:8080/"
        },
        "id": "pytZ2u13wKjD",
        "outputId": "28e9706a-ad34-4ba0-b6ff-853b61ef50e8"
      },
      "source": [
        "SepalLength_range=(df[\"SepalLength\"].max())-(df[\"SepalLength\"].min())\n",
        "print(\"The range of column SepalLength is :\",SepalLength_range)"
      ],
      "execution_count": null,
      "outputs": [
        {
          "output_type": "stream",
          "text": [
            "The range of column SepalLength is : 7.9\n"
          ],
          "name": "stdout"
        }
      ]
    },
    {
      "cell_type": "code",
      "metadata": {
        "colab": {
          "base_uri": "https://localhost:8080/"
        },
        "id": "x8QvB4HBi6V7",
        "outputId": "43aa5697-cb24-454f-d07d-b2f37654d9c4"
      },
      "source": [
        "SepalWidth_range=(df[\"SepalWidth\"].max())-(df[\"SepalWidth\"].min())\n",
        "print(\"The range of column SepalWidth is :\",SepalWidth_range)"
      ],
      "execution_count": null,
      "outputs": [
        {
          "output_type": "stream",
          "text": [
            "The range of column SepalWidth is : 4.4\n"
          ],
          "name": "stdout"
        }
      ]
    },
    {
      "cell_type": "code",
      "metadata": {
        "colab": {
          "base_uri": "https://localhost:8080/"
        },
        "id": "QA-HCPD2i6rR",
        "outputId": "17480389-0660-4d7c-ad3f-9bfdbc72b3bb"
      },
      "source": [
        "PetalLength_range=(df[\"PetalLength\"].max())-(df[\"PetalLength\"].min())\n",
        "print(\"The range of column PetalLength is :\",PetalLength_range)"
      ],
      "execution_count": null,
      "outputs": [
        {
          "output_type": "stream",
          "text": [
            "The range of column PetalLength is : 6.9\n"
          ],
          "name": "stdout"
        }
      ]
    },
    {
      "cell_type": "code",
      "metadata": {
        "colab": {
          "base_uri": "https://localhost:8080/"
        },
        "id": "xXLjzYPqi608",
        "outputId": "67fad72e-ee8e-4156-f34f-7d04eafd26a0"
      },
      "source": [
        "PetalWidth_range=(df[\"PetalWidth\"].max())-(df[\"PetalWidth\"].min())\n",
        "print(\"The range of column PetalWidth is :\",PetalWidth_range)"
      ],
      "execution_count": null,
      "outputs": [
        {
          "output_type": "stream",
          "text": [
            "The range of column PetalWidth is : 2.5\n"
          ],
          "name": "stdout"
        }
      ]
    },
    {
      "cell_type": "markdown",
      "metadata": {
        "id": "mQ1HcgVJa_Wt"
      },
      "source": [
        "**Quertiles and Percentiles**"
      ]
    },
    {
      "cell_type": "code",
      "metadata": {
        "colab": {
          "base_uri": "https://localhost:8080/",
          "height": 286
        },
        "id": "MK9Zk_gjm7dy",
        "outputId": "e9e06fb8-496a-4ec0-d084-335b776de039"
      },
      "source": [
        "des_r = df.describe()\n",
        "des_r"
      ],
      "execution_count": null,
      "outputs": [
        {
          "output_type": "execute_result",
          "data": {
            "text/html": [
              "<div>\n",
              "<style scoped>\n",
              "    .dataframe tbody tr th:only-of-type {\n",
              "        vertical-align: middle;\n",
              "    }\n",
              "\n",
              "    .dataframe tbody tr th {\n",
              "        vertical-align: top;\n",
              "    }\n",
              "\n",
              "    .dataframe thead th {\n",
              "        text-align: right;\n",
              "    }\n",
              "</style>\n",
              "<table border=\"1\" class=\"dataframe\">\n",
              "  <thead>\n",
              "    <tr style=\"text-align: right;\">\n",
              "      <th></th>\n",
              "      <th>SepalLength</th>\n",
              "      <th>SepalWidth</th>\n",
              "      <th>PetalLength</th>\n",
              "      <th>PetalWidth</th>\n",
              "    </tr>\n",
              "  </thead>\n",
              "  <tbody>\n",
              "    <tr>\n",
              "      <th>count</th>\n",
              "      <td>146.000000</td>\n",
              "      <td>146.000000</td>\n",
              "      <td>146.000000</td>\n",
              "      <td>146.000000</td>\n",
              "    </tr>\n",
              "    <tr>\n",
              "      <th>mean</th>\n",
              "      <td>5.790411</td>\n",
              "      <td>3.019863</td>\n",
              "      <td>3.734390</td>\n",
              "      <td>1.186986</td>\n",
              "    </tr>\n",
              "    <tr>\n",
              "      <th>std</th>\n",
              "      <td>0.951900</td>\n",
              "      <td>0.498635</td>\n",
              "      <td>1.777466</td>\n",
              "      <td>0.761963</td>\n",
              "    </tr>\n",
              "    <tr>\n",
              "      <th>min</th>\n",
              "      <td>0.000000</td>\n",
              "      <td>0.000000</td>\n",
              "      <td>0.000000</td>\n",
              "      <td>0.000000</td>\n",
              "    </tr>\n",
              "    <tr>\n",
              "      <th>25%</th>\n",
              "      <td>5.100000</td>\n",
              "      <td>2.800000</td>\n",
              "      <td>1.600000</td>\n",
              "      <td>0.300000</td>\n",
              "    </tr>\n",
              "    <tr>\n",
              "      <th>50%</th>\n",
              "      <td>5.800000</td>\n",
              "      <td>3.000000</td>\n",
              "      <td>4.300000</td>\n",
              "      <td>1.300000</td>\n",
              "    </tr>\n",
              "    <tr>\n",
              "      <th>75%</th>\n",
              "      <td>6.400000</td>\n",
              "      <td>3.300000</td>\n",
              "      <td>5.100000</td>\n",
              "      <td>1.800000</td>\n",
              "    </tr>\n",
              "    <tr>\n",
              "      <th>max</th>\n",
              "      <td>7.900000</td>\n",
              "      <td>4.400000</td>\n",
              "      <td>6.900000</td>\n",
              "      <td>2.500000</td>\n",
              "    </tr>\n",
              "  </tbody>\n",
              "</table>\n",
              "</div>"
            ],
            "text/plain": [
              "       SepalLength  SepalWidth  PetalLength  PetalWidth\n",
              "count   146.000000  146.000000   146.000000  146.000000\n",
              "mean      5.790411    3.019863     3.734390    1.186986\n",
              "std       0.951900    0.498635     1.777466    0.761963\n",
              "min       0.000000    0.000000     0.000000    0.000000\n",
              "25%       5.100000    2.800000     1.600000    0.300000\n",
              "50%       5.800000    3.000000     4.300000    1.300000\n",
              "75%       6.400000    3.300000     5.100000    1.800000\n",
              "max       7.900000    4.400000     6.900000    2.500000"
            ]
          },
          "metadata": {
            "tags": []
          },
          "execution_count": 88
        }
      ]
    },
    {
      "cell_type": "markdown",
      "metadata": {
        "id": "0pYHmkrUbEOd"
      },
      "source": [
        "**Boxplot**"
      ]
    },
    {
      "cell_type": "code",
      "metadata": {
        "colab": {
          "base_uri": "https://localhost:8080/",
          "height": 1000
        },
        "id": "jG9pjeqZkcIE",
        "outputId": "c0d47cbb-3457-4fee-b99d-6077d975ce6c"
      },
      "source": [
        "# plotting boxplots\n",
        "colNames = df.columns.tolist() # make a list of columns present in dataframes\n",
        "for colName in colNames:\n",
        "    if df[colName].dtype == \"object\" or colName == 'id': # skip Id and string columns\n",
        "        continue\n",
        "    plt.figure()\n",
        "    sns.boxplot(y=df[colName], color='g') # plot the boxplot\n",
        "    plt.title(colName) # provide title\n",
        "    plt.ylabel(colName) # name Y axis\n",
        "    plt.xlabel('Bins') # name X axis\n",
        "    plt.show()"
      ],
      "execution_count": null,
      "outputs": [
        {
          "output_type": "display_data",
          "data": {
            "image/png": "[encoded data removed]",
            "text/plain": [
              "<Figure size 432x288 with 1 Axes>"
            ]
          },
          "metadata": {
            "tags": [],
            "needs_background": "light"
          }
        },
        {
          "output_type": "display_data",
          "data": {
            "image/png": "[encoded data removed]",
            "text/plain": [
              "<Figure size 432x288 with 1 Axes>"
            ]
          },
          "metadata": {
            "tags": [],
            "needs_background": "light"
          }
        },
        {
          "output_type": "display_data",
          "data": {
            "image/png": "[encoded data removed]",
            "text/plain": [
              "<Figure size 432x288 with 1 Axes>"
            ]
          },
          "metadata": {
            "tags": [],
            "needs_background": "light"
          }
        },
        {
          "output_type": "display_data",
          "data": {
            "image/png": "[encoded data removed]",
            "text/plain": [
              "<Figure size 432x288 with 1 Axes>"
            ]
          },
          "metadata": {
            "tags": [],
            "needs_background": "light"
          }
        }
      ]
    }
  ]
}