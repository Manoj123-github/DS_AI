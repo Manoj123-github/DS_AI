{
  "nbformat": 4,
  "nbformat_minor": 0,
  "metadata": {
    "colab": {
      "name": "FDS_LAB_Practical_5_Generation_of_Random_Variable.ipynb",
      "provenance": [],
      "collapsed_sections": [],
      "include_colab_link": true
    },
    "kernelspec": {
      "name": "python3",
      "display_name": "Python 3"
    }
  },
  "cells": [
    {
      "cell_type": "markdown",
      "metadata": {
        "id": "view-in-github",
        "colab_type": "text"
      },
      "source": [
        "<a href=\"https://colab.research.google.com/github/Sadiksha08/FDS-Lab-Work/blob/main/FDS_LAB_Practical_5_Generation_of_Random_Variable.ipynb\" target=\"_parent\"><img src=\"https://colab.research.google.com/assets/colab-badge.svg\" alt=\"Open In Colab\"/></a>"
      ]
    },
    {
      "cell_type": "markdown",
      "metadata": {
        "id": "I8ztAi3npNSN"
      },
      "source": [
        "**PRACTICAL NO. : 5**\r\n",
        "\r\n",
        "**Generation of Random Variable**\r\n",
        "1. Discrete Random Variable\r\n",
        "2. Continuous Random Variable \r\n",
        "\r\n",
        "\r\n"
      ]
    },
    {
      "cell_type": "markdown",
      "metadata": {
        "id": "vtNf1mH4q9wF"
      },
      "source": [
        "**RANDOM VARIABLE**\r\n",
        "\r\n",
        "A Random Variable, usually written as X, is a variable whose possible values are numerical outcomes of a random phenomenon.                                                                 \r\n",
        "There are two types of random variables,**Discrete Random Variables** and **Continuous Random Variables**."
      ]
    },
    {
      "cell_type": "markdown",
      "metadata": {
        "id": "fsBaV3lyzCd6"
      },
      "source": [
        "1. **DISCRETE RANDOM VARIABLE**                                                                   \r\n",
        "*   A discrete random variable is one which may take on only a countable number of distinct values such as 0,1,2,3,4,.............\r\n",
        "*   Discrete random variables are usually (but not necessarily) counts.\r\n",
        "*   Examples :\r\n",
        "    \r\n",
        "    i.    number of children in a family.\r\n",
        "    \r\n",
        "    ii.   the number of patients a doctor sees in one day.  \r\n",
        "      \r\n",
        "    iii.  the number of defective bulbs in a box of ten.\r\n",
        "\r\n"
      ]
    },
    {
      "cell_type": "markdown",
      "metadata": {
        "id": "yeMc4GqC2NL-"
      },
      "source": [
        "*   **Discrete Random Variable**\r\n",
        "    1. Number of Sales\r\n",
        "    2. Number of Calls\r\n",
        "    3. Shares of stock\r\n",
        "    4. People in line\r\n",
        "    5. Mistakes per page\r\n",
        "\r\n",
        "\r\n",
        "\r\n",
        "\r\n",
        "\r\n",
        "\r\n",
        "\r\n",
        "\r\n"
      ]
    },
    {
      "cell_type": "markdown",
      "metadata": {
        "id": "9zPHWpLyjUKf"
      },
      "source": [
        "1.   **ROLE IN STATISTICAL MODELLING**                                            \r\n",
        "=>  It is used to predict results of experiment under assumptions. \r\n",
        "2.  **ROLE IN MACHINE LEARNING (ML)**                                            \r\n",
        "=>  Discrete Random Variable are used in ML, most notably in the modeling of binary and multi-class classification problems, but also n evaluating the performance for binary classification of confidence intervals.\r\n",
        "3.   **ROLE IN DEEP LEARNING**                                                                       \r\n",
        "=>  Discrete Random Variable is required in the choice of activation functions in the output layer of deep learning neural networks for classification tasks and selecting an loss function.\r\n",
        "4.   **ROLE IN NATURAL LANGUAGE PROCESSING (NLP)**                                                                                                                                                  \r\n",
        "=>  Discrete Random Variable is used in the modeling of the distribution of words in text for NLP\r\n"
      ]
    },
    {
      "cell_type": "markdown",
      "metadata": {
        "id": "5jA0yOYtBqAy"
      },
      "source": [
        "**EXAMPLE 1**\r\n",
        "\r\n",
        "The outcome of a dice roll"
      ]
    },
    {
      "cell_type": "code",
      "metadata": {
        "id": "etp5ZGWFBu0l"
      },
      "source": [
        "import numpy as np\r\n",
        "import matplotlib.pyplot as plt\r\n",
        "from numpy import random\r\n",
        "%matplotlib inline"
      ],
      "execution_count": null,
      "outputs": []
    },
    {
      "cell_type": "code",
      "metadata": {
        "colab": {
          "base_uri": "https://localhost:8080/",
          "height": 296
        },
        "id": "wlUl0znwBzL6",
        "outputId": "cfa80855-4bc1-4f22-a618-b42f4c038566"
      },
      "source": [
        "def random_variable_of_dice_roll():\r\n",
        "  return random.randint(1, 7)\r\n",
        "num_trials = range(100,10000, 10)\r\n",
        "avgs = []\r\n",
        "for num_trial in num_trials:\r\n",
        "  trials = []\r\n",
        "  for trial in range(1,num_trial):\r\n",
        "    trials.append( random_variable_of_dice_roll() )\r\n",
        "  avgs.append(sum(trials)/float(num_trial))\r\n",
        "\r\n",
        "plt.plot(num_trials, avgs)\r\n",
        "plt.xlabel('Number of Trials')\r\n",
        "plt.ylabel(\"Average\")"
      ],
      "execution_count": null,
      "outputs": [
        {
          "output_type": "execute_result",
          "data": {
            "text/plain": [
              "Text(0, 0.5, 'Average')"
            ]
          },
          "metadata": {
            "tags": []
          },
          "execution_count": 24
        },
        {
          "output_type": "display_data",
          "data": {
            "image/png": "[encoded data removed]",
            "text/plain": [
              "<Figure size 432x288 with 1 Axes>"
            ]
          },
          "metadata": {
            "tags": [],
            "needs_background": "light"
          }
        }
      ]
    },
    {
      "cell_type": "code",
      "metadata": {
        "colab": {
          "base_uri": "https://localhost:8080/"
        },
        "id": "ik2RhzMrB4wO",
        "outputId": "02c532e8-7b20-430f-bab6-0d3c616c0b7a"
      },
      "source": [
        "print(trials)"
      ],
      "execution_count": null,
      "outputs": [
        {
          "output_type": "stream",
          "text": [
            "[3, 5, 3, 4, 4, 2, 2, 5, 3, 4, 6, 4, 5, 5, 4, 1, 4, 5, 5, 4, 6, 4, 1, 2, 5, 1, 4, 5, 3, 2, 6, 6, 2, 4, 1, 6, 2, 2, 4, 6, 4, 1, 6, 3, 1, 4, 5, 3, 6, 4, 2, 6, 4, 6, 5, 4, 1, 1, 3, 1, 1, 2, 6, 4, 1, 1, 6, 1, 6, 1, 2, 6, 4, 6, 2, 4, 1, 4, 4, 5, 5, 5, 2, 1, 3, 4, 6, 1, 2, 6, 3, 2, 3, 3, 3, 6, 3, 1, 2, 1, 6, 5, 6, 2, 3, 2, 6, 5, 6, 4, 2, 2, 2, 1, 1, 3, 6, 3, 6, 1, 3, 3, 4, 4, 6, 6, 1, 2, 1, 1, 1, 2, 2, 6, 6, 4, 2, 1, 3, 5, 3, 5, 4, 1, 6, 2, 4, 3, 5, 5, 5, 4, 6, 6, 2, 6, 1, 6, 4, 2, 4, 2, 5, 4, 1, 5, 1, 1, 1, 1, 1, 4, 1, 1, 4, 6, 1, 4, 2, 1, 6, 1, 2, 2, 3, 6, 1, 2, 6, 3, 1, 5, 2, 5, 2, 5, 1, 2, 6, 5, 2, 6, 2, 3, 2, 2, 5, 1, 1, 4, 4, 6, 1, 6, 6, 3, 4, 2, 1, 5, 1, 4, 5, 2, 4, 3, 1, 4, 4, 1, 3, 6, 6, 3, 1, 6, 6, 2, 1, 3, 2, 4, 5, 6, 6, 4, 4, 2, 2, 6, 1, 5, 2, 2, 6, 2, 3, 2, 1, 4, 1, 2, 5, 2, 6, 5, 5, 5, 6, 3, 5, 2, 5, 6, 3, 4, 6, 6, 4, 1, 3, 1, 2, 1, 3, 4, 3, 3, 5, 3, 4, 1, 4, 6, 5, 2, 6, 1, 6, 4, 5, 4, 1, 4, 6, 3, 4, 1, 1, 6, 3, 6, 3, 5, 3, 4, 6, 4, 6, 1, 3, 3, 3, 1, 6, 4, 5, 3, 1, 4, 4, 6, 1, 6, 6, 2, 1, 3, 3, 2, 3, 1, 5, 2, 3, 1, 1, 6, 3, 1, 3, 6, 4, 2, 2, 5, 4, 3, 1, 5, 6, 3, 3, 3, 2, 1, 5, 5, 5, 6, 5, 3, 1, 4, 1, 6, 4, 1, 4, 4, 5, 2, 6, 2, 5, 6, 1, 6, 3, 5, 6, 6, 1, 5, 6, 1, 2, 3, 5, 3, 5, 1, 1, 3, 1, 1, 2, 4, 4, 3, 6, 1, 3, 3, 5, 2, 3, 1, 3, 2, 4, 6, 4, 1, 5, 1, 2, 2, 2, 3, 6, 6, 3, 5, 1, 4, 2, 6, 2, 5, 5, 4, 3, 4, 2, 2, 4, 3, 5, 5, 6, 2, 1, 6, 5, 2, 6, 3, 1, 1, 5, 1, 6, 4, 3, 1, 2, 3, 6, 5, 2, 3, 3, 2, 6, 3, 5, 5, 6, 2, 5, 1, 3, 5, 3, 2, 6, 5, 4, 1, 5, 3, 5, 3, 2, 6, 3, 6, 5, 2, 2, 2, 6, 4, 3, 4, 3, 1, 1, 2, 6, 1, 5, 3, 3, 5, 4, 4, 5, 6, 1, 3, 2, 6, 4, 6, 5, 5, 2, 3, 4, 2, 1, 2, 2, 2, 5, 2, 1, 1, 1, 6, 3, 3, 6, 2, 1, 5, 5, 2, 3, 5, 2, 2, 1, 5, 3, 5, 5, 3, 1, 1, 2, 4, 3, 5, 2, 1, 1, 3, 5, 6, 4, 6, 3, 2, 6, 5, 2, 1, 3, 4, 6, 2, 6, 2, 1, 2, 5, 4, 4, 5, 4, 2, 1, 2, 3, 3, 1, 4, 5, 5, 2, 4, 1, 3, 6, 5, 3, 1, 4, 2, 5, 2, 1, 4, 4, 2, 4, 6, 5, 3, 1, 1, 5, 5, 4, 5, 4, 3, 1, 2, 5, 1, 1, 6, 3, 6, 1, 2, 2, 6, 3, 5, 2, 4, 2, 2, 1, 1, 5, 6, 3, 3, 1, 3, 3, 4, 4, 6, 1, 4, 1, 1, 5, 6, 2, 5, 5, 2, 1, 1, 5, 4, 2, 3, 3, 3, 3, 6, 4, 6, 5, 1, 2, 6, 2, 3, 5, 3, 1, 2, 3, 4, 5, 2, 5, 6, 2, 1, 1, 5, 4, 3, 3, 5, 3, 4, 3, 3, 2, 3, 6, 3, 2, 5, 2, 4, 2, 6, 1, 4, 4, 6, 6, 5, 6, 1, 1, 5, 5, 1, 1, 3, 1, 5, 3, 2, 4, 2, 5, 2, 4, 6, 5, 1, 6, 5, 3, 5, 5, 3, 5, 4, 4, 2, 1, 2, 6, 6, 5, 1, 6, 1, 4, 2, 5, 6, 2, 4, 3, 5, 2, 1, 4, 4, 5, 3, 6, 4, 2, 2, 4, 5, 1, 1, 3, 3, 4, 4, 6, 4, 6, 5, 2, 2, 6, 4, 2, 4, 2, 6, 4, 1, 5, 6, 6, 3, 3, 2, 5, 3, 4, 5, 4, 1, 2, 1, 4, 4, 2, 3, 3, 4, 4, 1, 3, 3, 3, 1, 4, 2, 4, 4, 3, 1, 3, 5, 2, 5, 3, 2, 2, 6, 6, 1, 2, 4, 3, 5, 6, 1, 5, 2, 2, 6, 4, 4, 6, 4, 2, 3, 6, 1, 2, 2, 1, 5, 5, 1, 5, 4, 4, 6, 6, 1, 5, 6, 4, 3, 3, 6, 5, 5, 1, 3, 1, 5, 6, 1, 2, 5, 1, 4, 3, 1, 6, 2, 2, 2, 2, 2, 5, 3, 4, 1, 5, 6, 2, 4, 1, 3, 1, 3, 6, 6, 3, 5, 3, 4, 3, 1, 6, 4, 2, 4, 6, 1, 5, 1, 6, 4, 5, 1, 3, 3, 2, 2, 2, 3, 5, 5, 3, 2, 6, 3, 6, 3, 6, 1, 6, 2, 2, 5, 4, 6, 3, 6, 5, 3, 1, 5, 2, 4, 5, 4, 4, 1, 1, 4, 2, 2, 3, 2, 2, 4, 4, 4, 2, 5, 4, 6, 6, 3, 3, 4, 1, 3, 3, 3, 5, 2, 2, 6, 4, 1, 2, 2, 4, 4, 6, 4, 1, 3, 5, 4, 1, 6, 2, 2, 5, 1, 2, 2, 4, 3, 1, 6, 2, 2, 3, 6, 6, 5, 6, 5, 3, 3, 5, 2, 6, 5, 4, 5, 4, 3, 4, 6, 1, 5, 1, 2, 6, 6, 5, 1, 6, 3, 5, 5, 1, 1, 1, 4, 1, 4, 4, 5, 1, 3, 2, 4, 5, 6, 6, 4, 6, 5, 5, 2, 5, 1, 1, 1, 6, 5, 1, 2, 1, 1, 3, 4, 3, 4, 3, 3, 5, 2, 6, 4, 6, 1, 2, 1, 4, 4, 1, 5, 1, 6, 1, 3, 6, 6, 5, 4, 6, 4, 6, 6, 2, 6, 1, 3, 6, 2, 1, 6, 3, 4, 5, 3, 4, 3, 5, 4, 5, 5, 4, 1, 4, 2, 4, 2, 4, 5, 5, 6, 1, 3, 5, 5, 6, 3, 5, 6, 3, 6, 1, 4, 3, 1, 5, 6, 3, 6, 1, 1, 2, 2, 5, 2, 4, 3, 3, 3, 3, 3, 3, 1, 1, 4, 3, 3, 2, 2, 1, 4, 1, 6, 2, 2, 6, 4, 5, 2, 1, 4, 2, 6, 3, 5, 5, 3, 5, 3, 2, 4, 1, 1, 4, 6, 2, 6, 1, 2, 2, 5, 4, 4, 1, 4, 2, 5, 3, 6, 1, 4, 3, 1, 4, 2, 1, 4, 5, 3, 5, 2, 2, 2, 5, 5, 2, 1, 5, 6, 2, 5, 6, 1, 6, 1, 6, 6, 5, 5, 4, 3, 3, 6, 6, 5, 6, 4, 5, 5, 6, 2, 4, 3, 4, 6, 4, 1, 4, 1, 5, 3, 4, 5, 4, 1, 6, 5, 6, 1, 2, 1, 2, 2, 4, 4, 3, 1, 4, 3, 3, 1, 1, 5, 4, 6, 1, 4, 3, 6, 6, 6, 1, 6, 4, 4, 1, 1, 2, 5, 3, 6, 5, 3, 2, 4, 5, 1, 4, 3, 5, 4, 6, 6, 6, 3, 4, 2, 2, 2, 2, 5, 4, 2, 6, 5, 6, 4, 3, 5, 3, 4, 2, 2, 2, 1, 1, 5, 1, 6, 5, 4, 4, 3, 3, 4, 4, 6, 1, 6, 5, 2, 5, 3, 3, 1, 3, 2, 2, 3, 3, 1, 2, 2, 1, 5, 2, 5, 6, 3, 4, 5, 2, 4, 4, 5, 1, 5, 6, 2, 1, 2, 2, 3, 2, 6, 3, 4, 5, 5, 3, 2, 4, 4, 4, 4, 4, 4, 2, 5, 4, 2, 4, 3, 5, 6, 4, 2, 4, 6, 1, 6, 5, 4, 1, 3, 6, 4, 4, 4, 5, 6, 2, 2, 3, 2, 4, 2, 5, 2, 1, 2, 4, 6, 1, 1, 2, 3, 5, 3, 5, 6, 5, 2, 2, 3, 5, 2, 4, 1, 3, 6, 2, 3, 2, 3, 3, 2, 6, 5, 5, 4, 2, 3, 4, 6, 2, 2, 2, 4, 5, 3, 6, 2, 2, 2, 4, 3, 4, 6, 4, 6, 3, 5, 3, 5, 3, 5, 3, 2, 6, 4, 2, 1, 5, 6, 5, 3, 5, 1, 1, 3, 6, 3, 1, 1, 4, 3, 1, 3, 5, 2, 3, 3, 3, 4, 3, 5, 3, 6, 5, 6, 2, 3, 1, 3, 1, 1, 2, 3, 6, 5, 1, 6, 2, 1, 3, 1, 1, 3, 5, 6, 4, 5, 5, 5, 4, 2, 1, 6, 5, 3, 5, 5, 3, 6, 3, 2, 2, 5, 1, 2, 4, 4, 3, 6, 3, 3, 1, 5, 2, 4, 1, 2, 5, 1, 5, 4, 5, 1, 6, 2, 1, 3, 5, 6, 4, 3, 4, 5, 3, 3, 4, 2, 1, 2, 2, 2, 1, 5, 3, 5, 4, 4, 3, 6, 2, 6, 5, 6, 4, 2, 6, 2, 4, 2, 3, 5, 5, 5, 5, 4, 3, 6, 3, 1, 4, 6, 1, 5, 6, 2, 4, 2, 1, 6, 4, 2, 4, 3, 6, 5, 5, 1, 2, 3, 3, 3, 1, 1, 2, 1, 4, 2, 5, 6, 6, 4, 3, 1, 5, 2, 5, 1, 1, 2, 2, 6, 4, 5, 3, 5, 6, 4, 1, 3, 3, 2, 2, 2, 4, 1, 5, 2, 4, 6, 2, 6, 6, 6, 2, 3, 1, 3, 3, 2, 4, 2, 3, 4, 1, 3, 5, 3, 4, 1, 6, 5, 2, 4, 2, 3, 3, 1, 5, 1, 1, 1, 2, 4, 3, 4, 3, 3, 2, 1, 4, 3, 4, 5, 1, 6, 5, 3, 1, 5, 6, 5, 6, 2, 6, 5, 2, 6, 5, 5, 2, 4, 4, 2, 2, 4, 6, 5, 6, 3, 5, 1, 5, 6, 1, 6, 5, 5, 4, 5, 4, 3, 4, 2, 5, 3, 3, 1, 6, 3, 2, 3, 3, 2, 6, 2, 6, 2, 5, 5, 6, 6, 6, 6, 1, 4, 1, 6, 5, 6, 2, 5, 1, 5, 4, 5, 3, 4, 5, 4, 6, 2, 4, 4, 2, 3, 5, 4, 3, 6, 3, 2, 1, 3, 3, 4, 3, 3, 5, 2, 6, 2, 5, 3, 1, 3, 6, 2, 6, 5, 6, 5, 2, 5, 2, 3, 2, 2, 2, 4, 6, 6, 2, 4, 6, 3, 6, 5, 5, 3, 2, 3, 4, 6, 6, 2, 1, 1, 3, 4, 5, 6, 2, 6, 5, 1, 2, 5, 1, 2, 5, 3, 5, 3, 6, 5, 1, 2, 2, 4, 1, 3, 4, 1, 1, 2, 1, 2, 1, 3, 5, 1, 6, 2, 3, 3, 6, 3, 3, 5, 3, 1, 5, 5, 3, 4, 3, 4, 6, 5, 3, 1, 1, 5, 2, 6, 2, 6, 5, 2, 1, 4, 5, 4, 1, 6, 2, 4, 2, 1, 1, 2, 2, 6, 2, 3, 3, 1, 2, 4, 6, 1, 6, 2, 4, 6, 4, 6, 6, 1, 3, 1, 2, 1, 6, 6, 5, 6, 5, 4, 5, 5, 6, 1, 2, 3, 3, 3, 2, 3, 2, 3, 4, 1, 6, 1, 4, 5, 2, 4, 3, 2, 3, 4, 4, 5, 5, 6, 2, 3, 3, 1, 3, 4, 2, 4, 1, 3, 3, 5, 6, 6, 2, 4, 3, 2, 4, 6, 6, 6, 4, 6, 3, 5, 2, 4, 1, 5, 1, 6, 1, 6, 3, 2, 3, 5, 6, 4, 2, 3, 5, 2, 4, 1, 1, 6, 4, 2, 1, 4, 1, 6, 6, 4, 1, 6, 2, 3, 3, 1, 1, 4, 4, 4, 3, 6, 5, 6, 5, 1, 5, 3, 4, 3, 4, 2, 5, 3, 2, 1, 5, 1, 5, 3, 2, 2, 2, 2, 6, 1, 3, 5, 6, 2, 2, 3, 6, 6, 6, 6, 2, 2, 3, 2, 4, 4, 2, 2, 5, 4, 4, 3, 3, 5, 3, 1, 3, 2, 6, 2, 4, 4, 4, 5, 4, 4, 4, 1, 1, 6, 3, 1, 2, 4, 1, 6, 6, 1, 6, 2, 3, 6, 2, 5, 1, 1, 4, 2, 2, 3, 6, 6, 4, 2, 6, 1, 1, 3, 6, 1, 3, 4, 6, 1, 1, 1, 1, 1, 5, 5, 2, 4, 4, 6, 1, 6, 2, 4, 2, 4, 1, 1, 3, 4, 1, 2, 1, 2, 6, 6, 4, 5, 3, 3, 6, 2, 6, 3, 5, 4, 1, 1, 5, 1, 2, 1, 5, 3, 1, 5, 1, 4, 5, 6, 3, 6, 3, 2, 1, 5, 3, 2, 2, 3, 4, 1, 2, 2, 3, 3, 5, 4, 5, 6, 3, 1, 2, 6, 1, 6, 1, 5, 5, 6, 6, 6, 3, 2, 2, 4, 2, 1, 6, 6, 4, 1, 2, 1, 6, 2, 6, 4, 4, 1, 1, 1, 6, 4, 3, 4, 4, 5, 6, 6, 5, 4, 6, 1, 1, 4, 6, 3, 3, 3, 3, 2, 4, 1, 1, 6, 2, 4, 3, 6, 5, 5, 1, 5, 6, 6, 3, 4, 5, 3, 1, 1, 2, 1, 1, 4, 3, 2, 4, 4, 6, 5, 6, 4, 2, 5, 1, 1, 4, 2, 6, 5, 6, 2, 1, 1, 4, 5, 1, 3, 2, 1, 6, 1, 1, 5, 6, 4, 4, 3, 3, 1, 2, 6, 1, 1, 6, 3, 6, 2, 2, 3, 5, 2, 5, 5, 3, 3, 1, 4, 3, 2, 1, 5, 4, 1, 4, 5, 6, 4, 1, 4, 6, 4, 5, 5, 6, 3, 3, 5, 5, 1, 5, 3, 6, 4, 4, 3, 2, 4, 5, 4, 5, 1, 3, 2, 3, 2, 4, 2, 5, 3, 1, 6, 4, 3, 4, 6, 5, 2, 6, 2, 2, 3, 5, 3, 1, 1, 5, 1, 4, 5, 1, 3, 5, 4, 1, 2, 3, 5, 6, 4, 5, 1, 5, 3, 1, 5, 4, 2, 4, 6, 1, 1, 4, 1, 2, 5, 2, 4, 4, 1, 4, 1, 2, 6, 5, 2, 5, 5, 5, 6, 4, 4, 6, 4, 3, 1, 5, 5, 4, 5, 5, 5, 2, 4, 5, 6, 6, 1, 3, 6, 4, 4, 6, 5, 6, 2, 5, 4, 5, 4, 5, 6, 5, 6, 1, 6, 5, 4, 1, 6, 4, 6, 1, 3, 2, 2, 5, 5, 3, 2, 4, 6, 5, 4, 5, 6, 3, 1, 6, 4, 5, 1, 6, 3, 5, 3, 4, 1, 6, 2, 5, 2, 4, 5, 3, 4, 4, 4, 5, 3, 4, 2, 4, 6, 3, 3, 2, 6, 2, 5, 1, 3, 4, 1, 6, 5, 3, 3, 2, 3, 2, 4, 3, 2, 5, 5, 3, 5, 6, 3, 5, 5, 5, 3, 2, 3, 2, 1, 4, 1, 3, 5, 4, 1, 4, 2, 5, 3, 3, 5, 2, 1, 4, 1, 1, 4, 3, 1, 5, 5, 6, 2, 5, 4, 1, 6, 1, 3, 1, 5, 1, 4, 3, 5, 1, 6, 4, 2, 5, 5, 3, 1, 5, 6, 2, 1, 6, 1, 3, 4, 3, 5, 3, 6, 4, 3, 6, 3, 1, 6, 5, 4, 2, 1, 6, 1, 1, 4, 4, 1, 4, 2, 4, 4, 1, 4, 1, 3, 2, 3, 3, 3, 4, 5, 4, 3, 4, 6, 5, 3, 2, 4, 2, 2, 4, 3, 6, 5, 2, 4, 6, 3, 1, 1, 1, 2, 1, 3, 3, 2, 5, 5, 2, 1, 3, 3, 4, 3, 4, 6, 3, 3, 4, 4, 6, 3, 4, 3, 6, 3, 4, 2, 1, 2, 1, 3, 6, 5, 6, 5, 6, 5, 4, 6, 4, 6, 3, 1, 4, 4, 6, 6, 5, 3, 5, 3, 5, 1, 6, 6, 3, 2, 3, 1, 1, 5, 5, 2, 6, 6, 2, 1, 3, 6, 1, 1, 4, 3, 6, 3, 1, 1, 5, 2, 6, 3, 1, 2, 6, 5, 5, 3, 3, 5, 6, 1, 6, 2, 3, 1, 6, 6, 6, 5, 1, 5, 5, 2, 1, 2, 6, 5, 1, 5, 5, 1, 6, 5, 4, 1, 2, 4, 2, 3, 2, 6, 3, 6, 3, 5, 5, 1, 1, 5, 6, 3, 3, 4, 3, 6, 2, 6, 1, 3, 4, 6, 5, 3, 5, 2, 5, 5, 3, 1, 5, 5, 6, 6, 3, 2, 5, 2, 6, 6, 3, 5, 2, 4, 2, 1, 5, 6, 3, 1, 3, 2, 2, 3, 6, 6, 5, 1, 2, 3, 4, 4, 3, 6, 1, 4, 1, 2, 4, 2, 3, 1, 3, 4, 3, 1, 1, 4, 3, 4, 4, 4, 2, 6, 4, 2, 2, 3, 2, 2, 2, 6, 1, 6, 1, 5, 4, 1, 4, 6, 6, 6, 3, 2, 5, 4, 4, 3, 1, 3, 3, 6, 4, 4, 3, 3, 6, 5, 2, 3, 3, 3, 1, 1, 5, 1, 2, 6, 3, 5, 1, 3, 6, 6, 6, 2, 5, 4, 1, 2, 2, 1, 3, 5, 5, 2, 5, 3, 5, 5, 6, 6, 3, 3, 2, 2, 1, 3, 5, 6, 2, 4, 6, 3, 4, 1, 6, 3, 3, 2, 1, 6, 1, 6, 3, 1, 5, 3, 5, 3, 6, 3, 5, 2, 6, 5, 5, 3, 1, 6, 6, 5, 1, 1, 3, 6, 5, 3, 3, 2, 5, 4, 1, 1, 6, 6, 5, 6, 3, 2, 2, 3, 5, 4, 4, 3, 5, 2, 5, 4, 5, 1, 2, 2, 5, 6, 6, 4, 2, 6, 4, 6, 5, 6, 5, 2, 3, 2, 5, 5, 1, 1, 6, 4, 2, 6, 5, 1, 3, 4, 3, 6, 3, 5, 2, 1, 2, 4, 4, 6, 6, 2, 5, 4, 1, 6, 1, 1, 4, 1, 2, 2, 2, 1, 6, 1, 3, 6, 6, 6, 2, 5, 3, 1, 6, 1, 6, 3, 3, 6, 5, 5, 2, 4, 4, 6, 2, 5, 2, 1, 3, 5, 3, 1, 5, 2, 4, 6, 4, 6, 2, 6, 3, 3, 2, 2, 2, 6, 3, 6, 5, 1, 6, 1, 1, 1, 4, 5, 4, 4, 6, 3, 1, 4, 3, 1, 4, 5, 1, 3, 3, 1, 4, 3, 4, 6, 4, 6, 3, 1, 1, 2, 6, 6, 2, 5, 6, 1, 1, 2, 1, 2, 2, 5, 6, 5, 6, 2, 2, 5, 5, 6, 3, 4, 1, 2, 3, 3, 1, 4, 2, 6, 1, 3, 1, 5, 2, 6, 2, 2, 2, 2, 5, 6, 5, 1, 1, 6, 2, 3, 4, 4, 3, 1, 2, 5, 1, 5, 4, 3, 3, 6, 2, 4, 2, 1, 3, 1, 6, 3, 3, 5, 1, 5, 6, 4, 3, 1, 6, 4, 2, 6, 4, 2, 2, 3, 5, 1, 5, 2, 1, 3, 6, 4, 5, 4, 2, 1, 5, 3, 2, 4, 3, 2, 4, 5, 5, 5, 1, 6, 4, 1, 6, 3, 6, 4, 2, 3, 1, 1, 1, 6, 4, 6, 4, 6, 4, 3, 4, 2, 2, 3, 1, 6, 4, 5, 6, 6, 3, 6, 1, 3, 2, 3, 3, 3, 6, 1, 3, 3, 3, 1, 4, 5, 5, 2, 5, 1, 5, 4, 6, 6, 3, 1, 1, 6, 2, 6, 5, 2, 6, 1, 1, 4, 4, 6, 1, 6, 2, 1, 3, 4, 4, 1, 3, 3, 2, 3, 5, 4, 3, 1, 1, 6, 5, 5, 1, 4, 5, 5, 5, 2, 1, 4, 4, 1, 3, 6, 2, 6, 3, 3, 1, 6, 3, 2, 4, 2, 1, 6, 6, 3, 6, 4, 6, 5, 2, 5, 5, 3, 6, 4, 1, 4, 6, 4, 5, 2, 5, 2, 3, 3, 4, 1, 1, 5, 1, 1, 2, 4, 5, 6, 1, 3, 2, 1, 1, 6, 5, 3, 4, 5, 4, 4, 6, 1, 2, 5, 1, 1, 1, 2, 2, 2, 5, 3, 6, 4, 6, 1, 4, 6, 2, 1, 2, 3, 4, 3, 6, 3, 2, 4, 2, 2, 6, 6, 5, 1, 2, 5, 4, 6, 3, 1, 3, 6, 1, 2, 3, 6, 5, 2, 1, 6, 6, 2, 1, 3, 1, 6, 4, 2, 2, 4, 3, 2, 5, 1, 6, 5, 4, 5, 3, 1, 2, 5, 2, 2, 1, 2, 1, 2, 3, 4, 4, 6, 1, 5, 4, 3, 2, 1, 3, 4, 4, 2, 5, 4, 6, 1, 3, 4, 2, 6, 6, 3, 6, 6, 1, 6, 2, 6, 1, 2, 1, 3, 3, 2, 3, 4, 2, 4, 5, 2, 5, 3, 3, 3, 4, 4, 6, 6, 1, 3, 5, 3, 6, 5, 4, 4, 3, 4, 2, 4, 1, 4, 5, 3, 3, 1, 4, 1, 3, 4, 1, 6, 6, 5, 4, 3, 6, 4, 1, 3, 5, 3, 3, 4, 2, 6, 4, 3, 5, 3, 6, 4, 1, 5, 6, 1, 5, 2, 4, 1, 2, 4, 2, 4, 5, 3, 3, 5, 3, 3, 1, 3, 5, 1, 3, 6, 1, 5, 5, 6, 1, 1, 3, 6, 4, 6, 4, 4, 2, 6, 3, 3, 6, 6, 1, 3, 3, 4, 2, 4, 5, 4, 6, 4, 3, 3, 4, 1, 2, 3, 2, 4, 3, 3, 4, 6, 3, 1, 5, 3, 5, 2, 4, 4, 4, 1, 2, 6, 6, 2, 3, 1, 3, 3, 1, 1, 5, 3, 6, 5, 4, 3, 1, 3, 5, 2, 5, 4, 6, 1, 6, 5, 2, 6, 2, 3, 5, 6, 6, 6, 4, 6, 6, 2, 2, 6, 2, 4, 1, 2, 4, 6, 6, 1, 5, 6, 1, 3, 1, 6, 3, 2, 2, 2, 2, 1, 5, 3, 2, 2, 1, 1, 5, 5, 4, 4, 6, 3, 5, 6, 6, 2, 3, 3, 6, 5, 4, 4, 2, 6, 1, 1, 6, 1, 2, 3, 4, 3, 3, 6, 1, 2, 4, 4, 4, 4, 2, 2, 6, 6, 5, 3, 3, 6, 5, 2, 6, 1, 3, 5, 4, 6, 5, 4, 1, 6, 2, 4, 2, 1, 6, 3, 3, 5, 3, 1, 5, 4, 4, 1, 1, 1, 6, 4, 2, 4, 5, 3, 6, 4, 3, 2, 3, 1, 6, 2, 3, 6, 1, 6, 1, 4, 2, 5, 6, 2, 1, 5, 3, 2, 6, 3, 5, 5, 6, 5, 5, 1, 4, 2, 2, 4, 4, 6, 5, 6, 1, 1, 3, 4, 6, 1, 2, 1, 4, 5, 5, 6, 6, 2, 6, 6, 6, 5, 5, 1, 6, 1, 1, 2, 3, 2, 6, 2, 4, 3, 6, 4, 3, 3, 4, 2, 2, 1, 1, 4, 2, 1, 2, 5, 4, 1, 5, 6, 5, 2, 5, 1, 3, 4, 6, 1, 6, 4, 5, 1, 6, 4, 2, 6, 6, 4, 5, 2, 5, 2, 4, 6, 1, 4, 6, 2, 6, 2, 6, 3, 1, 5, 2, 3, 5, 5, 2, 3, 2, 1, 1, 3, 3, 5, 1, 6, 3, 3, 6, 5, 6, 1, 2, 3, 3, 2, 1, 6, 1, 5, 3, 1, 3, 5, 1, 5, 6, 1, 6, 3, 6, 3, 3, 5, 3, 1, 6, 2, 6, 4, 4, 4, 3, 6, 6, 6, 3, 4, 1, 1, 1, 6, 2, 1, 3, 4, 4, 3, 5, 3, 5, 3, 5, 6, 3, 5, 3, 6, 1, 6, 5, 1, 6, 3, 6, 4, 2, 3, 5, 4, 2, 6, 1, 3, 1, 5, 4, 1, 4, 2, 2, 2, 1, 3, 5, 1, 6, 2, 6, 5, 5, 6, 6, 3, 5, 5, 5, 3, 5, 4, 6, 6, 3, 1, 1, 2, 4, 5, 1, 5, 1, 4, 4, 6, 6, 2, 2, 5, 1, 5, 5, 2, 4, 2, 3, 4, 1, 2, 6, 5, 6, 4, 6, 5, 6, 2, 2, 3, 4, 4, 3, 1, 4, 6, 5, 4, 5, 4, 1, 4, 4, 3, 2, 3, 6, 2, 3, 6, 6, 3, 1, 1, 6, 3, 5, 6, 1, 4, 2, 4, 1, 3, 4, 1, 1, 4, 2, 2, 6, 1, 1, 6, 2, 2, 6, 6, 5, 5, 5, 4, 4, 6, 5, 5, 1, 3, 4, 6, 6, 2, 6, 6, 4, 5, 6, 1, 1, 2, 2, 1, 5, 2, 4, 1, 2, 4, 5, 6, 6, 4, 6, 4, 2, 1, 2, 4, 1, 6, 5, 3, 1, 4, 4, 1, 6, 4, 3, 4, 5, 5, 6, 2, 4, 3, 4, 3, 2, 2, 1, 6, 1, 5, 1, 5, 5, 5, 5, 1, 2, 2, 1, 3, 5, 1, 5, 6, 3, 1, 3, 1, 1, 4, 6, 5, 2, 1, 3, 6, 4, 4, 3, 4, 5, 1, 4, 1, 3, 3, 5, 6, 1, 4, 6, 3, 4, 1, 3, 6, 6, 4, 2, 5, 3, 6, 5, 1, 5, 6, 6, 5, 6, 3, 5, 2, 6, 6, 5, 5, 5, 5, 2, 5, 4, 5, 2, 5, 3, 6, 4, 2, 4, 4, 4, 2, 1, 2, 2, 4, 3, 4, 4, 2, 4, 4, 6, 1, 5, 2, 5, 6, 6, 4, 2, 2, 5, 2, 1, 1, 2, 6, 3, 3, 1, 2, 1, 4, 3, 3, 5, 5, 4, 2, 4, 1, 3, 5, 1, 3, 5, 5, 1, 3, 2, 5, 1, 3, 3, 1, 3, 6, 2, 4, 6, 6, 3, 1, 5, 4, 2, 5, 1, 3, 6, 5, 2, 3, 3, 1, 4, 5, 3, 5, 6, 5, 2, 6, 2, 4, 3, 1, 6, 4, 5, 4, 2, 5, 4, 1, 5, 1, 4, 2, 3, 6, 5, 4, 3, 6, 3, 5, 3, 6, 6, 4, 4, 3, 5, 3, 3, 4, 5, 1, 1, 4, 4, 5, 6, 4, 2, 4, 3, 3, 3, 5, 1, 4, 1, 4, 1, 6, 6, 5, 5, 2, 4, 3, 3, 3, 3, 5, 5, 1, 5, 2, 6, 6, 5, 5, 2, 6, 3, 1, 5, 2, 3, 6, 1, 6, 4, 1, 2, 4, 3, 1, 3, 4, 2, 3, 3, 4, 4, 6, 1, 5, 5, 3, 2, 1, 6, 5, 1, 4, 1, 6, 6, 6, 2, 4, 6, 1, 2, 6, 1, 1, 3, 6, 4, 2, 6, 4, 3, 1, 3, 5, 1, 5, 1, 3, 5, 4, 3, 5, 3, 6, 2, 6, 1, 6, 3, 1, 5, 1, 4, 6, 4, 3, 1, 4, 6, 1, 4, 3, 1, 6, 3, 6, 1, 4, 4, 2, 2, 3, 1, 5, 3, 6, 2, 6, 3, 3, 4, 1, 5, 6, 1, 6, 5, 1, 6, 4, 6, 1, 6, 6, 3, 1, 3, 1, 5, 5, 2, 2, 6, 2, 3, 4, 6, 3, 5, 6, 3, 3, 1, 5, 4, 2, 1, 6, 3, 2, 3, 6, 3, 5, 3, 5, 6, 2, 4, 5, 3, 4, 6, 2, 1, 3, 2, 1, 2, 4, 1, 5, 1, 2, 4, 4, 4, 4, 4, 3, 3, 2, 4, 3, 5, 3, 4, 4, 4, 1, 6, 5, 1, 4, 5, 1, 2, 1, 2, 6, 5, 6, 4, 3, 6, 5, 1, 4, 1, 3, 3, 3, 3, 3, 1, 3, 6, 1, 6, 3, 1, 1, 4, 1, 4, 6, 6, 1, 4, 5, 3, 1, 3, 6, 2, 3, 1, 6, 2, 4, 6, 5, 3, 2, 3, 5, 4, 4, 1, 2, 2, 3, 1, 6, 1, 6, 4, 3, 2, 1, 2, 6, 5, 2, 5, 1, 2, 3, 4, 5, 4, 6, 1, 5, 5, 4, 3, 3, 2, 5, 1, 3, 3, 2, 5, 6, 6, 1, 3, 3, 2, 5, 5, 3, 1, 1, 1, 4, 6, 1, 4, 5, 1, 5, 2, 6, 3, 5, 2, 6, 3, 1, 5, 5, 6, 6, 1, 2, 2, 2, 6, 1, 6, 4, 4, 5, 6, 3, 1, 2, 5, 5, 5, 5, 2, 2, 6, 2, 1, 6, 2, 4, 3, 2, 2, 5, 1, 6, 2, 3, 3, 2, 6, 3, 3, 5, 1, 2, 4, 3, 4, 3, 1, 4, 3, 2, 3, 1, 1, 2, 4, 3, 5, 2, 6, 6, 1, 5, 6, 2, 3, 3, 5, 2, 1, 2, 6, 1, 6, 3, 1, 3, 5, 3, 2, 5, 1, 1, 5, 6, 5, 6, 1, 6, 5, 3, 1, 2, 2, 5, 5, 6, 6, 5, 2, 3, 4, 5, 4, 3, 3, 6, 3, 3, 4, 5, 6, 6, 4, 2, 3, 2, 1, 6, 1, 6, 2, 6, 6, 1, 4, 4, 2, 1, 2, 3, 2, 5, 1, 6, 6, 6, 6, 4, 3, 4, 4, 2, 2, 6, 6, 6, 4, 2, 4, 3, 2, 6, 4, 4, 4, 6, 4, 1, 3, 4, 1, 1, 6, 4, 3, 3, 4, 5, 4, 4, 5, 2, 5, 3, 2, 2, 2, 4, 3, 1, 1, 2, 6, 3, 5, 4, 1, 6, 5, 5, 4, 5, 2, 3, 5, 5, 4, 5, 2, 6, 3, 6, 2, 6, 2, 3, 6, 6, 5, 3, 3, 3, 2, 3, 4, 1, 1, 2, 4, 4, 6, 6, 1, 3, 2, 4, 5, 6, 1, 5, 1, 3, 1, 2, 4, 1, 5, 6, 1, 6, 1, 4, 1, 1, 5, 1, 1, 2, 4, 1, 6, 1, 4, 3, 2, 4, 5, 4, 2, 2, 3, 1, 4, 6, 5, 5, 1, 5, 2, 6, 6, 4, 2, 6, 3, 1, 4, 3, 2, 4, 2, 2, 1, 5, 4, 2, 3, 1, 4, 5, 6, 2, 3, 3, 4, 3, 1, 2, 3, 5, 2, 5, 4, 5, 4, 3, 6, 3, 1, 3, 6, 2, 6, 5, 5, 3, 3, 6, 3, 4, 4, 3, 2, 2, 1, 4, 6, 2, 5, 5, 4, 5, 4, 1, 3, 2, 1, 2, 2, 5, 5, 3, 5, 4, 1, 6, 2, 2, 2, 3, 4, 4, 3, 3, 3, 2, 6, 5, 6, 4, 1, 1, 1, 3, 6, 2, 1, 4, 2, 2, 3, 6, 6, 4, 3, 1, 4, 6, 1, 4, 1, 4, 5, 3, 4, 4, 5, 4, 5, 1, 6, 1, 2, 3, 3, 2, 4, 3, 3, 4, 6, 5, 5, 1, 1, 2, 1, 2, 3, 3, 6, 3, 4, 4, 6, 3, 1, 1, 2, 4, 3, 4, 3, 4, 6, 1, 5, 5, 6, 2, 6, 1, 1, 3, 3, 1, 6, 2, 4, 1, 2, 6, 1, 1, 2, 5, 6, 4, 3, 5, 1, 1, 1, 5, 1, 1, 6, 4, 3, 5, 4, 6, 6, 1, 6, 3, 4, 1, 5, 6, 6, 3, 5, 5, 2, 6, 2, 3, 5, 1, 5, 6, 2, 4, 5, 3, 1, 2, 5, 5, 3, 1, 6, 4, 3, 6, 6, 6, 1, 4, 1, 3, 4, 2, 4, 6, 1, 2, 3, 1, 1, 2, 4, 5, 3, 6, 2, 4, 3, 1, 5, 3, 5, 6, 3, 3, 4, 1, 1, 6, 1, 6, 1, 1, 5, 2, 6, 1, 4, 1, 3, 1, 6, 1, 6, 4, 5, 4, 2, 5, 4, 2, 5, 6, 6, 2, 4, 2, 4, 2, 1, 5, 1, 1, 6, 2, 2, 5, 3, 6, 2, 5, 3, 5, 1, 3, 4, 1, 1, 3, 1, 6, 4, 4, 1, 5, 5, 3, 3, 5, 3, 5, 4, 5, 3, 4, 2, 2, 4, 4, 2, 4, 2, 4, 3, 6, 5, 5, 5, 3, 2, 4, 1, 1, 6, 5, 2, 2, 1, 5, 1, 6, 4, 2, 5, 5, 5, 3, 5, 4, 2, 6, 3, 5, 3, 5, 5, 2, 3, 3, 2, 3, 1, 6, 2, 2, 5, 2, 1, 3, 6, 6, 6, 4, 1, 4, 3, 5, 5, 6, 6, 3, 4, 6, 6, 4, 5, 3, 3, 2, 5, 3, 6, 6, 4, 1, 3, 1, 5, 3, 5, 3, 2, 4, 5, 2, 5, 5, 1, 5, 3, 2, 1, 3, 5, 4, 4, 3, 5, 1, 3, 5, 3, 6, 3, 2, 5, 1, 4, 5, 6, 1, 4, 3, 1, 3, 3, 3, 2, 1, 3, 3, 5, 5, 1, 6, 3, 1, 4, 5, 4, 2, 4, 3, 5, 3, 1, 2, 4, 5, 4, 3, 6, 3, 5, 2, 2, 2, 4, 2, 1, 2, 3, 6, 6, 4, 4, 5, 3, 4, 6, 3, 6, 5, 2, 3, 4, 6, 2, 3, 6, 3, 2, 4, 5, 5, 5, 3, 5, 4, 1, 3, 3, 3, 3, 6, 5, 5, 1, 1, 3, 3, 3, 6, 3, 2, 1, 4, 2, 3, 4, 6, 3, 5, 4, 4, 6, 4, 2, 4, 4, 2, 3, 4, 4, 6, 4, 2, 4, 3, 1, 3, 4, 5, 6, 5, 1, 6, 4, 1, 5, 5, 3, 5, 5, 1, 5, 1, 5, 4, 3, 1, 6, 3, 5, 3, 3, 2, 6, 4, 3, 4, 6, 3, 2, 1, 6, 1, 6, 2, 4, 4, 6, 5, 1, 2, 4, 6, 6, 1, 2, 3, 3, 4, 4, 3, 2, 3, 3, 1, 5, 1, 1, 6, 3, 2, 5, 2, 6, 1, 6, 5, 6, 4, 6, 3, 1, 1, 6, 3, 6, 3, 5, 3, 6, 1, 1, 1, 3, 5, 5, 4, 4, 3, 3, 2, 2, 6, 2, 6, 3, 2, 3, 6, 6, 6, 3, 1, 4, 4, 5, 6, 1, 6, 1, 1, 3, 6, 2, 6, 4, 5, 1, 4, 6, 6, 5, 1, 4, 1, 4, 1, 2, 1, 3, 4, 4, 4, 5, 1, 6, 5, 5, 1, 1, 4, 4, 6, 1, 3, 1, 2, 1, 1, 3, 4, 1, 5, 5, 6, 2, 4, 1, 5, 6, 4, 2, 1, 6, 6, 1, 2, 1, 6, 4, 4, 2, 2, 2, 1, 2, 2, 1, 4, 3, 6, 2, 4, 1, 2, 6, 5, 1, 2, 3, 4, 1, 2, 3, 6, 1, 4, 1, 4, 2, 2, 6, 3, 5, 3, 4, 5, 2, 6, 3, 5, 6, 5, 2, 1, 3, 4, 5, 2, 6, 1, 4, 6, 1, 3, 6, 2, 5, 6, 2, 4, 4, 6, 5, 5, 6, 1, 4, 4, 4, 4, 5, 5, 2, 3, 6, 6, 6, 1, 4, 3, 4, 2, 4, 4, 3, 3, 1, 6, 4, 4, 6, 2, 3, 2, 4, 2, 5, 1, 3, 4, 5, 4, 5, 1, 5, 6, 4, 3, 1, 2, 4, 6, 6, 5, 4, 6, 6, 3, 3, 4, 6, 2, 1, 1, 6, 6, 3, 1, 4, 2, 3, 3, 2, 6, 4, 1, 5, 4, 1, 6, 5, 6, 2, 6, 1, 3, 4, 1, 5, 3, 5, 4, 5, 3, 6, 1, 4, 5, 3, 4, 6, 5, 5, 5, 3, 5, 4, 6, 3, 5, 4, 5, 2, 3, 2, 4, 6, 5, 4, 1, 4, 4, 2, 1, 2, 2, 2, 1, 1, 5, 3, 6, 5, 5, 1, 4, 1, 5, 1, 1, 1, 4, 4, 3, 3, 6, 6, 5, 4, 4, 4, 3, 1, 2, 6, 6, 2, 5, 3, 3, 1, 5, 4, 3, 2, 2, 3, 6, 3, 1, 2, 5, 1, 1, 2, 3, 6, 2, 2, 6, 6, 3, 5, 2, 3, 4, 4, 4, 4, 6, 4, 1, 3, 1, 2, 3, 5, 5, 5, 2, 4, 4, 1, 1, 4, 5, 2, 6, 3, 3, 2, 2, 5, 4, 5, 4, 6, 1, 1, 1, 5, 4, 4, 4, 2, 3, 6, 4, 3, 2, 1, 1, 1, 2, 2, 1, 6, 2, 4, 6, 3, 2, 5, 6, 2, 4, 5, 6, 2, 2, 6, 3, 1, 2, 6, 6, 4, 2, 1, 3, 5, 5, 4, 1, 1, 6, 5, 6, 1, 3, 6, 1, 5, 5, 4, 1, 5, 4, 2, 6, 5, 1, 2, 1, 2, 1, 4, 6, 4, 2, 2, 1, 2, 1, 5, 3, 5, 6, 3, 3, 3, 1, 4, 4, 4, 6, 6, 6, 6, 2, 6, 5, 2, 3, 6, 5, 4, 3, 3, 3, 6, 1, 5, 3, 2, 4, 3, 1, 1, 1, 4, 4, 5, 6, 1, 5, 4, 6, 1, 1, 4, 4, 4, 1, 2, 3, 6, 4, 3, 4, 2, 1, 2, 4, 3, 1, 3, 6, 2, 5, 1, 2, 4, 2, 1, 5, 1, 4, 4, 3, 5, 6, 3, 2, 6, 1, 5, 2, 6, 5, 2, 3, 5, 6, 4, 6, 2, 5, 1, 5, 3, 6, 2, 1, 6, 5, 1, 4, 4, 1, 5, 3, 5, 6, 2, 1, 2, 3, 1, 3, 6, 6, 5, 2, 5, 2, 3, 2, 1, 1, 4, 5, 3, 1, 4, 2, 4, 5, 2, 6, 2, 3, 4, 6, 2, 4, 5, 2, 2, 3, 1, 2, 1, 2, 1, 5, 6, 3, 1, 2, 2, 2, 1, 1, 2, 1, 5, 5, 3, 4, 6, 4, 2, 1, 4, 5, 3, 4, 2, 6, 2, 5, 6, 1, 5, 3, 6, 4, 6, 6, 3, 5, 2, 4, 4, 6, 6, 6, 3, 1, 6, 1, 1, 6, 1, 4, 2, 6, 2, 2, 5, 6, 4, 5, 4, 3, 2, 3, 4, 3, 5, 4, 3, 3, 1, 5, 5, 3, 4, 2, 3, 6, 1, 5, 3, 4, 1, 2, 6, 6, 1, 3, 2, 6, 2, 6, 2, 1, 6, 3, 1, 2, 4, 1, 3, 2, 5, 6, 2, 3, 6, 6, 6, 4, 1, 6, 5, 3, 3, 6, 6, 6, 6, 1, 6, 3, 5, 1, 1, 2, 2, 1, 2, 2, 1, 2, 6, 3, 4, 5, 5, 6, 3, 5, 1, 4, 5, 3, 4, 5, 1, 4, 5, 6, 4, 4, 4, 5, 6, 4, 6, 5, 5, 6, 6, 6, 5, 5, 3, 6, 4, 1, 3, 5, 1, 2, 2, 4, 6, 2, 5, 5, 5, 2, 4, 2, 4, 5, 2, 2, 1, 3, 1, 4, 2, 2, 6, 2, 4, 3, 1, 3, 3, 2, 4, 6, 1, 2, 6, 2, 5, 5, 4, 4, 4, 3, 3, 5, 6, 2, 2, 2, 1, 1, 4, 4, 2, 5, 4, 1, 5, 2, 4, 4, 6, 4, 5, 4, 2, 2, 3, 3, 6, 6, 6, 1, 1, 6, 6, 3, 6, 2, 1, 5, 3, 6, 6, 6, 6, 1, 6, 6, 4, 6, 4, 4, 6, 5, 1, 5, 1, 4, 4, 4, 3, 3, 1, 1, 2, 3, 6, 6, 4, 1, 3, 1, 5, 4, 2, 3, 2, 1, 4, 1, 6, 1, 6, 1, 3, 4, 6, 1, 4, 4, 4, 3, 2, 2, 1, 4, 2, 2, 3, 4, 5, 5, 1, 1, 4, 6, 2, 6, 3, 6, 6, 3, 3, 6, 6, 6, 1, 1, 6, 1, 3, 1, 3, 3, 2, 1, 4, 1, 5, 3, 6, 6, 2, 2, 3, 4, 1, 2, 4, 2, 2, 4, 2, 3, 2, 3, 3, 5, 4, 6, 3, 4, 5, 2, 2, 2, 3, 1, 6, 2, 4, 4, 6, 1, 3, 3, 6, 4, 4, 2, 6, 3, 5, 5, 5, 4, 3, 6, 2, 6, 6, 3, 2, 4, 5, 3, 5, 4, 1, 5, 2, 6, 5, 5, 2, 5, 5, 5, 1, 1, 1, 6, 2, 3, 4, 3, 6, 5, 5, 3, 5, 4, 5, 6, 6, 2, 5, 4, 6, 6, 4, 1, 2, 5, 6, 1, 1, 1, 1, 2, 6, 1, 2, 3, 1, 6, 3, 6, 5, 6, 6, 6, 6, 2, 2, 3, 6, 5, 6, 1, 3, 1, 4, 4, 2, 2, 4, 2, 5, 2, 2, 1, 6, 5, 1, 1, 3, 3, 1, 2, 1, 4, 3, 2, 4, 3, 5, 3, 4, 6, 2, 2, 4, 2, 4, 2, 2, 6, 4, 6, 5, 2, 3, 4, 3, 3, 2, 4, 2, 4, 3, 6, 1, 2, 5, 1, 4, 1, 1, 3, 5, 6, 4, 5, 2, 5, 1, 6, 1, 3, 4, 1, 1, 5, 2, 3, 2, 1, 3, 2, 1, 1, 6, 4, 6, 1, 1, 1, 5, 3, 6, 3, 5, 3, 5, 1, 3, 5, 4, 4, 1, 3, 4, 6, 4, 2, 5, 4, 6, 1, 5, 2, 3, 1, 6, 4, 6, 4, 2, 3, 2, 6, 2, 4, 2, 1, 3, 6, 5, 4, 1, 6, 4, 3, 1, 6, 2, 4, 3, 3, 2, 6, 4, 3, 4, 4, 2, 1, 5, 1, 6, 3, 5, 1, 5, 6, 6, 3, 6, 6, 5, 1, 1, 2, 1, 5, 1, 2, 2, 4, 4, 6, 3, 6, 4, 5, 3, 3, 5, 5, 5, 5, 4, 6, 4, 5, 1, 6, 4, 1, 5, 6, 3, 5, 1, 4, 4, 3, 2, 1, 6, 6, 4, 2, 4, 6, 5, 6, 1, 4, 2, 6, 6, 6, 2, 4, 5, 5, 5, 4, 6, 2, 3, 4, 3, 5, 6, 5, 3, 2, 1, 1, 6, 2, 6, 2, 5, 1, 2, 5, 5, 6, 1, 4, 1, 5, 5, 3, 1, 6, 4, 4, 4, 5, 5, 1, 4, 2, 5, 4, 3, 3, 3, 4, 4, 4, 5, 6, 6, 3, 3, 5, 2, 3, 3, 3, 4, 5, 2, 2, 1, 6, 1, 2, 6, 5, 6, 2, 4, 2, 3, 3, 1, 6, 3, 1, 1, 3, 6, 3, 3, 1, 1, 5, 5, 3, 4, 3, 5, 3, 6, 1, 1, 5, 5, 5, 2, 3, 5, 5, 1, 2, 1, 4, 5, 1, 5, 3, 4, 3, 2, 3, 3, 6, 1, 1, 1, 6, 6, 6, 4, 1, 6, 4, 1, 5, 4, 4, 4, 4, 3, 5, 3, 2, 3, 4, 4, 3, 2, 1, 2, 6, 2, 3, 6, 1, 2, 4, 6, 4, 2, 3, 6, 2, 4, 4, 1, 5, 1, 6, 5, 6, 2, 5, 3, 5, 5, 6, 6, 2, 5, 5, 2, 6, 6, 6, 2, 1, 5, 2, 2, 3, 1, 4, 1, 5, 4, 2, 4, 4, 1, 3, 5, 1, 4, 6, 2, 3, 5, 2, 6, 6, 6, 5, 4, 6, 3, 3, 4, 2, 5, 5, 4, 4, 2, 4, 5, 4, 5, 1, 3, 1, 6, 6, 1, 2, 1, 4, 4, 1, 6, 2, 2, 1, 5, 5, 2, 3, 1, 4, 4, 2, 3, 5, 4, 6, 2, 1, 2, 2, 6, 1, 6, 5, 3, 6, 3, 5, 6, 2, 1, 1, 2, 6, 3, 5, 4, 3, 4, 6, 2, 2, 2, 1, 4, 4, 2, 4, 1, 1, 5, 2, 1, 4, 4, 2, 2, 1, 5, 1, 5, 3, 4, 2, 6, 6, 6, 6, 2, 1, 1, 4, 1, 6, 6, 3, 5, 5, 4, 3, 2, 4, 6, 3, 4, 5, 4, 1, 4, 2, 5, 4, 5, 2, 3, 1, 3, 4, 1, 6, 5, 2, 4, 2, 5, 3, 1, 5, 3, 5, 3, 1, 6, 3, 2, 6, 3, 3, 6, 3, 1, 5, 4, 3, 6, 6, 2, 5, 5, 6, 2, 4, 3, 2, 6, 6, 2, 6, 6, 4, 3, 6, 3, 2, 5, 6, 4, 4, 1, 6, 4, 1, 2, 1, 3, 1, 2, 4, 5, 2, 2, 4, 1, 4, 5, 1, 2, 1, 1, 2, 6, 3, 1, 2, 3, 1, 5, 6, 5, 5, 3, 5, 1, 4, 3, 2, 4, 3, 1, 2, 1, 5, 6, 4, 4, 3, 2, 4, 2, 6, 4, 4, 6, 3, 1, 1, 2, 1, 1, 2, 4, 2, 2, 1, 4, 5, 5, 6, 5, 1, 6, 6, 3, 3, 1, 4, 3, 2, 3, 4, 6, 6, 2, 6, 2, 1, 1, 6, 4, 5, 5, 2, 3, 1, 5, 1, 6, 2, 2, 2, 2, 3, 2, 4, 5, 2, 5, 6, 3, 4, 1, 4, 4, 2, 3, 6, 5, 4, 4, 5, 5, 6, 2, 5, 3, 4, 4, 2, 1, 1, 6, 1, 3, 2, 4, 6, 1, 2, 1, 2, 6, 2, 5, 5, 4, 5, 4, 5, 5, 4, 6, 5, 2, 6, 3, 1, 2, 4, 1, 1, 6, 3, 3, 1, 6, 6, 5, 2, 5, 5, 3, 4, 4, 6, 1, 2, 3, 4, 3, 5, 1, 6, 3, 6, 3, 6, 5, 2, 3, 6, 6, 3, 1, 1, 6, 4, 1, 2, 5, 5, 5, 4, 4, 6, 3, 2, 6, 5, 5, 2, 4, 2, 6, 4, 1, 2, 2, 4, 1, 1, 2, 3, 6, 1, 3, 2, 6, 1, 5, 6, 6, 1, 1, 5, 5, 2, 6, 4, 4, 1, 1, 2, 6, 6, 5, 3, 6, 5, 4, 2, 4, 6, 4, 2, 1, 5, 3, 6, 1, 1, 2, 4, 5, 2, 2, 6, 6, 5, 4, 2, 5, 2, 1, 1, 3, 5, 1, 3, 1, 2, 5, 5, 1, 3, 6, 6, 3, 6, 3, 4, 4, 4, 5, 3, 1, 1, 6, 4, 4, 6, 3, 5, 1, 1, 4, 4, 5, 3, 6, 3, 2, 6, 5, 6, 2, 1, 2, 1, 1, 1, 5, 1, 6, 4, 3, 5, 1, 4, 6, 4, 3, 4, 5, 4, 2, 3, 4, 4, 5, 5, 1, 3, 2, 6, 6, 6, 1, 5, 1, 4, 5, 4, 2, 3, 4, 2, 5, 4, 5, 5, 3, 4, 5, 3, 2, 4, 3, 5, 1, 5, 6, 4, 1, 5, 2, 3, 1, 2, 4, 5, 2, 6, 1, 3, 4, 6, 4, 2, 3, 5, 4, 2, 3, 6, 1, 4, 4, 3, 6, 3, 1, 5, 1, 6, 6, 1, 3, 3, 2, 1, 1, 4, 4, 4, 3, 1, 2, 6, 3, 6, 1, 4, 5, 1, 5, 2, 1, 1, 3, 4, 2, 6, 3, 5, 3, 1, 2, 1, 5, 3, 6, 4, 5, 3, 4, 6, 3, 3, 3, 5, 4, 4, 2, 4, 1, 1, 3, 2, 6, 4, 5, 2, 4, 5, 2, 5, 4, 6, 2, 1, 3, 4, 6, 1, 6, 3, 1, 6, 3, 2, 4, 6, 5, 3, 5, 3, 1, 2, 4, 4, 3, 2, 5, 3, 1, 4, 4, 5, 6, 3, 5, 4, 5, 6, 1, 3, 6, 1, 5, 2, 6, 4, 1, 5, 4, 4, 3, 2, 6, 4, 1, 6, 2, 5, 5, 5, 2, 1, 3, 4, 1, 2, 4, 4, 2, 5, 4, 3, 2, 6, 6, 4, 3, 3, 5, 2, 4, 2, 5, 4, 2, 6, 1, 6, 2, 1, 1, 3, 1, 2, 4, 1, 4, 2, 5, 4, 6, 1, 5, 5, 2, 3, 1, 1, 4, 2, 6, 5, 5, 3, 1, 2, 2, 5, 4, 4, 6, 1, 1, 5, 6, 4, 1, 1, 3, 4, 1, 2, 1, 3, 5, 3, 1, 1, 6, 5, 3, 2, 2, 4, 4, 3, 3, 6, 1, 1, 5, 3, 2, 1, 1, 2, 4, 5, 3, 3, 1, 1, 2, 4, 5, 2, 1, 3, 6, 6, 1, 2, 3, 5, 1, 4, 6, 3, 4, 4, 4, 3, 3, 3, 3, 6, 3, 6, 4, 2, 5, 4, 3, 6, 6, 6, 5, 2, 1, 3, 2, 4, 3, 5, 3, 1, 2, 2, 1, 5, 5, 2, 4, 5, 2, 5, 3, 2, 4, 3, 2, 2, 4, 3, 3, 3, 6, 1, 1, 6, 2, 6, 5, 2, 6, 5, 5, 2, 1, 2, 5, 5, 6, 2, 5, 2, 3, 6, 1, 6, 3, 2, 2, 4, 5, 1, 3, 3, 6, 1, 6, 4, 4, 4, 1, 2, 4, 4, 2, 1, 6, 3, 3, 6, 1, 5, 5, 4, 1, 6, 2, 2, 2, 3, 4, 4, 3, 5, 6, 3, 6, 5, 6, 2, 6, 6, 5, 6, 2, 6, 6, 1, 3, 3, 5, 6, 1, 6, 6, 2, 6, 4, 2, 6, 3, 2, 6, 2, 5, 6, 1, 1, 6, 5, 3, 5, 4, 2, 1, 1, 2, 5, 3, 4, 1, 1, 1, 5, 4, 4, 3, 6, 3, 2, 4, 2, 2, 6, 5, 5, 5, 3, 6, 1, 3, 2, 2, 2, 6, 5, 6, 3, 1, 1, 3, 6, 2, 1, 5, 2, 6, 4, 5, 2, 5, 5, 1, 1, 4, 2, 6, 6, 1, 6, 6, 4, 5, 5, 6, 1, 3, 5, 1, 1, 4, 3, 5, 2, 6, 6, 4, 6, 6, 6, 4, 2, 3, 3, 3, 2, 5, 3, 5, 3, 1, 1, 5, 2, 1, 4, 2, 3, 6, 3, 1, 1, 5, 5, 2, 5, 5, 2, 5, 6, 3, 4, 4, 5, 5, 3, 1, 3, 5, 2, 3, 2, 5, 1, 4, 1, 6, 3, 6, 1, 5, 5, 1, 6, 3, 2, 1, 4, 2, 1, 5, 1, 6, 5, 2, 6, 4, 4, 1, 2, 6, 4, 5, 5, 5, 6, 5, 6, 4, 6, 6, 2, 4, 5, 4, 3, 6, 5, 1, 4, 3, 6, 4, 3, 3, 3, 4, 4, 4, 6, 5, 2, 6, 2, 3, 1, 5, 2, 1, 5, 5, 6, 6, 3, 5, 4, 4, 4, 6, 1, 4, 4, 1, 4, 6, 5, 4, 4, 5, 6, 5, 4, 1, 3, 2, 6, 6, 4, 2, 4, 1, 5, 4, 4, 3, 2, 2, 1, 4, 5, 4, 1, 4, 3, 3, 6, 6, 5, 3, 6, 4, 2, 6, 3, 4, 4, 1, 1, 4, 2, 2, 4, 1, 2, 1, 3, 2, 3, 4, 2, 4, 6, 4, 3, 5, 4, 2, 5, 6, 2, 2, 3, 6, 4, 2, 1, 3, 6, 2, 2, 3, 1, 3, 4, 6, 1, 6, 5, 3, 1, 5, 2, 6, 3, 3, 4, 1, 5, 4, 6, 6, 6, 3, 1, 1, 6, 4, 4, 3, 4, 4, 2, 1, 1, 2, 5, 3, 2, 3, 2, 2, 1, 3, 4, 4, 2, 5, 2, 4, 3, 6, 4, 5, 4, 2, 2, 1, 5, 6, 3, 2, 3, 3, 1, 3, 1, 1, 3, 4, 3, 6, 2, 6, 5, 4, 6, 4, 4, 5, 4, 2, 3, 6, 2, 2, 4, 1, 1, 6, 4, 2, 2, 2, 5, 5, 2, 4, 1, 5, 1, 3, 1, 2, 6, 2, 4, 2, 6, 2, 4, 5, 3, 3, 1, 1, 2, 1, 1, 2, 6, 5, 6, 6, 1, 5, 3, 6, 5, 2, 3, 4, 5, 4, 5, 6, 1, 4, 5, 6, 6, 4, 6, 5, 5, 2, 3, 4, 1, 1, 5, 6, 2, 3, 1, 1, 3, 6, 5, 5, 3, 3, 3, 4, 3, 3, 5, 2, 1, 2, 5, 5, 2, 4, 6, 2, 6, 6, 5, 4, 5, 5, 5, 5, 2, 2, 1, 6, 4, 4, 3, 6, 2, 2, 5, 1, 4, 4, 2, 3, 1, 5, 5, 2, 5, 5, 6, 1, 3, 6, 2, 4, 2, 6, 6, 3, 6, 2, 5, 1, 6, 4, 6, 1, 6, 5, 2, 3, 5, 2, 4, 6, 5, 3, 3, 1, 2, 2, 5, 5, 6, 5, 5, 1, 2, 5, 3, 2, 1, 3, 4, 1, 2, 5, 4, 4, 5, 1, 2, 1, 4, 5, 6, 6, 4, 1, 3, 4, 2, 6, 4, 1, 3, 4, 2, 5, 1, 3, 3, 5, 2, 2, 2, 3, 2, 6, 1, 6, 4, 6, 2, 2, 2, 6, 5, 3, 4, 1, 1, 2, 5, 4, 5, 2, 6, 3, 4, 3, 1, 3, 4, 4, 1, 6, 4, 4, 4, 3, 1, 1, 3, 2, 1, 5, 2, 5, 6, 3, 3, 3, 1, 3, 5, 5, 3, 6, 4, 5, 3, 1, 5, 4, 6, 6, 4, 5, 4, 5, 5, 4, 6, 1, 3, 5, 5, 4, 6, 2, 3, 1, 4, 5, 1, 3, 2, 5, 1, 4, 2, 2, 6, 6, 4, 6, 3, 6, 1, 6, 5, 3, 4, 5, 2, 1, 3, 4, 3, 4, 4, 4, 6, 6, 2, 1, 6, 6, 4, 2, 5, 2, 3, 1, 5, 5, 4, 4, 3, 3, 4, 3, 4, 2, 6, 1, 5, 6, 2, 6, 6, 4, 2, 3, 5, 5, 1, 4, 1, 6, 3, 2, 4, 3, 5, 3, 5, 6, 6, 3, 1, 5, 1, 1, 3, 3, 1, 5, 5, 2, 3, 3, 6, 1, 5, 1, 4, 5, 5, 5, 1, 3, 1, 6, 6, 2, 5, 3, 4, 6, 6, 3, 4, 6, 2, 4, 4, 5, 2, 1, 3, 5, 1, 2, 2, 3, 6, 2, 1, 1, 2, 6, 1, 4, 5, 6, 6, 5, 6, 4, 3, 3, 1, 4, 3, 3, 6, 4, 3, 4, 4, 6, 4, 2, 5, 6, 2, 4, 2, 6, 3, 5, 1, 2, 2, 5, 3, 1, 2, 2, 6, 1, 1, 2, 4, 1, 4, 6, 4, 4, 4, 3, 4, 5, 1, 6, 5, 2, 4, 3, 2, 6, 3, 4, 4, 6, 1, 2, 6, 3, 3, 6, 4, 2, 4, 6, 5, 3, 6, 3, 1, 2, 1, 4, 1, 1, 4, 3, 2, 5, 6, 4, 6, 5, 6, 4, 2, 3, 4, 6, 4, 5, 6, 1, 3, 6, 6, 6, 6, 1, 5, 2, 3, 4, 2, 5, 1, 3, 4, 6, 3, 5, 5, 5, 3, 4, 2, 6, 3, 4, 6, 5, 2, 4, 2, 4, 6, 3, 2, 5, 1, 3, 2, 4, 3, 6, 2, 2, 5, 3, 3, 5, 4, 6, 2, 1, 2, 5, 4, 6, 6, 6, 1, 4, 3, 2, 4, 3, 6, 3, 2, 1, 6, 3, 4, 1, 3, 1, 3, 4, 1, 3, 5, 6, 4, 3, 1, 2, 4, 5, 5, 4, 5, 5, 6, 4, 6, 3, 2, 6, 4, 4, 4, 3, 1, 2, 4, 5, 1, 3, 6, 2, 5, 3, 4, 1, 6, 3, 6, 5, 5, 4, 4, 4, 1, 1, 2, 6, 4, 6, 6, 5, 2, 1, 4, 1, 1, 2, 5, 6, 4, 1, 3, 5, 6, 1, 1, 5, 3, 6, 4, 2, 4, 2, 3, 5, 5, 2, 6, 3, 3, 4, 4, 5, 3, 3, 2, 3, 1, 5, 2, 3, 1, 6, 6, 3, 4, 6, 6, 2, 5, 5, 1, 4, 3, 5, 4, 6, 2, 6, 5, 2, 4, 1, 4, 3, 1, 1, 5, 4, 6, 3, 2, 4, 4, 1, 6, 6, 3, 1, 3, 4, 3, 5, 2, 5, 3, 3, 5, 6, 6, 2, 6, 3, 6, 3, 4, 5, 5, 2, 4, 4, 3, 5, 1, 3, 4, 2, 6, 2, 2, 1, 4, 5, 5, 3, 2, 5, 6, 6, 2, 3, 6, 2, 5, 2, 1, 5, 1, 6, 3, 1, 4, 4, 6, 1, 4, 2, 4, 2, 4, 5, 2, 6, 2, 3, 4, 3, 4, 4, 4, 4, 6, 2, 6, 1, 6, 2, 1, 1, 3, 2, 4, 4, 5, 5, 1, 5, 6, 6, 6, 4, 6, 4, 3, 6, 1, 1, 6, 4, 1, 3, 2, 5, 2, 3, 6, 4, 6, 1, 3, 1, 2, 5, 6, 2, 4, 4, 3, 2, 5, 1, 6, 2, 2, 6, 1, 6, 4, 5, 6, 2, 5, 4, 4, 3, 3, 6, 2, 5, 6, 3, 3, 3, 5, 2, 3, 4, 4, 1, 1, 4, 2, 3, 6, 5, 5, 4, 6, 1, 4, 1, 2, 3, 5, 6, 2, 2, 1, 6, 2, 5, 4, 1, 6, 1, 1, 3, 5, 3, 5, 4, 4, 1, 5, 5, 5, 4, 3, 6, 5, 3, 1, 5, 2, 4, 1, 6, 1, 3, 6, 3, 5, 6, 4, 6, 3, 1, 2, 2, 4, 5, 1, 1, 3, 2, 4, 2, 1, 1, 4, 5, 6, 5, 4, 5, 3, 4, 5, 3, 2, 1, 5, 6, 1, 4, 5, 6, 5, 4, 6, 3, 2, 1, 5, 4, 4, 5, 3, 3, 6, 2, 1, 2, 6, 3, 2, 2, 1, 3, 6, 3, 3, 3, 5, 1, 3, 2, 6, 1, 6, 2, 4, 6, 4, 4, 3, 4, 5, 5, 1, 5, 5, 4, 1, 5, 1, 3, 6, 3, 3, 6, 4, 4, 6, 2, 4, 3, 5, 2, 1, 4, 3, 6, 5, 6, 2, 5, 6, 6, 2, 3, 4, 1, 4, 3, 4, 6, 5, 1, 6, 1, 6, 4, 1, 3, 3, 3, 5, 2, 2, 5, 6, 3, 6, 3, 5, 1, 6, 3, 2, 4, 5, 3, 1, 1, 5, 1, 1, 4, 3, 6, 5, 4, 5, 5, 3, 4, 5, 2, 5, 2, 1, 1, 5, 2, 2, 1, 2, 3, 6, 4, 6, 3, 3, 3, 4, 3, 5, 6, 4, 5, 6, 2, 2, 4, 1, 6, 4, 5, 5, 4, 3, 5, 3, 6, 6, 6, 4, 6, 6, 1, 2, 1, 1, 5, 6, 4, 1, 5, 4, 1, 1, 4, 6, 3, 4, 3, 4, 5, 3, 6, 3, 1, 1, 2, 4, 1, 5, 5, 2, 4, 2, 3, 5, 5, 5, 4, 2, 1, 5, 3, 5, 1, 3, 2, 4, 2, 2, 6, 6, 6, 1, 1, 3, 4, 2, 4, 4, 5, 4, 6, 5, 2, 3, 6, 1, 3, 1, 1, 5, 5, 1, 6, 2, 2, 6, 2, 5, 6, 3, 1, 6, 5, 6, 5, 4, 5, 4, 5, 1, 5, 6, 3, 6, 4, 3, 4, 5, 1, 1, 6, 5, 2, 4, 5, 1, 2, 2, 5, 5, 5, 4, 4, 3, 2, 4, 5, 3, 3, 3, 2, 2, 1, 5, 6, 2, 1, 5, 1, 2, 2, 2, 2, 6, 2, 3, 4, 2, 4, 3, 3, 6, 3, 1, 5, 4, 3, 6, 3, 5, 6, 6, 3, 5, 3, 4, 3, 5, 2, 1, 1, 1, 1, 1, 3, 2, 1, 4, 6, 3, 1, 6, 4, 6, 3, 1, 1, 2, 3, 5, 6, 1, 3, 1, 6, 2, 3, 3, 3, 1, 6, 1, 2, 2, 3, 1, 2, 3, 6, 5, 2, 6, 5, 2, 1, 3, 6, 3, 3, 6, 3, 2, 1, 5, 2, 3, 6, 2, 3, 3, 3, 6, 1, 5, 5, 3, 6, 1, 4, 6, 4, 6, 5, 3, 4, 3, 2, 4, 6, 3, 2, 3, 2, 5, 6, 1, 6, 2, 4, 1, 4, 3, 1, 2, 1, 5, 3, 4, 1, 6, 2, 1, 2, 4, 2, 4, 3, 2, 5, 6, 3, 6, 2, 1, 4, 2, 2, 5, 1, 6, 1, 1, 3, 5, 3, 1, 5, 1, 6, 5, 4, 5, 2, 5, 6, 5, 1, 5, 4, 6, 3, 1, 5, 5, 4, 2, 6, 5, 2, 4, 2, 1, 5, 2, 2, 1, 2, 6, 5, 2, 1, 5, 6, 1, 1, 3, 6, 3, 4, 6, 2, 6, 1, 4, 3, 5, 4, 4, 2, 1, 1, 4, 2, 2, 5, 6, 3, 1, 4, 4, 3, 6, 2, 6, 2, 4, 4, 3, 6, 6, 6, 2, 2, 3, 6, 5, 2, 3, 6, 3, 5, 4, 5, 4, 3, 1, 1, 4, 5, 5, 2, 6, 3, 6, 1, 6, 3, 5, 2, 4, 3, 1, 1, 2, 4, 5, 1, 5, 4, 2, 4, 6, 6, 3, 5, 5, 4, 2, 4, 1, 6, 3, 2]\n"
          ],
          "name": "stdout"
        }
      ]
    },
    {
      "cell_type": "markdown",
      "metadata": {
        "id": "d63ulWmx38s3"
      },
      "source": [
        "**EXAMPLE 2**\r\n",
        "\r\n",
        "**Binomial Distribution**\r\n",
        "\r\n",
        "\r\n",
        "It describes the outcome of binary scenarios, e.g. toss of a coin, it will either be head or tails.\r\n",
        "\r\n",
        "It has three parameters:\r\n",
        "\r\n",
        "n - number of trials.\r\n",
        "\r\n",
        "p - probability of occurence of each trial (e.g. for toss of a coin 0.5 each).\r\n",
        "\r\n",
        "size - The shape of the returned array.\r\n",
        "\r\n"
      ]
    },
    {
      "cell_type": "code",
      "metadata": {
        "colab": {
          "base_uri": "https://localhost:8080/",
          "height": 318
        },
        "id": "E4b-m9Nk3Nqu",
        "outputId": "a3becb86-52e0-4185-a7cb-2f696a1ee051"
      },
      "source": [
        "from scipy.stats import binom\r\n",
        "import seaborn as sb\r\n",
        "binom.rvs(size=10,n=20,p=0.8)\r\n",
        "data_binom = binom.rvs(n=10,p=0.8,size=1000)\r\n",
        "ax = sb.distplot(data_binom,\r\n",
        "                  kde=False)\r\n"
      ],
      "execution_count": null,
      "outputs": [
        {
          "output_type": "stream",
          "text": [
            "/usr/local/lib/python3.7/dist-packages/seaborn/distributions.py:2557: FutureWarning: `distplot` is a deprecated function and will be removed in a future version. Please adapt your code to use either `displot` (a figure-level function with similar flexibility) or `histplot` (an axes-level function for histograms).\n",
            "  warnings.warn(msg, FutureWarning)\n"
          ],
          "name": "stderr"
        },
        {
          "output_type": "display_data",
          "data": {
            "image/png": "[encoded data removed]",
            "text/plain": [
              "<Figure size 432x288 with 1 Axes>"
            ]
          },
          "metadata": {
            "tags": [],
            "needs_background": "light"
          }
        }
      ]
    },
    {
      "cell_type": "markdown",
      "metadata": {
        "id": "XeQbSth7-U7_"
      },
      "source": [
        "**EXAMPLE 3**\r\n",
        "\r\n",
        "COIN TOSS EXPERIMENT"
      ]
    },
    {
      "cell_type": "code",
      "metadata": {
        "colab": {
          "base_uri": "https://localhost:8080/",
          "height": 318
        },
        "id": "_aDIzBF8-UA2",
        "outputId": "3e9016ea-0ed0-4a07-a0f4-adcfca1ee397"
      },
      "source": [
        "from numpy import random\r\n",
        "import matplotlib.pyplot as plt\r\n",
        "import seaborn as sns\r\n",
        "sns.distplot(random.binomial(n=10, p=0.5, size=1000), hist=True, kde=False)\r\n",
        "plt.show()"
      ],
      "execution_count": null,
      "outputs": [
        {
          "output_type": "stream",
          "text": [
            "/usr/local/lib/python3.7/dist-packages/seaborn/distributions.py:2557: FutureWarning: `distplot` is a deprecated function and will be removed in a future version. Please adapt your code to use either `displot` (a figure-level function with similar flexibility) or `histplot` (an axes-level function for histograms).\n",
            "  warnings.warn(msg, FutureWarning)\n"
          ],
          "name": "stderr"
        },
        {
          "output_type": "display_data",
          "data": {
            "image/png": "[encoded data removed]",
            "text/plain": [
              "<Figure size 432x288 with 1 Axes>"
            ]
          },
          "metadata": {
            "tags": [],
            "needs_background": "light"
          }
        }
      ]
    },
    {
      "cell_type": "markdown",
      "metadata": {
        "id": "7pwk_DgV4xMI"
      },
      "source": [
        "**EXAMPLE 4**\r\n",
        "\r\n",
        "**Poisson Distribution**\r\n",
        "\r\n",
        "It estimates how many times an event can happen in a specified time. e.g. If someone eats twice a day what is probability he will eat thrice?\r\n",
        "\r\n",
        "It has two parameters:\r\n",
        "\r\n",
        "lam - rate or known number of occurences e.g. 2 for above problem.\r\n",
        "\r\n",
        "size - The shape of the returned array."
      ]
    },
    {
      "cell_type": "code",
      "metadata": {
        "colab": {
          "base_uri": "https://localhost:8080/",
          "height": 318
        },
        "id": "ZRGIn3-C45I4",
        "outputId": "281ca80a-55e2-43af-9733-60baed47b51c"
      },
      "source": [
        "#Generate a random 1000 distribution for occurence 3:\r\n",
        "import matplotlib.pyplot as plt\r\n",
        "import seaborn as sns\r\n",
        "sns.distplot(random.poisson(lam=3, size=1000), kde=False)\r\n",
        "plt.show()"
      ],
      "execution_count": null,
      "outputs": [
        {
          "output_type": "stream",
          "text": [
            "/usr/local/lib/python3.7/dist-packages/seaborn/distributions.py:2557: FutureWarning: `distplot` is a deprecated function and will be removed in a future version. Please adapt your code to use either `displot` (a figure-level function with similar flexibility) or `histplot` (an axes-level function for histograms).\n",
            "  warnings.warn(msg, FutureWarning)\n"
          ],
          "name": "stderr"
        },
        {
          "output_type": "display_data",
          "data": {
            "image/png": "[encoded data removed]",
            "text/plain": [
              "<Figure size 432x288 with 1 Axes>"
            ]
          },
          "metadata": {
            "tags": [],
            "needs_background": "light"
          }
        }
      ]
    },
    {
      "cell_type": "markdown",
      "metadata": {
        "id": "4xB0AW1S5w9A"
      },
      "source": [
        "**EXAMPLE 5** "
      ]
    },
    {
      "cell_type": "code",
      "metadata": {
        "colab": {
          "base_uri": "https://localhost:8080/",
          "height": 332
        },
        "id": "Z9PPSAsI59Eu",
        "outputId": "aa1103ee-60d0-4d98-adba-91467e7d5dda"
      },
      "source": [
        "#Generating Random Number\n",
        "from numpy.random import choice\n",
        "import matplotlib.pyplot as plt\n",
        "%matplotlib inline\n",
        " \n",
        "def count_frequencies(data,relative=False):\n",
        "  counter={}\n",
        "  for element in data:\n",
        "    if element not in counter:\n",
        "      counter[element] = 1\n",
        "    else:\n",
        "      counter[element] += 1\n",
        "  \n",
        "  if relative:\n",
        "    for element in counter:\n",
        "      counter[element] /= len(data)\n",
        "  return counter\n",
        "sample= choice([1,2,3,4,5],size=100,p=[0.3,0.1,0.4,0.0,0.2])\n",
        "print(sample)\n",
        "count_frequencies(sample)\n",
        "#Visualization\n",
        "freq=count_frequencies(sample,relative=True)\n",
        "plt.bar(list(freq.keys()),list(freq.values()))"
      ],
      "execution_count": null,
      "outputs": [
        {
          "output_type": "stream",
          "text": [
            "[3 3 5 3 3 2 1 3 1 3 3 2 3 3 5 3 3 3 1 3 1 5 1 3 3 1 5 2 3 5 2 1 1 1 3 3 2\n",
            " 1 3 1 2 1 1 3 5 1 3 1 3 2 5 2 3 3 3 1 1 1 1 5 3 3 1 5 3 5 3 1 3 3 3 3 1 2\n",
            " 1 3 3 3 5 5 1 5 2 5 3 1 5 3 5 1 5 5 1 2 1 5 5 1 2 2]\n"
          ],
          "name": "stdout"
        },
        {
          "output_type": "execute_result",
          "data": {
            "text/plain": [
              "<BarContainer object of 4 artists>"
            ]
          },
          "metadata": {
            "tags": []
          },
          "execution_count": 9
        },
        {
          "output_type": "display_data",
          "data": {
            "image/png": "[encoded data removed]",
            "text/plain": [
              "<Figure size 432x288 with 1 Axes>"
            ]
          },
          "metadata": {
            "tags": [],
            "needs_background": "light"
          }
        }
      ]
    },
    {
      "cell_type": "markdown",
      "metadata": {
        "id": "mybHXOypCPGH"
      },
      "source": [
        "**EXAMPLE 6**\r\n",
        "\r\n",
        "**Bernoulli Distribution**\r\n",
        "\r\n",
        "The Bernoulli distribution is a special case of the Binomial distribution where a single experiment is conducted so that the number of observation is 1. So, the Bernoulli distribution therefore describes events having exactly two outcomes."
      ]
    },
    {
      "cell_type": "code",
      "metadata": {
        "colab": {
          "base_uri": "https://localhost:8080/",
          "height": 318
        },
        "id": "IT6r0HKRChF4",
        "outputId": "608f01f8-0f2a-4a5b-ab24-4c6f2450a08d"
      },
      "source": [
        "from scipy.stats import bernoulli\r\n",
        "import seaborn as sb\r\n",
        "data_bern = bernoulli.rvs(size=1000,p=0.5)\r\n",
        "ax = sb.distplot(data_bern,\r\n",
        "                  kde=False)\r\n",
        "\r\n"
      ],
      "execution_count": null,
      "outputs": [
        {
          "output_type": "stream",
          "text": [
            "/usr/local/lib/python3.7/dist-packages/seaborn/distributions.py:2557: FutureWarning: `distplot` is a deprecated function and will be removed in a future version. Please adapt your code to use either `displot` (a figure-level function with similar flexibility) or `histplot` (an axes-level function for histograms).\n",
            "  warnings.warn(msg, FutureWarning)\n"
          ],
          "name": "stderr"
        },
        {
          "output_type": "display_data",
          "data": {
            "image/png": "[encoded data removed]",
            "text/plain": [
              "<Figure size 432x288 with 1 Axes>"
            ]
          },
          "metadata": {
            "tags": [],
            "needs_background": "light"
          }
        }
      ]
    },
    {
      "cell_type": "markdown",
      "metadata": {
        "id": "7tKwQ0Tj1Odj"
      },
      "source": [
        "2. **CONTINUOUS RANDOM VARIABLE**                                                                   \r\n",
        "*   A continuous random variable can assume any value along a given interval of a number line.\r\n",
        "*   Examples :\r\n",
        "    \r\n",
        "    The time a tourist stays at the top once he/she gets there\r\n",
        "\r\n"
      ]
    },
    {
      "cell_type": "markdown",
      "metadata": {
        "id": "T-T8fkW7209L"
      },
      "source": [
        "*   **Continuous Random Variable**\r\n",
        "    1. Length\r\n",
        "    2. Depth\r\n",
        "    3. Volume\r\n",
        "    4. Time\r\n",
        "    5. Weight\r\n",
        "\r\n",
        "\r\n",
        "\r\n",
        "\r\n",
        "\r\n",
        "\r\n",
        "\r\n",
        "\r\n"
      ]
    },
    {
      "cell_type": "markdown",
      "metadata": {
        "id": "TwPBqA4KmGj4"
      },
      "source": [
        "1.   **ROLE IN STATISTICAL MODELLING**                                           \r\n",
        "=>  It is used to find accuracy of the model.\r\n",
        "2.   **ROLE IN MACHINE LEARNING (ML)**                                            \r\n",
        "=>  Continuous Random Variables are encountered in ML, most notably in the distribution of numerical input and output variables for models and in the distribution of errors made by models. Knowledge of the normal continuous random variable is also required more generally in the density and parameter estimation performed by many machine learning models. \r\n",
        "3.   **ROLE IN DEEP LEARNING**                                                                       \r\n",
        "=>  Continous Random Variable is used in deep learning to learn about patterns in the data.\r\n",
        "4.   **ROLE IN NATURAL LANGUAGE PROCESSING (NLP)**                                                                                                                                                  \r\n",
        "=>  Suppose there is a sentimental analyser that outputs a sentiment polarity value as a real number in the range (-1,1). The output of this system is an example of a continuous random Variable. \r\n"
      ]
    },
    {
      "cell_type": "markdown",
      "metadata": {
        "id": "JHDGdoz-6hMm"
      },
      "source": [
        "**EXAMPLE 1**\r\n",
        "\r\n",
        "The length of a sales representatives phone call"
      ]
    },
    {
      "cell_type": "code",
      "metadata": {
        "colab": {
          "base_uri": "https://localhost:8080/",
          "height": 282
        },
        "id": "4VoqugQx6xTh",
        "outputId": "59a73c88-83e3-48f4-879a-f0c6f34dbab3"
      },
      "source": [
        "# minimum call length 3\r\n",
        "#maximum call length 20\r\n",
        "#number of trials 100\r\n",
        "#mean value (mu) -- 4\r\n",
        "#standard deviation - 2\r\n",
        "\r\n",
        "def normal_pdf(x, mu = 4, sigma = 2):\r\n",
        "    return (1./np.sqrt(2*3.14 * sigma**2)) * 2.718**(-(x-mu)**2 / (2. * sigma**2))\r\n",
        "\r\n",
        "x_values = np.linspace(3,20,100)\r\n",
        "y_values = [normal_pdf(x) for x in x_values]\r\n",
        "plt.plot(x_values, y_values)"
      ],
      "execution_count": null,
      "outputs": [
        {
          "output_type": "execute_result",
          "data": {
            "text/plain": [
              "[<matplotlib.lines.Line2D at 0x7f630249f1d0>]"
            ]
          },
          "metadata": {
            "tags": []
          },
          "execution_count": 10
        },
        {
          "output_type": "display_data",
          "data": {
            "image/png": "[encoded data removed]",
            "text/plain": [
              "<Figure size 432x288 with 1 Axes>"
            ]
          },
          "metadata": {
            "tags": [],
            "needs_background": "light"
          }
        }
      ]
    },
    {
      "cell_type": "markdown",
      "metadata": {
        "id": "VyIwWAH565Ws"
      },
      "source": [
        "**EXAMPLE 2**\r\n",
        "\r\n",
        "**Uniform Distribution**\r\n",
        "used to describe probability where every event has equal chances of occuring.\r\n",
        "\r\n",
        "E.g. Generation of random numbers.\r\n",
        "\r\n",
        "It has three parameters:\r\n",
        "\r\n",
        "a - lower bound - default 0 .0.\r\n",
        "\r\n",
        "b - upper bound - default 1.0.\r\n",
        "\r\n",
        "size - The shape of the returned array."
      ]
    },
    {
      "cell_type": "code",
      "metadata": {
        "colab": {
          "base_uri": "https://localhost:8080/",
          "height": 320
        },
        "id": "FWndEyDA7UMi",
        "outputId": "fcf23241-9bd2-42ab-d5b5-6b5f7a2827b0"
      },
      "source": [
        "#Generate a 100 uniform distribution sample and visualization for the same\r\n",
        "from numpy import random\r\n",
        "import matplotlib.pyplot as plt\r\n",
        "import seaborn as sns\r\n",
        "sns.distplot(random.uniform(size=100), hist=False)\r\n",
        "plt.show()"
      ],
      "execution_count": null,
      "outputs": [
        {
          "output_type": "stream",
          "text": [
            "/usr/local/lib/python3.7/dist-packages/seaborn/distributions.py:2557: FutureWarning: `distplot` is a deprecated function and will be removed in a future version. Please adapt your code to use either `displot` (a figure-level function with similar flexibility) or `kdeplot` (an axes-level function for kernel density plots).\n",
            "  warnings.warn(msg, FutureWarning)\n"
          ],
          "name": "stderr"
        },
        {
          "output_type": "display_data",
          "data": {
            "image/png": "[encoded data removed]",
            "text/plain": [
              "<Figure size 432x288 with 1 Axes>"
            ]
          },
          "metadata": {
            "tags": [],
            "needs_background": "light"
          }
        }
      ]
    },
    {
      "cell_type": "markdown",
      "metadata": {
        "id": "yv3ZTs_f71yg"
      },
      "source": [
        "**EXAMPLE 3**"
      ]
    },
    {
      "cell_type": "code",
      "metadata": {
        "colab": {
          "base_uri": "https://localhost:8080/"
        },
        "id": "epRpHvbR8DNx",
        "outputId": "7b846cc8-788a-4cd6-97bf-128e10bec6a3"
      },
      "source": [
        "#Generating Random Number\r\n",
        "import scipy.stats\r\n",
        "X= scipy.stats.uniform(3,4)\r\n",
        "X.pdf(3.5)\r\n",
        "import numpy as np\r\n",
        "x=np.linspace(2,8,100)\r\n",
        "x"
      ],
      "execution_count": null,
      "outputs": [
        {
          "output_type": "execute_result",
          "data": {
            "text/plain": [
              "array([2.        , 2.06060606, 2.12121212, 2.18181818, 2.24242424,\n",
              "       2.3030303 , 2.36363636, 2.42424242, 2.48484848, 2.54545455,\n",
              "       2.60606061, 2.66666667, 2.72727273, 2.78787879, 2.84848485,\n",
              "       2.90909091, 2.96969697, 3.03030303, 3.09090909, 3.15151515,\n",
              "       3.21212121, 3.27272727, 3.33333333, 3.39393939, 3.45454545,\n",
              "       3.51515152, 3.57575758, 3.63636364, 3.6969697 , 3.75757576,\n",
              "       3.81818182, 3.87878788, 3.93939394, 4.        , 4.06060606,\n",
              "       4.12121212, 4.18181818, 4.24242424, 4.3030303 , 4.36363636,\n",
              "       4.42424242, 4.48484848, 4.54545455, 4.60606061, 4.66666667,\n",
              "       4.72727273, 4.78787879, 4.84848485, 4.90909091, 4.96969697,\n",
              "       5.03030303, 5.09090909, 5.15151515, 5.21212121, 5.27272727,\n",
              "       5.33333333, 5.39393939, 5.45454545, 5.51515152, 5.57575758,\n",
              "       5.63636364, 5.6969697 , 5.75757576, 5.81818182, 5.87878788,\n",
              "       5.93939394, 6.        , 6.06060606, 6.12121212, 6.18181818,\n",
              "       6.24242424, 6.3030303 , 6.36363636, 6.42424242, 6.48484848,\n",
              "       6.54545455, 6.60606061, 6.66666667, 6.72727273, 6.78787879,\n",
              "       6.84848485, 6.90909091, 6.96969697, 7.03030303, 7.09090909,\n",
              "       7.15151515, 7.21212121, 7.27272727, 7.33333333, 7.39393939,\n",
              "       7.45454545, 7.51515152, 7.57575758, 7.63636364, 7.6969697 ,\n",
              "       7.75757576, 7.81818182, 7.87878788, 7.93939394, 8.        ])"
            ]
          },
          "metadata": {
            "tags": []
          },
          "execution_count": 16
        }
      ]
    },
    {
      "cell_type": "code",
      "metadata": {
        "colab": {
          "base_uri": "https://localhost:8080/",
          "height": 282
        },
        "id": "Sw8OxqgW8H_9",
        "outputId": "f32bc12e-25e9-41cc-8b40-2a33f5f78a07"
      },
      "source": [
        "#Visualization\r\n",
        "from numpy.random import uniform\r\n",
        "plt.plot(x,X.pdf(x))\r\n",
        "# sample=uniform(low=3,high=7,size=100000)\r\n",
        "# plt.hist(sample,density=True)"
      ],
      "execution_count": null,
      "outputs": [
        {
          "output_type": "execute_result",
          "data": {
            "text/plain": [
              "[<matplotlib.lines.Line2D at 0x7f630178cc10>]"
            ]
          },
          "metadata": {
            "tags": []
          },
          "execution_count": 15
        },
        {
          "output_type": "display_data",
          "data": {
            "image/png": "[encoded data removed]",
            "text/plain": [
              "<Figure size 432x288 with 1 Axes>"
            ]
          },
          "metadata": {
            "tags": [],
            "needs_background": "light"
          }
        }
      ]
    },
    {
      "cell_type": "markdown",
      "metadata": {
        "id": "R550N-wO8eUB"
      },
      "source": [
        "**EXAMPLE 4**\r\n",
        "\r\n",
        "**Logistic Distribution**\r\n",
        "\r\n",
        "Logistic Distribution is used to describe growth.\r\n",
        "\r\n",
        "Used extensively in machine learning in logistic regression, neural networks etc.\r\n",
        "\r\n",
        "It has three parameters:\r\n",
        "\r\n",
        "loc - mean, where the peak is. Default 0.\r\n",
        "\r\n",
        "scale - standard deviation, the flatness of distribution. Default 1.\r\n",
        "\r\n",
        "size - The shape of the returned array."
      ]
    },
    {
      "cell_type": "code",
      "metadata": {
        "colab": {
          "base_uri": "https://localhost:8080/",
          "height": 322
        },
        "id": "aHHHxlXf89KM",
        "outputId": "ae10733b-ba0a-4b95-fd61-54c27202e9e4"
      },
      "source": [
        "from numpy import random\r\n",
        "import matplotlib.pyplot as plt\r\n",
        "import seaborn as sns\r\n",
        "sns.distplot(random.logistic(size=100), hist=False)\r\n",
        "plt.show()"
      ],
      "execution_count": null,
      "outputs": [
        {
          "output_type": "stream",
          "text": [
            "/usr/local/lib/python3.7/dist-packages/seaborn/distributions.py:2557: FutureWarning: `distplot` is a deprecated function and will be removed in a future version. Please adapt your code to use either `displot` (a figure-level function with similar flexibility) or `kdeplot` (an axes-level function for kernel density plots).\n",
            "  warnings.warn(msg, FutureWarning)\n"
          ],
          "name": "stderr"
        },
        {
          "output_type": "display_data",
          "data": {
            "image/png": "[encoded data removed]",
            "text/plain": [
              "<Figure size 432x288 with 1 Axes>"
            ]
          },
          "metadata": {
            "tags": [],
            "needs_background": "light"
          }
        }
      ]
    },
    {
      "cell_type": "markdown",
      "metadata": {
        "id": "qJJ5fiyW9OIB"
      },
      "source": [
        "**EXAMPLE 5**\r\n",
        "\r\n",
        "**Exponential Distribution**\r\n",
        "\r\n",
        "Exponential distribution is used for describing time till next event e.g. failure/success etc.\r\n",
        "\r\n",
        "It has two parameters:\r\n",
        "\r\n",
        "scale - inverse of rate ( see lam in poisson distribution ) defaults to 1.0.\r\n",
        "\r\n",
        "size - The shape of the returned array."
      ]
    },
    {
      "cell_type": "code",
      "metadata": {
        "colab": {
          "base_uri": "https://localhost:8080/",
          "height": 318
        },
        "id": "ZvxLXj-39VNm",
        "outputId": "7fa913b3-974d-40ae-8417-cc3ad1d48b96"
      },
      "source": [
        "from numpy import random\r\n",
        "import matplotlib.pyplot as plt\r\n",
        "import seaborn as sns\r\n",
        "sns.distplot(random.exponential(size=100), hist=False)\r\n",
        "plt.show()"
      ],
      "execution_count": null,
      "outputs": [
        {
          "output_type": "stream",
          "text": [
            "/usr/local/lib/python3.7/dist-packages/seaborn/distributions.py:2557: FutureWarning: `distplot` is a deprecated function and will be removed in a future version. Please adapt your code to use either `displot` (a figure-level function with similar flexibility) or `kdeplot` (an axes-level function for kernel density plots).\n",
            "  warnings.warn(msg, FutureWarning)\n"
          ],
          "name": "stderr"
        },
        {
          "output_type": "display_data",
          "data": {
            "image/png": "[encoded data removed]",
            "text/plain": [
              "<Figure size 432x288 with 1 Axes>"
            ]
          },
          "metadata": {
            "tags": [],
            "needs_background": "light"
          }
        }
      ]
    },
    {
      "cell_type": "markdown",
      "metadata": {
        "id": "O1WJQ6w29kbS"
      },
      "source": [
        "**EXAMPLE 6**\r\n",
        "\r\n",
        "**Chi Square Distribution**\r\n",
        "\r\n",
        "Chi Square distribution is used as a basis to verify the hypothesis.\r\n",
        "\r\n",
        "It has two parameters:\r\n",
        "\r\n",
        "df - (degree of freedom).\r\n",
        "\r\n",
        "size - The shape of the returned array."
      ]
    },
    {
      "cell_type": "code",
      "metadata": {
        "colab": {
          "base_uri": "https://localhost:8080/",
          "height": 318
        },
        "id": "FWulwyKr9vem",
        "outputId": "1b630d59-fe2d-422c-cc50-664a4b23bdef"
      },
      "source": [
        "#Generate a sample for chi squared distribution with degree of freedom 3 with size 100\r\n",
        "from numpy import random\r\n",
        "import matplotlib.pyplot as plt\r\n",
        "import seaborn as sns\r\n",
        "sns.distplot(random.chisquare(df=3, size=100), hist=False)\r\n",
        "plt.show()"
      ],
      "execution_count": null,
      "outputs": [
        {
          "output_type": "stream",
          "text": [
            "/usr/local/lib/python3.7/dist-packages/seaborn/distributions.py:2557: FutureWarning: `distplot` is a deprecated function and will be removed in a future version. Please adapt your code to use either `displot` (a figure-level function with similar flexibility) or `kdeplot` (an axes-level function for kernel density plots).\n",
            "  warnings.warn(msg, FutureWarning)\n"
          ],
          "name": "stderr"
        },
        {
          "output_type": "display_data",
          "data": {
            "image/png": "[encoded data removed]",
            "text/plain": [
              "<Figure size 432x288 with 1 Axes>"
            ]
          },
          "metadata": {
            "tags": [],
            "needs_background": "light"
          }
        }
      ]
    },
    {
      "cell_type": "markdown",
      "metadata": {
        "id": "9NrHuZ40HZbz"
      },
      "source": [
        "**=======================================================================================**"
      ]
    }
  ]
}