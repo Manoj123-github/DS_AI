{
  "nbformat": 4,
  "nbformat_minor": 0,
  "metadata": {
    "kernelspec": {
      "display_name": "Python 3",
      "language": "python",
      "name": "python3"
    },
    "language_info": {
      "codemirror_mode": {
        "name": "ipython",
        "version": 3
      },
      "file_extension": ".py",
      "mimetype": "text/x-python",
      "name": "python",
      "nbconvert_exporter": "python",
      "pygments_lexer": "ipython3",
      "version": "3.8.3"
    },
    "colab": {
      "name": "FDS_LAB_Practical_7_Data_&_Sampling_Distributions_and_Inferential_Statistics.ipynb",
      "provenance": [],
      "collapsed_sections": [],
      "include_colab_link": true
    }
  },
  "cells": [
    {
      "cell_type": "markdown",
      "metadata": {
        "id": "view-in-github",
        "colab_type": "text"
      },
      "source": [
        "<a href=\"https://colab.research.google.com/github/Sadiksha08/FDS-Lab-Work/blob/main/FDS_LAB_Practical_7_Data_%26_Sampling_Distributions_and_Inferential_Statistics.ipynb\" target=\"_parent\"><img src=\"https://colab.research.google.com/assets/colab-badge.svg\" alt=\"Open In Colab\"/></a>"
      ]
    },
    {
      "cell_type": "markdown",
      "metadata": {
        "id": "T0Jt9DCyTVjF"
      },
      "source": [
        "# **Data & Sampling Distributions and Inferential Statistics**"
      ]
    },
    {
      "cell_type": "code",
      "metadata": {
        "id": "cP3xcMvLTR4V"
      },
      "source": [
        "#1. Sampling DistributioN\n",
        "#(https://github.com/gedeck/practical-statistics-for-data-scientists/blob/master/python/notebooks/Chapter%202%20-%20Data%20and%20sampling%20distributions.ipynb)\n",
        "\n",
        "from pathlib import Path\n",
        "import pandas as pd\n",
        "import numpy as np\n",
        "from scipy import stats\n",
        "from sklearn.utils import resample\n",
        "\n",
        "import seaborn as sns\n",
        "import matplotlib.pylab as plt"
      ],
      "execution_count": null,
      "outputs": []
    },
    {
      "cell_type": "code",
      "metadata": {
        "id": "aK6Mp1b0TR4r"
      },
      "source": [
        "LOANS_INCOME_CSV =pd.read_csv('D:\\Python\\loans_income.csv')"
      ],
      "execution_count": null,
      "outputs": []
    },
    {
      "cell_type": "code",
      "metadata": {
        "id": "AfdB1w6qTR4t",
        "outputId": "b0b3eb2a-9a2b-4b89-85fc-df075bb27dc2"
      },
      "source": [
        "LOANS_INCOME_CSV"
      ],
      "execution_count": null,
      "outputs": [
        {
          "output_type": "execute_result",
          "data": {
            "text/html": [
              "<div>\n",
              "<style scoped>\n",
              "    .dataframe tbody tr th:only-of-type {\n",
              "        vertical-align: middle;\n",
              "    }\n",
              "\n",
              "    .dataframe tbody tr th {\n",
              "        vertical-align: top;\n",
              "    }\n",
              "\n",
              "    .dataframe thead th {\n",
              "        text-align: right;\n",
              "    }\n",
              "</style>\n",
              "<table border=\"1\" class=\"dataframe\">\n",
              "  <thead>\n",
              "    <tr style=\"text-align: right;\">\n",
              "      <th></th>\n",
              "      <th>x</th>\n",
              "    </tr>\n",
              "  </thead>\n",
              "  <tbody>\n",
              "    <tr>\n",
              "      <th>0</th>\n",
              "      <td>67000</td>\n",
              "    </tr>\n",
              "    <tr>\n",
              "      <th>1</th>\n",
              "      <td>52000</td>\n",
              "    </tr>\n",
              "    <tr>\n",
              "      <th>2</th>\n",
              "      <td>100000</td>\n",
              "    </tr>\n",
              "    <tr>\n",
              "      <th>3</th>\n",
              "      <td>78762</td>\n",
              "    </tr>\n",
              "    <tr>\n",
              "      <th>4</th>\n",
              "      <td>37041</td>\n",
              "    </tr>\n",
              "    <tr>\n",
              "      <th>...</th>\n",
              "      <td>...</td>\n",
              "    </tr>\n",
              "    <tr>\n",
              "      <th>94</th>\n",
              "      <td>69000</td>\n",
              "    </tr>\n",
              "    <tr>\n",
              "      <th>95</th>\n",
              "      <td>63800</td>\n",
              "    </tr>\n",
              "    <tr>\n",
              "      <th>96</th>\n",
              "      <td>80000</td>\n",
              "    </tr>\n",
              "    <tr>\n",
              "      <th>97</th>\n",
              "      <td>77252</td>\n",
              "    </tr>\n",
              "    <tr>\n",
              "      <th>98</th>\n",
              "      <td>50000</td>\n",
              "    </tr>\n",
              "  </tbody>\n",
              "</table>\n",
              "<p>99 rows × 1 columns</p>\n",
              "</div>"
            ],
            "text/plain": [
              "         x\n",
              "0    67000\n",
              "1    52000\n",
              "2   100000\n",
              "3    78762\n",
              "4    37041\n",
              "..     ...\n",
              "94   69000\n",
              "95   63800\n",
              "96   80000\n",
              "97   77252\n",
              "98   50000\n",
              "\n",
              "[99 rows x 1 columns]"
            ]
          },
          "metadata": {
            "tags": []
          },
          "execution_count": 5
        }
      ]
    },
    {
      "cell_type": "code",
      "metadata": {
        "id": "F_au_7yyTR4w",
        "outputId": "6fcdd9fd-2266-47b4-94e3-428a47dba252"
      },
      "source": [
        "loans_income = pd.read_csv('D:\\Python\\loans_income.csv', squeeze=True)\n",
        "\n",
        "sample_data = pd.DataFrame({\n",
        "    'income': loans_income.sample(100),\n",
        "    'type': 'Data',\n",
        "})\n",
        "\n",
        "sample_mean_05 = pd.DataFrame({\n",
        "    'income': [loans_income.sample(5).mean() for _ in range(100)],\n",
        "    'type': 'Mean of 5',\n",
        "})\n",
        "\n",
        "sample_mean_20 = pd.DataFrame({\n",
        "    'income': [loans_income.sample(20).mean() for _ in range(100)],\n",
        "    'type': 'Mean of 20',\n",
        "})\n",
        "\n",
        "results = pd.concat([sample_data, sample_mean_05, sample_mean_20])\n",
        "print(results.head())"
      ],
      "execution_count": null,
      "outputs": [
        {
          "output_type": "stream",
          "text": [
            "       income  type\n",
            "134   55000.0  Data\n",
            "69    36000.0  Data\n",
            "135  105000.0  Data\n",
            "62    34444.0  Data\n",
            "168  100000.0  Data\n"
          ],
          "name": "stdout"
        }
      ]
    },
    {
      "cell_type": "code",
      "metadata": {
        "id": "l2sVebXPTR4y",
        "outputId": "385b0e7e-e31e-4fe9-8c83-1f8bdc351096"
      },
      "source": [
        "g = sns.FacetGrid(results, col='type', col_wrap=1, \n",
        "                  height=2, aspect=2)\n",
        "g.map(plt.hist, 'income', range=[0, 200000], bins=40)\n",
        "g.set_axis_labels('Income', 'Count')\n",
        "g.set_titles('{col_name}')\n",
        "\n",
        "plt.tight_layout()\n",
        "plt.show()"
      ],
      "execution_count": null,
      "outputs": [
        {
          "output_type": "display_data",
          "data": {
            "image/png": "[encoded data removed]",
            "text/plain": [
              "<Figure size 288x432 with 3 Axes>"
            ]
          },
          "metadata": {
            "tags": [],
            "needs_background": "light"
          }
        }
      ]
    },
    {
      "cell_type": "code",
      "metadata": {
        "id": "19leGtVFTR4z",
        "outputId": "4df8370c-5bfa-4a9a-d94e-0cb759d35b35"
      },
      "source": [
        "#2. Bootstrap(https://github.com/gedeck/practical-statistics-for-data-scientists/blob/master/python/notebooks/Chapter%202%20-%20Data%20and%20sampling%20distributions.ipynb)\n",
        "\n",
        "results = []\n",
        "for nrepeat in range(1000):\n",
        "    sample = resample(loans_income)\n",
        "    results.append(sample.median())\n",
        "results = pd.Series(results)\n",
        "print('Bootstrap Statistics:')\n",
        "print(f'original: {loans_income.median()}')\n",
        "print(f'bias: {results.mean() - loans_income.median()}')\n",
        "print(f'std. error: {results.std()}')"
      ],
      "execution_count": null,
      "outputs": [
        {
          "output_type": "stream",
          "text": [
            "Bootstrap Statistics:\n",
            "original: 60000.0\n",
            "bias: 1387.7280000000028\n",
            "std. error: 2370.881509301364\n"
          ],
          "name": "stdout"
        }
      ]
    },
    {
      "cell_type": "code",
      "metadata": {
        "id": "AaNE4CYjTR41",
        "outputId": "5e5b5a7a-9899-4a4c-d34e-21f8dd9fdbe4"
      },
      "source": [
        "#3. Central Limit Theorem (https://youtu.be/Ecs_JPe9gCM)\n",
        "import numpy as np\n",
        "import random\n",
        "\n",
        "\n",
        "# Create a parent distribution, from the gamma family\n",
        "shape, scale = 2., 2.  # mean=4, std=2*sqrt(2)\n",
        "s = np.random.gamma(shape, scale, 100000)\n",
        "print(np.mean(s))\n",
        "import matplotlib.pyplot as plt\n",
        "import scipy.special as sps\n",
        "plt.hist(s)\n",
        "plt.show()\n",
        "\n",
        "\n",
        "# The distribution of the means from the sampled groups is normally distributed\n",
        "samples = [ np.mean(random.choices(s, k=20)) for _ in range(1000) ]\n",
        "plt.hist(samples)\n",
        "plt.show()"
      ],
      "execution_count": null,
      "outputs": [
        {
          "output_type": "stream",
          "text": [
            "4.020422922241316\n"
          ],
          "name": "stdout"
        },
        {
          "output_type": "display_data",
          "data": {
            "image/png": "[encoded data removed]",
            "text/plain": [
              "<Figure size 432x288 with 1 Axes>"
            ]
          },
          "metadata": {
            "tags": [],
            "needs_background": "light"
          }
        },
        {
          "output_type": "display_data",
          "data": {
            "image/png": "[encoded data removed]",
            "text/plain": [
              "<Figure size 432x288 with 1 Axes>"
            ]
          },
          "metadata": {
            "tags": [],
            "needs_background": "light"
          }
        }
      ]
    },
    {
      "cell_type": "code",
      "metadata": {
        "id": "_BSqaVlgTR42",
        "outputId": "bf47d8c8-a739-4139-81f7-d684ebdd852d"
      },
      "source": [
        "#4. The Law of Large Numbers\n",
        "#(https://towardsdatascience.com/sampling-distributions-with-python-implementation-3f4555e1d450)\n",
        "#The law of large numbers states that as a sample size increases, the sample mean will get closer to the population mean. \n",
        "#Let’s check this with our example.\n",
        "\n",
        "#Below is an array that represents the puppies we have in our sample, where 1 \n",
        "#represents the puppies with blue eyes, and 0 represents the puppies with hazel eyes.\n",
        "\n",
        "np.random.seed(42)\n",
        "\n",
        "puppies = np.array([1,0,1,1,1,1,0,0,0,0,1,1,1,1,1,1,1,1,1,1])\n",
        "\n",
        "\n",
        "#Let's generate one more sample of size 100.\n",
        "np.random.choice(puppies, 100, replace=True)\n",
        "\n",
        "\n",
        "\n",
        "hundred_sample_props= []\n",
        "for i in range(10000):\n",
        "    sample = np.random.choice(puppies, 100, replace=True)\n",
        "    hundred_sample_props.append(sample.mean())\n",
        "hundred_sample_props = np.array(hundred_sample_props)\n",
        "\n",
        "np.random.choice(puppies, 5, replace=True).mean()\n",
        "np.random.choice(puppies, 20, replace=True).mean()\n",
        "np.random.choice(puppies, 100, replace=True).mean()"
      ],
      "execution_count": null,
      "outputs": [
        {
          "output_type": "execute_result",
          "data": {
            "text/plain": [
              "0.8"
            ]
          },
          "metadata": {
            "tags": []
          },
          "execution_count": 12
        }
      ]
    },
    {
      "cell_type": "code",
      "metadata": {
        "id": "iNVLufKkTR45",
        "outputId": "2b2cdb27-2c4d-412d-c5f8-5a17d361a173"
      },
      "source": [
        "#5. Plotting Estimates (Mean and Standard Deviation)\n",
        "#(https://www.geeksforgeeks.org/how-to-plot-mean-and-standard-deviation-in-pandas/)\n",
        "\n",
        "# Import the necessary libraries to read \n",
        "# dataset and work on that \n",
        "import pandas as pd \n",
        "import numpy as np \n",
        "import matplotlib.pyplot as plt \n",
        "  \n",
        "# Make the dataframe for evaluation on Errorbars \n",
        "df = pd.DataFrame({ \n",
        "    'insert': [0.0, 0.1, 0.3, 0.5, 1.0], \n",
        "    'mean': [0.009905, 0.45019, 0.376818, 0.801856, 0.643859], \n",
        "    'quality': ['good', 'good', 'poor', 'good', 'poor'],  \n",
        "    'std': [0.003662, 0.281895, 0.306806, 0.243288, 0.322378]}) \n",
        "  \n",
        "print(df)"
      ],
      "execution_count": null,
      "outputs": [
        {
          "output_type": "stream",
          "text": [
            "   insert      mean quality       std\n",
            "0     0.0  0.009905    good  0.003662\n",
            "1     0.1  0.450190    good  0.281895\n",
            "2     0.3  0.376818    poor  0.306806\n",
            "3     0.5  0.801856    good  0.243288\n",
            "4     1.0  0.643859    poor  0.322378\n"
          ],
          "name": "stdout"
        }
      ]
    },
    {
      "cell_type": "code",
      "metadata": {
        "id": "PzRmFN_mTR47",
        "outputId": "26aa320b-d249-4683-c9d2-878223ac9d97"
      },
      "source": [
        "# Subplots as having two types of quality \n",
        "fig, ax = plt.subplots() \n",
        "  \n",
        "for key, group in df.groupby('quality'): \n",
        "    group.plot('insert', 'mean', yerr='std',  \n",
        "               label=key, ax=ax) \n",
        "plt.show()"
      ],
      "execution_count": null,
      "outputs": [
        {
          "output_type": "display_data",
          "data": {
            "image/png": "[encoded data removed]",
            "text/plain": [
              "<Figure size 432x288 with 1 Axes>"
            ]
          },
          "metadata": {
            "tags": [],
            "needs_background": "light"
          }
        }
      ]
    },
    {
      "cell_type": "code",
      "metadata": {
        "id": "HbPjv7mETR48",
        "outputId": "0eb4c707-fa5b-4d53-8c5f-e6321cc669dc"
      },
      "source": [
        "# Groupby the quality column using aggreate \n",
        "# value of mean and std \n",
        "qual = df.groupby(\"quality\").agg([np.mean, np.std]) \n",
        "qual = qual['insert'] \n",
        "qual.plot(kind = \"barh\", y = \"mean\", legend = False, \n",
        "\t\txerr = \"std\", title = \"Quality\", color='green')"
      ],
      "execution_count": null,
      "outputs": [
        {
          "output_type": "execute_result",
          "data": {
            "text/plain": [
              "<matplotlib.axes._subplots.AxesSubplot at 0x1541127f9d0>"
            ]
          },
          "metadata": {
            "tags": []
          },
          "execution_count": 16
        },
        {
          "output_type": "display_data",
          "data": {
            "image/png": "[encoded data removed]",
            "text/plain": [
              "<Figure size 432x288 with 1 Axes>"
            ]
          },
          "metadata": {
            "tags": [],
            "needs_background": "light"
          }
        }
      ]
    },
    {
      "cell_type": "code",
      "metadata": {
        "id": "PUXSFdjWTR4-",
        "outputId": "8b2a4e88-3223-4fd7-99ee-5fe7c8e50008"
      },
      "source": [
        "'''Inferential Statistics\n",
        "\n",
        " Calculating Expected Parameters (Mean and\n",
        "Standard Deviation)\n",
        "'''\n",
        "\n",
        "data=pd.read_csv('D:\\Python\\loans_income.csv')\n",
        "\n",
        "\n",
        "# Compute the mean and standard deviation of the sample_distances\n",
        "sample_mean = np.mean(data)\n",
        "sample_stdev = np.std(data)\n",
        "print(\"mean\",sample_mean)\n",
        "print(\"standard deviation\",sample_stdev)\n",
        "\n",
        "# Use the sample mean and stdev as estimates of the population model parameters mu and sigma\n",
        "#population_model = gaussian_model(data, mu=sample_mean, sigma=sample_stdev)\n",
        "\n",
        "# Plot the model and data to see how they compare\n",
        "#fig = plot_data_and_model(data, population_model)"
      ],
      "execution_count": null,
      "outputs": [
        {
          "output_type": "stream",
          "text": [
            "mean 50000    67314.05\n",
            "dtype: float64\n",
            "standard deviation 50000    30580.234462\n",
            "dtype: float64\n"
          ],
          "name": "stdout"
        }
      ]
    },
    {
      "cell_type": "markdown",
      "metadata": {
        "id": "rVX8MCypTR4_"
      },
      "source": [
        "6.Confidence Interval\n",
        "\n",
        "A confidence interval, in statistics, refers to the probability that a population parameter will fall between a set of values for a certain proportion of times. Confidence intervals measure the degree of uncertainty or certainty in a sampling method. \n",
        "\n",
        "KEY TAKEAWAYS\n",
        "A confidence interval displays the probability that a parameter will fall between a pair of values around the mean.\n",
        "Confidence intervals measure the degree of uncertainty or certainty in a sampling method.\n",
        "They are most often constructed using confidence levels of 95% or 99%."
      ]
    },
    {
      "cell_type": "markdown",
      "metadata": {
        "id": "AZXOt6OmT04t"
      },
      "source": [
        "# DATA AND SAMPLING DISTRIBUTION"
      ]
    },
    {
      "cell_type": "code",
      "metadata": {
        "id": "urINjRVyT05D"
      },
      "source": [
        "import pandas as pd\n",
        "import numpy as np\n",
        "from scipy import stats\n",
        "from sklearn.utils import resample\n",
        "\n",
        "import seaborn as sns\n",
        "import matplotlib.pylab as plt"
      ],
      "execution_count": null,
      "outputs": []
    },
    {
      "cell_type": "code",
      "metadata": {
        "id": "-7ll__rKT05G"
      },
      "source": [
        "data=pd.read_csv(\"F:/Download/refer_data.csv\")"
      ],
      "execution_count": null,
      "outputs": []
    },
    {
      "cell_type": "code",
      "metadata": {
        "id": "QCDmVyHMT05I",
        "outputId": "9966e48b-c900-40bc-c6b0-2927bfd0c0ef"
      },
      "source": [
        "data.head()"
      ],
      "execution_count": null,
      "outputs": [
        {
          "output_type": "execute_result",
          "data": {
            "text/html": [
              "<div>\n",
              "<style scoped>\n",
              "    .dataframe tbody tr th:only-of-type {\n",
              "        vertical-align: middle;\n",
              "    }\n",
              "\n",
              "    .dataframe tbody tr th {\n",
              "        vertical-align: top;\n",
              "    }\n",
              "\n",
              "    .dataframe thead th {\n",
              "        text-align: right;\n",
              "    }\n",
              "</style>\n",
              "<table border=\"1\" class=\"dataframe\">\n",
              "  <thead>\n",
              "    <tr style=\"text-align: right;\">\n",
              "      <th></th>\n",
              "      <th>weight</th>\n",
              "    </tr>\n",
              "  </thead>\n",
              "  <tbody>\n",
              "    <tr>\n",
              "      <th>0</th>\n",
              "      <td>70</td>\n",
              "    </tr>\n",
              "    <tr>\n",
              "      <th>1</th>\n",
              "      <td>67</td>\n",
              "    </tr>\n",
              "    <tr>\n",
              "      <th>2</th>\n",
              "      <td>57</td>\n",
              "    </tr>\n",
              "    <tr>\n",
              "      <th>3</th>\n",
              "      <td>64</td>\n",
              "    </tr>\n",
              "    <tr>\n",
              "      <th>4</th>\n",
              "      <td>74</td>\n",
              "    </tr>\n",
              "  </tbody>\n",
              "</table>\n",
              "</div>"
            ],
            "text/plain": [
              "   weight\n",
              "0      70\n",
              "1      67\n",
              "2      57\n",
              "3      64\n",
              "4      74"
            ]
          },
          "metadata": {
            "tags": []
          },
          "execution_count": 3
        }
      ]
    },
    {
      "cell_type": "markdown",
      "metadata": {
        "id": "L2Mjzu6ET05M"
      },
      "source": [
        "## 1.Sampling Distribution"
      ]
    },
    {
      "cell_type": "code",
      "metadata": {
        "id": "KpC--VJvT05O",
        "outputId": "3c0942da-86b6-4868-8feb-0d2f1657b2fd"
      },
      "source": [
        "data = pd.read_csv(\"F:/Download/refer_data.csv\", squeeze=True)\n",
        "\n",
        "sample_data = pd.DataFrame({\n",
        "    'weight': data.sample(100),\n",
        "    'type': 'Data',\n",
        "})\n",
        "\n",
        "sample_mean_05 = pd.DataFrame({\n",
        "    'weight': [data.sample(5).mean() for _ in range(100)],\n",
        "    'type': 'Mean of 5',\n",
        "})\n",
        "\n",
        "sample_mean_20 = pd.DataFrame({\n",
        "    'weight': [data.sample(20).mean() for _ in range(100)],\n",
        "    'type': 'Mean of 20',\n",
        "})\n",
        "\n",
        "results = pd.concat([sample_data, sample_mean_05, sample_mean_20])\n",
        "print(results.head())"
      ],
      "execution_count": null,
      "outputs": [
        {
          "output_type": "stream",
          "text": [
            "     weight  type\n",
            "14     57.0  Data\n",
            "174    34.0  Data\n",
            "175    62.0  Data\n",
            "49     65.0  Data\n",
            "80     58.0  Data\n"
          ],
          "name": "stdout"
        }
      ]
    },
    {
      "cell_type": "code",
      "metadata": {
        "id": "dEMiTgoiT05Q",
        "outputId": "e27de1cc-d4ae-48e9-9880-b8d768c8ff3f"
      },
      "source": [
        "g = sns.FacetGrid(results, col='type', col_wrap=1, \n",
        "                  height=2, aspect=2)\n",
        "g.map(plt.hist, 'weight', range=[0, 100], bins=40)\n",
        "g.set_axis_labels('weight', 'Count')\n",
        "g.set_titles('{col_name}')\n",
        "\n",
        "plt.tight_layout()\n",
        "plt.show()"
      ],
      "execution_count": null,
      "outputs": [
        {
          "output_type": "display_data",
          "data": {
            "image/png": "[encoded data removed]",
            "text/plain": [
              "<Figure size 288x432 with 3 Axes>"
            ]
          },
          "metadata": {
            "tags": [],
            "needs_background": "light"
          }
        }
      ]
    },
    {
      "cell_type": "markdown",
      "metadata": {
        "id": "f-iAOfisT05R"
      },
      "source": [
        "## 2. Bootstrap"
      ]
    },
    {
      "cell_type": "code",
      "metadata": {
        "id": "SJBI6k8-T05S",
        "outputId": "dfd26e3a-fb63-47b7-d846-6d46aee3fdba"
      },
      "source": [
        "\n",
        "\n",
        "results = []\n",
        "for nrepeat in range(1000):\n",
        "    sample = resample(data)\n",
        "    results.append(sample.median())\n",
        "results = pd.Series(results)\n",
        "print('Bootstrap Statistics:')\n",
        "print(f'original: {data.median()}')\n",
        "print(f'bias: {results.mean() - data.median()}')\n",
        "print(f'std. error: {results.std()}')"
      ],
      "execution_count": null,
      "outputs": [
        {
          "output_type": "stream",
          "text": [
            "Bootstrap Statistics:\n",
            "original: 55.0\n",
            "bias: 0.029000000000003467\n",
            "std. error: 1.018919622540077\n"
          ],
          "name": "stdout"
        }
      ]
    },
    {
      "cell_type": "markdown",
      "metadata": {
        "id": "YlaN2nQ0T05U"
      },
      "source": [
        "## 3. Central limit theorem "
      ]
    },
    {
      "cell_type": "code",
      "metadata": {
        "id": "P6ev4Ll9T05V",
        "outputId": "f47dd527-93d3-4c3f-99a9-1a2fbfe93db3"
      },
      "source": [
        "#3. Central Limit Theorem \n",
        "import numpy as np\n",
        "import random\n",
        "\n",
        "\n",
        "# Create a parent distribution, from the gamma family\n",
        "shape, scale = 2., 2.  # mean=4, std=2*sqrt(2)\n",
        "s = np.random.gamma(shape, scale, 100000)\n",
        "print(np.mean(s))\n",
        "import matplotlib.pyplot as plt\n",
        "import scipy.special as sps\n",
        "plt.hist(s)\n",
        "plt.show()\n",
        "\n",
        "\n",
        "# The distribution of the means from the sampled groups is normally distributed\n",
        "samples = [ np.mean(random.choices(s, k=20)) for _ in range(1000) ]\n",
        "plt.hist(samples)\n",
        "plt.show()"
      ],
      "execution_count": null,
      "outputs": [
        {
          "output_type": "stream",
          "text": [
            "4.011340575875756\n"
          ],
          "name": "stdout"
        },
        {
          "output_type": "display_data",
          "data": {
            "image/png": "[encoded data removed]",
            "text/plain": [
              "<Figure size 432x288 with 1 Axes>"
            ]
          },
          "metadata": {
            "tags": [],
            "needs_background": "light"
          }
        },
        {
          "output_type": "display_data",
          "data": {
            "image/png": "[encoded data removed]",
            "text/plain": [
              "<Figure size 432x288 with 1 Axes>"
            ]
          },
          "metadata": {
            "tags": [],
            "needs_background": "light"
          }
        }
      ]
    },
    {
      "cell_type": "markdown",
      "metadata": {
        "id": "jNpuaEmZT05W"
      },
      "source": [
        "## 4. Law of large numbers\n"
      ]
    },
    {
      "cell_type": "code",
      "metadata": {
        "id": "Jz0JXO1lT05X",
        "outputId": "d36e6da6-ea47-489a-dd15-7502a71a5b4f"
      },
      "source": [
        "#The Law of Large Numbers\n",
        "\n",
        "#The law of large numbers states that as a sample size increases, the sample mean will get closer to the population mean. \n",
        "#Let’s check this with our example.\n",
        "\n",
        "\n",
        "# below is an array that represents the students who have passed the examination , where 1 represents the student have passed the examination\n",
        "#and 0 represents  the student have failed \n",
        "np.random.seed(42)\n",
        "\n",
        "students = np.array([1,0,1,1,1,1,0,0,0,0,1,1,1,1,1,1,1,1,1,1])\n",
        "\n",
        "\n",
        "#Let's generate one more sample of size 100.\n",
        "np.random.choice(students, 100, replace=True)\n",
        "\n",
        "\n",
        "\n",
        "hundred_sample_props= []\n",
        "for i in range(10000):\n",
        "    sample = np.random.choice(students, 100, replace=True)\n",
        "    hundred_sample_props.append(sample.mean())\n",
        "hundred_sample_props = np.array(hundred_sample_props)\n",
        "\n",
        "np.random.choice(students, 5, replace=True).mean()\n",
        "np.random.choice(students, 20, replace=True).mean()\n",
        "np.random.choice(students, 100, replace=True).mean()"
      ],
      "execution_count": null,
      "outputs": [
        {
          "output_type": "execute_result",
          "data": {
            "text/plain": [
              "0.8"
            ]
          },
          "metadata": {
            "tags": []
          },
          "execution_count": 17
        }
      ]
    },
    {
      "cell_type": "markdown",
      "metadata": {
        "id": "Ylb5fAOLT05Z"
      },
      "source": [
        "## 5. Plotting Estimates (Mean and Standard Deviation)\n"
      ]
    },
    {
      "cell_type": "code",
      "metadata": {
        "id": "txcGMMwtT05a",
        "outputId": "7bae6fad-4cb1-40a3-d637-de4cf0bebee8"
      },
      "source": [
        "import pandas as pd \n",
        "import numpy as np \n",
        "import matplotlib.pyplot as plt \n",
        "  \n",
        "# Make the dataframe for evaluation on Errorbars \n",
        "df = pd.DataFrame({ \n",
        "    'insert': [0.0, 0.1, 0.3, 0.5, 1.0], \n",
        "    'mean': [0.009905, 0.45019, 0.376818, 0.801856, 0.643859], \n",
        "    'quality': ['good', 'good', 'poor', 'good', 'poor'],  \n",
        "    'std': [0.003662, 0.281895, 0.306806, 0.243288, 0.322378]}) \n",
        "  \n",
        "print(df)"
      ],
      "execution_count": null,
      "outputs": [
        {
          "output_type": "stream",
          "text": [
            "   insert      mean quality       std\n",
            "0     0.0  0.009905    good  0.003662\n",
            "1     0.1  0.450190    good  0.281895\n",
            "2     0.3  0.376818    poor  0.306806\n",
            "3     0.5  0.801856    good  0.243288\n",
            "4     1.0  0.643859    poor  0.322378\n"
          ],
          "name": "stdout"
        }
      ]
    },
    {
      "cell_type": "code",
      "metadata": {
        "id": "i_tF8EowT05c",
        "outputId": "901c0f67-c346-4fa9-fa44-527bed1dcb71"
      },
      "source": [
        "# Subplots as having two types of quality \n",
        "fig, ax = plt.subplots() \n",
        "  \n",
        "for key, group in df.groupby('quality'): \n",
        "    group.plot('insert', 'mean', yerr='std',  \n",
        "               label=key, ax=ax) \n",
        "plt.show()"
      ],
      "execution_count": null,
      "outputs": [
        {
          "output_type": "display_data",
          "data": {
            "image/png": "[encoded data removed]",
            "text/plain": [
              "<Figure size 432x288 with 1 Axes>"
            ]
          },
          "metadata": {
            "tags": [],
            "needs_background": "light"
          }
        }
      ]
    },
    {
      "cell_type": "markdown",
      "metadata": {
        "id": "j63IR61ST05e"
      },
      "source": [
        "## 6. Defining Confidence Interval"
      ]
    },
    {
      "cell_type": "code",
      "metadata": {
        "id": "A9aeAeRhT05f"
      },
      "source": [
        "\n",
        "print(data.mean())\n",
        "np.random.seed(seed=3)  \n",
        "# create a sample of 20 loan income data\n",
        "sample20 = resample(data, n_samples=20, replace=False)\n",
        "print(sample20.mean())\n",
        "results = []\n",
        "for nrepeat in range(500):\n",
        "    sample = resample(sample20)\n",
        "    results.append(sample.mean())\n",
        "results = pd.Series(results)\n",
        "\n",
        "confidence_interval = list(results.quantile([0.05, 0.95]))\n",
        "ax = results.plot.hist(bins=30, figsize=(4, 3))\n",
        "ax.plot(confidence_interval, [55, 55], color='black')\n",
        "for x in confidence_interval:\n",
        "    ax.plot([x, x], [0, 65], color='black')\n",
        "    ax.text(x, 70, f'{x:.0f}', \n",
        "            horizontalalignment='center', verticalalignment='center')\n",
        "ax.text(sum(confidence_interval) / 2, 60, '90% interval',\n",
        "        horizontalalignment='center', verticalalignment='center')\n",
        "\n",
        "meanIncome = results.mean()\n",
        "ax.plot([meanIncome, meanIncome], [0, 50], color='black', linestyle='--')\n",
        "ax.text(meanIncome, 10, f'Mean: {meanIncome:.0f}',\n",
        "        bbox=dict(facecolor='white', edgecolor='white', alpha=0.5),\n",
        "        horizontalalignment='center', verticalalignment='center')\n",
        "ax.set_ylim(0, 80)\n",
        "ax.set_ylabel('Counts')\n",
        "\n",
        "plt.tight_layout()\n",
        "plt.show()"
      ],
      "execution_count": null,
      "outputs": []
    },
    {
      "cell_type": "code",
      "metadata": {
        "id": "pB_UUBuGT05h",
        "outputId": "69c1b694-a184-4281-99e1-932979ddac05"
      },
      "source": [
        "# Subplots as having two types of quality \n",
        "fig, ax = plt.subplots() \n",
        "  \n",
        "for key, group in df.groupby('quality'): \n",
        "    group.plot('insert', 'mean', yerr='std',  \n",
        "               label=key, ax=ax) \n",
        "plt.show()"
      ],
      "execution_count": null,
      "outputs": [
        {
          "output_type": "display_data",
          "data": {
            "image/png": "[encoded data removed]",
            "text/plain": [
              "<Figure size 432x288 with 1 Axes>"
            ]
          },
          "metadata": {
            "tags": [],
            "needs_background": "light"
          }
        }
      ]
    },
    {
      "cell_type": "markdown",
      "metadata": {
        "id": "VT1nmhK-T05i"
      },
      "source": [
        "## Inferential statistics"
      ]
    },
    {
      "cell_type": "code",
      "metadata": {
        "id": "KPAfI6KxT05i",
        "outputId": "f415a540-b555-44b9-a301-835e7b9b6c35"
      },
      "source": [
        "data=pd.read_csv('F:/Download/refer_data.csv')\n",
        "# Compute the mean and standard deviation of the sample_distances\n",
        "sample_mean = np.mean(data)\n",
        "sample_stdev = np.std(data)\n",
        "print(\"mean\",sample_mean)\n",
        "print(\"standard deviation\",sample_stdev)"
      ],
      "execution_count": null,
      "outputs": [
        {
          "output_type": "stream",
          "text": [
            "mean weight    54.585\n",
            "dtype: float64\n",
            "standard deviation weight    9.160392\n",
            "dtype: float64\n"
          ],
          "name": "stdout"
        }
      ]
    }
  ]
}