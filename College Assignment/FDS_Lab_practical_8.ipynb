{
  "nbformat": 4,
  "nbformat_minor": 0,
  "metadata": {
    "colab": {
      "name": "FDS LAB_Practical_8_Probability_Roll No_36 To 40.ipynb",
      "provenance": [],
      "collapsed_sections": [],
      "authorship_tag": "ABX9TyPhx7x0lBMTdeXTHTinJpE7",
      "include_colab_link": true
    },
    "kernelspec": {
      "name": "python3",
      "display_name": "Python 3"
    }
  },
  "cells": [
    {
      "cell_type": "markdown",
      "metadata": {
        "id": "view-in-github",
        "colab_type": "text"
      },
      "source": [
        "<a href=\"https://colab.research.google.com/github/Sadiksha08/FDS-Lab-Work/blob/main/FDS_LAB_Practical_8_Probability_Roll_No_36_To_40.ipynb\" target=\"_parent\"><img src=\"https://colab.research.google.com/assets/colab-badge.svg\" alt=\"Open In Colab\"/></a>"
      ]
    },
    {
      "cell_type": "markdown",
      "metadata": {
        "id": "r_qavwqb0r10"
      },
      "source": [
        "**FDS LAB Assignment:**"
      ]
    },
    {
      "cell_type": "markdown",
      "metadata": {
        "id": "2BYW9GdE05jg"
      },
      "source": [
        "# **Probability**\r\n",
        "\r\n",
        "\r\n",
        "**Definition :** Probability is a measure of the likelihood of an event to occur. Many events cannot be predicted with total certainty. We can predict only the chance of an event to occur i.e. how likely they are to happen, using it. Probability can range in from 0 to 1, where 0 means the event to be an impossible one and 1 indicates a certain event.The probability of all the events in a sample space adds up to 1.\r\n",
        "\r\n",
        "**Formula for Probability**\r\n",
        "\r\n",
        "The probability formula is defined as the possibility of an event to happen is equal to the ratio of the number of favourable outcomes and the total number of outcomes.\r\n",
        "\r\n",
        "**Probability of event to happen P(E) = Number of favourable outcomes/Total Number of outcomes**"
      ]
    },
    {
      "cell_type": "markdown",
      "metadata": {
        "id": "W5uVC8G2SeOF"
      },
      "source": [
        "**1. Types of Events in Probability.**\r\n",
        "\r\n",
        "Some of the important probability events are:\r\n",
        "\r\n",
        "*Impossible and Certain Events\r\n",
        "\r\n",
        "*Simple Events\r\n",
        "\r\n",
        "*Compound Events\r\n",
        "\r\n",
        "*Independent and Dependent Events\r\n",
        "\r\n",
        "*Mutually Exclusive Events\r\n",
        "\r\n",
        "*Complementary Events\r\n"
      ]
    },
    {
      "cell_type": "code",
      "metadata": {
        "id": "L4w8US34Sp1R"
      },
      "source": [
        "1 #Impossible and Certain Events"
      ],
      "execution_count": null,
      "outputs": []
    },
    {
      "cell_type": "markdown",
      "metadata": {
        "id": "lxUuPXPpSz5h"
      },
      "source": [
        "If the probability of occurrence of an event is 0, such an event is called an impossible event and if the probability of occurrence of an event is 1, it is called a sure event. In other words, the empty set 1 is an impossible event and the sample space S is a sure event."
      ]
    },
    {
      "cell_type": "code",
      "metadata": {
        "id": "43XkzRjLTK0h"
      },
      "source": [
        "eg. 1:\r\n",
        " A spinner has 4 equal sectors colored yellow, blue, green, and red. What is the probability of landing on purple after spinning the spinner?\r\n",
        "Probability: It is impossible to land on purple since the spinner does not contain this color.\r\n",
        "\r\n",
        "P(purple) =0/ = 0\r\n",
        "\r\n",
        "eg. 2:\r\n",
        " A teacher chooses a student at random from a class of 30 girls. What is the probability that the student chosen is a girl?\r\n",
        "Probability: Since all the students in the class are girls, the teacher is certain to choose a girl.\r\n",
        "\r\n",
        "P(girl) = 30/30 = 1\r\n",
        "\r\n",
        "eg.3:\r\n",
        " A single 6-sided die is rolled. What is the probability of rolling a number less than 7?\r\n",
        "Probability: Rolling a number less than 7 is a certain event since a single die has 6 sides, numbered 1 through 6.\r\n",
        "\r\n",
        "P(number < 7) = 6/6 = 1\r\n",
        "\r\n",
        "eg. 4:\r\n",
        " A total of five cards are chosen at random from a standard deck of 52 playing cards. What is the probability of choosing 5 aces?\r\n",
        "Probability: It is impossible to choose 5 aces since a standard deck of cards has only 4 of a kind. This is an impossible event.\r\n",
        "\r\n",
        "P(5 aces) = 0 /52 = 0\r\n",
        "\r\n",
        "eg. 5:\r\n",
        " A glass jar contains 15 red marbles. If a single marble is chosen at random from the jar, what is the probability that it is red?\r\n",
        "Probability: Choosing a red marble is certain to occur since all 15 marbles in the jar are red. This is a certain event.\r\n",
        "\r\n",
        "P(red) = 15/15 = 1"
      ],
      "execution_count": null,
      "outputs": []
    },
    {
      "cell_type": "code",
      "metadata": {
        "id": "Z0-lBMWMTyF7"
      },
      "source": [
        "2 #Simple Events and Compound Events"
      ],
      "execution_count": null,
      "outputs": []
    },
    {
      "cell_type": "markdown",
      "metadata": {
        "id": "9CQSwuigaGHi"
      },
      "source": [
        "Any event consisting of a single point of the sample space is known as a simple event in probability. For example, if S = {56 , 78 , 96 , 54 , 89} and E = {78} then E is a simple event.\r\n",
        "\r\n",
        "Contrary to the simple event, if any event consists of more than one single point of the sample space then such an event is called a compound event. Considering the same example again, if S = {56 ,78 ,96 ,54 ,89}, E1 = {56 ,54 }, E2 = {78 ,56 ,89 } then, E1 and E2 represent two compound events."
      ]
    },
    {
      "cell_type": "code",
      "metadata": {
        "id": "FajWU4P1T5oJ"
      },
      "source": [
        "def event_probability(n,s):\r\n",
        "  return n/s"
      ],
      "execution_count": null,
      "outputs": []
    },
    {
      "cell_type": "markdown",
      "metadata": {
        "id": "WjoO_zg8U7aa"
      },
      "source": [
        "eg.1"
      ]
    },
    {
      "cell_type": "code",
      "metadata": {
        "colab": {
          "base_uri": "https://localhost:8080/"
        },
        "id": "cmSxWMdHUCwK",
        "outputId": "fc5ac188-90e0-4b58-fed3-bdb5f68839ce"
      },
      "source": [
        "# probability of getting 3 when a die is rolled\r\n",
        "ns = 6 #n(S) = {1,2,3,4,5,6}\r\n",
        "na = 1 #n(A) = {3}\r\n",
        "pa = na/ns # P(A)\r\n",
        "print(\"probability of getting 3 is:\",pa)"
      ],
      "execution_count": null,
      "outputs": [
        {
          "output_type": "stream",
          "text": [
            "probability of getting 3 is: 0.16666666666666666\n"
          ],
          "name": "stdout"
        }
      ]
    },
    {
      "cell_type": "markdown",
      "metadata": {
        "id": "-sKyTDsPU_mq"
      },
      "source": [
        "eg.2"
      ]
    },
    {
      "cell_type": "code",
      "metadata": {
        "colab": {
          "base_uri": "https://localhost:8080/"
        },
        "id": "ewHHw8sLU4Jy",
        "outputId": "ffddd26f-8dc7-4662-ee72-64b10946027e"
      },
      "source": [
        "# probability of getting Heads when a fair coin is tossed\r\n",
        "ns = 2 #n(S) = {H,T}\r\n",
        "na = 1 #n(A) = {H}\r\n",
        "pa = na/ns # P(A)\r\n",
        "print(\"probability of getting head is:\",pa)"
      ],
      "execution_count": null,
      "outputs": [
        {
          "output_type": "stream",
          "text": [
            "probability of getting head is: 0.5\n"
          ],
          "name": "stdout"
        }
      ]
    },
    {
      "cell_type": "markdown",
      "metadata": {
        "id": "EzN0oGHfVFBS"
      },
      "source": [
        "eg.3"
      ]
    },
    {
      "cell_type": "code",
      "metadata": {
        "colab": {
          "base_uri": "https://localhost:8080/"
        },
        "id": "ozJWY1BuVG_t",
        "outputId": "49a081b8-c9d5-419a-da7b-8c4684a71276"
      },
      "source": [
        "# probability of atleast getting one head when a coin is tossed thrice\r\n",
        "ns = 8 #n(S) = {HHH, HHT, HTH, THH, TTH, THT, HTT, TTT}\r\n",
        "na = 7 #n(A) = {HHH, HHT, HTH, THH, TTH, THT, HTT}\r\n",
        "pa = na/ns # P(A)\r\n",
        "print(\"probability of getting atleast one head is:\",pa)"
      ],
      "execution_count": null,
      "outputs": [
        {
          "output_type": "stream",
          "text": [
            "probability of getting atleast one head is: 0.875\n"
          ],
          "name": "stdout"
        }
      ]
    },
    {
      "cell_type": "markdown",
      "metadata": {
        "id": "Tlpgvg9uVP7p"
      },
      "source": [
        "eg.4"
      ]
    },
    {
      "cell_type": "code",
      "metadata": {
        "colab": {
          "base_uri": "https://localhost:8080/"
        },
        "id": "HZhQT2deVRb7",
        "outputId": "5753bfb2-f52d-4f91-fded-8c42c877c065"
      },
      "source": [
        "#probabiltiy of not getting 5 when a fair die is rolled\r\n",
        "ns = 6 #n(S) = {1,2,3,4,5,6}\r\n",
        "na = 5 #n(A) = {1,2,3,4,6}\r\n",
        "pa = na/ns # P(A)\r\n",
        "print(\"probability of not getting 5 is:\",pa)"
      ],
      "execution_count": null,
      "outputs": [
        {
          "output_type": "stream",
          "text": [
            "probability of not getting 5 is: 0.8333333333333334\n"
          ],
          "name": "stdout"
        }
      ]
    },
    {
      "cell_type": "markdown",
      "metadata": {
        "id": "xyHiIqD4VflB"
      },
      "source": [
        "eg.5"
      ]
    },
    {
      "cell_type": "code",
      "metadata": {
        "colab": {
          "base_uri": "https://localhost:8080/"
        },
        "id": "lL9u2MhTVhHU",
        "outputId": "dbe075d6-fe61-4584-f065-93c3f9abdfde"
      },
      "source": [
        "# A glass jar contains 5 red, 3 blue and 2 green jelly beans. If a jelly bean is chosen at random from the jar, what is the probability that it is not blue?\r\n",
        "ns = 10 #n(S) = {5red,3blue,2green}\r\n",
        "na = 7 #n(A) = {5red, 2green}\r\n",
        "pa = na/ns # P(A)\r\n",
        "print(\"probability of getting not blue jellybean is:\",pa)"
      ],
      "execution_count": null,
      "outputs": [
        {
          "output_type": "stream",
          "text": [
            "probability of getting not blue jellybean is: 0.7\n"
          ],
          "name": "stdout"
        }
      ]
    },
    {
      "cell_type": "code",
      "metadata": {
        "colab": {
          "base_uri": "https://localhost:8080/"
        },
        "id": "XfeWQW3LWKQZ",
        "outputId": "beac8f1c-897f-42c5-f7b6-544eec927496"
      },
      "source": [
        "# A number x is chosen at random from the numbers -2, -1, 0 , 1, 2. Then the probability that x2 < 2 is?\r\n",
        "ns = 5 #n(S) = {-2, -1, 0 , 1, 2}\r\n",
        "na = 3 #n(A) = {-2, -1, 0}\r\n",
        "pa = na/ns # P(A)\r\n",
        "print(\"probability of x2 < 2:\",pa)\r\n"
      ],
      "execution_count": null,
      "outputs": [
        {
          "output_type": "stream",
          "text": [
            "probability of x2 < 2: 0.6\n"
          ],
          "name": "stdout"
        }
      ]
    },
    {
      "cell_type": "code",
      "metadata": {
        "colab": {
          "base_uri": "https://localhost:8080/"
        },
        "id": "hMdVlOuAWMFp",
        "outputId": "3bdd2d23-5f38-47bd-ee8c-1f11602654f0"
      },
      "source": [
        "#A number from 1 to 5 is chosen at random. What is the probability that the number chosen is not odd?\r\n",
        "ns = 5 #n(S) = {1,2,3,4,5}\r\n",
        "na = 2 #n(A) = {2,4}\r\n",
        "pa = na/ns # P(A)\r\n",
        "print(\"probability of getting not odd number:\",pa)\r\n"
      ],
      "execution_count": null,
      "outputs": [
        {
          "output_type": "stream",
          "text": [
            "probability of getting not odd number: 0.4\n"
          ],
          "name": "stdout"
        }
      ]
    },
    {
      "cell_type": "code",
      "metadata": {
        "id": "IT2BOPXSVmqS"
      },
      "source": [
        "3 #Independent and Dependent Events"
      ],
      "execution_count": null,
      "outputs": []
    },
    {
      "cell_type": "markdown",
      "metadata": {
        "id": "gyRi6NSKacr6"
      },
      "source": [
        "If the occurrence of any event is completely unaffected by the occurrence of any other event, such events are known as an independent event in probability and the events which are affected by other events are known as dependent events."
      ]
    },
    {
      "cell_type": "markdown",
      "metadata": {
        "id": "M9GObVPtXBRL"
      },
      "source": [
        "eg.1"
      ]
    },
    {
      "cell_type": "code",
      "metadata": {
        "colab": {
          "base_uri": "https://localhost:8080/"
        },
        "id": "7DQKjSHjVscT",
        "outputId": "61481039-ac4b-4b93-9dbb-b49c2e940f6d"
      },
      "source": [
        "# If the probability that person A will be alive in 20 years is 0.7 and the probability that person B will be alive in\r\n",
        "# 20 years is 0.5, what is the probability that they will both be alive in 20 years?\r\n",
        "\r\n",
        "#These are independent events, so\r\n",
        "P = 0.7*0.5\r\n",
        "print(\"probability that they will be alive after 20 years is:\",P)\r\n"
      ],
      "execution_count": null,
      "outputs": [
        {
          "output_type": "stream",
          "text": [
            "probability that they will be alive after 20 years is: 0.35\n"
          ],
          "name": "stdout"
        }
      ]
    },
    {
      "cell_type": "markdown",
      "metadata": {
        "id": "0bKT4l2VXDPi"
      },
      "source": [
        "eg.2"
      ]
    },
    {
      "cell_type": "code",
      "metadata": {
        "colab": {
          "base_uri": "https://localhost:8080/"
        },
        "id": "3AhGloRSW5HK",
        "outputId": "4a83ca27-61ee-4f7e-fc9d-6cd22f2c9a96"
      },
      "source": [
        "#A fair die is tossed twice. Find the probability of getting a 4 or 5 on the first toss and a 1,2, or 3 in the second toss.\r\n",
        "pa = event_probability(2,6) # probability of getting a 4 or 5 on the first toss\r\n",
        "pb = event_probability(3,6) # probability of getting 1,2,3 in second toss\r\n",
        "P = pa*pb \r\n",
        "print(\"probability of getting a 4 or 5 on the first toss and a 1,2, or 3 in the second toss is:\",P)\r\n"
      ],
      "execution_count": null,
      "outputs": [
        {
          "output_type": "stream",
          "text": [
            "probability of getting a 4 or 5 on the first toss and a 1,2, or 3 in the second toss is: 0.16666666666666666\n"
          ],
          "name": "stdout"
        }
      ]
    },
    {
      "cell_type": "markdown",
      "metadata": {
        "id": "kge_LnHFXGWB"
      },
      "source": [
        "eg.3"
      ]
    },
    {
      "cell_type": "code",
      "metadata": {
        "colab": {
          "base_uri": "https://localhost:8080/"
        },
        "id": "15IaYxReXKir",
        "outputId": "50bd0a52-43f1-4172-a1e6-7d6c4957ae02"
      },
      "source": [
        "# A bag contains 5 white marbles, 3 black marbles and 2 green marbles. In each draw, a marble is drawn from the bag\r\n",
        "# and not replaced. In three draws, find the probability of obtaining white, black and green in that order.\r\n",
        "pw = event_probability(5,10)\r\n",
        "pb = event_probability(3,9)\r\n",
        "pg = event_probability(2,8)\r\n",
        "print(\"the probability of obtaining white, black and green in that order is \",(pw*pb*pg))\r\n"
      ],
      "execution_count": null,
      "outputs": [
        {
          "output_type": "stream",
          "text": [
            "the probability of obtaining white, black and green in that order is  0.041666666666666664\n"
          ],
          "name": "stdout"
        }
      ]
    },
    {
      "cell_type": "code",
      "metadata": {
        "id": "DgcCEo5xXNOC"
      },
      "source": [
        "4 #Mutually Exclusive Events"
      ],
      "execution_count": null,
      "outputs": []
    },
    {
      "cell_type": "markdown",
      "metadata": {
        "id": "yVJGQgxSakep"
      },
      "source": [
        "If the occurrence of one event excludes the occurrence of another event, such events are mutually exclusive events i.e. two events don’t have any common point. For example, if S = {1 , 2 , 3 , 4 , 5 , 6} and E1, E2 are two events such that E1 consists of numbers less than 3 and E2 consists of numbers greater than 4.\r\n",
        "\r\n",
        "So, E1 = {1,2} and E2 = {5,6} .\r\n",
        "\r\n",
        "Then, E1 and E2 are mutually exclusive."
      ]
    },
    {
      "cell_type": "markdown",
      "metadata": {
        "id": "ZnAL89H7XXLa"
      },
      "source": [
        "eg.1"
      ]
    },
    {
      "cell_type": "code",
      "metadata": {
        "colab": {
          "base_uri": "https://localhost:8080/"
        },
        "id": "1Z8zucryXYxp",
        "outputId": "cc70b6ce-8357-48b2-eacc-6bd053cba46e"
      },
      "source": [
        "#What is the probability of a die showing a number 3 or number 5?\r\n",
        "pa = 1/6 # pa is the probability of getting a number 3\r\n",
        "\r\n",
        "pb = 1/6 #pb is the probability of getting a number 5\r\n",
        "\r\n",
        "Pab = pa + pb #Pab is the probability of getting 3 or 5\r\n",
        "print(\"Therefore, the probability of a die showing 3 or 5 is\",Pab)\r\n"
      ],
      "execution_count": null,
      "outputs": [
        {
          "output_type": "stream",
          "text": [
            "Therefore, the probability of a die showing 3 or 5 is 0.3333333333333333\n"
          ],
          "name": "stdout"
        }
      ]
    },
    {
      "cell_type": "markdown",
      "metadata": {
        "id": "flZbRbokXhsi"
      },
      "source": [
        "eg.2"
      ]
    },
    {
      "cell_type": "code",
      "metadata": {
        "colab": {
          "base_uri": "https://localhost:8080/"
        },
        "id": "Xak93PM7XjvC",
        "outputId": "fa1a674d-17a9-4b25-e530-721b73233925"
      },
      "source": [
        "# Sample Space\r\n",
        "cards = 52\r\n",
        "\r\n",
        "# Calculate the probability of drawing a heart or a club\r\n",
        "hearts = 13\r\n",
        "clubs = 13\r\n",
        "heart_or_club = event_probability(hearts, cards) + event_probability(clubs, cards)\r\n",
        "print(heart_or_club )"
      ],
      "execution_count": null,
      "outputs": [
        {
          "output_type": "stream",
          "text": [
            "0.5\n"
          ],
          "name": "stdout"
        }
      ]
    },
    {
      "cell_type": "markdown",
      "metadata": {
        "id": "ZuR0t0-iX_WC"
      },
      "source": [
        "eg.3"
      ]
    },
    {
      "cell_type": "code",
      "metadata": {
        "colab": {
          "base_uri": "https://localhost:8080/"
        },
        "id": "JQha3E80YAsy",
        "outputId": "ad4cda0b-3e32-4b4e-c9b4-5f201a828028"
      },
      "source": [
        "# Calculate the probability of drawing an ace, king, or a queen\r\n",
        "aces = 4\r\n",
        "kings = 4\r\n",
        "queens = 4\r\n",
        "ace_king_or_queen = event_probability(aces, cards) + event_probability(kings, cards) + event_probability(queens, cards)\r\n",
        "\r\n",
        "print(heart_or_club)\r\n",
        "print(ace_king_or_queen)"
      ],
      "execution_count": null,
      "outputs": [
        {
          "output_type": "stream",
          "text": [
            "0.5\n",
            "0.23076923076923078\n"
          ],
          "name": "stdout"
        }
      ]
    },
    {
      "cell_type": "markdown",
      "metadata": {
        "id": "oFsU8ro-YMUi"
      },
      "source": [
        "eg.4"
      ]
    },
    {
      "cell_type": "code",
      "metadata": {
        "colab": {
          "base_uri": "https://localhost:8080/"
        },
        "id": "PxiXmzYTYRv6",
        "outputId": "dee4b7ec-44f5-439d-f3e7-742446005ca8"
      },
      "source": [
        "# In a deck of 52 card, the probability of getting king or queen is equal to:\r\n",
        "queen = 4\r\n",
        "king = 4\r\n",
        "king_or_queen = event_probability(queen, cards) + event_probability(king, cards)\r\n",
        "print(king_or_queen)\r\n"
      ],
      "execution_count": null,
      "outputs": [
        {
          "output_type": "stream",
          "text": [
            "0.15384615384615385\n"
          ],
          "name": "stdout"
        }
      ]
    },
    {
      "cell_type": "markdown",
      "metadata": {
        "id": "1FWWxZ-YYgTu"
      },
      "source": [
        "eg.5"
      ]
    },
    {
      "cell_type": "code",
      "metadata": {
        "colab": {
          "base_uri": "https://localhost:8080/"
        },
        "id": "aGgj-XHuYilY",
        "outputId": "e923ddf6-f0f6-416f-dcd5-a021ff7909cf"
      },
      "source": [
        "# Calculate the probability of drawing a heart or an ace\r\n",
        "hearts = 13\r\n",
        "aces = 4\r\n",
        "ace_of_hearts = 1\r\n",
        "heart_or_ace = event_probability(hearts, cards) + event_probability(aces, cards) - event_probability(ace_of_hearts, cards)\r\n",
        "print(round(heart_or_ace, 1))"
      ],
      "execution_count": null,
      "outputs": [
        {
          "output_type": "stream",
          "text": [
            "0.3\n"
          ],
          "name": "stdout"
        }
      ]
    },
    {
      "cell_type": "markdown",
      "metadata": {
        "id": "c--I-8ouY0Fq"
      },
      "source": [
        "eg.6"
      ]
    },
    {
      "cell_type": "code",
      "metadata": {
        "colab": {
          "base_uri": "https://localhost:8080/"
        },
        "id": "gxOvDdqWY1_T",
        "outputId": "ab1713f0-21dc-47eb-d7ee-b5fd3cd56e36"
      },
      "source": [
        "red_cards = 26\r\n",
        "face_cards = 12\r\n",
        "red_face_cards = 6\r\n",
        "red_or_face_cards = event_probability(red_cards, cards) + event_probability(face_cards, cards) - event_probability(red_face_cards, cards)\r\n",
        "\r\n",
        "print(round(heart_or_ace, 1))\r\n",
        "print(round(red_or_face_cards, 1))"
      ],
      "execution_count": null,
      "outputs": [
        {
          "output_type": "stream",
          "text": [
            "0.3\n",
            "0.6\n"
          ],
          "name": "stdout"
        }
      ]
    },
    {
      "cell_type": "code",
      "metadata": {
        "id": "iGu2mHWzY8M6"
      },
      "source": [
        "5 #Complementary Events"
      ],
      "execution_count": null,
      "outputs": []
    },
    {
      "cell_type": "markdown",
      "metadata": {
        "id": "COxN4k8yauMK"
      },
      "source": [
        "For any event E1 there exists another event E1‘ which represents the remaining elements of the sample space S.\r\n",
        "\r\n",
        "E1 = S − E1‘\r\n",
        "\r\n",
        "If a dice is rolled then the sample space S is given as S = {1 , 2 , 3 , 4 , 5 , 6 }. If event E1 represents all the outcomes which is greater than 4, then E1 = {5, 6} and E1‘ = {1, 2, 3, 4}.\r\n",
        "\r\n",
        "Thus E1‘ is the complement of the event E1.\r\n",
        "\r\n",
        "Similarly, the complement of E1, E2, E3……….En will be represented as E1‘, E2‘, E3‘……….En‘"
      ]
    },
    {
      "cell_type": "markdown",
      "metadata": {
        "id": "03WMhj85ZE6T"
      },
      "source": [
        "eg.1\r\n"
      ]
    },
    {
      "cell_type": "code",
      "metadata": {
        "colab": {
          "base_uri": "https://localhost:8080/"
        },
        "id": "J4_3XyLJZGgx",
        "outputId": "de71829e-799b-4fbf-d050-9e69d86f7c3e"
      },
      "source": [
        "#probabiltiy of not getting 5 when a fair die is rolled\r\n",
        "ns = 6 #n(S) = {1,2,3,4,5,6}\r\n",
        "na = 1 #n(A) = {5}\r\n",
        "pa = na/ns # P(A)\r\n",
        "print(\"probabilty of not getting 5 is:\",1-pa)\r\n"
      ],
      "execution_count": null,
      "outputs": [
        {
          "output_type": "stream",
          "text": [
            "probabilty of not getting 5 is: 0.8333333333333334\n"
          ],
          "name": "stdout"
        }
      ]
    },
    {
      "cell_type": "markdown",
      "metadata": {
        "id": "J5LT4k_yZOcR"
      },
      "source": [
        "eg.2\r\n"
      ]
    },
    {
      "cell_type": "code",
      "metadata": {
        "colab": {
          "base_uri": "https://localhost:8080/"
        },
        "id": "Ob2CJJ9kZQEq",
        "outputId": "ceaa16ab-c4d3-492a-ff09-fe3af1279470"
      },
      "source": [
        "\r\n",
        "# a probability of getting a white balls from a bag of balls is 1/4\r\n",
        "p = 1/4\r\n",
        "# What is the probability of not getting a white ball?\r\n",
        "print(\"Probability of not getting white ball is \",1-p)"
      ],
      "execution_count": null,
      "outputs": [
        {
          "output_type": "stream",
          "text": [
            "Probability of not getting white ball is  0.75\n"
          ],
          "name": "stdout"
        }
      ]
    },
    {
      "cell_type": "markdown",
      "metadata": {
        "id": "Bh9amROeZUsL"
      },
      "source": [
        "eg.3\r\n"
      ]
    },
    {
      "cell_type": "code",
      "metadata": {
        "colab": {
          "base_uri": "https://localhost:8080/"
        },
        "id": "6YPC0Bx1ZWjx",
        "outputId": "281fc77e-7fe1-4b43-fbfc-03197c50a2df"
      },
      "source": [
        "# A number is chosen at random from a set of whole numbers from 1 to 50.\r\n",
        "# Calculate the probability that the chosen number is not a perfect square.\r\n",
        "n = 50 # Sample space\r\n",
        "a = 7 #{1,4,9,16,25,36,49}\r\n",
        "p = event_probability(a,n)\r\n",
        "print(\"the probability that the chosen number is not a perfect square is\",1-p)\r\n"
      ],
      "execution_count": null,
      "outputs": [
        {
          "output_type": "stream",
          "text": [
            "the probability that the chosen number is not a perfect square is 0.86\n"
          ],
          "name": "stdout"
        }
      ]
    },
    {
      "cell_type": "markdown",
      "metadata": {
        "id": "f90wybtEu-4t"
      },
      "source": [
        "**2. Rules of Probability**"
      ]
    },
    {
      "cell_type": "markdown",
      "metadata": {
        "id": "InqGiXAeQavL"
      },
      "source": [
        "Basic Rules of Probability\r\n",
        "\r\n",
        "1.The chance that some event happens given all events that could happen in that category.\r\n",
        "\r\n",
        "Probabilities denote the chance that something happens, not the guarantee 0≤p(x)≤1 or 0%≤p(x)≤100%\r\n",
        "\r\n",
        "For any set of associated but separate events, ∑ip(xi)=1\r\n",
        "\r\n",
        "For related events A and B, the probablity that they happen together is p(A∩B)=p(A)⋅p(B)\r\n",
        "\r\n",
        "The probability that either one of them happens is p(A∪B)=p(A)+p(B)−p(A∩B)"
      ]
    },
    {
      "cell_type": "markdown",
      "metadata": {
        "id": "rc-2usn2UEI7"
      },
      "source": [
        "Complementary rule for even"
      ]
    },
    {
      "cell_type": "code",
      "metadata": {
        "colab": {
          "base_uri": "https://localhost:8080/"
        },
        "id": "vgLAAtgmorq5",
        "outputId": "81b96083-ca7f-42ad-9b00-1318496f4255"
      },
      "source": [
        "import math \r\n",
        "def findProb(l, r): \r\n",
        "      \r\n",
        "    # Count of perfect squares  \r\n",
        "    countOfPS = (math.floor(math.sqrt(r)) - \r\n",
        "                  math.ceil(math.sqrt(l)) + 1) \r\n",
        "      \r\n",
        "    # Total numbers in range l to r  \r\n",
        "    total = r - l + 1\r\n",
        "  \r\n",
        "    # Calculating probability  \r\n",
        "    prob = countOfPS / total \r\n",
        "      \r\n",
        "    return prob  \r\n",
        "      \r\n",
        "# Driver code  \r\n",
        "if __name__=='__main__': \r\n",
        "      \r\n",
        "    L = 16\r\n",
        "    R = 25\r\n",
        "      \r\n",
        "    print(findProb(L, R))"
      ],
      "execution_count": null,
      "outputs": [
        {
          "output_type": "stream",
          "text": [
            "0.2\n"
          ],
          "name": "stdout"
        }
      ]
    },
    {
      "cell_type": "markdown",
      "metadata": {
        "id": "j28S2qNsqUie"
      },
      "source": [
        "Complementary rule for odds"
      ]
    },
    {
      "cell_type": "code",
      "metadata": {
        "colab": {
          "base_uri": "https://localhost:8080/"
        },
        "id": "sqjxb1uSqUyV",
        "outputId": "fc0b7e9a-bd5b-4f44-f262-fc37ac1d3dd4"
      },
      "source": [
        "MAX=21\r\n",
        "\r\n",
        "fact=[0]*MAX\r\n",
        "\r\n",
        "# Returns probability of \r\n",
        "# getting at least k \r\n",
        "# heads in n tosses. \r\n",
        "def probability(k, n): \r\n",
        "\tans = 0\r\n",
        "\tfor i in range(k,n+1): \r\n",
        "\r\n",
        "\t\t# Probability of getting exactly i \r\n",
        "\t\t# heads out of n heads \r\n",
        "\t\tans += fact[n] / (fact[i] * fact[n - i]) \r\n",
        "\r\n",
        "\t# Note: 1 << n = pow(2, n) \r\n",
        "\tans = ans / (1 << n) \r\n",
        "\treturn ans \r\n",
        "\r\n",
        "def precompute(): \r\n",
        "\t\r\n",
        "\t# Preprocess all factorial \r\n",
        "\t# only upto 19, \r\n",
        "\t# as after that it \r\n",
        "\t# will overflow \r\n",
        "\tfact[0] = 1\r\n",
        "\tfact[1] = 1\r\n",
        "\r\n",
        "\tfor i in range(2,20): \r\n",
        "\t\tfact[i] = fact[i - 1] * i \r\n",
        "\r\n",
        "# Driver code \r\n",
        "if __name__=='__main__': \r\n",
        "\tprecompute() \r\n",
        "\r\n",
        "\t# Probability of getting 2 \r\n",
        "\t# head out of 3 coins \r\n",
        "\tprint(probability(2, 3)) \r\n",
        "\r\n",
        "\t# Probability of getting \r\n",
        "\t# 3 head out of 6 coins \r\n",
        "\tprint(probability(3, 6)) \r\n",
        "\r\n",
        "\t# Probability of getting \r\n",
        "\t# 12 head out of 18 coins \r\n",
        "\tprint(probability(12, 18)) \r\n",
        "\t\r\n",
        "\r\n"
      ],
      "execution_count": null,
      "outputs": [
        {
          "output_type": "stream",
          "text": [
            "0.5\n",
            "0.65625\n",
            "0.1189422607421875\n"
          ],
          "name": "stdout"
        }
      ]
    },
    {
      "cell_type": "markdown",
      "metadata": {
        "id": "E1xeWs9gvCA7"
      },
      "source": [
        "Multiplication rule:\r\n",
        "\r\n",
        "P(A and B) = P(A) * P(B), "
      ]
    },
    {
      "cell_type": "code",
      "metadata": {
        "colab": {
          "base_uri": "https://localhost:8080/"
        },
        "id": "kcC6x7M_vDxe",
        "outputId": "a3b028cb-0cd0-4114-cc76-797b516ebbad"
      },
      "source": [
        "\r\n",
        "import numpy \r\n",
        "import numpy as np\r\n",
        " \r\n",
        "temps = [31, 32, 32, 31, 28, 29, 31, 38, 32, 31, 30, 29, 30, 31, 26] \r\n",
        " \r\n",
        "num_items = len(temps) \r\n",
        "product = 1. \r\n",
        " \r\n",
        "for temperature in temps: \r\n",
        "    product *= temperature \r\n",
        "     \r\n",
        "geometric_mean = product**(1./num_items) \r\n",
        " \r\n",
        "print(geometric_mean)   # == 30.634\r\n",
        "\r\n",
        "import numpy as np\r\n",
        "\r\n",
        "# create user preferences\r\n",
        "user_pref = np.array([5, 1, 3])\r\n",
        "\r\n",
        "# create a random movie matrix of 10,000 movies\r\n",
        "movies = np.random.randint(5,size=(3,1000))+1\r\n",
        "\r\n",
        "# Note that the randint will make random integers from 0-4\r\n",
        "# so I added a 1 at the end to increase the scale from 1-5\r\n",
        "\r\n",
        "print(user_pref.shape) # (1, 3)\r\n",
        "\r\n",
        "print(movies.shape)    # (3, 1000)\r\n",
        "\r\n",
        "# np.dot does both dot products and matrix multiplication\r\n",
        "recs = np.dot(user_pref, movies)\r\n",
        "\r\n",
        "import time\r\n",
        "\r\n",
        "for i in (10000, 100000, 1000000, 10000000, 100000000):\r\n",
        "    movies = np.random.randint(5,size=(3,i))+1\r\n",
        "    now = time.time()\r\n",
        "    np.dot(user_pref, movies)\r\n",
        "    print (time.time() - now), \"seconds to run\", i, \"movies\""
      ],
      "execution_count": null,
      "outputs": [
        {
          "output_type": "stream",
          "text": [
            "30.63473484374659\n",
            "(3,)\n",
            "(3, 1000)\n",
            "0.00021696090698242188\n",
            "0.0016713142395019531\n",
            "0.01735711097717285\n",
            "0.12940454483032227\n",
            "1.2655282020568848\n"
          ],
          "name": "stdout"
        }
      ]
    },
    {
      "cell_type": "markdown",
      "metadata": {
        "id": "cdcxcTmsPMzq"
      },
      "source": [
        "Addition rule\r\n",
        "\r\n",
        "P\r\n",
        "(\r\n",
        "A\r\n",
        "∪\r\n",
        "B\r\n",
        ")\r\n",
        "=\r\n",
        "P\r\n",
        "(\r\n",
        "A\r\n",
        ")\r\n",
        "+\r\n",
        "P\r\n",
        "(\r\n",
        "B\r\n",
        ")\r\n",
        "−\r\n",
        "P\r\n",
        "(\r\n",
        "A\r\n",
        "∩\r\n",
        "B\r\n",
        ")"
      ]
    },
    {
      "cell_type": "code",
      "metadata": {
        "colab": {
          "base_uri": "https://localhost:8080/"
        },
        "id": "6xbIyalDO-_c",
        "outputId": "a92058dd-f395-4775-967e-16b2f7e6a7b3"
      },
      "source": [
        "\r\n",
        "def event_probability(event_outcomes, sample_space):\r\n",
        "    probability = (event_outcomes / sample_space) * 100\r\n",
        "    return round(probability, 1)\r\n",
        "\r\n",
        "# Sample Space\r\n",
        "cards = 52\r\n",
        "\r\n",
        "# Determine the probability of drawing a heart\r\n",
        "hearts = 13\r\n",
        "heart_probability = event_probability(hearts, cards)\r\n",
        "\r\n",
        "# Determine the probability of drawing a face card\r\n",
        "face_cards = 12\r\n",
        "face_card_probability = event_probability(face_cards, cards)\r\n",
        "\r\n",
        "# Determine the probability of drawing the queen of hearts\r\n",
        "queen_of_hearts = 1\r\n",
        "queen_of_hearts_probability = event_probability(queen_of_hearts, cards)\r\n",
        "\r\n",
        "# Print each probability\r\n",
        "print(str(heart_probability) )\r\n",
        "print(str(face_card_probability))\r\n",
        "print(str(queen_of_hearts_probability))"
      ],
      "execution_count": null,
      "outputs": [
        {
          "output_type": "stream",
          "text": [
            "25.0\n",
            "23.1\n",
            "1.9\n"
          ],
          "name": "stdout"
        }
      ]
    },
    {
      "cell_type": "markdown",
      "metadata": {
        "id": "j9Tn-zIyP1Wm"
      },
      "source": [
        "Conditional Probability"
      ]
    },
    {
      "cell_type": "code",
      "metadata": {
        "colab": {
          "base_uri": "https://localhost:8080/"
        },
        "id": "jmdJeK6vRlp6",
        "outputId": "d85eff7c-8c4d-4f77-9c37-98d3137e4b0f"
      },
      "source": [
        "import numpy as np\r\n",
        "def coinFlip(p):    \r\n",
        "    #perform the binomial distribution (returns 0 or 1)    \r\n",
        "    result = np.random.binomial(1,p)\r\n",
        "#return flip to be added to numpy array    \r\n",
        "    return result\r\n",
        "'''Main Area'''\r\n",
        "#probability of heads vs. tails. This can be changed.\r\n",
        "probability = .5\r\n",
        "#num of flips required. This can be changed.\r\n",
        "n = 10\r\n",
        "#initiate array\r\n",
        "fullResults = np.arange(n)\r\n",
        "#perform desired numbered of flips at required probability set above\r\n",
        "for i in range(0, n):    \r\n",
        "    fullResults[i] = coinFlip(probability)    \r\n",
        "    i+=1\r\n",
        "#print results\r\n",
        "print(\"probability is set to \", probability)\r\n",
        "print(\"Tails = 0, Heads = 1: \", fullResults)\r\n",
        "#Total up heads and tails for easy user experience \r\n",
        "print(\"Head Count: \", np.count_nonzero(fullResults == 1))\r\n",
        "print(\"Tail Count: \", np.count_nonzero(fullResults == 0))"
      ],
      "execution_count": null,
      "outputs": [
        {
          "output_type": "stream",
          "text": [
            "probability is set to  0.5\n",
            "Tails = 0, Heads = 1:  [0 0 0 0 0 0 1 0 0 1]\n",
            "Head Count:  2\n",
            "Tail Count:  8\n"
          ],
          "name": "stdout"
        }
      ]
    },
    {
      "cell_type": "markdown",
      "metadata": {
        "id": "6wSruof4URPA"
      },
      "source": [
        "P(A∪B)=P(A)+P(B)−P(A∩B)"
      ]
    },
    {
      "cell_type": "code",
      "metadata": {
        "colab": {
          "base_uri": "https://localhost:8080/"
        },
        "id": "Z-oRAuNFTOFn",
        "outputId": "05a86156-a045-4069-e5e1-083a350aaf31"
      },
      "source": [
        "# Sample Space\r\n",
        "cards = 52\r\n",
        "hole_cards = 2\r\n",
        "# Your opponent provided you information... use it!\r\n",
        "opponents_hole_cards = 2 \r\n",
        "\r\n",
        "turn_community_cards = 4\r\n",
        "cards = cards - (hole_cards + opponents_hole_cards + turn_community_cards)\r\n",
        "\r\n",
        "# Outcomes\r\n",
        "diamonds = 13\r\n",
        "diamonds_drawn = 4\r\n",
        "\r\n",
        "# You can't count the two diamonds that won't help you win\r\n",
        "diamond_non_outs = 2 \r\n",
        "\r\n",
        "outs = diamonds - diamonds_drawn - diamond_non_outs\r\n",
        "\r\n",
        "# Determine win probability\r\n",
        "win_probability = outs / cards\r\n",
        "\r\n",
        "# Determine expected value\r\n",
        "pot = 60\r\n",
        "ev = pot * win_probability\r\n",
        "\r\n",
        "# Print ev and appropriate decision\r\n",
        "call_amount = 20\r\n",
        "if ev >= 20:\r\n",
        "    print(round(ev, 2), 'Call')\r\n",
        "else:\r\n",
        "    print(round(ev, 2), 'Fold')"
      ],
      "execution_count": null,
      "outputs": [
        {
          "output_type": "stream",
          "text": [
            "9.55 Fold\n"
          ],
          "name": "stdout"
        }
      ]
    },
    {
      "cell_type": "markdown",
      "metadata": {
        "id": "rmQl8GkHwa07"
      },
      "source": [
        "**3. Permutations and Combinations**"
      ]
    },
    {
      "cell_type": "code",
      "metadata": {
        "colab": {
          "base_uri": "https://localhost:8080/"
        },
        "id": "BwKkrw8YCHe4",
        "outputId": "93e7a927-cc4b-4894-dec6-e503fc2acc4f"
      },
      "source": [
        "                                                          #Permutation and Combination\r\n",
        "\r\n",
        "#------------------------------------------------------------------ Permutation ------------------------------------------------------------------------------\r\n",
        "#What is Permutation?\r\n",
        "#Permutation is the act of arranging the members of a set into a sequence or order, or, if the set is already ordered, rearranging (reordering) its elements.\r\n",
        "#The formula for Permutation (non-repetitive) is :\r\n",
        "#P (n, r) =n! /(n-r)!  where n is the total no of element in a set and r is the no of elements taken from a given set.\r\n",
        "#The formula for Permutation (repetitive) is:\r\n",
        "#P (n, r) =n^r\r\n",
        "\r\n",
        "#--------------------------------------------------NON- REPITATIVE FORMULA FOR PERMUTATION---------------------------------------------------------------------\r\n",
        "\r\n",
        "import math\r\n",
        "#n=int (input (\"Enter the size of set : \"))\r\n",
        "#r=int (input (\"Enter the size of elements taken from the set : \"))\r\n",
        "\r\n",
        "def per(n,r):\r\n",
        "  return (math.factorial(n)/(math.factorial(n-r)))\r\n",
        "\r\n",
        "#------------------------------------------------------ REPITATIVE FORMULA FOR PERMUTATION---------------------------------------------------------------------\r\n",
        "\r\n",
        "#a=int (input (\"Enter the size of set : \"))\r\n",
        "#b=int (input (\"Enter the size of elements taken from the set : \"))\r\n",
        "\r\n",
        "def per_with_rep(n,r):\r\n",
        "  return n**r\r\n",
        "\r\n",
        "\r\n",
        "#example 1 :\r\n",
        "\r\n",
        "#To find the number of permutations of pocket Aces from a pack of cards such that you only pick 2 cards\r\n",
        "\r\n",
        "#With no repitation.\r\n",
        "\r\n",
        "#There are four Aces in a deck of cards, and these are all the different combinations of pocket Aces\r\n",
        "\r\n",
        "#/1.Ace Hearts / Ace Diamonds\r\n",
        "#2.Ace Hearts / Ace Clubs\r\n",
        "#3.Ace Hearts / Ace Spades\r\n",
        "#4.Ace Diamonds / Ace Clubs\r\n",
        "#5.Ace Diamonds / Ace Spades\r\n",
        "#6.Ace Clubs / Ace Spades\r\n",
        "\r\n",
        "#Here n = 4 as only 4 ace cards are there in a pack is 52 and r = 2 as we have to pick 2 cards\r\n",
        "n = 4\r\n",
        "r = 2\r\n",
        "print(\"\\nNumber of Ace cards in a Pack : \",n)\r\n",
        "print(\"\\nNumber of cards to be withdrawn : \",r)\r\n",
        "print(\"\\nPermuation is \",per(n,r))\r\n",
        "\r\n",
        "# Example 2 :\r\n",
        "\r\n",
        "#what is the possible permutation of having a 4-digit pin number from 10 single digit number i.e from 0 to 9 such that it is not repitative.\r\n",
        "\r\n",
        "#Here n = 10 and r = 4\r\n",
        "\r\n",
        "n = 10\r\n",
        "r = 4\r\n",
        "print(\"\\nTotal number of digits : \",n)\r\n",
        "print(\"\\nNumber of Digits for a pin to be created: \",r)\r\n",
        "print(\"\\nPermuation is \",per(n,r))\r\n",
        "\r\n",
        "# Example 3 :\r\n",
        "\r\n",
        "#what is the possible permutation of having a 4-digit pin number from 10 single digit number i.e from 0 to 9 such that it is repitative.\r\n",
        "\r\n",
        "#Here n = 10 and r = 4 \r\n",
        "\r\n",
        "n = 10\r\n",
        "r = 4\r\n",
        "print(\"\\nTotal number of digits : \",n)\r\n",
        "print(\"\\nNumber of Digits for a pin to be created: \",r)\r\n",
        "print(\"\\nPermuation with repitation is \",per_with_rep(n,r))\r\n",
        "\r\n",
        "#Example 4 :\r\n",
        "\r\n",
        "#You have a website on which users can register. They need to provide a password that needs to be exactly 8 characters long and it should be a cbination of characters and numbers such that the characters and numbers cannot repeat. We first need to determine how many characters and digits there are in the English alphabet:\r\n",
        "#the number of letters: 26\r\n",
        "#the number of digits: 10\r\n",
        "#Which is 36 in total. So, n = 36. r would then be 8, because the password needs to be 8 characters long\r\n",
        "\r\n",
        "n = 36\r\n",
        "r = 8\r\n",
        "print(\"\\nTotal number of digits : \",n)\r\n",
        "print(\"\\nLength of password : \",r)\r\n",
        "print(\"\\nPermuation is \",per(n,r))\r\n",
        "\r\n",
        "#Example 5 :\r\n",
        "\r\n",
        "#You have a website on which users can register. They need to provide a password that needs to be exactly 8 characters long and it should be a cbination of characters and numbers such that the characters and numbers can repeat. We first need to determine how many characters and digits there are in the English alphabet:\r\n",
        "#the number of letters: 26\r\n",
        "#the number of digits: 10\r\n",
        "#Which is 36 in total. So, n = 36. r would then be 8, because the password needs to be 8 characters long\r\n",
        "\r\n",
        "n = 36\r\n",
        "r = 8\r\n",
        "print(\"\\nTotal number of digits : \",n)\r\n",
        "print(\"\\nLength of password : \",r)\r\n",
        "print(\"\\nPermuation with repitation is \",per_with_rep(n,r))\r\n",
        "\r\n",
        "#-------------------------------------------------------------------------Combinations--------------------------------------------------------------------\r\n",
        "\r\n",
        "#What is Combination ?\r\n",
        "#A combination is a selection of items from a collection, such that (unlike permutations) the order of selection does not matter.\r\n",
        "#The formula for Combination (non-repetitive) is :\r\n",
        "#C(n,r)=n!/(r!(n-r)!)\r\n",
        "\r\n",
        "#The formula for Combination (repetitive) is :\r\n",
        "#C(n,r)=(n+r -1)!/(r!(n-1)!)\r\n",
        "\r\n",
        "#--------------------------------------------------NON- REPITATIVE FORMULA FOR COMBINATION---------------------------------------------------------------------\r\n",
        "\r\n",
        "#n=int(input(\"Enter the size of set : \"))\r\n",
        "#r=int(input(\"Enter the size of elements taken from the set : \"))\r\n",
        "\r\n",
        "def com(n,r):\r\n",
        "  return (math.factorial(n)/(math.factorial(r)*(math.factorial(n-r))))\r\n",
        "\r\n",
        "#------------------------------------------------------ REPITATIVE FORMULA FOR COMBINATION---------------------------------------------------------------------\r\n",
        "\r\n",
        "#a=int(input(\"Enter the size of set : \"))\r\n",
        "#b=int(input(\"Enter the size of elements taken from the set : \"))\r\n",
        "\r\n",
        "def com_with_rep(n,r):\r\n",
        "  return ((math.factorial(n+r-1))/(math.factorial(r)*(math.factorial(n-1))))\r\n",
        "\r\n",
        "# Example 1 \r\n",
        "\r\n",
        "#To find the number of permutations of pocket Aces from a pack of cards such that you only pick 2 cards\r\n",
        "\r\n",
        "#In a pack of card, no card is repetated so we will bw using the non repitative formula for combinations.\r\n",
        "\r\n",
        "#in this example,n = 52 as the no of cards in a pack is 52 and r = 2 as only 2 cards have to be withdrawn\r\n",
        "\r\n",
        "n=52\r\n",
        "r=2\r\n",
        "print(\"\\nTotal number of cards in a pack : \",n)\r\n",
        "print(\"\\nNumber of cards to be withdrawn : \",r)\r\n",
        "print(\"\\nCombination is \",com(n,r)) \r\n",
        "\r\n",
        "#example 2 :\r\n",
        "\r\n",
        "#On how many ways can you choose 11 people from a group of 110 for a football team?\r\n",
        "\r\n",
        "#here n= 110 and r = 11\r\n",
        "\r\n",
        "n=110\r\n",
        "r=11\r\n",
        "print(\"\\nTotal number of groups : \",n)\r\n",
        "print(\"\\nNumber of people to be chosen : \",r)\r\n",
        "print(\"\\nCombination is \",com(n,r)) \r\n",
        "\r\n",
        "#Example 3 :\r\n",
        "\r\n",
        "#You’re making a sandwich and you’re only allowed to use 4 ingredients out of 10 possible. However, the ingredients don’t have to be unique i.e the ingredients can be repitated.\r\n",
        "\r\n",
        "#As the ingrediants can be repitated, we wiil be using reitated formula of combination.\r\n",
        "\r\n",
        "#here n= 10 as it is the total no of ingredients available and r = 4 as it is the no of ingredients used.\r\n",
        "\r\n",
        "n=10\r\n",
        "r=4\r\n",
        "print(\"\\nTotal no of ingredients : \",n)\r\n",
        "print(\"\\nTotal no of ingredients to be taken : \",r)\r\n",
        "print(\"\\nCombination with repitation is \",com_with_rep(n,r))\r\n",
        "\r\n",
        "#Example 4 :\r\n",
        "\r\n",
        "#You’re making a sandwich and you’re only allowed to use 4 ingredients out of 10 possible. However, the ingredients have to be unique i.e the ingredients cannot be repitated.\r\n",
        "\r\n",
        "#As the ingrediants cannot be repitated, we wiil be using non repitated formula of combination.\r\n",
        "\r\n",
        "#here n= 10 as it is the total no of ingredients available and r = 4 as it is the no of ingredients used.\r\n",
        "\r\n",
        "n=10\r\n",
        "r=4\r\n",
        "print(\"\\nTotal no of ingredients : \",n)\r\n",
        "print(\"\\nTotal no of ingredients to be taken : \",r)\r\n",
        "print(\"\\nCombination is \",com(n,r))\r\n",
        "\r\n",
        "#Example 5 :\r\n",
        "\r\n",
        "#find all combinations containing exactly 2 letters from the word \"ABCDE\" such that its a unquie cobination i.e the letters should not be repetated\r\n",
        "\r\n",
        "#here n= 5 as the length of word \"ABCDE\" is 5 and r = 2 as we have to create combination with 2 letters of the word\r\n",
        "\r\n",
        "#The possible combinations are :\r\n",
        "\r\n",
        "#A B\r\n",
        "#A C\r\n",
        "#A D\r\n",
        "#A E\r\n",
        "#B C\r\n",
        "#B D\r\n",
        "#B E\r\n",
        "#C D\r\n",
        "#C E\r\n",
        "#D E\r\n",
        "\r\n",
        "n=5\r\n",
        "r=2\r\n",
        "print(\"\\nThe length of word 'ABCDE' : \",n)\r\n",
        "print(\"\\nNumber of letters taken from the word : \",r)\r\n",
        "print(\"\\nPossible Combination are \",com(n,r))\r\n",
        "\r\n"
      ],
      "execution_count": null,
      "outputs": [
        {
          "output_type": "stream",
          "text": [
            "\n",
            "The size of set :  4\n",
            "\n",
            "The size of elements taken from the set :  2\n",
            "\n",
            "Permuation is  12.0\n",
            "\n",
            "The size of set :  10\n",
            "\n",
            "The size of elements taken from the set :  4\n",
            "\n",
            "Permuation is  5040.0\n",
            "\n",
            "Total number of digits :  10\n",
            "\n",
            "Number of Digits for a pin to be created:  4\n",
            "\n",
            "Permuation with repitation is  10000\n",
            "\n",
            "the size of set :  36\n",
            "\n",
            "the size of elements taken from the set :  8\n",
            "\n",
            "Permuation is  1220096908800.0\n",
            "\n",
            "the size of set :  36\n",
            "\n",
            "the size of elements taken from the set :  8\n",
            "\n",
            "Permuation with repitation is  2821109907456\n",
            "\n",
            "Total number of cards in a pack :  52\n",
            "\n",
            "Number of cards to be drawn :  2\n",
            "\n",
            "Combination is  1326.0\n",
            "\n",
            "the size of set :  110\n",
            "\n",
            "the size of elements taken from the set :  11\n",
            "\n",
            "Combination is  426342151127100.0\n",
            "\n",
            "the size of set :  10\n",
            "\n",
            "the size of elements taken from the set :  4\n",
            "\n",
            "Combination with repitation is  715.0\n",
            "\n",
            "the size of set :  10\n",
            "\n",
            "the size of elements taken from the set :  4\n",
            "\n",
            "Combination is  210.0\n",
            "\n",
            "The length of word 'ABCDE' :  5\n",
            "\n",
            "Number of letters taken from the word :  2\n",
            "\n",
            "Possible Combination are  10.0\n"
          ],
          "name": "stdout"
        }
      ]
    },
    {
      "cell_type": "markdown",
      "metadata": {
        "id": "FhZX1icyw-G_"
      },
      "source": [
        "**4. Probability Likelihood**"
      ]
    },
    {
      "cell_type": "markdown",
      "metadata": {
        "id": "RKSY2Gicy0Sv"
      },
      "source": [
        "Probability corresponds to finding the chance of something given a sample distribution of the data, while on the other hand, Likelihood refers to finding the best distribution of the data given a particular value of some feature or some situation in the data.\r\n",
        "\r\n",
        "Maximum likelihood estimation(MLE) is a method of estimating the parametersof a statistical model given observations, by finding the parameter values that maximize the likelihood of making the observations given the parameters. MLE can be seen as a special case of the maximum a posteriori estimation (MAP) that assumes a uniform prior distribution of the parameters, or as a variant of the MAP that ignores the prior and which therefore is unregularized.\r\n",
        "\r\n",
        "\r\n",
        "A statistical method for estimating population parameters (such as the mean and variance) from sample data that selects as estimates those parameter values maximizing the probability of obtaining the observed data is called MLE.\r\n",
        "\r\n",
        "The maximum likelihood estimation is a method that determines values for parameters of the model. It is the statistical method of estimating the parameters of the probability distribution by maximizing the likelihood function. The point in which the parameter value that maximizes the likelihood function is called the maximum likelihood estimate. \r\n"
      ]
    },
    {
      "cell_type": "code",
      "metadata": {
        "colab": {
          "base_uri": "https://localhost:8080/"
        },
        "id": "P2Nhu8MNRMkK",
        "outputId": "f00bac5c-3c88-4884-f455-474165518f13"
      },
      "source": [
        "pip install numdifftools"
      ],
      "execution_count": null,
      "outputs": [
        {
          "output_type": "stream",
          "text": [
            "Collecting numdifftools\n",
            "\u001b[?25l  Downloading https://files.pythonhosted.org/packages/ab/c0/b0d967160ecc8db52ae34e063937d85e8d386f140ad4826aae2086245a5e/numdifftools-0.9.39-py2.py3-none-any.whl (953kB)\n",
            "\r\u001b[K     |▍                               | 10kB 13.2MB/s eta 0:00:01\r\u001b[K     |▊                               | 20kB 13.0MB/s eta 0:00:01\r\u001b[K     |█                               | 30kB 8.6MB/s eta 0:00:01\r\u001b[K     |█▍                              | 40kB 8.0MB/s eta 0:00:01\r\u001b[K     |█▊                              | 51kB 4.6MB/s eta 0:00:01\r\u001b[K     |██                              | 61kB 5.0MB/s eta 0:00:01\r\u001b[K     |██▍                             | 71kB 5.1MB/s eta 0:00:01\r\u001b[K     |██▊                             | 81kB 5.3MB/s eta 0:00:01\r\u001b[K     |███                             | 92kB 5.2MB/s eta 0:00:01\r\u001b[K     |███▍                            | 102kB 5.7MB/s eta 0:00:01\r\u001b[K     |███▉                            | 112kB 5.7MB/s eta 0:00:01\r\u001b[K     |████▏                           | 122kB 5.7MB/s eta 0:00:01\r\u001b[K     |████▌                           | 133kB 5.7MB/s eta 0:00:01\r\u001b[K     |████▉                           | 143kB 5.7MB/s eta 0:00:01\r\u001b[K     |█████▏                          | 153kB 5.7MB/s eta 0:00:01\r\u001b[K     |█████▌                          | 163kB 5.7MB/s eta 0:00:01\r\u001b[K     |█████▉                          | 174kB 5.7MB/s eta 0:00:01\r\u001b[K     |██████▏                         | 184kB 5.7MB/s eta 0:00:01\r\u001b[K     |██████▌                         | 194kB 5.7MB/s eta 0:00:01\r\u001b[K     |██████▉                         | 204kB 5.7MB/s eta 0:00:01\r\u001b[K     |███████▏                        | 215kB 5.7MB/s eta 0:00:01\r\u001b[K     |███████▋                        | 225kB 5.7MB/s eta 0:00:01\r\u001b[K     |████████                        | 235kB 5.7MB/s eta 0:00:01\r\u001b[K     |████████▎                       | 245kB 5.7MB/s eta 0:00:01\r\u001b[K     |████████▋                       | 256kB 5.7MB/s eta 0:00:01\r\u001b[K     |█████████                       | 266kB 5.7MB/s eta 0:00:01\r\u001b[K     |█████████▎                      | 276kB 5.7MB/s eta 0:00:01\r\u001b[K     |█████████▋                      | 286kB 5.7MB/s eta 0:00:01\r\u001b[K     |██████████                      | 296kB 5.7MB/s eta 0:00:01\r\u001b[K     |██████████▎                     | 307kB 5.7MB/s eta 0:00:01\r\u001b[K     |██████████▋                     | 317kB 5.7MB/s eta 0:00:01\r\u001b[K     |███████████                     | 327kB 5.7MB/s eta 0:00:01\r\u001b[K     |███████████▍                    | 337kB 5.7MB/s eta 0:00:01\r\u001b[K     |███████████▊                    | 348kB 5.7MB/s eta 0:00:01\r\u001b[K     |████████████                    | 358kB 5.7MB/s eta 0:00:01\r\u001b[K     |████████████▍                   | 368kB 5.7MB/s eta 0:00:01\r\u001b[K     |████████████▊                   | 378kB 5.7MB/s eta 0:00:01\r\u001b[K     |█████████████                   | 389kB 5.7MB/s eta 0:00:01\r\u001b[K     |█████████████▍                  | 399kB 5.7MB/s eta 0:00:01\r\u001b[K     |█████████████▊                  | 409kB 5.7MB/s eta 0:00:01\r\u001b[K     |██████████████                  | 419kB 5.7MB/s eta 0:00:01\r\u001b[K     |██████████████▍                 | 430kB 5.7MB/s eta 0:00:01\r\u001b[K     |██████████████▊                 | 440kB 5.7MB/s eta 0:00:01\r\u001b[K     |███████████████▏                | 450kB 5.7MB/s eta 0:00:01\r\u001b[K     |███████████████▌                | 460kB 5.7MB/s eta 0:00:01\r\u001b[K     |███████████████▉                | 471kB 5.7MB/s eta 0:00:01\r\u001b[K     |████████████████▏               | 481kB 5.7MB/s eta 0:00:01\r\u001b[K     |████████████████▌               | 491kB 5.7MB/s eta 0:00:01\r\u001b[K     |████████████████▉               | 501kB 5.7MB/s eta 0:00:01\r\u001b[K     |█████████████████▏              | 512kB 5.7MB/s eta 0:00:01\r\u001b[K     |█████████████████▌              | 522kB 5.7MB/s eta 0:00:01\r\u001b[K     |█████████████████▉              | 532kB 5.7MB/s eta 0:00:01\r\u001b[K     |██████████████████▏             | 542kB 5.7MB/s eta 0:00:01\r\u001b[K     |██████████████████▌             | 552kB 5.7MB/s eta 0:00:01\r\u001b[K     |███████████████████             | 563kB 5.7MB/s eta 0:00:01\r\u001b[K     |███████████████████▎            | 573kB 5.7MB/s eta 0:00:01\r\u001b[K     |███████████████████▋            | 583kB 5.7MB/s eta 0:00:01\r\u001b[K     |████████████████████            | 593kB 5.7MB/s eta 0:00:01\r\u001b[K     |████████████████████▎           | 604kB 5.7MB/s eta 0:00:01\r\u001b[K     |████████████████████▋           | 614kB 5.7MB/s eta 0:00:01\r\u001b[K     |█████████████████████           | 624kB 5.7MB/s eta 0:00:01\r\u001b[K     |█████████████████████▎          | 634kB 5.7MB/s eta 0:00:01\r\u001b[K     |█████████████████████▋          | 645kB 5.7MB/s eta 0:00:01\r\u001b[K     |██████████████████████          | 655kB 5.7MB/s eta 0:00:01\r\u001b[K     |██████████████████████▎         | 665kB 5.7MB/s eta 0:00:01\r\u001b[K     |██████████████████████▊         | 675kB 5.7MB/s eta 0:00:01\r\u001b[K     |███████████████████████         | 686kB 5.7MB/s eta 0:00:01\r\u001b[K     |███████████████████████▍        | 696kB 5.7MB/s eta 0:00:01\r\u001b[K     |███████████████████████▊        | 706kB 5.7MB/s eta 0:00:01\r\u001b[K     |████████████████████████        | 716kB 5.7MB/s eta 0:00:01\r\u001b[K     |████████████████████████▍       | 727kB 5.7MB/s eta 0:00:01\r\u001b[K     |████████████████████████▊       | 737kB 5.7MB/s eta 0:00:01\r\u001b[K     |█████████████████████████       | 747kB 5.7MB/s eta 0:00:01\r\u001b[K     |█████████████████████████▍      | 757kB 5.7MB/s eta 0:00:01\r\u001b[K     |█████████████████████████▊      | 768kB 5.7MB/s eta 0:00:01\r\u001b[K     |██████████████████████████▏     | 778kB 5.7MB/s eta 0:00:01\r\u001b[K     |██████████████████████████▌     | 788kB 5.7MB/s eta 0:00:01\r\u001b[K     |██████████████████████████▉     | 798kB 5.7MB/s eta 0:00:01\r\u001b[K     |███████████████████████████▏    | 808kB 5.7MB/s eta 0:00:01\r\u001b[K     |███████████████████████████▌    | 819kB 5.7MB/s eta 0:00:01\r\u001b[K     |███████████████████████████▉    | 829kB 5.7MB/s eta 0:00:01\r\u001b[K     |████████████████████████████▏   | 839kB 5.7MB/s eta 0:00:01\r\u001b[K     |████████████████████████████▌   | 849kB 5.7MB/s eta 0:00:01\r\u001b[K     |████████████████████████████▉   | 860kB 5.7MB/s eta 0:00:01\r\u001b[K     |█████████████████████████████▏  | 870kB 5.7MB/s eta 0:00:01\r\u001b[K     |█████████████████████████████▌  | 880kB 5.7MB/s eta 0:00:01\r\u001b[K     |██████████████████████████████  | 890kB 5.7MB/s eta 0:00:01\r\u001b[K     |██████████████████████████████▎ | 901kB 5.7MB/s eta 0:00:01\r\u001b[K     |██████████████████████████████▋ | 911kB 5.7MB/s eta 0:00:01\r\u001b[K     |███████████████████████████████ | 921kB 5.7MB/s eta 0:00:01\r\u001b[K     |███████████████████████████████▎| 931kB 5.7MB/s eta 0:00:01\r\u001b[K     |███████████████████████████████▋| 942kB 5.7MB/s eta 0:00:01\r\u001b[K     |████████████████████████████████| 952kB 5.7MB/s eta 0:00:01\r\u001b[K     |████████████████████████████████| 962kB 5.7MB/s \n",
            "\u001b[?25hInstalling collected packages: numdifftools\n",
            "Successfully installed numdifftools-0.9.39\n"
          ],
          "name": "stdout"
        }
      ]
    },
    {
      "cell_type": "code",
      "metadata": {
        "id": "m5kGDFZmQ9yf",
        "colab": {
          "base_uri": "https://localhost:8080/"
        },
        "outputId": "dc69e028-ec9b-44b0-f14b-6b56495271b1"
      },
      "source": [
        "import pymc3 as pm3\r\n",
        "import numpy as np\r\n",
        "import numdifftools as ndt\r\n",
        "import pandas as pd\r\n",
        "from scipy.stats import norm\r\n",
        "import statsmodels.api as sm\r\n",
        "from statsmodels.base.model import GenericLikelihoodModel\r\n",
        "from scipy.optimize import minimize\r\n",
        "import random\r\n",
        "import math\r\n",
        "import matplotlib.pylab as plt\r\n",
        "%matplotlib inline\r\n"
      ],
      "execution_count": null,
      "outputs": [
        {
          "output_type": "stream",
          "text": [
            "/usr/local/lib/python3.7/dist-packages/statsmodels/tools/_testing.py:19: FutureWarning: pandas.util.testing is deprecated. Use the functions in the public API at pandas.testing instead.\n",
            "  import pandas.util.testing as tm\n"
          ],
          "name": "stderr"
        }
      ]
    },
    {
      "cell_type": "markdown",
      "metadata": {
        "id": "PvHHD7xHa-oi"
      },
      "source": [
        "eg.1"
      ]
    },
    {
      "cell_type": "code",
      "metadata": {
        "id": "uKv9HoLgHok0"
      },
      "source": [
        "def normal_pdf(x, mu = 1, sigma = 1):\r\n",
        "    return (1./np.sqrt(2*3.14 * sigma**2)) * 2.718**(-(x-mu)**2 / (2. * sigma**2))"
      ],
      "execution_count": null,
      "outputs": []
    },
    {
      "cell_type": "code",
      "metadata": {
        "colab": {
          "base_uri": "https://localhost:8080/",
          "height": 282
        },
        "id": "iEP9hKTeHstQ",
        "outputId": "e97ed29e-ae86-46cc-c547-94d37a727dc6"
      },
      "source": [
        "\r\n",
        "x_values = np.linspace(-10,10,100)\r\n",
        "y_values = [normal_pdf(x) for x in x_values]\r\n",
        "plt.plot(x_values, y_values)\r\n",
        "\r\n",
        "\r\n",
        "x_values = np.linspace(-10,10,100)\r\n",
        "y_values = [normal_pdf(x, sigma = 5) for x in x_values]\r\n",
        "plt.plot(x_values, y_values)\r\n",
        "\r\n",
        "y_values = [normal_pdf(x, mu = -5, sigma = 5) for x in x_values]\r\n",
        "plt.plot(x_values, y_values)"
      ],
      "execution_count": null,
      "outputs": [
        {
          "output_type": "execute_result",
          "data": {
            "text/plain": [
              "[<matplotlib.lines.Line2D at 0x7f57e92a0990>]"
            ]
          },
          "metadata": {
            "tags": []
          },
          "execution_count": 11
        },
        {
          "output_type": "display_data",
          "data": {
            "image/png": "[encoded data removed]",
            "text/plain": [
              "<Figure size 432x288 with 1 Axes>"
            ]
          },
          "metadata": {
            "tags": [],
            "needs_background": "light"
          }
        }
      ]
    },
    {
      "cell_type": "markdown",
      "metadata": {
        "id": "2q-T4zRza7fP"
      },
      "source": [
        "eg.2"
      ]
    },
    {
      "cell_type": "code",
      "metadata": {
        "id": "bFo57BWHSdUz"
      },
      "source": [
        "def normal_pdf(x, mu = 2, sigma = 1):\r\n",
        "    return (1./np.sqrt(2*3.14 * sigma**2)) * 2.718**(-(x-mu)**2 / (2. * sigma**2))"
      ],
      "execution_count": null,
      "outputs": []
    },
    {
      "cell_type": "code",
      "metadata": {
        "colab": {
          "base_uri": "https://localhost:8080/",
          "height": 282
        },
        "id": "13NCsz1nR2cK",
        "outputId": "3e828b08-b3df-4eea-fa76-5b03bdb20a7e"
      },
      "source": [
        "x_values = np.linspace(-20,20,150)\r\n",
        "y_values = [normal_pdf(x) for x in x_values]\r\n",
        "plt.plot(x_values, y_values)\r\n",
        "\r\n",
        "\r\n",
        "x_values = np.linspace(-10,10,100)\r\n",
        "y_values = [normal_pdf(x, sigma = 5) for x in x_values]\r\n",
        "plt.plot(x_values, y_values)\r\n",
        "\r\n",
        "y_values = [normal_pdf(x, mu = -5, sigma = 5) for x in x_values]\r\n",
        "plt.plot(x_values, y_values)"
      ],
      "execution_count": null,
      "outputs": [
        {
          "output_type": "execute_result",
          "data": {
            "text/plain": [
              "[<matplotlib.lines.Line2D at 0x7f57e8d9c9d0>]"
            ]
          },
          "metadata": {
            "tags": []
          },
          "execution_count": 13
        },
        {
          "output_type": "display_data",
          "data": {
            "image/png": "[encoded data removed]",
            "text/plain": [
              "<Figure size 432x288 with 1 Axes>"
            ]
          },
          "metadata": {
            "tags": [],
            "needs_background": "light"
          }
        }
      ]
    },
    {
      "cell_type": "markdown",
      "metadata": {
        "id": "Flmmb_eTbHw2"
      },
      "source": [
        "eg.3"
      ]
    },
    {
      "cell_type": "code",
      "metadata": {
        "id": "_35d1uKobGlw"
      },
      "source": [
        "def normal_pdf(x, mu = 1, sigma = 1):\r\n",
        "    return (1./np.sqrt(2*3.14 * sigma**2)) * 2.718**(-(x-mu)**2 / (2. * sigma**2))"
      ],
      "execution_count": null,
      "outputs": []
    },
    {
      "cell_type": "code",
      "metadata": {
        "colab": {
          "base_uri": "https://localhost:8080/",
          "height": 282
        },
        "id": "jkDvAZXmbr_X",
        "outputId": "4e5892d2-a568-4a90-997c-9af68812c2da"
      },
      "source": [
        "x_values = np.linspace(-15,15,125)\r\n",
        "y_values = [normal_pdf(x) for x in x_values]\r\n",
        "plt.plot(x_values, y_values)\r\n",
        "\r\n",
        "\r\n",
        "x_values = np.linspace(-10,10,100)\r\n",
        "y_values = [normal_pdf(x, sigma = 5) for x in x_values]\r\n",
        "plt.plot(x_values, y_values)\r\n",
        "\r\n",
        "y_values = [normal_pdf(x, mu = -5, sigma = 5) for x in x_values]\r\n",
        "plt.plot(x_values, y_values)"
      ],
      "execution_count": null,
      "outputs": [
        {
          "output_type": "execute_result",
          "data": {
            "text/plain": [
              "[<matplotlib.lines.Line2D at 0x7f57e8d20e50>]"
            ]
          },
          "metadata": {
            "tags": []
          },
          "execution_count": 15
        },
        {
          "output_type": "display_data",
          "data": {
            "image/png": "[encoded data removed]",
            "text/plain": [
              "<Figure size 432x288 with 1 Axes>"
            ]
          },
          "metadata": {
            "tags": [],
            "needs_background": "light"
          }
        }
      ]
    },
    {
      "cell_type": "markdown",
      "metadata": {
        "id": "EXYDGtFdcwVw"
      },
      "source": [
        "eg.4"
      ]
    },
    {
      "cell_type": "code",
      "metadata": {
        "id": "-nuo5DBtdyTp"
      },
      "source": [
        "import math\r\n",
        "import numpy as np\r\n",
        "from scipy.stats import binom\r\n",
        "\r\n",
        "import statsmodels.api as sm\r\n",
        "import matplotlib.pyplot as plt\r\n",
        "\r\n",
        "%matplotlib inline\r\n"
      ],
      "execution_count": null,
      "outputs": []
    },
    {
      "cell_type": "code",
      "metadata": {
        "colab": {
          "base_uri": "https://localhost:8080/",
          "height": 336
        },
        "id": "mHmIFW0nfHTo",
        "outputId": "3fcd2e79-e602-4074-94bc-d18694073e8d"
      },
      "source": [
        "x = np.linspace(0, 10, 11)\r\n",
        "y = [0] * len(x)\r\n",
        "\r\n",
        "fig, ax = plt.subplots(1, 3,sharex=True,sharey=True)\r\n",
        "fig.set_size_inches(20, 5)\r\n",
        "# \r\n",
        "\r\n",
        "# --------------------------------------------------------------------------------\r\n",
        "# First\r\n",
        "# 5 heads out of 10\r\n",
        "# --------------------------------------------------------------------------------\r\n",
        "first = []\r\n",
        "for i in range(11):\r\n",
        "    first.append(binom.pmf(n=10,k=i,p=0.5))\r\n",
        "\r\n",
        "ax[0].grid(\r\n",
        "    color='lightblue',\r\n",
        "    linestyle='--',\r\n",
        "    linewidth=0.5\r\n",
        ")    \r\n",
        "ax[0].plot(\r\n",
        "    [5],\r\n",
        "    [0],\r\n",
        "    linestyle=\"None\",\r\n",
        "    marker='o',\r\n",
        "    markersize=10,\r\n",
        "    color='r'\r\n",
        ")\r\n",
        "ax[0].vlines(x=x, ymin=0, ymax=first, colors='b', linestyles='--', lw=2)\r\n",
        "ax[0].set_title('Initial 5 out of 10 toss')\r\n",
        "\r\n",
        "# --------------------------------------------------------------------------------\r\n",
        "# First + Second likelifood overlay\r\n",
        "# Likelifood for having had 8 heads out of 10\r\n",
        "# --------------------------------------------------------------------------------\r\n",
        "ax[1].grid(\r\n",
        "    color='lightblue',\r\n",
        "    linestyle='--',\r\n",
        "    linewidth=0.5\r\n",
        ")\r\n",
        "ax[1].plot(\r\n",
        "    [5, 8],\r\n",
        "    [0 ,0],\r\n",
        "    linestyle=\"None\",\r\n",
        "    marker='o',\r\n",
        "    markersize=10,\r\n",
        "    color='r'\r\n",
        ")\r\n",
        "likelihood = []\r\n",
        "for i in range(11):\r\n",
        "    likelihood.append(binom.pmf(n=10,k=i,p=0.8))\r\n",
        "\r\n",
        "ax[1].vlines(x=x, ymin=0, ymax=likelihood, colors='r', linestyles='-', lw=2)\r\n",
        "ax[1].vlines(x=x, ymin=0, ymax=first, colors='b', linestyles='--', lw=2)\r\n",
        "ax[1].set_title('8 out of 10 toss observed')\r\n",
        "\r\n",
        "second = np.multiply(first, likelihood)\r\n",
        "second = second / np.sum(second)\r\n",
        "\r\n",
        "# --------------------------------------------------------------------------------\\\r\n",
        "# Posterior\r\n",
        "# --------------------------------------------------------------------------------\r\n",
        "ax[2].grid(\r\n",
        "    color='lightblue',\r\n",
        "    linestyle='--',\r\n",
        "    linewidth=0.5\r\n",
        ")\r\n",
        "ax[2].plot(\r\n",
        "    [5, 8],\r\n",
        "    [0 ,0],\r\n",
        "    linestyle=\"None\",\r\n",
        "    marker='o',\r\n",
        "    markersize=10,\r\n",
        "    color='r'\r\n",
        ")\r\n",
        "ax[2].vlines(x=x, ymin=0, ymax=second, colors='k', linestyles='-', lw=1)\r\n",
        "ax[2].set_title('5 and 8 out of 10 toss')\r\n",
        "\r\n",
        "plt.show()"
      ],
      "execution_count": null,
      "outputs": [
        {
          "output_type": "display_data",
          "data": {
            "image/png": "[encoded data removed]",
            "text/plain": [
              "<Figure size 1440x360 with 3 Axes>"
            ]
          },
          "metadata": {
            "tags": [],
            "needs_background": "light"
          }
        }
      ]
    },
    {
      "cell_type": "markdown",
      "metadata": {
        "id": "WjgJxdEffxFQ"
      },
      "source": [
        "eg.5"
      ]
    },
    {
      "cell_type": "code",
      "metadata": {
        "id": "XhEVcsJRfyhB"
      },
      "source": [
        "def normal_pdf(x, mu = 2, sigma = 1):\r\n",
        "    return (1./np.sqrt(2*3.14 * sigma**2)) * 2.718**(-(x-mu)**2 / (2. * sigma**2))"
      ],
      "execution_count": null,
      "outputs": []
    },
    {
      "cell_type": "code",
      "metadata": {
        "colab": {
          "base_uri": "https://localhost:8080/",
          "height": 282
        },
        "id": "blzilz2MgBn3",
        "outputId": "e1710bcd-6f53-40d3-b873-d963c7a6e5e8"
      },
      "source": [
        "x_values = np.linspace(-30,30,200)\r\n",
        "y_values = [normal_pdf(x) for x in x_values]\r\n",
        "plt.plot(x_values, y_values)\r\n",
        "\r\n",
        "\r\n",
        "x_values = np.linspace(-10,10,100)\r\n",
        "y_values = [normal_pdf(x, sigma = 5) for x in x_values]\r\n",
        "plt.plot(x_values, y_values)\r\n",
        "\r\n",
        "y_values = [normal_pdf(x, mu = -5, sigma = 5) for x in x_values]\r\n",
        "plt.plot(x_values, y_values)"
      ],
      "execution_count": null,
      "outputs": [
        {
          "output_type": "execute_result",
          "data": {
            "text/plain": [
              "[<matplotlib.lines.Line2D at 0x7f57e8a09390>]"
            ]
          },
          "metadata": {
            "tags": []
          },
          "execution_count": 25
        },
        {
          "output_type": "display_data",
          "data": {
            "image/png": "[encoded data removed]",
            "text/plain": [
              "<Figure size 432x288 with 1 Axes>"
            ]
          },
          "metadata": {
            "tags": [],
            "needs_background": "light"
          }
        }
      ]
    },
    {
      "cell_type": "markdown",
      "metadata": {
        "id": "bxJTZuQksj2v"
      },
      "source": [
        "**5. Probability Expectation**"
      ]
    },
    {
      "cell_type": "markdown",
      "metadata": {
        "id": "jW-ez9qOFgkO"
      },
      "source": [
        "**Expectation**\r\n",
        "\r\n",
        "  The expected value of an experiment is the probability-weighted average of all possible values. It is defined mathematically as the following:\r\n",
        "\r\n",
        "  [Math Processing Error]\r\n",
        "\r\n",
        "  The law of large numbers states that the average result from a series of trails will converge to the expected value. Roll the die to see convergence to its expected value. change the theoretical probability of the die to see how that changes the average and expected value."
      ]
    },
    {
      "cell_type": "markdown",
      "metadata": {
        "id": "MS0XYmFGFG7T"
      },
      "source": [
        "**Expectation**\r\n",
        "\r\n",
        "If you have a collection of numbers a1,a2,...,aN, their average is a single \r\n",
        "number that describes the whole collection. Now, consider a random variable X. \r\n",
        "We would like to define its average, or as it is called in probability, its expected value or mean. \r\n",
        "The expected value is defined as the weighted average of the values in the range."
      ]
    },
    {
      "cell_type": "markdown",
      "metadata": {
        "id": "qw2EvdKcAlIr"
      },
      "source": [
        "Expected value (= mean=average):\r\n",
        "\r\n",
        "Definition \r\n",
        "\r\n",
        "Let X be a discrete random variable with range RX={x1,x2,x3,...} (finite or countably infinite). The expected value of X, denoted by EX is defined as\r\n",
        "\r\n",
        "EX= ∑xk P(X=xk)=∑xk PX(xk)    where xk∈RX\r\n",
        "\r\n",
        "consider a discrete random variable with range RX={x1,x2,x3,...}. This random variable is a result of random experiment. Suppose that we repeat this experiment a very large number of times N, and that the trials are independent. Let N1 be the number of times we observe x1, N2 be the number of times we observe x2, ...., Nk be the number of times we observe xk, and so on. Since P(X=xk)=PX(xk), we expect that\r\n",
        "\r\n",
        "PX(x1)≈N1/N,\r\n",
        "\r\n",
        "PX(x2)≈N2/N,\r\n",
        "\r\n",
        "...\r\n",
        "\r\n",
        "PX(xk)≈Nk/N,\r\n",
        "\r\n",
        "...\r\n",
        "\r\n",
        "In other words, we have Nk≈N PX(xk). Now, if we take the average of the observed values of X, we obtain\r\n",
        "\r\n",
        "Average \t= N1x1+N2x2+N3x3+.../N\r\n",
        "\r\n",
        "          ≈ x1NPX(x1)+x2NPX(x2)+x3NPX(x3)+.../N\r\n",
        "          = x1 PX(x1)+x2 PX(x2)+x3 PX(x3)+...\r\n",
        "          = EX.\r\n",
        "\r\n",
        "Thus, the intuition behind EX is that if you repeat the random experiment independently N times and take the average of the observed data, the average gets closer and closer to EX as N gets larger and larger. We sometimes denote EX by μX.\r\n",
        "\r\n",
        "  Different notations for expected value of X: EX=E[X]=E(X)=μX.\r\n",
        "                  "
      ]
    },
    {
      "cell_type": "markdown",
      "metadata": {
        "id": "9OpzvB-9JYdL"
      },
      "source": [
        "**Example 1**\r\n",
        "\r\n",
        "Expectation or expected value of any group of numbers in probability is the long-run average value of repetitions of the experiment it represents. For example, the expected value in rolling a six-sided die is 3.5, because the average of all the numbers that come up in an extremely large number of rolls is close to 3.5. Less roughly, the law of large numbers states that the arithmetic mean of the values almost surely converges to the expected value as the number of repetitions approaches infinity. The expected value is also known as the expectation, mathematical expectation, EV, or first moment.\r\n",
        "Given an array, the task is to calculate the expected value of the array."
      ]
    },
    {
      "cell_type": "code",
      "metadata": {
        "id": "iMsorL0l_4KU",
        "colab": {
          "base_uri": "https://localhost:8080/"
        },
        "outputId": "54a9e7c2-1319-453c-bbc3-8ab3d7de8e26"
      },
      "source": [
        "# Example 1 : Find the Expected value of Rolling a dice \r\n",
        "\r\n",
        "# Function to calculate expectation \r\n",
        "def calc_Expectation(a, n): \r\n",
        "\t\r\n",
        "\t# variable prb is for probability \r\n",
        "\t# of each element which is same for \r\n",
        "\t# each element \r\n",
        "\tprb = 1 / n \r\n",
        "\t\r\n",
        "\t# calculating expectation overall \r\n",
        "\tsum = 0\r\n",
        "\tfor i in range(0, n): \r\n",
        "\t\tsum += (a[i] * prb) \r\n",
        "\t\t\r\n",
        "\t# returning expectation as sum \r\n",
        "\treturn float(sum) \r\n",
        "\r\n",
        "\r\n",
        "# Driver program \r\n",
        "n = 6; \r\n",
        "a = [ 1.0, 2.0, 3.0,4.0, 5.0, 6.0 ] \r\n",
        "\r\n",
        "# Function for calculating expectation or expected value\r\n",
        "expected_value = calc_Expectation(a, n) \r\n",
        "\r\n",
        "# Display expectation of given array \r\n",
        "print( \"Expectation of array E(X) is : \", expected_value ) "
      ],
      "execution_count": null,
      "outputs": [
        {
          "output_type": "stream",
          "text": [
            "Expectation of array E(X) is :  3.5\n"
          ],
          "name": "stdout"
        }
      ]
    },
    {
      "cell_type": "markdown",
      "metadata": {
        "id": "SicrV6XYyOCK"
      },
      "source": [
        "**Method 2**\r\n",
        "\r\n",
        "**Finding Expected Value**"
      ]
    },
    {
      "cell_type": "code",
      "metadata": {
        "colab": {
          "base_uri": "https://localhost:8080/"
        },
        "id": "goKRA2K4yHAl",
        "outputId": "8258d6ad-2de1-42ba-b6dc-c31ea30e1a3f"
      },
      "source": [
        "import random\r\n",
        "def DiceRoll():\r\n",
        "  return random.randint(1,6)  # here we are selecting the integer value from range. \r\n",
        "\r\n",
        "trials=[]\r\n",
        "noOfTrials=100\r\n",
        "for t in range(noOfTrials):\r\n",
        "  trials.append(DiceRoll())\r\n",
        "\r\n",
        "avgs = sum(trials)/float(noOfTrials)\r\n",
        "avgs"
      ],
      "execution_count": null,
      "outputs": [
        {
          "output_type": "execute_result",
          "data": {
            "text/plain": [
              "3.45"
            ]
          },
          "metadata": {
            "tags": []
          },
          "execution_count": 30
        }
      ]
    },
    {
      "cell_type": "code",
      "metadata": {
        "id": "K5rV8Fqv1Xkq",
        "colab": {
          "base_uri": "https://localhost:8080/"
        },
        "outputId": "31ae599a-e379-40d7-a3ec-dd3686cfa934"
      },
      "source": [
        "nTrials=range(100,10000,10) # here we are repeating the experiment for large number of times\r\n",
        "avgs=[]\r\n",
        "for nt in nTrials:\r\n",
        "  trials=[]\r\n",
        "  for t in range(1,nt):\r\n",
        "    trials.append(DiceRoll())\r\n",
        "  avgs.append(sum(trials)/float(nt))\r\n",
        "avgs\r\n"
      ],
      "execution_count": null,
      "outputs": [
        {
          "output_type": "execute_result",
          "data": {
            "text/plain": [
              "[3.68,\n",
              " 3.4363636363636365,\n",
              " 3.308333333333333,\n",
              " 3.623076923076923,\n",
              " 3.8285714285714287,\n",
              " 3.473333333333333,\n",
              " 3.4625,\n",
              " 3.6058823529411765,\n",
              " 3.1944444444444446,\n",
              " 3.536842105263158,\n",
              " 3.6,\n",
              " 3.419047619047619,\n",
              " 3.6,\n",
              " 3.373913043478261,\n",
              " 3.595833333333333,\n",
              " 3.552,\n",
              " 3.4615384615384617,\n",
              " 3.214814814814815,\n",
              " 3.4464285714285716,\n",
              " 3.386206896551724,\n",
              " 3.28,\n",
              " 3.567741935483871,\n",
              " 3.434375,\n",
              " 3.496969696969697,\n",
              " 3.5588235294117645,\n",
              " 3.4114285714285715,\n",
              " 3.5,\n",
              " 3.645945945945946,\n",
              " 3.5236842105263158,\n",
              " 3.5487179487179485,\n",
              " 3.4575,\n",
              " 3.5073170731707317,\n",
              " 3.533333333333333,\n",
              " 3.4465116279069767,\n",
              " 3.3795454545454544,\n",
              " 3.397777777777778,\n",
              " 3.35,\n",
              " 3.529787234042553,\n",
              " 3.4875,\n",
              " 3.522448979591837,\n",
              " 3.428,\n",
              " 3.3254901960784315,\n",
              " 3.5865384615384617,\n",
              " 3.6641509433962263,\n",
              " 3.490740740740741,\n",
              " 3.4709090909090907,\n",
              " 3.3732142857142855,\n",
              " 3.501754385964912,\n",
              " 3.446551724137931,\n",
              " 3.4677966101694917,\n",
              " 3.4433333333333334,\n",
              " 3.416393442622951,\n",
              " 3.5161290322580645,\n",
              " 3.5396825396825395,\n",
              " 3.44375,\n",
              " 3.3384615384615386,\n",
              " 3.3666666666666667,\n",
              " 3.4955223880597015,\n",
              " 3.554411764705882,\n",
              " 3.4855072463768115,\n",
              " 3.4014285714285712,\n",
              " 3.3619718309859157,\n",
              " 3.5347222222222223,\n",
              " 3.621917808219178,\n",
              " 3.597297297297297,\n",
              " 3.512,\n",
              " 3.555263157894737,\n",
              " 3.481818181818182,\n",
              " 3.4641025641025642,\n",
              " 3.5037974683544304,\n",
              " 3.45375,\n",
              " 3.5123456790123457,\n",
              " 3.430487804878049,\n",
              " 3.47710843373494,\n",
              " 3.5107142857142857,\n",
              " 3.4976470588235293,\n",
              " 3.41046511627907,\n",
              " 3.5068965517241377,\n",
              " 3.585227272727273,\n",
              " 3.5269662921348313,\n",
              " 3.3755555555555556,\n",
              " 3.5175824175824175,\n",
              " 3.5945652173913043,\n",
              " 3.5505376344086024,\n",
              " 3.40531914893617,\n",
              " 3.4726315789473685,\n",
              " 3.4895833333333335,\n",
              " 3.48659793814433,\n",
              " 3.4683673469387757,\n",
              " 3.473737373737374,\n",
              " 3.53,\n",
              " 3.518811881188119,\n",
              " 3.4970588235294118,\n",
              " 3.3980582524271843,\n",
              " 3.603846153846154,\n",
              " 3.56,\n",
              " 3.4886792452830186,\n",
              " 3.527102803738318,\n",
              " 3.6444444444444444,\n",
              " 3.491743119266055,\n",
              " 3.5490909090909093,\n",
              " 3.4657657657657657,\n",
              " 3.4982142857142855,\n",
              " 3.468141592920354,\n",
              " 3.481578947368421,\n",
              " 3.5017391304347827,\n",
              " 3.571551724137931,\n",
              " 3.528205128205128,\n",
              " 3.390677966101695,\n",
              " 3.4798319327731093,\n",
              " 3.4675,\n",
              " 3.4512396694214877,\n",
              " 3.5221311475409838,\n",
              " 3.435772357723577,\n",
              " 3.536290322580645,\n",
              " 3.5704,\n",
              " 3.442857142857143,\n",
              " 3.4488188976377954,\n",
              " 3.5484375,\n",
              " 3.517829457364341,\n",
              " 3.4223076923076925,\n",
              " 3.453435114503817,\n",
              " 3.441666666666667,\n",
              " 3.532330827067669,\n",
              " 3.4470149253731344,\n",
              " 3.58,\n",
              " 3.4308823529411763,\n",
              " 3.537226277372263,\n",
              " 3.4456521739130435,\n",
              " 3.435971223021583,\n",
              " 3.520714285714286,\n",
              " 3.454609929078014,\n",
              " 3.5035211267605635,\n",
              " 3.42027972027972,\n",
              " 3.4895833333333335,\n",
              " 3.4531034482758622,\n",
              " 3.402054794520548,\n",
              " 3.510204081632653,\n",
              " 3.4527027027027026,\n",
              " 3.497315436241611,\n",
              " 3.530666666666667,\n",
              " 3.418543046357616,\n",
              " 3.5085526315789473,\n",
              " 3.641830065359477,\n",
              " 3.557142857142857,\n",
              " 3.472258064516129,\n",
              " 3.5044871794871795,\n",
              " 3.4847133757961783,\n",
              " 3.460759493670886,\n",
              " 3.5138364779874216,\n",
              " 3.480625,\n",
              " 3.422981366459627,\n",
              " 3.4975308641975307,\n",
              " 3.506748466257669,\n",
              " 3.455487804878049,\n",
              " 3.5436363636363635,\n",
              " 3.5698795180722893,\n",
              " 3.532934131736527,\n",
              " 3.5047619047619047,\n",
              " 3.5017751479289942,\n",
              " 3.4723529411764704,\n",
              " 3.5005847953216374,\n",
              " 3.5017441860465115,\n",
              " 3.4901734104046245,\n",
              " 3.5373563218390807,\n",
              " 3.5548571428571427,\n",
              " 3.5482954545454546,\n",
              " 3.452542372881356,\n",
              " 3.50561797752809,\n",
              " 3.492737430167598,\n",
              " 3.406111111111111,\n",
              " 3.456906077348066,\n",
              " 3.4532967032967035,\n",
              " 3.5114754098360654,\n",
              " 3.552717391304348,\n",
              " 3.4686486486486485,\n",
              " 3.4951612903225806,\n",
              " 3.462032085561497,\n",
              " 3.595744680851064,\n",
              " 3.5005291005291004,\n",
              " 3.556842105263158,\n",
              " 3.518848167539267,\n",
              " 3.4171875,\n",
              " 3.493264248704663,\n",
              " 3.5149484536082474,\n",
              " 3.4384615384615387,\n",
              " 3.5933673469387757,\n",
              " 3.501015228426396,\n",
              " 3.4611111111111112,\n",
              " 3.498994974874372,\n",
              " 3.498,\n",
              " 3.4741293532338307,\n",
              " 3.507920792079208,\n",
              " 3.5389162561576355,\n",
              " 3.490686274509804,\n",
              " 3.48,\n",
              " 3.5563106796116504,\n",
              " 3.4917874396135264,\n",
              " 3.55,\n",
              " 3.532057416267943,\n",
              " 3.4585714285714286,\n",
              " 3.413744075829384,\n",
              " 3.5117924528301887,\n",
              " 3.453521126760563,\n",
              " 3.446261682242991,\n",
              " 3.4832558139534884,\n",
              " 3.4606481481481484,\n",
              " 3.4852534562211983,\n",
              " 3.4871559633027522,\n",
              " 3.566666666666667,\n",
              " 3.5395454545454546,\n",
              " 3.5547511312217193,\n",
              " 3.5108108108108107,\n",
              " 3.4744394618834082,\n",
              " 3.459375,\n",
              " 3.4875555555555557,\n",
              " 3.5,\n",
              " 3.5511013215859033,\n",
              " 3.4776315789473684,\n",
              " 3.4314410480349347,\n",
              " 3.5282608695652176,\n",
              " 3.4813852813852812,\n",
              " 3.489655172413793,\n",
              " 3.5004291845493563,\n",
              " 3.4726495726495727,\n",
              " 3.5025531914893615,\n",
              " 3.4686440677966104,\n",
              " 3.520675105485232,\n",
              " 3.5029411764705882,\n",
              " 3.496234309623431,\n",
              " 3.48,\n",
              " 3.5369294605809127,\n",
              " 3.446280991735537,\n",
              " 3.489300411522634,\n",
              " 3.4864754098360655,\n",
              " 3.508979591836735,\n",
              " 3.495121951219512,\n",
              " 3.4789473684210526,\n",
              " 3.497983870967742,\n",
              " 3.4176706827309236,\n",
              " 3.4372,\n",
              " 3.4828685258964143,\n",
              " 3.5265873015873015,\n",
              " 3.501581027667984,\n",
              " 3.4996062992125982,\n",
              " 3.4929411764705884,\n",
              " 3.50234375,\n",
              " 3.517509727626459,\n",
              " 3.5034883720930234,\n",
              " 3.4876447876447876,\n",
              " 3.5373076923076923,\n",
              " 3.5229885057471266,\n",
              " 3.4912213740458014,\n",
              " 3.5193916349809884,\n",
              " 3.528787878787879,\n",
              " 3.510188679245283,\n",
              " 3.513157894736842,\n",
              " 3.4767790262172285,\n",
              " 3.4764925373134328,\n",
              " 3.5063197026022306,\n",
              " 3.5385185185185186,\n",
              " 3.5132841328413282,\n",
              " 3.478676470588235,\n",
              " 3.4571428571428573,\n",
              " 3.52007299270073,\n",
              " 3.5010909090909093,\n",
              " 3.457608695652174,\n",
              " 3.468231046931408,\n",
              " 3.501438848920863,\n",
              " 3.5086021505376346,\n",
              " 3.5025,\n",
              " 3.4430604982206408,\n",
              " 3.4918439716312055,\n",
              " 3.4975265017667843,\n",
              " 3.525,\n",
              " 3.493333333333333,\n",
              " 3.4695804195804194,\n",
              " 3.493728222996516,\n",
              " 3.498263888888889,\n",
              " 3.517993079584775,\n",
              " 3.500344827586207,\n",
              " 3.4745704467353953,\n",
              " 3.4934931506849316,\n",
              " 3.5,\n",
              " 3.498299319727891,\n",
              " 3.5094915254237287,\n",
              " 3.5216216216216214,\n",
              " 3.5255892255892256,\n",
              " 3.546308724832215,\n",
              " 3.5096989966555183,\n",
              " 3.4673333333333334,\n",
              " 3.501328903654485,\n",
              " 3.463907284768212,\n",
              " 3.4676567656765678,\n",
              " 3.5085526315789473,\n",
              " 3.544262295081967,\n",
              " 3.514705882352941,\n",
              " 3.480781758957655,\n",
              " 3.4996753246753247,\n",
              " 3.5042071197411,\n",
              " 3.525483870967742,\n",
              " 3.5311897106109327,\n",
              " 3.4993589743589744,\n",
              " 3.5012779552715654,\n",
              " 3.480254777070064,\n",
              " 3.506666666666667,\n",
              " 3.485126582278481,\n",
              " 3.494006309148265,\n",
              " 3.4723270440251572,\n",
              " 3.5322884012539184,\n",
              " 3.5271875,\n",
              " 3.5096573208722743,\n",
              " 3.4959627329192546,\n",
              " 3.538699690402477,\n",
              " 3.455246913580247,\n",
              " 3.4993846153846153,\n",
              " 3.4828220858895707,\n",
              " 3.5192660550458714,\n",
              " 3.504878048780488,\n",
              " 3.5133738601823707,\n",
              " 3.5518181818181818,\n",
              " 3.4885196374622356,\n",
              " 3.4759036144578315,\n",
              " 3.4897897897897896,\n",
              " 3.4910179640718564,\n",
              " 3.5095522388059703,\n",
              " 3.533333333333333,\n",
              " 3.486646884272997,\n",
              " 3.5050295857988165,\n",
              " 3.510619469026549,\n",
              " 3.4820588235294117,\n",
              " 3.496774193548387,\n",
              " 3.51140350877193,\n",
              " 3.443148688046647,\n",
              " 3.5127906976744185,\n",
              " 3.512463768115942,\n",
              " 3.4667630057803467,\n",
              " 3.511527377521614,\n",
              " 3.5140804597701147,\n",
              " 3.4979942693409742,\n",
              " 3.4882857142857144,\n",
              " 3.5139601139601138,\n",
              " 3.4960227272727273,\n",
              " 3.4835694050991504,\n",
              " 3.5031073446327685,\n",
              " 3.4360563380281692,\n",
              " 3.494943820224719,\n",
              " 3.519047619047619,\n",
              " 3.4695530726256982,\n",
              " 3.50891364902507,\n",
              " 3.4475,\n",
              " 3.4465373961218835,\n",
              " 3.5171270718232046,\n",
              " 3.4600550964187327,\n",
              " 3.521978021978022,\n",
              " 3.4717808219178083,\n",
              " 3.460655737704918,\n",
              " 3.487465940054496,\n",
              " 3.575,\n",
              " 3.504878048780488,\n",
              " 3.4645945945945944,\n",
              " 3.5212938005390835,\n",
              " 3.497311827956989,\n",
              " 3.5142091152815014,\n",
              " 3.5558823529411763,\n",
              " 3.4829333333333334,\n",
              " 3.513031914893617,\n",
              " 3.5257294429708224,\n",
              " 3.491005291005291,\n",
              " 3.526121372031662,\n",
              " 3.5073684210526315,\n",
              " 3.509186351706037,\n",
              " 3.479581151832461,\n",
              " 3.5407310704960837,\n",
              " 3.48359375,\n",
              " 3.5394805194805197,\n",
              " 3.4800518134715026,\n",
              " 3.4537467700258397,\n",
              " 3.5417525773195875,\n",
              " 3.488688946015424,\n",
              " 3.5046153846153847,\n",
              " 3.494373401534527,\n",
              " 3.498469387755102,\n",
              " 3.504580152671756,\n",
              " 3.5048223350253807,\n",
              " 3.507594936708861,\n",
              " 3.4909090909090907,\n",
              " 3.4967254408060455,\n",
              " 3.5175879396984926,\n",
              " 3.4759398496240603,\n",
              " 3.47325,\n",
              " 3.47356608478803,\n",
              " 3.490049751243781,\n",
              " 3.4990074441687344,\n",
              " 3.4492574257425743,\n",
              " 3.5281481481481483,\n",
              " 3.4512315270935963,\n",
              " 3.4687960687960686,\n",
              " 3.456127450980392,\n",
              " 3.515403422982885,\n",
              " 3.53390243902439,\n",
              " 3.478588807785888,\n",
              " 3.501699029126214,\n",
              " 3.499273607748184,\n",
              " 3.541304347826087,\n",
              " 3.4756626506024095,\n",
              " 3.454326923076923,\n",
              " 3.558273381294964,\n",
              " 3.5318181818181817,\n",
              " 3.481384248210024,\n",
              " 3.5107142857142857,\n",
              " 3.4895486935866984,\n",
              " 3.490995260663507,\n",
              " 3.5193853427895982,\n",
              " 3.5004716981132074,\n",
              " 3.4623529411764706,\n",
              " 3.4884976525821596,\n",
              " 3.5482435597189697,\n",
              " 3.538551401869159,\n",
              " 3.525174825174825,\n",
              " 3.4727906976744185,\n",
              " 3.493967517401392,\n",
              " 3.5150462962962963,\n",
              " 3.478752886836028,\n",
              " 3.4995391705069125,\n",
              " 3.4972413793103447,\n",
              " 3.4809633027522935,\n",
              " 3.5185354691075514,\n",
              " 3.4883561643835614,\n",
              " 3.524145785876993,\n",
              " 3.4786363636363635,\n",
              " 3.4827664399092972,\n",
              " 3.4963800904977376,\n",
              " 3.498645598194131,\n",
              " 3.509009009009009,\n",
              " 3.493258426966292,\n",
              " 3.5121076233183857,\n",
              " 3.446532438478747,\n",
              " 3.4801339285714286,\n",
              " 3.5184855233853005,\n",
              " 3.5075555555555558,\n",
              " 3.4762749445676273,\n",
              " 3.526991150442478,\n",
              " 3.552980132450331,\n",
              " 3.462114537444934,\n",
              " 3.483736263736264,\n",
              " 3.4640350877192985,\n",
              " 3.509628008752735,\n",
              " 3.485589519650655,\n",
              " 3.4812636165577344,\n",
              " 3.4965217391304346,\n",
              " 3.5238611713665944,\n",
              " 3.51991341991342,\n",
              " 3.5151187904967602,\n",
              " 3.460560344827586,\n",
              " 3.5329032258064514,\n",
              " 3.4995708154506437,\n",
              " 3.492505353319058,\n",
              " 3.519871794871795,\n",
              " 3.5187633262260127,\n",
              " 3.5038297872340425,\n",
              " 3.4736730360934183,\n",
              " 3.48114406779661,\n",
              " 3.494291754756871,\n",
              " 3.510759493670886,\n",
              " 3.5202105263157897,\n",
              " 3.461764705882353,\n",
              " 3.4932914046121595,\n",
              " 3.498744769874477,\n",
              " 3.5139874739039665,\n",
              " 3.49,\n",
              " 3.492723492723493,\n",
              " 3.491908713692946,\n",
              " 3.4942028985507245,\n",
              " 3.5219008264462808,\n",
              " 3.4783505154639176,\n",
              " 3.465432098765432,\n",
              " 3.486652977412731,\n",
              " 3.5077868852459018,\n",
              " 3.5081799591002043,\n",
              " 3.489795918367347,\n",
              " 3.490224032586558,\n",
              " 3.4632113821138213,\n",
              " 3.514604462474645,\n",
              " 3.4981781376518217,\n",
              " 3.5032323232323233,\n",
              " 3.494959677419355,\n",
              " 3.505835010060362,\n",
              " 3.464859437751004,\n",
              " 3.4791583166332667,\n",
              " 3.4986,\n",
              " 3.486427145708583,\n",
              " 3.5067729083665338,\n",
              " 3.512524850894632,\n",
              " 3.461904761904762,\n",
              " 3.4807920792079208,\n",
              " 3.4879446640316205,\n",
              " 3.5120315581854045,\n",
              " 3.5163385826771654,\n",
              " 3.4978388998035363,\n",
              " 3.5054901960784313,\n",
              " 3.513894324853229,\n",
              " 3.5400390625,\n",
              " 3.5212475633528264,\n",
              " 3.5424124513618676,\n",
              " 3.498252427184466,\n",
              " 3.4959302325581394,\n",
              " 3.5458413926499035,\n",
              " 3.5181467181467183,\n",
              " 3.4764932562620423,\n",
              " 3.4909615384615384,\n",
              " 3.5554702495201536,\n",
              " 3.511302681992337,\n",
              " 3.4892925430210324,\n",
              " 3.510114503816794,\n",
              " 3.4927619047619047,\n",
              " 3.5043726235741444,\n",
              " 3.4973434535104366,\n",
              " 3.5149621212121214,\n",
              " 3.517202268431002,\n",
              " 3.4666037735849056,\n",
              " 3.470998116760829,\n",
              " 3.501503759398496,\n",
              " 3.478611632270169,\n",
              " 3.505430711610487,\n",
              " 3.512897196261682,\n",
              " 3.461194029850746,\n",
              " 3.439292364990689,\n",
              " 3.479553903345725,\n",
              " 3.498701298701299,\n",
              " 3.5074074074074075,\n",
              " 3.4841035120147876,\n",
              " 3.500369003690037,\n",
              " 3.5410681399631674,\n",
              " 3.5330882352941178,\n",
              " 3.500183486238532,\n",
              " 3.4782051282051283,\n",
              " 3.5082266910420477,\n",
              " 3.4740875912408757,\n",
              " 3.4703096539162113,\n",
              " 3.4945454545454546,\n",
              " 3.507622504537205,\n",
              " 3.522644927536232,\n",
              " 3.4694394213381554,\n",
              " 3.5395306859205777,\n",
              " 3.4895495495495497,\n",
              " 3.5032374100719426,\n",
              " 3.522262118491921,\n",
              " 3.453405017921147,\n",
              " 3.4973166368515205,\n",
              " 3.523392857142857,\n",
              " 3.5081996434937612,\n",
              " 3.495373665480427,\n",
              " 3.491119005328597,\n",
              " 3.4918439716312055,\n",
              " 3.4607079646017698,\n",
              " 3.4969964664310953,\n",
              " 3.4860670194003527,\n",
              " 3.520598591549296,\n",
              " 3.4597539543058,\n",
              " 3.4919298245614034,\n",
              " 3.4782837127845885,\n",
              " 3.523076923076923,\n",
              " 3.468237347294939,\n",
              " 3.5010452961672476,\n",
              " 3.500695652173913,\n",
              " 3.540798611111111,\n",
              " 3.469844020797227,\n",
              " 3.4690311418685122,\n",
              " 3.5115716753022452,\n",
              " 3.48,\n",
              " 3.5179001721170398,\n",
              " 3.5013745704467354,\n",
              " 3.4919382504288166,\n",
              " 3.490239726027397,\n",
              " 3.4803418803418804,\n",
              " 3.4469283276450513,\n",
              " 3.461328790459966,\n",
              " 3.513265306122449,\n",
              " 3.5317487266553482,\n",
              " 3.4798305084745764,\n",
              " 3.5313028764805416,\n",
              " 3.5300675675675675,\n",
              " 3.4978077571669477,\n",
              " 3.5003367003367005,\n",
              " 3.504873949579832,\n",
              " 3.4966442953020134,\n",
              " 3.4579564489112227,\n",
              " 3.5516722408026755,\n",
              " 3.4961602671118532,\n",
              " 3.5326666666666666,\n",
              " 3.4720465890183028,\n",
              " 3.485049833887043,\n",
              " 3.533333333333333,\n",
              " 3.475,\n",
              " 3.516198347107438,\n",
              " 3.4447194719471947,\n",
              " 3.453212520593081,\n",
              " 3.5279605263157894,\n",
              " 3.492775041050903,\n",
              " 3.499672131147541,\n",
              " 3.4950900163666123,\n",
              " 3.493137254901961,\n",
              " 3.4833605220228385,\n",
              " 3.4850162866449512,\n",
              " 3.504227642276423,\n",
              " 3.520616883116883,\n",
              " 3.528200972447326,\n",
              " 3.494336569579288,\n",
              " 3.4933764135702745,\n",
              " 3.5056451612903228,\n",
              " 3.536876006441224,\n",
              " 3.478135048231511,\n",
              " 3.465168539325843,\n",
              " 3.4838141025641027,\n",
              " 3.4784,\n",
              " 3.5022364217252395,\n",
              " 3.5015948963317385,\n",
              " 3.4987261146496813,\n",
              " 3.5090620031796504,\n",
              " 3.514761904761905,\n",
              " 3.484944532488114,\n",
              " 3.474208860759494,\n",
              " 3.4824644549763035,\n",
              " 3.5296529968454258,\n",
              " 3.463307086614173,\n",
              " 3.465251572327044,\n",
              " 3.4891679748822604,\n",
              " 3.5061128526645766,\n",
              " 3.456181533646322,\n",
              " 3.4534375,\n",
              " 3.458034321372855,\n",
              " 3.4682242990654206,\n",
              " 3.4860031104199067,\n",
              " 3.5228260869565218,\n",
              " 3.4626356589147287,\n",
              " 3.5007739938080493,\n",
              " 3.47774343122102,\n",
              " 3.4944444444444445,\n",
              " 3.5359013867488445,\n",
              " 3.4666153846153844,\n",
              " 3.478801843317972,\n",
              " 3.499079754601227,\n",
              " 3.525114854517611,\n",
              " 3.470336391437309,\n",
              " 3.5163358778625953,\n",
              " 3.5102134146341464,\n",
              " 3.4707762557077624,\n",
              " 3.5249240121580545,\n",
              " 3.480424886191199,\n",
              " 3.49530303030303,\n",
              " 3.48910741301059,\n",
              " 3.506797583081571,\n",
              " 3.494419306184012,\n",
              " 3.519879518072289,\n",
              " 3.5162406015037595,\n",
              " 3.5184684684684684,\n",
              " 3.465967016491754,\n",
              " 3.5145209580838324,\n",
              " 3.5122571001494767,\n",
              " 3.485223880597015,\n",
              " 3.5083457526080477,\n",
              " 3.525744047619048,\n",
              " 3.513521545319465,\n",
              " 3.4933234421364987,\n",
              " 3.494962962962963,\n",
              " 3.492603550295858,\n",
              " 3.497341211225997,\n",
              " 3.4997050147492623,\n",
              " 3.481737849779087,\n",
              " 3.5007352941176473,\n",
              " 3.5104258443465493,\n",
              " 3.505425219941349,\n",
              " 3.5045387994143486,\n",
              " 3.4947368421052634,\n",
              " 3.4762043795620436,\n",
              " 3.525801749271137,\n",
              " 3.4975254730713248,\n",
              " 3.540406976744186,\n",
              " 3.4727140783744557,\n",
              " 3.5186956521739132,\n",
              " 3.4972503617945008,\n",
              " 3.4971098265895955,\n",
              " 3.49018759018759,\n",
              " 3.487319884726225,\n",
              " 3.4979856115107912,\n",
              " 3.5295977011494255,\n",
              " 3.502725968436155,\n",
              " 3.5279369627507164,\n",
              " 3.4785407725321886,\n",
              " 3.4834285714285715,\n",
              " 3.4914407988587732,\n",
              " 3.4917378917378916,\n",
              " 3.487624466571835,\n",
              " 3.504971590909091,\n",
              " 3.5046808510638296,\n",
              " 3.484985835694051,\n",
              " 3.481188118811881,\n",
              " 3.503672316384181,\n",
              " 3.51509167842031,\n",
              " 3.522394366197183,\n",
              " 3.4940928270042195,\n",
              " 3.4959269662921346,\n",
              " 3.491164095371669,\n",
              " 3.5277310924369747,\n",
              " 3.521118881118881,\n",
              " 3.469413407821229,\n",
              " 3.4785216178521616,\n",
              " 3.493871866295265,\n",
              " 3.4905424200278166,\n",
              " 3.482638888888889,\n",
              " 3.514147018030513,\n",
              " 3.474515235457064,\n",
              " 3.4929460580912863,\n",
              " 3.5113259668508285,\n",
              " 3.470068965517241,\n",
              " 3.5192837465564737,\n",
              " 3.5254470426409905,\n",
              " 3.4921703296703295,\n",
              " 3.471742112482853,\n",
              " 3.481095890410959,\n",
              " 3.530095759233926,\n",
              " 3.4943989071038253,\n",
              " 3.449795361527967,\n",
              " 3.508174386920981,\n",
              " 3.5170068027210886,\n",
              " 3.5278532608695654,\n",
              " 3.550067842605156,\n",
              " 3.471138211382114,\n",
              " 3.4836265223274694,\n",
              " 3.5014864864864865,\n",
              " 3.5118758434547908,\n",
              " 3.473719676549865,\n",
              " 3.5092866756393,\n",
              " 3.480510752688172,\n",
              " 3.5008053691275167,\n",
              " 3.4689008042895444,\n",
              " 3.486211512717537,\n",
              " 3.5100267379679146,\n",
              " 3.5049399198931908,\n",
              " 3.5330666666666666,\n",
              " 3.4912117177097204,\n",
              " 3.5180851063829786,\n",
              " 3.507038512616202,\n",
              " 3.470557029177719,\n",
              " 3.5263576158940397,\n",
              " 3.5124338624338622,\n",
              " 3.5110964332892998,\n",
              " 3.512532981530343,\n",
              " 3.474703557312253,\n",
              " 3.5323684210526314,\n",
              " 3.511826544021025,\n",
              " 3.5232283464566927,\n",
              " 3.488859764089122,\n",
              " 3.523429319371728,\n",
              " 3.538169934640523,\n",
              " 3.4930809399477805,\n",
              " 3.535202086049544,\n",
              " 3.4848958333333333,\n",
              " 3.4866059817945385,\n",
              " 3.494675324675325,\n",
              " 3.498443579766537,\n",
              " 3.466321243523316,\n",
              " 3.4861578266494178,\n",
              " 3.4931524547803616,\n",
              " 3.528,\n",
              " 3.5126288659793814,\n",
              " 3.483011583011583,\n",
              " 3.4452442159383034,\n",
              " 3.4765083440308087,\n",
              " 3.5184615384615383,\n",
              " 3.51101152368758,\n",
              " 3.54386189258312,\n",
              " 3.490932311621967,\n",
              " 3.511734693877551,\n",
              " 3.45312101910828,\n",
              " 3.5197201017811706,\n",
              " 3.5353240152477765,\n",
              " 3.500761421319797,\n",
              " 3.5049429657794677,\n",
              " 3.502025316455696,\n",
              " 3.506700379266751,\n",
              " 3.503661616161616,\n",
              " 3.502017654476671,\n",
              " 3.4739294710327457,\n",
              " 3.509685534591195,\n",
              " 3.492462311557789,\n",
              " 3.519573400250941,\n",
              " 3.501629072681704,\n",
              " 3.513892365456821,\n",
              " 3.494875,\n",
              " 3.506242197253433,\n",
              " 3.477431421446384,\n",
              " 3.4801992528019925,\n",
              " 3.4633084577114426,\n",
              " 3.4718012422360247,\n",
              " 3.5022332506203475,\n",
              " 3.4780669144981413,\n",
              " 3.509405940594059,\n",
              " 3.5290482076637826,\n",
              " 3.5122222222222224,\n",
              " 3.532059186189889,\n",
              " 3.4832512315270936,\n",
              " 3.4895448954489545,\n",
              " 3.501842751842752,\n",
              " 3.5024539877300613,\n",
              " 3.4814950980392156,\n",
              " 3.506364749082007,\n",
              " 3.484596577017115,\n",
              " 3.48986568986569,\n",
              " 3.528658536585366,\n",
              " 3.5214372716199756,\n",
              " 3.519221411192214,\n",
              " 3.4885783718104495,\n",
              " 3.493082524271845,\n",
              " 3.4917575757575756,\n",
              " 3.5056900726392253,\n",
              " 3.50229746070133,\n",
              " 3.5293478260869566,\n",
              " 3.4905910735826295,\n",
              " 3.520120481927711,\n",
              " 3.48748495788207,\n",
              " 3.5155048076923077,\n",
              " 3.500360144057623,\n",
              " 3.4986810551558754,\n",
              " 3.526107784431138,\n",
              " 3.5293062200956937,\n",
              " 3.4918757467144563,\n",
              " 3.470763723150358,\n",
              " 3.527294398092968,\n",
              " 3.505595238095238,\n",
              " 3.517003567181926,\n",
              " 3.497980997624703,\n",
              " 3.490035587188612,\n",
              " 3.4886255924170615,\n",
              " 3.515621301775148,\n",
              " 3.544208037825059,\n",
              " 3.493152302243211,\n",
              " 3.480306603773585,\n",
              " 3.4712603062426384,\n",
              " 3.502823529411765,\n",
              " 3.489659224441833,\n",
              " 3.503755868544601,\n",
              " 3.494021101992966,\n",
              " 3.4798594847775175,\n",
              " 3.516374269005848,\n",
              " 3.5141355140186916,\n",
              " 3.5203033838973163,\n",
              " 3.478904428904429,\n",
              " 3.49976717112922,\n",
              " 3.4946511627906975,\n",
              " 3.5124274099883857,\n",
              " 3.5005800464037122,\n",
              " 3.4896871378910777,\n",
              " 3.5165509259259258,\n",
              " 3.4821965317919075,\n",
              " 3.4867205542725173,\n",
              " 3.490542099192618,\n",
              " 3.507258064516129,\n",
              " 3.486191024165708,\n",
              " 3.5032183908045975,\n",
              " 3.4982778415614235,\n",
              " 3.5126146788990824,\n",
              " 3.4813287514318443,\n",
              " 3.490846681922197,\n",
              " 3.4837714285714285,\n",
              " 3.4478310502283107,\n",
              " 3.5237172177879135,\n",
              " 3.502391799544419,\n",
              " 3.4912400455062573,\n",
              " 3.508522727272727,\n",
              " 3.512031782065834,\n",
              " 3.4936507936507937,\n",
              " 3.508040770101925,\n",
              " 3.5089366515837104,\n",
              " 3.47954802259887,\n",
              " 3.46941309255079,\n",
              " 3.5207440811724915,\n",
              " 3.5094594594594595,\n",
              " 3.5312710911136107,\n",
              " 3.493932584269663,\n",
              " 3.5281705948372615,\n",
              " 3.50347533632287,\n",
              " 3.5035834266517356,\n",
              " 3.4860178970917226,\n",
              " 3.508491620111732,\n",
              " 3.51015625,\n",
              " 3.5169453734671126,\n",
              " 3.4998886414253896,\n",
              " 3.4906562847608456,\n",
              " 3.474666666666667,\n",
              " 3.5007769145394008,\n",
              " 3.5095343680709536,\n",
              " 3.5022148394241417,\n",
              " 3.521017699115044,\n",
              " 3.5009944751381217,\n",
              " 3.485871964679912,\n",
              " 3.5170893054024255,\n",
              " 3.5162995594713657,\n",
              " 3.52002200220022,\n",
              " 3.489120879120879,\n",
              " 3.4785949506037324,\n",
              " 3.470504385964912,\n",
              " 3.500328587075575,\n",
              " 3.487308533916849,\n",
              " 3.486775956284153,\n",
              " 3.512991266375546,\n",
              " 3.4877862595419846,\n",
              " 3.490740740740741,\n",
              " 3.515669205658324,\n",
              " 3.495978260869565,\n",
              " 3.4971769815418026,\n",
              " 3.5053145336225597,\n",
              " 3.492957746478873,\n",
              " 3.5064935064935066,\n",
              " 3.493945945945946,\n",
              " 3.502915766738661,\n",
              " 3.4961165048543688,\n",
              " 3.5060344827586207,\n",
              " 3.495156081808396,\n",
              " 3.494516129032258,\n",
              " 3.4822771213748656,\n",
              " 3.53519313304721,\n",
              " 3.4995712754555197,\n",
              " 3.4946466809421843,\n",
              " 3.489625668449198,\n",
              " 3.5365384615384614,\n",
              " 3.485058697972252,\n",
              " 3.47590618336887,\n",
              " 3.487220447284345,\n",
              " 3.4948936170212765,\n",
              " 3.5149840595111583,\n",
              " 3.50859872611465,\n",
              " 3.4685047720042417,\n",
              " 3.5366525423728814,\n",
              " 3.4843386243386245,\n",
              " 3.5579281183932348,\n",
              " 3.482998944033791,\n",
              " 3.493248945147679,\n",
              " 3.5035827186512116,\n",
              " 3.502842105263158,\n",
              " 3.4772870662460567,\n",
              " 3.4880252100840337,\n",
              " 3.5082896117523608,\n",
              " 3.5224318658280924,\n",
              " 3.506910994764398,\n",
              " 3.4721757322175733,\n",
              " 3.500835945663532,\n",
              " 3.514509394572025,\n",
              " 3.502606882168926,\n",
              " 3.5085416666666664,\n",
              " 3.488449531737773,\n",
              " 3.5136174636174635,\n",
              " 3.4861889927310488,\n",
              " 3.5014522821576763,\n",
              " 3.488082901554404,\n",
              " 3.4976190476190476,\n",
              " 3.481695966907963,\n",
              " 3.490702479338843,\n",
              " 3.49938080495356,\n",
              " 3.4990721649484535,\n",
              " 3.490628218331617,\n",
              " 3.506275720164609,\n",
              " 3.501438848920863,\n",
              " 3.50564681724846,\n",
              " 3.502051282051282,\n",
              " 3.492520491803279,\n",
              " 3.5069600818833164,\n",
              " 3.485071574642127,\n",
              " 3.495914198161389,\n",
              " 3.508469387755102,\n",
              " 3.523343527013252,\n",
              " 3.459775967413442,\n",
              " 3.495320447609359,\n",
              " 3.484959349593496,\n",
              " 3.4936040609137056,\n",
              " 3.5134888438133873,\n",
              " 3.5181357649442755,\n",
              " 3.5121457489878543,\n",
              " 3.4864509605662284,\n",
              " 3.5274747474747477,\n",
              " 3.5078708375378405,\n",
              " 3.4827620967741937,\n",
              " 3.4920443101711984,\n",
              " 3.5261569416498992,\n",
              " 3.4759798994974873,\n",
              " 3.494176706827309,\n",
              " 3.5147442326980944,\n",
              " 3.4698396793587176,\n",
              " 3.5104104104104104]"
            ]
          },
          "metadata": {
            "tags": []
          },
          "execution_count": 31
        }
      ]
    },
    {
      "cell_type": "markdown",
      "metadata": {
        "id": "2aqoYq5d2qS7"
      },
      "source": [
        "Above we are repeating the experiments large number of times Now we analyze the result using plot."
      ]
    },
    {
      "cell_type": "code",
      "metadata": {
        "colab": {
          "base_uri": "https://localhost:8080/",
          "height": 296
        },
        "id": "8KlRT-Li3NkI",
        "outputId": "1ea59256-1cc5-4adb-c221-7f506292e4be"
      },
      "source": [
        "import matplotlib.pyplot as plt\r\n",
        "plt.plot(nTrials,avgs)\r\n",
        "plt.xlabel('No. of Trials')\r\n",
        "plt.ylabel('Avgs')"
      ],
      "execution_count": null,
      "outputs": [
        {
          "output_type": "execute_result",
          "data": {
            "text/plain": [
              "Text(0, 0.5, 'Avgs')"
            ]
          },
          "metadata": {
            "tags": []
          },
          "execution_count": 32
        },
        {
          "output_type": "display_data",
          "data": {
            "image/png": "[encoded data removed]",
            "text/plain": [
              "<Figure size 432x288 with 1 Axes>"
            ]
          },
          "metadata": {
            "tags": [],
            "needs_background": "light"
          }
        }
      ]
    },
    {
      "cell_type": "markdown",
      "metadata": {
        "id": "qccGjjT74SLL"
      },
      "source": [
        "Above plot represents the average dice rolls. Here we can see that when we are having 0 number of trials or trials in between o to 100 the values are more flexible there or the values are moving from 3.2 to 3.8 average values and when we are moving towards 2000, 4000 you can see the sample mean or expected value , here sample mean actually we are taking the average or actually we are calculating the sample mean , so we can see in the plot that sampling mean moving towards the expected value. So we can see for 10000 the maximum number of times the value is 3.5. So above the average value is 3.45 for when we are doing it for 100 times. And from graph we are getting the average value as 3.5. \r\n"
      ]
    },
    {
      "cell_type": "markdown",
      "metadata": {
        "id": "F5Sus6flE1b-"
      },
      "source": [
        "We can define that if we roll the dice for 10000 times then the Average or expected dice roll is 3.5 or approximately equal to 3.5."
      ]
    },
    {
      "cell_type": "markdown",
      "metadata": {
        "id": "iD7FrRbmE4qW"
      },
      "source": [
        "**Example 2**\r\n",
        "\r\n",
        "The game that will be used in this example is No Limit Texas Hold’em. Played with a standard 52 card deck, Texas Hold’em is the most popular of all the poker variations. Each player tries to make the best five-card hand possible by combining their two cards with the five community cards dealt throughout the hand.\r\n",
        "\r\n",
        "\r\n",
        "The player to the left of the dealer button starts the action and play moves clockwise around the table. The betting is typically started when the player to the left of the dealer button posts a small blind, and the next player to the left posts a big blind. Betting action takes place on multiple streets: preflop, flop, turn, and the river.\r\n",
        "\r\n",
        "\r\n",
        "Here are a few terms we should understand:\r\n",
        "\r\n",
        "\r\n",
        "**Button** - The Button is a circular disk that gets passed around the table clockwise after each hand. In a home game, the person who has the Button deals the hand dealing the first card to the player on their left. At a casino, the Button identifies who is supposed to be the dealer, but the actual dealer is provided by the casino.\r\n",
        "\r\n",
        "**The Blinds** - The Blinds are forced bets by the two players to the left of the Button. They are called “Blinds” because the two players have to bet blind, in that they have to bet before they get to see their cards.\r\n",
        "\r\n",
        "**Streets** - Each round that cards are dealt is referred to as a street.\r\n",
        "Pre-Flop - This is the first betting round. Each player is dealt two cards, and the blinds start the betting action. No community cards have been dealt yet.\r\n",
        "\r\n",
        "**Flop** - This is the second betting round. In this round, three community cards are dealt face up in the middle of the table, followed by a round of betting.\r\n",
        "\r\n",
        "**Turn** - In this round, only one community card is dealt, followed by the third round of betting.\r\n",
        "\r\n",
        "**The River** - The final community card is dealt, followed by the last round of betting.\r\n",
        "\r\n",
        "**Showdown** - After the River is dealt and all betting action has taken place, any remaining players Show their cards to see who has the best hand.\r\n",
        "\r\n",
        "**Check** - If it’s a player's turn to act, and no previous bets have been made during that round of betting, the player can Check which means to choose not to bet, and allow the next player to take their turn.\r\n",
        "\r\n",
        "**Bet or Raise** - Betting or Raising means to increase the size of the wager during a betting round. The first player to put money in the pot each round is making a Bet. If another player increases the size of the bet that round, they are making a Raise.\r\n",
        "\r\n",
        "**Call** - If it’s a player’s turn to act and a bet has already been made during that round, the player can match the previous bet which is known as Calling the bet.\r\n",
        "\r\n",
        "**Fold** -If it’s a player’s turn to act and a bet has already been made during that round, the player can give up and Fold their hand. This player is no longer involved in the hand and losses any money they have put in the pot."
      ]
    },
    {
      "cell_type": "markdown",
      "metadata": {
        "id": "0vXn2ujmS_tC"
      },
      "source": [
        "When playing a game such as poker, we're fairly concerned with questions such as \"how much do I gain - or lose - on average, if I repeatedly play this game?\". We can imagine that this is no different for poker, especially when we're a professional poker player!\r\n",
        "\r\n",
        "Now, if the possible outcomes of the game and their associated probabilities can be described by a random variable, then we can answer the above question by computing its expected value, which is equal to a weighted average of the outcomes where each outcome is weighted by its probability.\r\n",
        "\r\n",
        "Or, in other words, we simply multiply the Total Value times the probability of winning to get our Expected Value:\r\n",
        "\r\n",
        "ExpectedValue=TotalValue×Probability\r\n",
        "\r\n",
        "What is the expected value if there is $$100 (Total Value) in the pot, and your probability of winning the pot is 0.75?\r\n",
        "\r\n",
        "ExpectedValue = $100 * 0.75\r\n",
        "\r\n"
      ]
    },
    {
      "cell_type": "code",
      "metadata": {
        "colab": {
          "base_uri": "https://localhost:8080/"
        },
        "id": "S10Zv9naU0mD",
        "outputId": "3426a7da-bda2-4c3a-c444-e38848d05f69"
      },
      "source": [
        "# Initialize `pot` and `probability` variables\r\n",
        "pot = 100\r\n",
        "probability = 0.75\r\n",
        "\r\n",
        "# Determine expected value\r\n",
        "expected_value = pot * probability\r\n",
        "print(expected_value)"
      ],
      "execution_count": null,
      "outputs": [
        {
          "output_type": "stream",
          "text": [
            "75.0\n"
          ],
          "name": "stdout"
        }
      ]
    },
    {
      "cell_type": "markdown",
      "metadata": {
        "id": "jWkaJcFEVJO0"
      },
      "source": [
        "We're expected value is $$75.Expected value is an important concept in poker. Now let's see how to use expected values to our advantage.\r\n",
        "\r\n",
        "Example :\r\n",
        "\r\n",
        "Your Hand: ('A', '♢'), ('Q', '♢')\r\n",
        "\r\n",
        "Opponents Hand :  (2, '♡'), (2, '♣')\r\n",
        "\r\n",
        "Community Cards : ('J', '♣'), (9, '♢'), (4, '♢'), (2, '♠')\r\n",
        "\r\n",
        "Total Pot = $60\r\n",
        "\r\n",
        "Opponents Bet = $20\r\n",
        "\r\n",
        "\r\n",
        "Your opponent has decided to be helpful and show you his cards, and has a set of 2s. To win the hand on the River, you must hit any Diamond except a Jack or 2. The Jack or 2 of Diamonds would give your opponent a better hand, a full house and four of a kind respectively. You have to call $20 to stay in the hand, and if you win the hand you win $60. If your expected value is greater than $20 you should call the bet, and if not you should fold.\r\n",
        "\r\n"
      ]
    },
    {
      "cell_type": "code",
      "metadata": {
        "colab": {
          "base_uri": "https://localhost:8080/"
        },
        "id": "KPQ6oQtiu9mG",
        "outputId": "c9b86102-f87a-45b2-b70d-76f2039626bc"
      },
      "source": [
        "# Figure out if you should call the bet:\r\n",
        "\r\n",
        "# Sample Space\r\n",
        "cards = 52\r\n",
        "hole_cards = 2\r\n",
        "# Your opponent provided you information... use it!\r\n",
        "opponents_hole_cards = 2 \r\n",
        "\r\n",
        "turn_community_cards = 4\r\n",
        "cards = cards - (hole_cards + opponents_hole_cards + turn_community_cards)\r\n",
        "\r\n",
        "# Outcomes\r\n",
        "diamonds = 13\r\n",
        "diamonds_drawn = 4\r\n",
        "\r\n",
        "# You can't count the two diamonds that won't help you win\r\n",
        "diamond_non_outs = 2 \r\n",
        "\r\n",
        "outs = diamonds - diamonds_drawn - diamond_non_outs\r\n",
        "\r\n",
        "# Determine win probability\r\n",
        "win_probability = outs / cards\r\n",
        "\r\n",
        "# Determine expected value\r\n",
        "pot = 60\r\n",
        "ev = pot * win_probability\r\n",
        "\r\n",
        "# Print ev and appropriate decision\r\n",
        "call_amount = 20\r\n",
        "if ev >= 20:\r\n",
        "    print(round(ev, 2), 'Call')\r\n",
        "else:\r\n",
        "    print(round(ev, 2), 'Fold')"
      ],
      "execution_count": null,
      "outputs": [
        {
          "output_type": "stream",
          "text": [
            "9.55 Fold\n"
          ],
          "name": "stdout"
        }
      ]
    },
    {
      "cell_type": "markdown",
      "metadata": {
        "id": "ehA6gE-evLzv"
      },
      "source": [
        "Your expected value is only $$9.55, which is less than the $20 you would need to risk to get that reward, so you must fold."
      ]
    },
    {
      "cell_type": "markdown",
      "metadata": {
        "id": "Yq_CG_iPT67D"
      },
      "source": [
        "**Example 3:**"
      ]
    },
    {
      "cell_type": "markdown",
      "metadata": {
        "id": "WCPD-y0BXyVI"
      },
      "source": [
        "There is a brand of cereal that comes with a single coupon with the purchase of each box. There are a 5 different types of coupons. The probability of getting any one of the 5 coupons with each cereal box purchase is uniform. The objective is to collect all 5 unique coupon types.\r\n",
        "\r\n",
        "Now the questions begs, what is the expected number of boxes of cereal you will need to purchase to collect all 5 unique coupons?"
      ]
    },
    {
      "cell_type": "markdown",
      "metadata": {
        "id": "PX7xVwfWY0vY"
      },
      "source": [
        "**solution:**\r\n",
        "\r\n",
        "We will first solve this problem analytically, and then simulate the problem computationally to verify our findings.\r\n",
        "\r\n",
        "Observations:\r\n",
        "\r\n",
        "1. Each cereal box purchased is independent of the last box (or boxes) purchased.\r\n",
        "\r\n",
        "2. The probability of getting any of the 5 coupon types in a given box is the same.\r\n",
        "\r\n",
        "Geometric Random Variables:\r\n",
        "A Geometric random variable is a discrete random variable with a one-parameter distribution as detailed below:\r\n",
        "\r\n",
        "Let's say we have an ever growing sequence of independent Bernoulli trials, each with probability of success p. A geometric random variable X is the number of Bernoulli trails X = x to get to the first success in the sequence.\r\n",
        "\r\n",
        "The probability mass function of X ~ Geometric(p) is:\r\n",
        "\r\n",
        "fx(x:p) = p(1-p)^x-1 for x € {1,2,.......,∞} and 0< p ≤ 1\r\n"
      ]
    },
    {
      "cell_type": "markdown",
      "metadata": {
        "id": "RzUkge3XddPk"
      },
      "source": [
        "\r\n",
        "Note, that we can view our coupon collecting problem as the sum of the expected value of five geometric random variables, each with different success parameters p:\r\n",
        "\r\n",
        "1st coupons Purchasing:\r\n",
        "\r\n",
        "Prior to purchasing our first box of cereal, we don't yet have any coupons. Therefore, with our first box purchased we are guaranteed to collect a unique coupon we don't yet have with probability 1.\r\n",
        "\r\n",
        "X1 ~ Geometric(p = 5/5)\r\n",
        "\r\n",
        "2nd Unique coupon, after 1st unique coupon has been collected:\r\n",
        "\r\n",
        "Having collected our 1st unique coupon,we know want a second. Note that this will also be a geometric random variable, but with different of success p. Because we have already collected one of the unique coupons, with each box purchased there is a 1/5 probability of getting that same coupon type, and a 4/5 probability of obtaining a new unique coupon we don't yet have.\r\n",
        "\r\n",
        "X2 ~ Geometric(p = 4/5)\r\n",
        "\r\n",
        "Continued Series:\r\n",
        "\r\n",
        "X3 ~ Geometric(p = 3/5)\r\n",
        "\r\n",
        "X4 ~ Geometric(p = 2/5)\r\n",
        "\r\n",
        "X5 ~ Geometric(p = 1/5)\r\n",
        "\r\n",
        "Note, that the expected value of a geometric random variable is 1/p:\r\n",
        "\r\n",
        "\r\n",
        "X ~ Geometric(p) , E[X] = 1/P\r\n",
        "\r\n",
        "Therefore , **Expected number of boxes purchased** \r\n",
        "\r\n",
        "=  E[X1] +  E[X2] + E[X3] +  E[X4] +  E[X5]\r\n",
        "\r\n",
        "=  E[1/(5/5)] +  E[1/(4/5)] + E[1/(3/5)] +  E[1/(2/5)] +  E[1/(1/5)]\r\n",
        "\r\n",
        "≈  11.4167\r\n",
        "\r\n",
        "**Conclusion** : Therefore, rounding up to the nearest integer, the expected number of boxes we will need to purchase to collect all 5 unique coupons is 12 boxes.\r\n"
      ]
    },
    {
      "cell_type": "code",
      "metadata": {
        "colab": {
          "base_uri": "https://localhost:8080/"
        },
        "id": "osfJhttIUAuD",
        "outputId": "49fcbe95-e638-4193-e34c-85f553f0777f"
      },
      "source": [
        "# Now stimulating the above example in python over 10000 iterations.\r\n",
        "\r\n",
        "import numpy as np\r\n",
        "import pandas as pd\r\n",
        "import matplotlib.pyplot as plt\r\n",
        "import warnings\r\n",
        "warnings.filterwarnings('ignore') \r\n",
        "## specify number of coupons, and the probability of getting a coupon\r\n",
        "num_coupons=5\r\n",
        "expected_number_of_trials = 0\r\n",
        "for i in range(num_coupons, 0, -1):\r\n",
        "    expected_number_of_trials = expected_number_of_trials + (1/(i/num_coupons))\r\n",
        "iterations = 10000\r\n",
        "df = pd.DataFrame()\r\n",
        "df['iteration'] = range(1,iterations+1)\r\n",
        "df['average_num_trials_required'] = None\r\n",
        "for i in range(0, iterations):\r\n",
        "    full_set = set(range(0,num_coupons))\r\n",
        "    current_set = set([])\r\n",
        "    total_number_of_coupons_collected = 0\r\n",
        "    while(current_set != full_set):\r\n",
        "        total_number_of_coupons_collected = total_number_of_coupons_collected+1\r\n",
        "        random_coupon = np.asscalar(np.random.randint(low=0, high=num_coupons, size=1))\r\n",
        "        update_set = list(current_set)\r\n",
        "        update_set.append(random_coupon)\r\n",
        "        current_set = set(update_set)\r\n",
        "        del random_coupon, update_set\r\n",
        "    \r\n",
        "    if(i+1 == 1):\r\n",
        "        df.loc[df['iteration']==i+1, 'average_num_trials_required'] = total_number_of_coupons_collected\r\n",
        "    else:\r\n",
        "        df.loc[df['iteration']==i+1, 'average_num_trials_required'] = float(((df.loc[df['iteration']==i, 'average_num_trials_required']*i) + total_number_of_coupons_collected)/(i+1))\r\n",
        "\r\n",
        "average_num_trials_required = df['average_num_trials_required'][i]\r\n",
        "\r\n",
        "print(\"Average or Expected number of trials Requried:\", average_num_trials_required)\r\n",
        "#print(\"Average or Expected number of trials Requried:\", df['average_num_trials_required'][i])"
      ],
      "execution_count": null,
      "outputs": [
        {
          "output_type": "stream",
          "text": [
            "Average or Expected number of trials Requried: 11.453300000000013\n"
          ],
          "name": "stdout"
        }
      ]
    },
    {
      "cell_type": "markdown",
      "metadata": {
        "id": "EO65msj8rZ77"
      },
      "source": [
        "**Conclusion :**\r\n",
        "\r\n",
        "As shown above, over 10,000 iterations, the sample average or expected value of the number of boxes needed to be purchased to collect all 5 unique coupons was approximately 11.4533. This result coincides with our solution above.\r\n",
        "\r\n"
      ]
    },
    {
      "cell_type": "markdown",
      "metadata": {
        "id": "_r9dj8dDr12B"
      },
      "source": [
        "**Example 4:**"
      ]
    },
    {
      "cell_type": "markdown",
      "metadata": {
        "id": "wEi2Pmgl41aO"
      },
      "source": [
        "**Binomial Distribution:**\r\n",
        "\r\n",
        "A random variable X that has a binomial distribution represents the number of successes in a sequence of n independent yes/no trials, each of which yields success with probability p.\r\n",
        "E(X) = np, Var(X) = np(1−p)\r\n",
        "E(X) is the expected value or mean of the distribution.\r\n",
        "\r\n",
        "Example of binomial distribution: What is the probability of getting 2 heads out of 10 flips of a fair coin? \r\n",
        "In this experiment the probability of getting a head is 0.3,  this means that on an average you can expect 3 coin flips to be heads. I define all the possible values the coin flip can take, k = np.arange(0,11), you can observe zero head, one head all the way upto ten heads. I am using stats.binom.pmf  to calculate the probability mass function for each observation. It returns a list of 11 elements, these elements represent the probability associated with each observation."
      ]
    },
    {
      "cell_type": "code",
      "metadata": {
        "colab": {
          "base_uri": "https://localhost:8080/"
        },
        "id": "UOykh0kIUAzL",
        "outputId": "202b109c-adbe-4230-eebd-082db7207079"
      },
      "source": [
        "import numpy as np\r\n",
        "from scipy.special import erfinv\r\n",
        "from scipy.stats import binom\r\n",
        "import statistics\r\n",
        "import matplotlib.pyplot as plt\r\n",
        "import seaborn as sns\r\n",
        "\r\n",
        "n = 10\r\n",
        "p = 0.3\r\n",
        "k = np.arange(0,21)\r\n",
        "binomial = binom.pmf(k, n, p)\r\n",
        "binomial"
      ],
      "execution_count": null,
      "outputs": [
        {
          "output_type": "execute_result",
          "data": {
            "text/plain": [
              "array([2.82475249e-02, 1.21060821e-01, 2.33474440e-01, 2.66827932e-01,\n",
              "       2.00120949e-01, 1.02919345e-01, 3.67569090e-02, 9.00169200e-03,\n",
              "       1.44670050e-03, 1.37781000e-04, 5.90490000e-06, 0.00000000e+00,\n",
              "       0.00000000e+00, 0.00000000e+00, 0.00000000e+00, 0.00000000e+00,\n",
              "       0.00000000e+00, 0.00000000e+00, 0.00000000e+00, 0.00000000e+00,\n",
              "       0.00000000e+00])"
            ]
          },
          "metadata": {
            "tags": []
          },
          "execution_count": 78
        }
      ]
    },
    {
      "cell_type": "code",
      "metadata": {
        "colab": {
          "base_uri": "https://localhost:8080/",
          "height": 297
        },
        "id": "23s0YSo1UA1f",
        "outputId": "0c7341f8-2dff-4713-c037-c8a2c6532373"
      },
      "source": [
        "import matplotlib.pyplot as plt\r\n",
        "plt.plot(k, binomial, 'o-')\r\n",
        "plt.title('Binomial: n=%i, p=%.2f' % (n,p),fontsize=15)\r\n",
        "plt.xlabel('Number of Successes')\r\n",
        "plt.ylabel('Probability of Successes', fontsize=15)\r\n",
        "plt.show()"
      ],
      "execution_count": null,
      "outputs": [
        {
          "output_type": "display_data",
          "data": {
            "image/png": "[encoded data removed]",
            "text/plain": [
              "<Figure size 432x288 with 1 Axes>"
            ]
          },
          "metadata": {
            "tags": [],
            "needs_background": "light"
          }
        }
      ]
    },
    {
      "cell_type": "markdown",
      "metadata": {
        "id": "GwVyQd2o9PVf"
      },
      "source": [
        "We can simulate a binomial random variable using .rvs. The parameter size specifies how many simulations we want to do. I ask Python to return 10000 binomial random variables with parameters n and p. I am printing the mean and standard deviation of these 10000 random variables. Then I am going to plot the histogram of all the random variables that I simulated."
      ]
    },
    {
      "cell_type": "code",
      "metadata": {
        "colab": {
          "base_uri": "https://localhost:8080/",
          "height": 313
        },
        "id": "8IMt_kIjUA3-",
        "outputId": "ea09ee75-ad23-46be-fa26-252a60d8ef92"
      },
      "source": [
        "binom_sim = data = binom.rvs(n=10,p=0.3,size=10000)\r\n",
        "print(\"Mean: %g\" % np.mean(binom_sim))\r\n",
        "print(\"SD: %g\" % np.std(binom_sim, ddof=1)) \r\n",
        "plt.hist(binom_sim, bins = 10, density=True, color = \"blue\")  # normed\r\n",
        "plt.xlabel('x')\r\n",
        "plt.ylabel('density')\r\n",
        "plt.show()"
      ],
      "execution_count": null,
      "outputs": [
        {
          "output_type": "stream",
          "text": [
            "Mean: 3.0064\n",
            "SD: 1.46163\n"
          ],
          "name": "stdout"
        },
        {
          "output_type": "display_data",
          "data": {
            "image/png": "[encoded data removed]",
            "text/plain": [
              "<Figure size 432x288 with 1 Axes>"
            ]
          },
          "metadata": {
            "tags": [],
            "needs_background": "light"
          }
        }
      ]
    },
    {
      "cell_type": "markdown",
      "metadata": {
        "id": "kDquTcYD_7BA"
      },
      "source": [
        "**Example 5:**"
      ]
    },
    {
      "cell_type": "markdown",
      "metadata": {
        "id": "T_7SF4k9_--T"
      },
      "source": [
        "**Poisson Distribution**\r\n",
        "\r\n",
        "A random variable X that has a Poisson distribution represents the number of events occurring in a fixed time interval with a rate parameters λ. λ tells you the rate at which the number of events occur.  The average and variance is λ.\r\n",
        "\r\n",
        "P(X=k) = (λ^k) * (e^-λ) / k!\r\n",
        "\r\n",
        "E(X) = λ, Var(X) = λ"
      ]
    },
    {
      "cell_type": "code",
      "metadata": {
        "colab": {
          "base_uri": "https://localhost:8080/"
        },
        "id": "UlVlIYRF83Ac",
        "outputId": "fa7e393d-bf1c-44b4-864b-d7383182c4e2"
      },
      "source": [
        "import numpy as np\r\n",
        "from scipy.stats import poisson\r\n",
        "import statistics\r\n",
        "import matplotlib.pyplot as plt\r\n",
        "import seaborn as sns\r\n",
        "\r\n",
        "rate = 2\r\n",
        "n = np.arange(0,10)\r\n",
        "y = poisson.pmf(n, rate)\r\n",
        "y"
      ],
      "execution_count": null,
      "outputs": [
        {
          "output_type": "execute_result",
          "data": {
            "text/plain": [
              "array([1.35335283e-01, 2.70670566e-01, 2.70670566e-01, 1.80447044e-01,\n",
              "       9.02235222e-02, 3.60894089e-02, 1.20298030e-02, 3.43708656e-03,\n",
              "       8.59271640e-04, 1.90949253e-04])"
            ]
          },
          "metadata": {
            "tags": []
          },
          "execution_count": 93
        }
      ]
    },
    {
      "cell_type": "code",
      "metadata": {
        "colab": {
          "base_uri": "https://localhost:8080/",
          "height": 296
        },
        "id": "URztmFUw83Cl",
        "outputId": "a1323487-6d33-4128-9778-42a9633defec"
      },
      "source": [
        "plt.plot(n, y, 'o-')\r\n",
        "plt.title('Poisson: $\\lambda$ =%i' % rate)\r\n",
        "plt.xlabel('Number of accidents')\r\n",
        "plt.ylabel('Probability of number of accidents')\r\n",
        "plt.show()"
      ],
      "execution_count": null,
      "outputs": [
        {
          "output_type": "display_data",
          "data": {
            "image/png": "[encoded data removed]",
            "text/plain": [
              "<Figure size 432x288 with 1 Axes>"
            ]
          },
          "metadata": {
            "tags": [],
            "needs_background": "light"
          }
        }
      ]
    },
    {
      "cell_type": "markdown",
      "metadata": {
        "id": "ocPWv_nNEURR"
      },
      "source": [
        "We can notice that the  number of accidents peaks around the mean. On an average we can expect lambda number of events. Trying different values of lambda and n,  then see how shape of the distribution changes.\r\n",
        "Now I am going to simulate 1000 random variables from a Poisson distribution.\r\n"
      ]
    },
    {
      "cell_type": "code",
      "metadata": {
        "colab": {
          "base_uri": "https://localhost:8080/",
          "height": 329
        },
        "id": "-c3PsGTm83Eu",
        "outputId": "cdddaa77-bc71-4545-c9d3-374267d68a14"
      },
      "source": [
        "data = poisson.rvs(mu=2, loc = 0, size = 1000)\r\n",
        "print(\"Mean: %g\" % np.mean(data))\r\n",
        "print(\"SD: %g\" % np.std(data, ddof=1))\r\n",
        "plt.figure()\r\n",
        "plt.hist(data, bins=9, density = True)\r\n",
        "plt.xlim(0,10)\r\n",
        "plt.xlabel('Number of accidents')\r\n",
        "plt.title('Stimulating Poisson Random Variables')\r\n",
        "plt.show()"
      ],
      "execution_count": null,
      "outputs": [
        {
          "output_type": "stream",
          "text": [
            "Mean: 2.053\n",
            "SD: 1.47186\n"
          ],
          "name": "stdout"
        },
        {
          "output_type": "display_data",
          "data": {
            "image/png": "[encoded data removed]",
            "text/plain": [
              "<Figure size 432x288 with 1 Axes>"
            ]
          },
          "metadata": {
            "tags": [],
            "needs_background": "light"
          }
        }
      ]
    },
    {
      "cell_type": "markdown",
      "metadata": {
        "id": "B1_kCiLgzV3-"
      },
      "source": [
        "**6. Probability Estimation**"
      ]
    },
    {
      "cell_type": "markdown",
      "metadata": {
        "id": "v2htSJQSjnh0"
      },
      "source": [
        "Estimation refers to the process by which one makes inferences about a population, based on information obtained from a sample. A point estimate, for example, is the single number most likely to express the value of the property. An interval estimate defines a range within which the value of the property can be expected (with a specified degree of confidence) to fall."
      ]
    },
    {
      "cell_type": "code",
      "metadata": {
        "id": "pqwpOFUPr-B4"
      },
      "source": [
        "from matplotlib import pyplot\n",
        "from numpy.random import normal\n",
        "from numpy import mean\n",
        "from numpy import std\n",
        "from scipy.stats import norm"
      ],
      "execution_count": null,
      "outputs": []
    },
    {
      "cell_type": "code",
      "metadata": {
        "id": "3N-IwXPSr-B6"
      },
      "source": [
        "sample = normal(loc=50, scale=5, size=1000)\n"
      ],
      "execution_count": null,
      "outputs": []
    },
    {
      "cell_type": "code",
      "metadata": {
        "id": "VEAg5-REr-B7",
        "outputId": "64839fa9-0789-4a60-dfbc-06ff689dff71"
      },
      "source": [
        "sample_mean = mean(sample)\n",
        "sample_std = std(sample)\n",
        "print('Mean=%.3f, Standard Deviation=%.3f' % (sample_mean, sample_std))"
      ],
      "execution_count": null,
      "outputs": [
        {
          "output_type": "stream",
          "text": [
            "Mean=49.897, Standard Deviation=5.042\n"
          ],
          "name": "stdout"
        }
      ]
    },
    {
      "cell_type": "code",
      "metadata": {
        "id": "agKRZ1hAr-B-"
      },
      "source": [
        "dist = norm(sample_mean, sample_std)"
      ],
      "execution_count": null,
      "outputs": []
    },
    {
      "cell_type": "code",
      "metadata": {
        "id": "VzK_smu6r-CA"
      },
      "source": [
        "values = [value for value in range(30, 70)]\n",
        "probabilities = [dist.pdf(value) for value in values]"
      ],
      "execution_count": null,
      "outputs": []
    },
    {
      "cell_type": "code",
      "metadata": {
        "id": "QgVA8vK5r-CA",
        "outputId": "81b00a83-623f-4fde-fa1b-8306ef107f7a"
      },
      "source": [
        "pyplot.hist(sample, bins=10, density=True)\n",
        "pyplot.plot(values, probabilities)"
      ],
      "execution_count": null,
      "outputs": [
        {
          "output_type": "execute_result",
          "data": {
            "text/plain": [
              "[<matplotlib.lines.Line2D at 0x1feab0d7ee0>]"
            ]
          },
          "metadata": {
            "tags": []
          },
          "execution_count": 16
        },
        {
          "output_type": "display_data",
          "data": {
            "image/png": "[encoded data removed]",
            "text/plain": [
              "<Figure size 432x288 with 1 Axes>"
            ]
          },
          "metadata": {
            "tags": [],
            "needs_background": "light"
          }
        }
      ]
    },
    {
      "cell_type": "code",
      "metadata": {
        "id": "3GyTXuzlr-CC",
        "outputId": "8f9a67b8-2488-43f0-fd2a-7f52283887fa"
      },
      "source": [
        "# code of parametric probability estimation\n",
        "# Code 1\n",
        "sample = normal(loc=50, scale=5, size=1000)\n",
        "# calculate parameters\n",
        "sample_mean = mean(sample)\n",
        "sample_std = std(sample)\n",
        "print('Mean=%.3f, Standard Deviation=%.3f' % (sample_mean, sample_std))\n",
        "# define the distribution\n",
        "dist = norm(sample_mean, sample_std)\n",
        "# sample probabilities for a range of outcomes\n",
        "values = [value for value in range(30, 70)]\n",
        "probabilities = [dist.pdf(value) for value in values]\n",
        "# plot the histogram and pdf\n",
        "pyplot.hist(sample, bins=10, density=True)\n",
        "pyplot.plot(values, probabilities)\n",
        "pyplot.show()"
      ],
      "execution_count": null,
      "outputs": [
        {
          "output_type": "stream",
          "text": [
            "Mean=49.965, Standard Deviation=5.065\n"
          ],
          "name": "stdout"
        },
        {
          "output_type": "display_data",
          "data": {
            "image/png": "[encoded data removed]",
            "text/plain": [
              "<Figure size 432x288 with 1 Axes>"
            ]
          },
          "metadata": {
            "tags": [],
            "needs_background": "light"
          }
        }
      ]
    },
    {
      "cell_type": "markdown",
      "metadata": {
        "id": "SpbDRZBhr-CE"
      },
      "source": [
        "Running the code first generates the data sample, then estimates the parameters of the normal probability distribution.\n",
        "\n",
        "Note that your results will differ given the random nature of the data sample. Try running the example a few times.\n",
        "\n",
        "In this case, we can see that the mean and standard deviation have some noise and are slightly different from the expected values of 50 and 5 respectively. The noise is minor and the distribution is expected to still be a good fit."
      ]
    },
    {
      "cell_type": "code",
      "metadata": {
        "id": "HEBuWj-lr-CF"
      },
      "source": [
        "sample = normal(loc=100, scale=10, size=1000)\n"
      ],
      "execution_count": null,
      "outputs": []
    },
    {
      "cell_type": "code",
      "metadata": {
        "id": "fVZegzhOr-CG",
        "outputId": "b9f21a27-7b87-4662-c128-16dc01034317"
      },
      "source": [
        "sample_mean = mean(sample)\n",
        "sample_std = std(sample)\n",
        "print('Mean=%.3f, Standard Deviation=%.3f' % (sample_mean, sample_std))"
      ],
      "execution_count": null,
      "outputs": [
        {
          "output_type": "stream",
          "text": [
            "Mean=100.193, Standard Deviation=9.728\n"
          ],
          "name": "stdout"
        }
      ]
    },
    {
      "cell_type": "code",
      "metadata": {
        "id": "_vZdsiayr-CI"
      },
      "source": [
        "dist = norm(sample_mean, sample_std)"
      ],
      "execution_count": null,
      "outputs": []
    },
    {
      "cell_type": "code",
      "metadata": {
        "id": "FRvOOY5Tr-CI"
      },
      "source": [
        "values = [value for value in range(30, 200)]\n",
        "probabilities = [dist.pdf(value) for value in values]"
      ],
      "execution_count": null,
      "outputs": []
    },
    {
      "cell_type": "code",
      "metadata": {
        "id": "e4hm6O9Hr-CJ",
        "outputId": "cf8f242f-223d-4898-c737-b4918c8eb20c"
      },
      "source": [
        "pyplot.hist(sample, bins=10, density=True)\n",
        "pyplot.plot(values, probabilities)"
      ],
      "execution_count": null,
      "outputs": [
        {
          "output_type": "execute_result",
          "data": {
            "text/plain": [
              "[<matplotlib.lines.Line2D at 0x1feab33ebe0>]"
            ]
          },
          "metadata": {
            "tags": []
          },
          "execution_count": 29
        },
        {
          "output_type": "display_data",
          "data": {
            "image/png": "[encoded data removed]",
            "text/plain": [
              "<Figure size 432x288 with 1 Axes>"
            ]
          },
          "metadata": {
            "tags": [],
            "needs_background": "light"
          }
        }
      ]
    },
    {
      "cell_type": "code",
      "metadata": {
        "scrolled": true,
        "id": "NKW7H0nTr-CK",
        "outputId": "b20781e6-9673-43ba-8b0c-2d775dd3b2c5"
      },
      "source": [
        "# code of parametric probability estimation\n",
        "# Code 2\n",
        "sample = normal(loc=100, scale=10, size=1000)\n",
        "# calculate parameters\n",
        "sample_mean = mean(sample)\n",
        "sample_std = std(sample)\n",
        "print('Mean=%.3f, Standard Deviation=%.3f' % (sample_mean, sample_std))\n",
        "# define the distribution\n",
        "dist = norm(sample_mean, sample_std)\n",
        "# sample probabilities for a range of outcomes\n",
        "values = [value for value in range(30, 200)]\n",
        "probabilities = [dist.pdf(value) for value in values]\n",
        "# plot the histogram and pdf\n",
        "pyplot.hist(sample, bins=10, density=True)\n",
        "pyplot.plot(values, probabilities)\n",
        "pyplot.show()"
      ],
      "execution_count": null,
      "outputs": [
        {
          "output_type": "stream",
          "text": [
            "Mean=99.696, Standard Deviation=10.004\n"
          ],
          "name": "stdout"
        },
        {
          "output_type": "display_data",
          "data": {
            "image/png": "[encoded data removed]",
            "text/plain": [
              "<Figure size 432x288 with 1 Axes>"
            ]
          },
          "metadata": {
            "tags": [],
            "needs_background": "light"
          }
        }
      ]
    },
    {
      "cell_type": "markdown",
      "metadata": {
        "id": "qBMCPZh_r-CM"
      },
      "source": [
        "Running the code first generates the data sample, then estimates the parameters of the normal probability distribution.\n",
        "\n",
        "Note that your results will differ given the random nature of the data sample. Try running the example a few times.\n",
        "\n",
        "In this case, we can see that the mean and standard deviation have some noise and are slightly different from the expected values of 100 and 10 respectively. The noise is minor and the distribution is expected to still be a good fit."
      ]
    },
    {
      "cell_type": "code",
      "metadata": {
        "id": "P-gT5Jekr-CN",
        "outputId": "d5b974bf-2dbf-4177-ce57-0f2fef2df5b1"
      },
      "source": [
        "sample = normal(loc=200, scale=50, size=1000)\n",
        "sample_mean = mean(sample)\n",
        "sample_std = std(sample)\n",
        "print('Mean=%.3f, Standard Deviation=%.3f' % (sample_mean, sample_std))\n",
        "dist = norm(sample_mean, sample_std)\n",
        "values = [value for value in range(30, 500)]\n",
        "probabilities = [dist.pdf(value) for value in values]"
      ],
      "execution_count": null,
      "outputs": [
        {
          "output_type": "stream",
          "text": [
            "Mean=199.280, Standard Deviation=49.744\n"
          ],
          "name": "stdout"
        }
      ]
    },
    {
      "cell_type": "code",
      "metadata": {
        "id": "XhE8WQe4r-CP",
        "outputId": "05309f30-e1b3-49ce-a1ec-f9c0ca5a1c9a"
      },
      "source": [
        "pyplot.hist(sample, bins=10, density=True)\n",
        "pyplot.plot(values, probabilities)"
      ],
      "execution_count": null,
      "outputs": [
        {
          "output_type": "execute_result",
          "data": {
            "text/plain": [
              "[<matplotlib.lines.Line2D at 0x1feab1d1370>]"
            ]
          },
          "metadata": {
            "tags": []
          },
          "execution_count": 35
        },
        {
          "output_type": "display_data",
          "data": {
            "image/png": "[encoded data removed]",
            "text/plain": [
              "<Figure size 432x288 with 1 Axes>"
            ]
          },
          "metadata": {
            "tags": [],
            "needs_background": "light"
          }
        }
      ]
    },
    {
      "cell_type": "code",
      "metadata": {
        "id": "xmfNd8I3r-CQ",
        "outputId": "f9e4d525-019d-4873-b222-f19dfaec33f3"
      },
      "source": [
        "# code of parametric probability estimation\n",
        "# Code 3\n",
        "sample = normal(loc=200, scale=50, size=1000)\n",
        "# calculate parameters\n",
        "sample_mean = mean(sample)\n",
        "sample_std = std(sample)\n",
        "print('Mean=%.3f, Standard Deviation=%.3f' % (sample_mean, sample_std))\n",
        "# define the distribution\n",
        "dist = norm(sample_mean, sample_std)\n",
        "# sample probabilities for a range of outcomes\n",
        "values = [value for value in range(30, 500)]\n",
        "probabilities = [dist.pdf(value) for value in values]\n",
        "# plot the histogram and pdf\n",
        "pyplot.hist(sample, bins=10, density=True)\n",
        "pyplot.plot(values, probabilities)\n",
        "pyplot.show()"
      ],
      "execution_count": null,
      "outputs": [
        {
          "output_type": "stream",
          "text": [
            "Mean=198.202, Standard Deviation=49.452\n"
          ],
          "name": "stdout"
        },
        {
          "output_type": "display_data",
          "data": {
            "image/png": "[encoded data removed]",
            "text/plain": [
              "<Figure size 432x288 with 1 Axes>"
            ]
          },
          "metadata": {
            "tags": [],
            "needs_background": "light"
          }
        }
      ]
    },
    {
      "cell_type": "markdown",
      "metadata": {
        "id": "-fnKj8Edr-CR"
      },
      "source": [
        "Running the code first generates the data sample, then estimates the parameters of the normal probability distribution.\n",
        "\n",
        "Note that your results will differ given the random nature of the data sample. Try running the example a few times.\n",
        "\n",
        "In this case, we can see that the mean and standard deviation have some noise and are slightly different from the expected values of 200 and 50 respectively. The noise is minor and the distribution is expected to still be a good fit."
      ]
    },
    {
      "cell_type": "code",
      "metadata": {
        "id": "ZD-He0ucr-CT",
        "outputId": "f0c0e4ec-b825-4235-d540-5b2cdf640f6a"
      },
      "source": [
        "sample = normal(loc=250, scale=70, size=1000)\n",
        "sample_mean = mean(sample)\n",
        "sample_std = std(sample)\n",
        "print('Mean=%.3f, Standard Deviation=%.3f' % (sample_mean, sample_std))\n",
        "dist = norm(sample_mean, sample_std)\n",
        "values = [value for value in range(30, 600)]\n",
        "probabilities = [dist.pdf(value) for value in values]\n",
        "pyplot.hist(sample, bins=10, density=True)\n",
        "pyplot.plot(values, probabilities)"
      ],
      "execution_count": null,
      "outputs": [
        {
          "output_type": "stream",
          "text": [
            "Mean=249.647, Standard Deviation=71.204\n"
          ],
          "name": "stdout"
        },
        {
          "output_type": "execute_result",
          "data": {
            "text/plain": [
              "[<matplotlib.lines.Line2D at 0x1feac527d90>]"
            ]
          },
          "metadata": {
            "tags": []
          },
          "execution_count": 37
        },
        {
          "output_type": "display_data",
          "data": {
            "image/png": "[encoded data removed]",
            "text/plain": [
              "<Figure size 432x288 with 1 Axes>"
            ]
          },
          "metadata": {
            "tags": [],
            "needs_background": "light"
          }
        }
      ]
    },
    {
      "cell_type": "code",
      "metadata": {
        "id": "P0wsxfzZr-CU",
        "outputId": "514c086d-f25c-4c9d-b1aa-8981b3bb828d"
      },
      "source": [
        "# code of parametric probability estimation\n",
        "# Code 4\n",
        "sample = normal(loc=250, scale=70, size=1000)\n",
        "# calculate parameters\n",
        "sample_mean = mean(sample)\n",
        "sample_std = std(sample)\n",
        "print('Mean=%.3f, Standard Deviation=%.3f' % (sample_mean, sample_std))\n",
        "# define the distribution\n",
        "dist = norm(sample_mean, sample_std)\n",
        "# sample probabilities for a range of outcomes\n",
        "values = [value for value in range(30, 600)]\n",
        "probabilities = [dist.pdf(value) for value in values]\n",
        "# plot the histogram and pdf\n",
        "pyplot.hist(sample, bins=10, density=True)\n",
        "pyplot.plot(values, probabilities)\n",
        "pyplot.show()"
      ],
      "execution_count": null,
      "outputs": [
        {
          "output_type": "stream",
          "text": [
            "Mean=245.684, Standard Deviation=68.823\n"
          ],
          "name": "stdout"
        },
        {
          "output_type": "display_data",
          "data": {
            "image/png": "[encoded data removed]",
            "text/plain": [
              "<Figure size 432x288 with 1 Axes>"
            ]
          },
          "metadata": {
            "tags": [],
            "needs_background": "light"
          }
        }
      ]
    },
    {
      "cell_type": "markdown",
      "metadata": {
        "id": "9OfCHBzpr-CW"
      },
      "source": [
        "Running the code first generates the data sample, then estimates the parameters of the normal probability distribution.\n",
        "\n",
        "Note that your results will differ given the random nature of the data sample. Try running the example a few times.\n",
        "\n",
        "In this case, we can see that the mean and standard deviation have some noise and are slightly different from the expected values of 250 and 70 respectively. The noise is minor and the distribution is expected to still be a good fit."
      ]
    },
    {
      "cell_type": "code",
      "metadata": {
        "id": "HLvBmAiAr-CX",
        "outputId": "aa55f8d2-9a8d-4f34-d056-da8996ced9fc"
      },
      "source": [
        "sample = normal(loc=300, scale=90, size=1000)\n",
        "sample_mean = mean(sample)\n",
        "sample_std = std(sample)\n",
        "print('Mean=%.3f, Standard Deviation=%.3f' % (sample_mean, sample_std))\n",
        "dist = norm(sample_mean, sample_std)\n",
        "values = [value for value in range(30, 800)]\n",
        "probabilities = [dist.pdf(value) for value in values]\n",
        "pyplot.hist(sample, bins=10, density=True)\n",
        "pyplot.plot(values, probabilities)"
      ],
      "execution_count": null,
      "outputs": [
        {
          "output_type": "stream",
          "text": [
            "Mean=302.693, Standard Deviation=90.791\n"
          ],
          "name": "stdout"
        },
        {
          "output_type": "execute_result",
          "data": {
            "text/plain": [
              "[<matplotlib.lines.Line2D at 0x1feac688fd0>]"
            ]
          },
          "metadata": {
            "tags": []
          },
          "execution_count": 40
        },
        {
          "output_type": "display_data",
          "data": {
            "image/png": "[encoded data removed]",
            "text/plain": [
              "<Figure size 432x288 with 1 Axes>"
            ]
          },
          "metadata": {
            "tags": [],
            "needs_background": "light"
          }
        }
      ]
    },
    {
      "cell_type": "code",
      "metadata": {
        "id": "3hmP16rVr-Cb",
        "outputId": "95b11ed3-2a34-4667-aa7d-b8cd990d4ba1"
      },
      "source": [
        "# code of parametric probability estimation\n",
        "# Code 5\n",
        "sample = normal(loc=300, scale=90, size=1000)\n",
        "# calculate parameters\n",
        "sample_mean = mean(sample)\n",
        "sample_std = std(sample)\n",
        "print('Mean=%.3f, Standard Deviation=%.3f' % (sample_mean, sample_std))\n",
        "# define the distribution\n",
        "dist = norm(sample_mean, sample_std)\n",
        "# sample probabilities for a range of outcomes\n",
        "values = [value for value in range(30, 800)]\n",
        "probabilities = [dist.pdf(value) for value in values]\n",
        "# plot the histogram and pdf\n",
        "pyplot.hist(sample, bins=10, density=True)\n",
        "pyplot.plot(values, probabilities)\n",
        "pyplot.show()"
      ],
      "execution_count": null,
      "outputs": [
        {
          "output_type": "stream",
          "text": [
            "Mean=297.163, Standard Deviation=92.014\n"
          ],
          "name": "stdout"
        },
        {
          "output_type": "display_data",
          "data": {
            "image/png": "[encoded data removed]",
            "text/plain": [
              "<Figure size 432x288 with 1 Axes>"
            ]
          },
          "metadata": {
            "tags": [],
            "needs_background": "light"
          }
        }
      ]
    },
    {
      "cell_type": "markdown",
      "metadata": {
        "id": "FgPNiuAGr-Cc"
      },
      "source": [
        "Running the code first generates the data sample, then estimates the parameters of the normal probability distribution.\n",
        "\n",
        "Note that your results will differ given the random nature of the data sample. Try running the example a few times.\n",
        "\n",
        "In this case, we can see that the mean and standard deviation have some noise and are slightly different from the expected values of 250 and 70 respectively. The noise is minor and the distribution is expected to still be a good fit."
      ]
    }
  ]
}