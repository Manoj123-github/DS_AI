{
  "nbformat": 4,
  "nbformat_minor": 0,
  "metadata": {
    "kernelspec": {
      "display_name": "Python 3",
      "language": "python",
      "name": "python3"
    },
    "language_info": {
      "codemirror_mode": {
        "name": "ipython",
        "version": 3
      },
      "file_extension": ".py",
      "mimetype": "text/x-python",
      "name": "python",
      "nbconvert_exporter": "python",
      "pygments_lexer": "ipython3",
      "version": "3.8.3"
    },
    "colab": {
      "name": "FDS_LAB_Practical_9_Significance_and_Hypothesis_Testing.ipynb",
      "provenance": [],
      "collapsed_sections": [],
      "include_colab_link": true
    }
  },
  "cells": [
    {
      "cell_type": "markdown",
      "metadata": {
        "id": "view-in-github",
        "colab_type": "text"
      },
      "source": [
        "<a href=\"https://colab.research.google.com/github/Sadiksha08/FDS-Lab-Work/blob/main/FDS_LAB_Practical_9_Significance_and_Hypothesis_Testing.ipynb\" target=\"_parent\"><img src=\"https://colab.research.google.com/assets/colab-badge.svg\" alt=\"Open In Colab\"/></a>"
      ]
    },
    {
      "cell_type": "markdown",
      "metadata": {
        "id": "W-1HIQyiYbQy"
      },
      "source": [
        "# **Significance and Hypothesis Testing**"
      ]
    },
    {
      "cell_type": "code",
      "metadata": {
        "id": "fwcP4o_GYVLY"
      },
      "source": [
        "import pandas as pd\n",
        "import numpy as np\n",
        "import matplotlib.pyplot as plt\n",
        "import seaborn as sns\n",
        "import scipy.stats as stats\n",
        "from scipy.stats import ttest_1samp\n",
        "from statsmodels.stats.power import tt_ind_solve_power"
      ],
      "execution_count": null,
      "outputs": []
    },
    {
      "cell_type": "code",
      "metadata": {
        "id": "RtUH4ttRYVLj",
        "outputId": "8134ab85-7aa0-418a-b650-08507f49a859"
      },
      "source": [
        "df=pd.read_excel('C:/Users/SADIKSHA SINGH/Desktop/result.xlsx')\n",
        "df"
      ],
      "execution_count": null,
      "outputs": [
        {
          "output_type": "execute_result",
          "data": {
            "text/html": [
              "<div>\n",
              "<style scoped>\n",
              "    .dataframe tbody tr th:only-of-type {\n",
              "        vertical-align: middle;\n",
              "    }\n",
              "\n",
              "    .dataframe tbody tr th {\n",
              "        vertical-align: top;\n",
              "    }\n",
              "\n",
              "    .dataframe thead th {\n",
              "        text-align: right;\n",
              "    }\n",
              "</style>\n",
              "<table border=\"1\" class=\"dataframe\">\n",
              "  <thead>\n",
              "    <tr style=\"text-align: right;\">\n",
              "      <th></th>\n",
              "      <th>Roll no.</th>\n",
              "      <th>Name</th>\n",
              "      <th>Subj1</th>\n",
              "      <th>Subj2</th>\n",
              "      <th>subj3</th>\n",
              "      <th>total</th>\n",
              "      <th>result</th>\n",
              "    </tr>\n",
              "  </thead>\n",
              "  <tbody>\n",
              "    <tr>\n",
              "      <th>0</th>\n",
              "      <td>101</td>\n",
              "      <td>Manoj</td>\n",
              "      <td>45</td>\n",
              "      <td>45</td>\n",
              "      <td>45</td>\n",
              "      <td>135</td>\n",
              "      <td>P</td>\n",
              "    </tr>\n",
              "    <tr>\n",
              "      <th>1</th>\n",
              "      <td>102</td>\n",
              "      <td>Manish</td>\n",
              "      <td>35</td>\n",
              "      <td>45</td>\n",
              "      <td>42</td>\n",
              "      <td>122</td>\n",
              "      <td>P</td>\n",
              "    </tr>\n",
              "    <tr>\n",
              "      <th>2</th>\n",
              "      <td>103</td>\n",
              "      <td>shubham</td>\n",
              "      <td>29</td>\n",
              "      <td>26</td>\n",
              "      <td>30</td>\n",
              "      <td>85</td>\n",
              "      <td>P</td>\n",
              "    </tr>\n",
              "    <tr>\n",
              "      <th>3</th>\n",
              "      <td>104</td>\n",
              "      <td>shivam</td>\n",
              "      <td>38</td>\n",
              "      <td>35</td>\n",
              "      <td>29</td>\n",
              "      <td>102</td>\n",
              "      <td>P</td>\n",
              "    </tr>\n",
              "    <tr>\n",
              "      <th>4</th>\n",
              "      <td>105</td>\n",
              "      <td>aakash</td>\n",
              "      <td>41</td>\n",
              "      <td>40</td>\n",
              "      <td>34</td>\n",
              "      <td>115</td>\n",
              "      <td>P</td>\n",
              "    </tr>\n",
              "    <tr>\n",
              "      <th>5</th>\n",
              "      <td>106</td>\n",
              "      <td>ritwik</td>\n",
              "      <td>46</td>\n",
              "      <td>62</td>\n",
              "      <td>41</td>\n",
              "      <td>149</td>\n",
              "      <td>P</td>\n",
              "    </tr>\n",
              "    <tr>\n",
              "      <th>6</th>\n",
              "      <td>107</td>\n",
              "      <td>saurabh</td>\n",
              "      <td>29</td>\n",
              "      <td>48</td>\n",
              "      <td>27</td>\n",
              "      <td>104</td>\n",
              "      <td>P</td>\n",
              "    </tr>\n",
              "    <tr>\n",
              "      <th>7</th>\n",
              "      <td>108</td>\n",
              "      <td>nilesh</td>\n",
              "      <td>43</td>\n",
              "      <td>33</td>\n",
              "      <td>33</td>\n",
              "      <td>109</td>\n",
              "      <td>P</td>\n",
              "    </tr>\n",
              "    <tr>\n",
              "      <th>8</th>\n",
              "      <td>109</td>\n",
              "      <td>prakash</td>\n",
              "      <td>37</td>\n",
              "      <td>30</td>\n",
              "      <td>38</td>\n",
              "      <td>105</td>\n",
              "      <td>P</td>\n",
              "    </tr>\n",
              "    <tr>\n",
              "      <th>9</th>\n",
              "      <td>110</td>\n",
              "      <td>vikrant</td>\n",
              "      <td>33</td>\n",
              "      <td>31</td>\n",
              "      <td>41</td>\n",
              "      <td>105</td>\n",
              "      <td>P</td>\n",
              "    </tr>\n",
              "  </tbody>\n",
              "</table>\n",
              "</div>"
            ],
            "text/plain": [
              "   Roll no.     Name  Subj1  Subj2  subj3  total result\n",
              "0       101   Manoj      45     45     45    135      P\n",
              "1       102   Manish     35     45     42    122      P\n",
              "2       103  shubham     29     26     30     85      P\n",
              "3       104   shivam     38     35     29    102      P\n",
              "4       105   aakash     41     40     34    115      P\n",
              "5       106   ritwik     46     62     41    149      P\n",
              "6       107  saurabh     29     48     27    104      P\n",
              "7       108   nilesh     43     33     33    109      P\n",
              "8       109  prakash     37     30     38    105      P\n",
              "9       110  vikrant     33     31     41    105      P"
            ]
          },
          "metadata": {
            "tags": []
          },
          "execution_count": 48
        }
      ]
    },
    {
      "cell_type": "code",
      "metadata": {
        "id": "ldAe7HWGYVLm",
        "outputId": "2db7bca1-035b-4912-e48f-f1164fb7f119"
      },
      "source": [
        "df.describe()"
      ],
      "execution_count": null,
      "outputs": [
        {
          "output_type": "execute_result",
          "data": {
            "text/html": [
              "<div>\n",
              "<style scoped>\n",
              "    .dataframe tbody tr th:only-of-type {\n",
              "        vertical-align: middle;\n",
              "    }\n",
              "\n",
              "    .dataframe tbody tr th {\n",
              "        vertical-align: top;\n",
              "    }\n",
              "\n",
              "    .dataframe thead th {\n",
              "        text-align: right;\n",
              "    }\n",
              "</style>\n",
              "<table border=\"1\" class=\"dataframe\">\n",
              "  <thead>\n",
              "    <tr style=\"text-align: right;\">\n",
              "      <th></th>\n",
              "      <th>Roll no.</th>\n",
              "      <th>Subj1</th>\n",
              "      <th>Subj2</th>\n",
              "      <th>subj3</th>\n",
              "      <th>total</th>\n",
              "    </tr>\n",
              "  </thead>\n",
              "  <tbody>\n",
              "    <tr>\n",
              "      <th>count</th>\n",
              "      <td>10.00000</td>\n",
              "      <td>10.000000</td>\n",
              "      <td>10.000000</td>\n",
              "      <td>10.000000</td>\n",
              "      <td>10.000000</td>\n",
              "    </tr>\n",
              "    <tr>\n",
              "      <th>mean</th>\n",
              "      <td>105.50000</td>\n",
              "      <td>37.600000</td>\n",
              "      <td>39.500000</td>\n",
              "      <td>36.000000</td>\n",
              "      <td>113.100000</td>\n",
              "    </tr>\n",
              "    <tr>\n",
              "      <th>std</th>\n",
              "      <td>3.02765</td>\n",
              "      <td>6.168018</td>\n",
              "      <td>10.783217</td>\n",
              "      <td>6.236096</td>\n",
              "      <td>18.241893</td>\n",
              "    </tr>\n",
              "    <tr>\n",
              "      <th>min</th>\n",
              "      <td>101.00000</td>\n",
              "      <td>29.000000</td>\n",
              "      <td>26.000000</td>\n",
              "      <td>27.000000</td>\n",
              "      <td>85.000000</td>\n",
              "    </tr>\n",
              "    <tr>\n",
              "      <th>25%</th>\n",
              "      <td>103.25000</td>\n",
              "      <td>33.500000</td>\n",
              "      <td>31.500000</td>\n",
              "      <td>30.750000</td>\n",
              "      <td>104.250000</td>\n",
              "    </tr>\n",
              "    <tr>\n",
              "      <th>50%</th>\n",
              "      <td>105.50000</td>\n",
              "      <td>37.500000</td>\n",
              "      <td>37.500000</td>\n",
              "      <td>36.000000</td>\n",
              "      <td>107.000000</td>\n",
              "    </tr>\n",
              "    <tr>\n",
              "      <th>75%</th>\n",
              "      <td>107.75000</td>\n",
              "      <td>42.500000</td>\n",
              "      <td>45.000000</td>\n",
              "      <td>41.000000</td>\n",
              "      <td>120.250000</td>\n",
              "    </tr>\n",
              "    <tr>\n",
              "      <th>max</th>\n",
              "      <td>110.00000</td>\n",
              "      <td>46.000000</td>\n",
              "      <td>62.000000</td>\n",
              "      <td>45.000000</td>\n",
              "      <td>149.000000</td>\n",
              "    </tr>\n",
              "  </tbody>\n",
              "</table>\n",
              "</div>"
            ],
            "text/plain": [
              "        Roll no.      Subj1      Subj2      subj3       total\n",
              "count   10.00000  10.000000  10.000000  10.000000   10.000000\n",
              "mean   105.50000  37.600000  39.500000  36.000000  113.100000\n",
              "std      3.02765   6.168018  10.783217   6.236096   18.241893\n",
              "min    101.00000  29.000000  26.000000  27.000000   85.000000\n",
              "25%    103.25000  33.500000  31.500000  30.750000  104.250000\n",
              "50%    105.50000  37.500000  37.500000  36.000000  107.000000\n",
              "75%    107.75000  42.500000  45.000000  41.000000  120.250000\n",
              "max    110.00000  46.000000  62.000000  45.000000  149.000000"
            ]
          },
          "metadata": {
            "tags": []
          },
          "execution_count": 49
        }
      ]
    },
    {
      "cell_type": "markdown",
      "metadata": {
        "id": "hOyh7I1QYVLm"
      },
      "source": [
        "# Hypothesis Testing or Significance Testing"
      ]
    },
    {
      "cell_type": "markdown",
      "metadata": {
        "id": "UPZfUa-zYVLo"
      },
      "source": [
        "Hypothesis testing is a set of formal procedures used by statisticians to either accept or reject statistical hypotheses. Statistical hypotheses are of two types:\n",
        "\n",
        "Null hypothesis, H0 - represents a hypothesis of chance basis.\n",
        "\n",
        "Alternative hypothesis, Ha - represents a hypothesis of observations which are influenced by some non-random cause."
      ]
    },
    {
      "cell_type": "markdown",
      "metadata": {
        "id": "MM-3dQroYVLp"
      },
      "source": [
        " (1) check if total  mean value of marks is not more  than 113.\n",
        "\n",
        "Null Hypothesis will be\n",
        "\n",
        "Ho : mu <= 113\n",
        "\n",
        "Alternate Hypothesis will be\n",
        "\n",
        "Ha : mu > 113"
      ]
    },
    {
      "cell_type": "code",
      "metadata": {
        "id": "k-T1t5eqYVLq",
        "outputId": "4747e92b-b8cf-475c-acfd-9c5237138130"
      },
      "source": [
        "Ho = \"mu <= 113\"\n",
        "# alt hyp\n",
        "Ha = \"mu > 113\"\n",
        "# alpha\n",
        "al = 0.05\n",
        "# mu - mean\n",
        "mu = 113\n",
        "# tail type\n",
        "tt = 1\n",
        "# data\n",
        "marks = df['total'].values\n",
        "print(\"Ho:\", Ho)\n",
        "print(\"Ha:\", Ha)\n",
        "print(\"al:\", al)\n",
        "print(\"mu:\", mu)\n",
        "print(marks)\n",
        "print(\"\")\n",
        "ts, pv = ttest_1samp(marks, mu)\n",
        "print(\"t-stat\",ts)\n",
        "print(\"p-vals\",pv)\n",
        "t2pv = pv\n",
        "t1pv = pv*2\n",
        "print(\"1t pv\",t1pv)\n",
        "print(\"2t pv\",t2pv)\n",
        "\n",
        "if tt == 1:\n",
        "    if t1pv < al:\n",
        "        print(\"Null Hypothesis: Rejected\")\n",
        "        print(\"Conclusion:\",Ha)\n",
        "    else:\n",
        "        print(\"Null Hypothesis: Not Rejected\")\n",
        "        print(\"Conclusion:\",Ho)\n",
        "else:\n",
        "    if t2pv < al/2:\n",
        "        print(\"Null Hypothesis: Rejected\")\n",
        "        print(\"Conclusion:\",Ha)\n",
        "    else:\n",
        "        print(\"Null Hypothesis: Not Rejected\")\n",
        "        print(\"Conclusion:\",Ho)"
      ],
      "execution_count": null,
      "outputs": [
        {
          "output_type": "stream",
          "text": [
            "Ho: mu <= 113\n",
            "Ha: mu > 113\n",
            "al: 0.05\n",
            "mu: 113\n",
            "[135 122  85 102 115 149 104 109 105 105]\n",
            "\n",
            "t-stat 0.01733524930528476\n",
            "p-vals 0.9865473848679749\n",
            "1t pv 1.9730947697359498\n",
            "2t pv 0.9865473848679749\n",
            "Null Hypothesis: Not Rejected\n",
            "Conclusion: mu <= 113\n"
          ],
          "name": "stdout"
        }
      ]
    },
    {
      "cell_type": "code",
      "metadata": {
        "id": "JHqMiW35YVLr",
        "outputId": "08cd47cb-c7d1-4e3c-89a2-2d702bb7a8fb"
      },
      "source": [
        "# Problem: Check if the total mean age is  equal to 113\n",
        "\n",
        "#Ho:\tm = 113\n",
        "#Ha:\tm != 113\n",
        "#Tail: Two\n",
        "#Test: One Sample Mean without std\n",
        "\n",
        "# null hyp\n",
        "Ho = \"mu = 113\"\n",
        "# alt hyp\n",
        "Ha = \"mu != 113\"\n",
        "# alpha\n",
        "al = 0.05\n",
        "# mu - mean\n",
        "mu = 113\n",
        "# tail type\n",
        "tt = 2\n",
        "# data\n",
        "marks = df['total'].values\n",
        "# print\n",
        "print(\"Ho:\", Ho)\n",
        "print(\"Ha:\", Ha)\n",
        "print(\"al:\", al)\n",
        "print(\"mu:\", mu)\n",
        "print(marks)\n",
        "print(\"\")\n",
        "ts, pv = ttest_1samp(marks, mu)\n",
        "print(\"t-stat\",ts)\n",
        "print(\"p-vals\",pv)\n",
        "t2pv = pv\n",
        "t1pv = pv*2\n",
        "print(\"1t pv\",t1pv)\n",
        "print(\"2t pv\",t2pv)\n",
        "\n",
        "if tt == 1:\n",
        "    if t1pv < al:\n",
        "        print(\"Null Hypothesis: Rejected\")\n",
        "        print(\"Conclusion:\",Ha)\n",
        "    else:\n",
        "        print(\"Null Hypothesis: Not Rejected\")\n",
        "        print(\"Conclusion:\",Ho)\n",
        "else:\n",
        "    if t2pv < al/2:\n",
        "        print(\"Null Hypothesis: Rejected\")\n",
        "        print(\"Conclusion:\",Ha)\n",
        "    else:\n",
        "        print(\"Null Hypothesis: Not Rejected\")\n",
        "        print(\"Conclusion:\",Ho)\n"
      ],
      "execution_count": null,
      "outputs": [
        {
          "output_type": "stream",
          "text": [
            "Ho: mu = 113\n",
            "Ha: mu != 113\n",
            "al: 0.05\n",
            "mu: 113\n",
            "[135 122  85 102 115 149 104 109 105 105]\n",
            "\n",
            "t-stat 0.01733524930528476\n",
            "p-vals 0.9865473848679749\n",
            "1t pv 1.9730947697359498\n",
            "2t pv 0.9865473848679749\n",
            "Null Hypothesis: Not Rejected\n",
            "Conclusion: mu = 113\n"
          ],
          "name": "stdout"
        }
      ]
    },
    {
      "cell_type": "markdown",
      "metadata": {
        "id": "akdnFItSYVLs"
      },
      "source": [
        "# AB Testing"
      ]
    },
    {
      "cell_type": "markdown",
      "metadata": {
        "id": "mTM78uUAYVLt"
      },
      "source": [
        "AB testing is essentially an experiment where two or more variants of a page are shown to users at random, and statistical analysis is used to determine which variation performs better for a given conversion goal."
      ]
    },
    {
      "cell_type": "code",
      "metadata": {
        "id": "9_2EKgl9YVLt"
      },
      "source": [
        "subj1 = np.array([45,36,29,40,46,37,43,39,28,33])\n",
        "subj2 = np.array([40,20,30,35,29,43,40,39,28,31])"
      ],
      "execution_count": null,
      "outputs": []
    },
    {
      "cell_type": "code",
      "metadata": {
        "id": "1MltQUl9YVLu",
        "outputId": "f3baf63f-ad3e-40bd-ed97-cda84ccb3a90"
      },
      "source": [
        "sns.distplot(subj1)"
      ],
      "execution_count": null,
      "outputs": [
        {
          "output_type": "execute_result",
          "data": {
            "text/plain": [
              "<matplotlib.axes._subplots.AxesSubplot at 0x1f8a13c3d60>"
            ]
          },
          "metadata": {
            "tags": []
          },
          "execution_count": 52
        },
        {
          "output_type": "display_data",
          "data": {
            "image/png": "[encoded data removed]",
            "text/plain": [
              "<Figure size 432x288 with 1 Axes>"
            ]
          },
          "metadata": {
            "tags": [],
            "needs_background": "light"
          }
        }
      ]
    },
    {
      "cell_type": "code",
      "metadata": {
        "id": "n8IzIYvRYVLv",
        "outputId": "935c4f6a-1eac-4ca0-9dcf-63ad2c40013a"
      },
      "source": [
        "sns.distplot(subj2)"
      ],
      "execution_count": null,
      "outputs": [
        {
          "output_type": "execute_result",
          "data": {
            "text/plain": [
              "<matplotlib.axes._subplots.AxesSubplot at 0x1f8a1425a60>"
            ]
          },
          "metadata": {
            "tags": []
          },
          "execution_count": 53
        },
        {
          "output_type": "display_data",
          "data": {
            "image/png": "[encoded data removed]",
            "text/plain": [
              "<Figure size 432x288 with 1 Axes>"
            ]
          },
          "metadata": {
            "tags": [],
            "needs_background": "light"
          }
        }
      ]
    },
    {
      "cell_type": "code",
      "metadata": {
        "id": "ELr6hTQ8YVLw",
        "outputId": "8d709f5d-f243-4f10-929f-4035b4e07f06"
      },
      "source": [
        "t_stat, p_val= ss.ttest_ind(subj1,subj2)\n",
        "t_stat , p_val"
      ],
      "execution_count": null,
      "outputs": [
        {
          "output_type": "execute_result",
          "data": {
            "text/plain": [
              "(1.365908039538178, 0.18879292981719703)"
            ]
          },
          "metadata": {
            "tags": []
          },
          "execution_count": 54
        }
      ]
    },
    {
      "cell_type": "markdown",
      "metadata": {
        "id": "GuU2MpjAYVLx"
      },
      "source": [
        "The two hypotheses for this particular two sample t-test are as follows:\n",
        "\n",
        "H0: µ1 = µ2 (the two population means are equal)\n",
        "\n",
        "HA: µ1 ≠µ2 (the two population means are not equal)"
      ]
    },
    {
      "cell_type": "code",
      "metadata": {
        "id": "At5QGMVSYVLx",
        "outputId": "b15109fd-6059-4a5f-b9f1-7f4749c8726a"
      },
      "source": [
        "#perform two sample t-test with equal variances\n",
        "stats.ttest_ind(subj1, subj2, equal_var=True)"
      ],
      "execution_count": null,
      "outputs": [
        {
          "output_type": "execute_result",
          "data": {
            "text/plain": [
              "Ttest_indResult(statistic=1.365908039538178, pvalue=0.18879292981719703)"
            ]
          },
          "metadata": {
            "tags": []
          },
          "execution_count": 55
        }
      ]
    },
    {
      "cell_type": "markdown",
      "metadata": {
        "id": "p9gjJ1UPYVLz"
      },
      "source": [
        "The t test statistic is 1.3659 and the corresponding two-sided p-value is 0.1887.\n",
        "Because the p-value of our test (0.1887) is greater than alpha = 0.05, we fail to reject the null hypothesis of the test.\n",
        "\n",
        "We do not have sufficient evidence to say that the mean marks of sub1 and subj2 between the two  is different.\n",
        "\n"
      ]
    },
    {
      "cell_type": "markdown",
      "metadata": {
        "id": "u0D3t7JnYVLz"
      },
      "source": [
        "# Type I error Type II error\n"
      ]
    },
    {
      "cell_type": "markdown",
      "metadata": {
        "id": "zCZpcWBuYVL0"
      },
      "source": [
        "Type I and Type II errors signifies the erroneous outcomes of statistical hypothesis tests. \n",
        "Type I error represents the incorrect rejection of a valid null hypothesis \n",
        "whereas Type II error represents the incorrect retention of an invalid null hypothesis."
      ]
    },
    {
      "cell_type": "code",
      "metadata": {
        "id": "OUr2oqL9YVL0",
        "outputId": "1cdf5b4d-2a78-44c2-f6d4-157dfbf290b1"
      },
      "source": [
        "effect_size=abs((subj1.mean()-subj2.mean())/(subj1.std()-subj2.std()))\n",
        "sample_size=10\n",
        "alpha=0.05\n",
        "ratio=1.0\n",
        "\n",
        "statistical_power = tt_ind_solve_power(effect_size=effect_size, nobs1=sample_size, alpha=alpha, ratio=1.0, alternative='two-sided')\n",
        "print(statistical_power)"
      ],
      "execution_count": null,
      "outputs": [
        {
          "output_type": "stream",
          "text": [
            "1.0\n"
          ],
          "name": "stdout"
        }
      ]
    },
    {
      "cell_type": "code",
      "metadata": {
        "id": "HfWKYsfFYVL1",
        "outputId": "0d8b883d-95a6-4b17-ae8e-efad7abf9bfe"
      },
      "source": [
        "type_2_error=1-statistical_power\n",
        "type_2_error"
      ],
      "execution_count": null,
      "outputs": [
        {
          "output_type": "execute_result",
          "data": {
            "text/plain": [
              "0.0"
            ]
          },
          "metadata": {
            "tags": []
          },
          "execution_count": 57
        }
      ]
    },
    {
      "cell_type": "markdown",
      "metadata": {
        "id": "iPuVTJMlYp61"
      },
      "source": [
        "**New Section**"
      ]
    },
    {
      "cell_type": "markdown",
      "metadata": {
        "id": "qwv3tg25dpFS"
      },
      "source": [
        "A/B testing has the ability to teach data scientists valuable lessons that both enhance understanding of audiences and underlying data sets, but also help focus on core use cases through methodical design of experiments.\r\n",
        "A/B testing has the ability to teach data scientists valuable lessons that both enhance understanding of audiences and underlying data sets, but also help focus on core use cases through methodical design of experiments.\r\n",
        "For instance, let’s say you own a company and want to increase the sales of your product. Here, either you can use random experiments, or you can apply scientific and statistical methods. A/B testing is one of the most prominent and widely used statistical tools."
      ]
    },
    {
      "cell_type": "code",
      "metadata": {
        "id": "34ROD9ZmUlCM"
      },
      "source": [
        " %matplotlib inline\n",
        " \n",
        "from pathlib import Path\n",
        "import random \n",
        "import pandas as pd\n",
        "import numpy as np\n",
        "import matplotlib.pylab as plt"
      ],
      "execution_count": null,
      "outputs": []
    },
    {
      "cell_type": "code",
      "metadata": {
        "id": "zrRrEK74cK_F"
      },
      "source": [
        "try:\r\n",
        "    import common\r\n",
        "    DATA = common.dataDirectory()\r\n",
        "except ImportError:\r\n",
        "    DATA = Path().resolve() / 'data'"
      ],
      "execution_count": null,
      "outputs": []
    },
    {
      "cell_type": "markdown",
      "metadata": {
        "id": "OmKLQNMNevqx"
      },
      "source": [
        "here we use web_page_data.csv dataset"
      ]
    },
    {
      "cell_type": "code",
      "metadata": {
        "id": "o9qHyKpncQcP"
      },
      "source": [
        "WEB_PAGE_DATA_CSV = DATA / '/content/web_page_data.csv'"
      ],
      "execution_count": null,
      "outputs": []
    },
    {
      "cell_type": "code",
      "metadata": {
        "id": "FLtl0sroVOPz"
      },
      "source": [
        "session_times = pd.read_csv('/content/web_page_data.csv')\n",
        "session_times.Time = 100 * session_times.Time"
      ],
      "execution_count": null,
      "outputs": []
    },
    {
      "cell_type": "code",
      "metadata": {
        "id": "OGRvMFu0VPIO",
        "colab": {
          "base_uri": "https://localhost:8080/",
          "height": 351
        },
        "outputId": "c4fc81ca-3c83-43a1-f5d0-047c8c03e9ff"
      },
      "source": [
        " ax = session_times.boxplot(by='Page', column='Time',\n",
        "                           figsize=(4, 4))\n",
        "ax.set_xlabel('')\n",
        "ax.set_ylabel('Time (in seconds)')\n",
        "plt.suptitle('')\n",
        " \n",
        "plt.tight_layout()\n",
        "plt.show()"
      ],
      "execution_count": null,
      "outputs": [
        {
          "output_type": "stream",
          "text": [
            "/usr/local/lib/python3.7/dist-packages/numpy/core/_asarray.py:83: VisibleDeprecationWarning: Creating an ndarray from ragged nested sequences (which is a list-or-tuple of lists-or-tuples-or ndarrays with different lengths or shapes) is deprecated. If you meant to do this, you must specify 'dtype=object' when creating the ndarray\n",
            "  return array(a, dtype, copy=False, order=order)\n"
          ],
          "name": "stderr"
        },
        {
          "output_type": "display_data",
          "data": {
            "image/png": "[encoded data removed]",
            "text/plain": [
              "<Figure size 288x288 with 1 Axes>"
            ]
          },
          "metadata": {
            "tags": [],
            "needs_background": "light"
          }
        }
      ]
    },
    {
      "cell_type": "code",
      "metadata": {
        "id": "3rFdQ5wWVX6n",
        "colab": {
          "base_uri": "https://localhost:8080/"
        },
        "outputId": "f5297de3-960f-4bf6-d55e-d9bbd9eacba7"
      },
      "source": [
        " mean_a = session_times[session_times.Page == 'Page A'].Time.mean()\n",
        "mean_b = session_times[session_times.Page == 'Page B'].Time.mean()\n",
        "print(mean_b - mean_a)"
      ],
      "execution_count": null,
      "outputs": [
        {
          "output_type": "stream",
          "text": [
            "35.66666666666667\n"
          ],
          "name": "stdout"
        }
      ]
    },
    {
      "cell_type": "code",
      "metadata": {
        "id": "e9mWzAr1Vhd9",
        "colab": {
          "base_uri": "https://localhost:8080/"
        },
        "outputId": "a5473497-eac8-4bb4-e58c-100b190052bf"
      },
      "source": [
        " # Permutation test example with stickiness\n",
        "def perm_fun(x, nA, nB):\n",
        "    n = nA + nB\n",
        "    idx_B = set(random.sample(range(n), nB))\n",
        "    idx_A = set(range(n)) - idx_B\n",
        "    return x.loc[idx_B].mean() - x.loc[idx_A].mean()\n",
        "    \n",
        "nA = session_times[session_times.Page == 'Page A'].shape[0]\n",
        "nB = session_times[session_times.Page == 'Page B'].shape[0]\n",
        "print(perm_fun(session_times.Time, nA, nB))"
      ],
      "execution_count": null,
      "outputs": [
        {
          "output_type": "stream",
          "text": [
            "35.09523809523809\n"
          ],
          "name": "stdout"
        }
      ]
    },
    {
      "cell_type": "code",
      "metadata": {
        "id": "bP8zm2nGVoVI",
        "colab": {
          "base_uri": "https://localhost:8080/",
          "height": 369
        },
        "outputId": "235041e8-b2c6-4297-c3fe-2a45cbabdfc1"
      },
      "source": [
        " random.seed(1)\n",
        "perm_diffs = [perm_fun(session_times.Time, nA, nB) for _ in range(1000)]\n",
        " \n",
        "fig, ax = plt.subplots(figsize=(5, 5))\n",
        "ax.hist(perm_diffs, bins=11, rwidth=0.9)\n",
        "ax.axvline(x = mean_b - mean_a, color='black', lw=2)\n",
        "ax.text(50, 190, 'Observed\\ndifference', bbox={'facecolor':'white'})\n",
        "ax.set_xlabel('Session time differences (in seconds)')\n",
        "ax.set_ylabel('Frequency')\n",
        " \n",
        "plt.tight_layout()\n",
        "plt.show()"
      ],
      "execution_count": null,
      "outputs": [
        {
          "output_type": "display_data",
          "data": {
            "image/png": "[encoded data removed]",
            "text/plain": [
              "<Figure size 360x360 with 1 Axes>"
            ]
          },
          "metadata": {
            "tags": [],
            "needs_background": "light"
          }
        }
      ]
    },
    {
      "cell_type": "markdown",
      "metadata": {
        "id": "3XDEH0iViWTM"
      },
      "source": [
        "2.For this project, you will be working to understand the results of an A/B test run by an e-commerce website. Your goal is to work through this notebook to help the company understand if they should implement the new page, keep the old page, or perhaps run the experiment longer to make their decision.\r\n",
        "\r\n",
        "\r\n"
      ]
    },
    {
      "cell_type": "code",
      "metadata": {
        "id": "AQmhQOKBgc_f"
      },
      "source": [
        "df = pd.read_csv('/content/ab_data.csv')"
      ],
      "execution_count": null,
      "outputs": []
    },
    {
      "cell_type": "markdown",
      "metadata": {
        "id": "ImWy4lY0ntvD"
      },
      "source": [
        "For now, consider you need to make the decision just based on all the data provided. If you want to assume that the old page is better unless the new page proves to be definitely better at a Type I error rate of 5%, what should your null and alternative hypotheses be? You can state your hypothesis in terms of words or in terms of $p_{old}$ and $p_{new}$, which are the converted rates for the old and new pages.\r\n",
        "\r\n",
        "Null Hypothesis: The probability of old page better than new page is greater or equal to probability of new page.\r\n",
        "\r\n",
        "Alternative Hypothesis: The probability of new page being better than new page is less than that of a new page.\r\n"
      ]
    },
    {
      "cell_type": "code",
      "metadata": {
        "colab": {
          "base_uri": "https://localhost:8080/"
        },
        "id": "Q_rVHk6XicMB",
        "outputId": "4b2b4c56-ae89-41e2-bc4c-927bebf13cf5"
      },
      "source": [
        "df.info()\r\n"
      ],
      "execution_count": null,
      "outputs": [
        {
          "output_type": "stream",
          "text": [
            "<class 'pandas.core.frame.DataFrame'>\n",
            "RangeIndex: 233014 entries, 0 to 233013\n",
            "Data columns (total 5 columns):\n",
            " #   Column        Non-Null Count   Dtype  \n",
            "---  ------        --------------   -----  \n",
            " 0   user_id       233014 non-null  int64  \n",
            " 1   timestamp     233014 non-null  object \n",
            " 2   group         233014 non-null  object \n",
            " 3   landing_page  233013 non-null  object \n",
            " 4   converted     233013 non-null  float64\n",
            "dtypes: float64(1), int64(1), object(3)\n",
            "memory usage: 8.9+ MB\n"
          ],
          "name": "stdout"
        }
      ]
    },
    {
      "cell_type": "code",
      "metadata": {
        "id": "N6nQYOatmUxk"
      },
      "source": [
        "df2 = df.drop(df[((df.landing_page == 'new_page') & (df.group != 'treatment')) | ((df.landing_page != 'new_page') & (df.group == 'treatment'))].index)"
      ],
      "execution_count": null,
      "outputs": []
    },
    {
      "cell_type": "code",
      "metadata": {
        "colab": {
          "base_uri": "https://localhost:8080/"
        },
        "id": "K-luElTSi6hx",
        "outputId": "452601f7-ac1b-42b5-a59e-647405aa5eea"
      },
      "source": [
        "#check for info\r\n",
        "df2.info()"
      ],
      "execution_count": null,
      "outputs": [
        {
          "output_type": "stream",
          "text": [
            "<class 'pandas.core.frame.DataFrame'>\n",
            "Int64Index: 229934 entries, 0 to 233013\n",
            "Data columns (total 5 columns):\n",
            " #   Column        Non-Null Count   Dtype  \n",
            "---  ------        --------------   -----  \n",
            " 0   user_id       229934 non-null  int64  \n",
            " 1   timestamp     229934 non-null  object \n",
            " 2   group         229934 non-null  object \n",
            " 3   landing_page  229933 non-null  object \n",
            " 4   converted     229933 non-null  float64\n",
            "dtypes: float64(1), int64(1), object(3)\n",
            "memory usage: 10.5+ MB\n"
          ],
          "name": "stdout"
        }
      ]
    },
    {
      "cell_type": "code",
      "metadata": {
        "colab": {
          "base_uri": "https://localhost:8080/"
        },
        "id": "LbfmFj53jL_3",
        "outputId": "c0bf0b1b-3120-400d-dfc5-21566dc07c9f"
      },
      "source": [
        "# convert rate is how many users converted (i.e. converted = 1)\r\n",
        "p_new = df2.converted.mean()\r\n",
        "p_new"
      ],
      "execution_count": null,
      "outputs": [
        {
          "output_type": "execute_result",
          "data": {
            "text/plain": [
              "0.11962615196600748"
            ]
          },
          "metadata": {
            "tags": []
          },
          "execution_count": 65
        }
      ]
    },
    {
      "cell_type": "code",
      "metadata": {
        "colab": {
          "base_uri": "https://localhost:8080/"
        },
        "id": "NUrza_rqjfoI",
        "outputId": "89e5430b-0098-45c7-98c8-7c24bb2227e5"
      },
      "source": [
        "p_old = df2.converted.mean() # the same!!!\r\n",
        "p_old"
      ],
      "execution_count": null,
      "outputs": [
        {
          "output_type": "execute_result",
          "data": {
            "text/plain": [
              "0.11962615196600748"
            ]
          },
          "metadata": {
            "tags": []
          },
          "execution_count": 66
        }
      ]
    },
    {
      "cell_type": "code",
      "metadata": {
        "colab": {
          "base_uri": "https://localhost:8080/"
        },
        "id": "A82AZLFdjmRI",
        "outputId": "099714ee-3a47-4f5e-b6c9-ecce9cedbe50"
      },
      "source": [
        "# number of users who got the new page (i.e. group = treatment)\r\n",
        "n_new = df2[df2.group == 'treatment'].count()[0]\r\n",
        "n_new"
      ],
      "execution_count": null,
      "outputs": [
        {
          "output_type": "execute_result",
          "data": {
            "text/plain": [
              "115006"
            ]
          },
          "metadata": {
            "tags": []
          },
          "execution_count": 67
        }
      ]
    },
    {
      "cell_type": "code",
      "metadata": {
        "colab": {
          "base_uri": "https://localhost:8080/"
        },
        "id": "Ci2d0kKTjp2j",
        "outputId": "b5ce1c91-dc6d-41d1-9a04-3ee72c156038"
      },
      "source": [
        "# number of users who reamined with old page (i.e. group = control)\r\n",
        "n_old = df2[df2.group == 'control'].count()[0]\r\n",
        "n_old"
      ],
      "execution_count": null,
      "outputs": [
        {
          "output_type": "execute_result",
          "data": {
            "text/plain": [
              "114928"
            ]
          },
          "metadata": {
            "tags": []
          },
          "execution_count": 68
        }
      ]
    },
    {
      "cell_type": "code",
      "metadata": {
        "colab": {
          "base_uri": "https://localhost:8080/"
        },
        "id": "KkrprRqGjt2W",
        "outputId": "8f664d1e-c7cb-4a03-b375-f6c68e141e49"
      },
      "source": [
        "# simulating n_new transaction that have probabiliy of receiving new page, using binomial gives the outout as the number of 1's\r\n",
        "new_converted_simulation = np.random.binomial(n_new, p_new, 10000)/n_new\r\n",
        "new_converted_simulation.mean()"
      ],
      "execution_count": null,
      "outputs": [
        {
          "output_type": "execute_result",
          "data": {
            "text/plain": [
              "0.11962762812375007"
            ]
          },
          "metadata": {
            "tags": []
          },
          "execution_count": 50
        }
      ]
    },
    {
      "cell_type": "code",
      "metadata": {
        "colab": {
          "base_uri": "https://localhost:8080/"
        },
        "id": "_EpFqW31jzJR",
        "outputId": "a1f2e17b-b60c-450c-978c-c785a62fbba9"
      },
      "source": [
        "# simulating n_new transaction that have probabiliy of having old page, using binomial gives the outout as the number of 1's\r\n",
        "old_converted_simulation = np.random.binomial(n_old, p_old, 10000)/n_old\r\n",
        "old_converted_simulation.mean()"
      ],
      "execution_count": null,
      "outputs": [
        {
          "output_type": "execute_result",
          "data": {
            "text/plain": [
              "0.11962186238340528"
            ]
          },
          "metadata": {
            "tags": []
          },
          "execution_count": 70
        }
      ]
    },
    {
      "cell_type": "code",
      "metadata": {
        "colab": {
          "base_uri": "https://localhost:8080/"
        },
        "id": "g27Egqqhj_3J",
        "outputId": "d78eda58-4c91-4283-a896-a22075119134"
      },
      "source": [
        "# probabilty of new and old page based upon simulated values in e. and f.\r\n",
        "new_converted_simulation.mean() - old_converted_simulation.mean()\r\n"
      ],
      "execution_count": null,
      "outputs": [
        {
          "output_type": "execute_result",
          "data": {
            "text/plain": [
              "-1.1607745663833047e-05"
            ]
          },
          "metadata": {
            "tags": []
          },
          "execution_count": 54
        }
      ]
    },
    {
      "cell_type": "code",
      "metadata": {
        "id": "fjbv7p2_kGUy"
      },
      "source": [
        "# alternatively\r\n",
        "p_diffs_alt = new_converted_simulation - old_converted_simulation"
      ],
      "execution_count": null,
      "outputs": []
    },
    {
      "cell_type": "code",
      "metadata": {
        "colab": {
          "base_uri": "https://localhost:8080/",
          "height": 265
        },
        "id": "-g_wP5u3lNcd",
        "outputId": "07b03f59-739c-482e-e810-b5d84bd32856"
      },
      "source": [
        "# alternatively\r\n",
        "# histogram\r\n",
        "plt.hist(p_diffs_alt)\r\n",
        "plt.grid()\r\n",
        "plt.axvline(p_diffs_alt.mean(), color='r', label='mean')\r\n",
        "plt.legend();"
      ],
      "execution_count": null,
      "outputs": [
        {
          "output_type": "display_data",
          "data": {
            "image/png": "[encoded data removed]",
            "text/plain": [
              "<Figure size 432x288 with 1 Axes>"
            ]
          },
          "metadata": {
            "tags": [],
            "needs_background": "light"
          }
        }
      ]
    }
  ]
}