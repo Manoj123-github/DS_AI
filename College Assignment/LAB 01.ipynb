{
 "cells": [
  {
   "cell_type": "code",
   "execution_count": null,
   "metadata": {
    "colab": {
     "base_uri": "https://localhost:8080/"
    },
    "executionInfo": {
     "elapsed": 68480,
     "status": "ok",
     "timestamp": 1616650180331,
     "user": {
      "displayName": "Manoj yadav",
      "photoUrl": "https://lh3.googleusercontent.com/a-/AOh14Gj29lFGhyV2Z2ONMepVP0_Z2ceOJRIMPe_pVZi-Xg=s64",
      "userId": "12050352384343200572"
     },
     "user_tz": -330
    },
    "id": "AJ1QYlQ62mSp",
    "outputId": "f71d5aef-698c-4b7f-e77a-b780fbf79459"
   },
   "outputs": [
    {
     "name": "stdout",
     "output_type": "stream",
     "text": [
      "/\n",
      "Mounted at /content/gdrive\n"
     ]
    }
   ],
   "source": [
    "%cd ..\n",
    "from google.colab import drive\n",
    "drive.mount('/content/gdrive')"
   ]
  },
  {
   "cell_type": "code",
   "execution_count": null,
   "metadata": {
    "id": "wQbLgr3z3Cud"
   },
   "outputs": [],
   "source": []
  },
  {
   "cell_type": "markdown",
   "metadata": {
    "id": "41saNrMG4Afv"
   },
   "source": [
    "Data Collection and Datasets\n",
    "\n",
    "From .csv Files\n",
    "\n",
    "From Excel Files\n",
    "\n",
    "From SQL Files\n"
   ]
  },
  {
   "cell_type": "markdown",
   "metadata": {
    "id": "M2gzQdAo-mRC"
   },
   "source": [
    " **`*From .CSV File *`**\n",
    "\n"
   ]
  },
  {
   "cell_type": "code",
   "execution_count": 5,
   "metadata": {
    "colab": {
     "base_uri": "https://localhost:8080/",
     "height": 195
    },
    "executionInfo": {
     "elapsed": 760,
     "status": "ok",
     "timestamp": 1616651448408,
     "user": {
      "displayName": "Manoj yadav",
      "photoUrl": "https://lh3.googleusercontent.com/a-/AOh14Gj29lFGhyV2Z2ONMepVP0_Z2ceOJRIMPe_pVZi-Xg=s64",
      "userId": "12050352384343200572"
     },
     "user_tz": -330
    },
    "id": "g_eIOp9R4CsS",
    "outputId": "ef2c77b9-e7b1-4fba-8c0e-1dea258c2881"
   },
   "outputs": [
    {
     "data": {
      "text/html": [
       "<div>\n",
       "<style scoped>\n",
       "    .dataframe tbody tr th:only-of-type {\n",
       "        vertical-align: middle;\n",
       "    }\n",
       "\n",
       "    .dataframe tbody tr th {\n",
       "        vertical-align: top;\n",
       "    }\n",
       "\n",
       "    .dataframe thead th {\n",
       "        text-align: right;\n",
       "    }\n",
       "</style>\n",
       "<table border=\"1\" class=\"dataframe\">\n",
       "  <thead>\n",
       "    <tr style=\"text-align: right;\">\n",
       "      <th></th>\n",
       "      <th>EmpId</th>\n",
       "      <th>FName</th>\n",
       "      <th>LName</th>\n",
       "      <th>Age</th>\n",
       "      <th>Designation</th>\n",
       "      <th>BasicSalary</th>\n",
       "    </tr>\n",
       "  </thead>\n",
       "  <tbody>\n",
       "    <tr>\n",
       "      <th>0</th>\n",
       "      <td>101</td>\n",
       "      <td>Manoj</td>\n",
       "      <td>Yadav</td>\n",
       "      <td>23</td>\n",
       "      <td>ProjectEngineer</td>\n",
       "      <td>40000</td>\n",
       "    </tr>\n",
       "    <tr>\n",
       "      <th>1</th>\n",
       "      <td>102</td>\n",
       "      <td>Rahul</td>\n",
       "      <td>Rai</td>\n",
       "      <td>30</td>\n",
       "      <td>Tester</td>\n",
       "      <td>35000</td>\n",
       "    </tr>\n",
       "    <tr>\n",
       "      <th>2</th>\n",
       "      <td>103</td>\n",
       "      <td>Satish</td>\n",
       "      <td>Dubey</td>\n",
       "      <td>25</td>\n",
       "      <td>Software</td>\n",
       "      <td>50000</td>\n",
       "    </tr>\n",
       "    <tr>\n",
       "      <th>3</th>\n",
       "      <td>104</td>\n",
       "      <td>Anita</td>\n",
       "      <td>Shindey</td>\n",
       "      <td>21</td>\n",
       "      <td>Webdeveloper</td>\n",
       "      <td>52000</td>\n",
       "    </tr>\n",
       "    <tr>\n",
       "      <th>4</th>\n",
       "      <td>105</td>\n",
       "      <td>Pooja</td>\n",
       "      <td>Jha</td>\n",
       "      <td>35</td>\n",
       "      <td>Manager</td>\n",
       "      <td>60000</td>\n",
       "    </tr>\n",
       "  </tbody>\n",
       "</table>\n",
       "</div>"
      ],
      "text/plain": [
       "   EmpId   FName    LName  Age      Designation  BasicSalary\n",
       "0    101   Manoj    Yadav   23  ProjectEngineer        40000\n",
       "1    102   Rahul      Rai   30           Tester        35000\n",
       "2    103  Satish    Dubey   25         Software        50000\n",
       "3    104   Anita  Shindey   21     Webdeveloper        52000\n",
       "4    105   Pooja      Jha   35          Manager        60000"
      ]
     },
     "execution_count": 5,
     "metadata": {
      "tags": []
     },
     "output_type": "execute_result"
    }
   ],
   "source": [
    "# From csv\n",
    "import pandas as pd\n",
    "EmpId = [101,102,103,104,105]\n",
    "FName = ['Manoj','Rahul','Satish','Anita','Pooja']\n",
    "LName = ['Yadav','Rai','Dubey','Shindey','Jha']\n",
    "Age = [23,30,25,21,35]\n",
    "Designation=['ProjectEngineer','Tester','Software','Webdeveloper','Manager']\n",
    "BasicSalary = [40000,35000,50000,52000,60000]\n",
    "joblist=zip(EmpId,FName,LName,Age,Designation,BasicSalary)\n",
    "df=pd.DataFrame(data=joblist,columns=['EmpId','FName','LName','Age','Designation','BasicSalary'])\n",
    "df.to_csv('Job.csv',index=True,header=False)\n",
    "df\n"
   ]
  },
  {
   "cell_type": "code",
   "execution_count": 8,
   "metadata": {
    "colab": {
     "base_uri": "https://localhost:8080/",
     "height": 195
    },
    "executionInfo": {
     "elapsed": 1710,
     "status": "ok",
     "timestamp": 1616652013205,
     "user": {
      "displayName": "Manoj yadav",
      "photoUrl": "https://lh3.googleusercontent.com/a-/AOh14Gj29lFGhyV2Z2ONMepVP0_Z2ceOJRIMPe_pVZi-Xg=s64",
      "userId": "12050352384343200572"
     },
     "user_tz": -330
    },
    "id": "cQODBgX59m57",
    "outputId": "e1989293-d1af-40c9-c0e6-4d725185788e"
   },
   "outputs": [
    {
     "data": {
      "text/html": [
       "<div>\n",
       "<style scoped>\n",
       "    .dataframe tbody tr th:only-of-type {\n",
       "        vertical-align: middle;\n",
       "    }\n",
       "\n",
       "    .dataframe tbody tr th {\n",
       "        vertical-align: top;\n",
       "    }\n",
       "\n",
       "    .dataframe thead th {\n",
       "        text-align: right;\n",
       "    }\n",
       "</style>\n",
       "<table border=\"1\" class=\"dataframe\">\n",
       "  <thead>\n",
       "    <tr style=\"text-align: right;\">\n",
       "      <th></th>\n",
       "      <th>Roll no.</th>\n",
       "      <th>Name</th>\n",
       "      <th>Subj1</th>\n",
       "      <th>Subj2</th>\n",
       "      <th>subj3</th>\n",
       "      <th>total</th>\n",
       "      <th>result</th>\n",
       "    </tr>\n",
       "  </thead>\n",
       "  <tbody>\n",
       "    <tr>\n",
       "      <th>0</th>\n",
       "      <td>101</td>\n",
       "      <td>Manoj</td>\n",
       "      <td>45</td>\n",
       "      <td>45</td>\n",
       "      <td>45</td>\n",
       "      <td>135</td>\n",
       "      <td>P</td>\n",
       "    </tr>\n",
       "    <tr>\n",
       "      <th>1</th>\n",
       "      <td>102</td>\n",
       "      <td>Manish</td>\n",
       "      <td>35</td>\n",
       "      <td>45</td>\n",
       "      <td>42</td>\n",
       "      <td>122</td>\n",
       "      <td>P</td>\n",
       "    </tr>\n",
       "    <tr>\n",
       "      <th>2</th>\n",
       "      <td>103</td>\n",
       "      <td>shubham</td>\n",
       "      <td>29</td>\n",
       "      <td>26</td>\n",
       "      <td>30</td>\n",
       "      <td>85</td>\n",
       "      <td>P</td>\n",
       "    </tr>\n",
       "    <tr>\n",
       "      <th>3</th>\n",
       "      <td>104</td>\n",
       "      <td>shivam</td>\n",
       "      <td>38</td>\n",
       "      <td>35</td>\n",
       "      <td>29</td>\n",
       "      <td>102</td>\n",
       "      <td>P</td>\n",
       "    </tr>\n",
       "    <tr>\n",
       "      <th>4</th>\n",
       "      <td>105</td>\n",
       "      <td>aakash</td>\n",
       "      <td>41</td>\n",
       "      <td>40</td>\n",
       "      <td>34</td>\n",
       "      <td>115</td>\n",
       "      <td>P</td>\n",
       "    </tr>\n",
       "  </tbody>\n",
       "</table>\n",
       "</div>"
      ],
      "text/plain": [
       "   Roll no.     Name  Subj1  Subj2  subj3  total result\n",
       "0       101   Manoj      45     45     45    135      P\n",
       "1       102   Manish     35     45     42    122      P\n",
       "2       103  shubham     29     26     30     85      P\n",
       "3       104   shivam     38     35     29    102      P\n",
       "4       105   aakash     41     40     34    115      P"
      ]
     },
     "execution_count": 8,
     "metadata": {
      "tags": []
     },
     "output_type": "execute_result"
    }
   ],
   "source": [
    "import pandas as pd\n",
    "location=\"result.csv\"\n",
    "df=pd.read_csv(location)\n",
    "df.head()"
   ]
  },
  {
   "cell_type": "markdown",
   "metadata": {
    "id": "__9afi3U-_Ln"
   },
   "source": [
    "**From excel**"
   ]
  },
  {
   "cell_type": "code",
   "execution_count": 7,
   "metadata": {
    "colab": {
     "base_uri": "https://localhost:8080/",
     "height": 195
    },
    "executionInfo": {
     "elapsed": 1463,
     "status": "ok",
     "timestamp": 1616651673824,
     "user": {
      "displayName": "Manoj yadav",
      "photoUrl": "https://lh3.googleusercontent.com/a-/AOh14Gj29lFGhyV2Z2ONMepVP0_Z2ceOJRIMPe_pVZi-Xg=s64",
      "userId": "12050352384343200572"
     },
     "user_tz": -330
    },
    "id": "FwKNYy5-8KRs",
    "outputId": "8d4315e3-0030-4dcf-ce0d-7e4888aeebd5"
   },
   "outputs": [
    {
     "data": {
      "text/html": [
       "<div>\n",
       "<style scoped>\n",
       "    .dataframe tbody tr th:only-of-type {\n",
       "        vertical-align: middle;\n",
       "    }\n",
       "\n",
       "    .dataframe tbody tr th {\n",
       "        vertical-align: top;\n",
       "    }\n",
       "\n",
       "    .dataframe thead th {\n",
       "        text-align: right;\n",
       "    }\n",
       "</style>\n",
       "<table border=\"1\" class=\"dataframe\">\n",
       "  <thead>\n",
       "    <tr style=\"text-align: right;\">\n",
       "      <th></th>\n",
       "      <th>EmpId</th>\n",
       "      <th>FName</th>\n",
       "      <th>LName</th>\n",
       "      <th>Age</th>\n",
       "      <th>Designation</th>\n",
       "      <th>BasicSalary</th>\n",
       "    </tr>\n",
       "  </thead>\n",
       "  <tbody>\n",
       "    <tr>\n",
       "      <th>0</th>\n",
       "      <td>101</td>\n",
       "      <td>Manoj</td>\n",
       "      <td>Yadav</td>\n",
       "      <td>23</td>\n",
       "      <td>ProjectEngineer</td>\n",
       "      <td>40000</td>\n",
       "    </tr>\n",
       "    <tr>\n",
       "      <th>1</th>\n",
       "      <td>102</td>\n",
       "      <td>Rahul</td>\n",
       "      <td>Rai</td>\n",
       "      <td>30</td>\n",
       "      <td>Tester</td>\n",
       "      <td>35000</td>\n",
       "    </tr>\n",
       "    <tr>\n",
       "      <th>2</th>\n",
       "      <td>103</td>\n",
       "      <td>Satish</td>\n",
       "      <td>Dubey</td>\n",
       "      <td>25</td>\n",
       "      <td>Software</td>\n",
       "      <td>50000</td>\n",
       "    </tr>\n",
       "    <tr>\n",
       "      <th>3</th>\n",
       "      <td>104</td>\n",
       "      <td>Anita</td>\n",
       "      <td>Shindey</td>\n",
       "      <td>21</td>\n",
       "      <td>Webdeveloper</td>\n",
       "      <td>52000</td>\n",
       "    </tr>\n",
       "    <tr>\n",
       "      <th>4</th>\n",
       "      <td>105</td>\n",
       "      <td>Pooja</td>\n",
       "      <td>Jha</td>\n",
       "      <td>35</td>\n",
       "      <td>Manager</td>\n",
       "      <td>60000</td>\n",
       "    </tr>\n",
       "  </tbody>\n",
       "</table>\n",
       "</div>"
      ],
      "text/plain": [
       "   EmpId   FName    LName  Age      Designation  BasicSalary\n",
       "0    101   Manoj    Yadav   23  ProjectEngineer        40000\n",
       "1    102   Rahul      Rai   30           Tester        35000\n",
       "2    103  Satish    Dubey   25         Software        50000\n",
       "3    104   Anita  Shindey   21     Webdeveloper        52000\n",
       "4    105   Pooja      Jha   35          Manager        60000"
      ]
     },
     "execution_count": 7,
     "metadata": {
      "tags": []
     },
     "output_type": "execute_result"
    }
   ],
   "source": [
    "#from excel\n",
    "import pandas as pd\n",
    "EmpId = [101,102,103,104,105]\n",
    "FName = ['Manoj','Rahul','Satish','Anita','Pooja']\n",
    "LName = ['Yadav','Rai','Dubey','Shindey','Jha']\n",
    "Age = [23,30,25,21,35]\n",
    "Designation=['ProjectEngineer','Tester','Software','Webdeveloper','Manager']\n",
    "BasicSalary = [40000,35000,50000,52000,60000]\n",
    "joblist=zip(EmpId,FName,LName,Age,Designation,BasicSalary)\n",
    "df=pd.DataFrame(data=joblist,columns=['EmpId','FName','LName','Age','Designation','BasicSalary'])\n",
    "df.to_csv('Job.xlsx',index=True,header=False)\n",
    "df"
   ]
  },
  {
   "cell_type": "code",
   "execution_count": 11,
   "metadata": {
    "colab": {
     "base_uri": "https://localhost:8080/",
     "height": 195
    },
    "executionInfo": {
     "elapsed": 1551,
     "status": "ok",
     "timestamp": 1616652132415,
     "user": {
      "displayName": "Manoj yadav",
      "photoUrl": "https://lh3.googleusercontent.com/a-/AOh14Gj29lFGhyV2Z2ONMepVP0_Z2ceOJRIMPe_pVZi-Xg=s64",
      "userId": "12050352384343200572"
     },
     "user_tz": -330
    },
    "id": "bPpp-owI82VV",
    "outputId": "25797d0a-18b8-4060-ccbe-071d655d644b"
   },
   "outputs": [
    {
     "data": {
      "text/html": [
       "<div>\n",
       "<style scoped>\n",
       "    .dataframe tbody tr th:only-of-type {\n",
       "        vertical-align: middle;\n",
       "    }\n",
       "\n",
       "    .dataframe tbody tr th {\n",
       "        vertical-align: top;\n",
       "    }\n",
       "\n",
       "    .dataframe thead th {\n",
       "        text-align: right;\n",
       "    }\n",
       "</style>\n",
       "<table border=\"1\" class=\"dataframe\">\n",
       "  <thead>\n",
       "    <tr style=\"text-align: right;\">\n",
       "      <th></th>\n",
       "      <th>Roll no.</th>\n",
       "      <th>Name</th>\n",
       "      <th>Subj1</th>\n",
       "      <th>Subj2</th>\n",
       "      <th>subj3</th>\n",
       "      <th>total</th>\n",
       "      <th>result</th>\n",
       "    </tr>\n",
       "  </thead>\n",
       "  <tbody>\n",
       "    <tr>\n",
       "      <th>0</th>\n",
       "      <td>101</td>\n",
       "      <td>Manoj</td>\n",
       "      <td>45</td>\n",
       "      <td>45</td>\n",
       "      <td>45</td>\n",
       "      <td>135</td>\n",
       "      <td>P</td>\n",
       "    </tr>\n",
       "    <tr>\n",
       "      <th>1</th>\n",
       "      <td>102</td>\n",
       "      <td>Manish</td>\n",
       "      <td>35</td>\n",
       "      <td>45</td>\n",
       "      <td>42</td>\n",
       "      <td>122</td>\n",
       "      <td>P</td>\n",
       "    </tr>\n",
       "    <tr>\n",
       "      <th>2</th>\n",
       "      <td>103</td>\n",
       "      <td>shubham</td>\n",
       "      <td>29</td>\n",
       "      <td>26</td>\n",
       "      <td>30</td>\n",
       "      <td>85</td>\n",
       "      <td>P</td>\n",
       "    </tr>\n",
       "    <tr>\n",
       "      <th>3</th>\n",
       "      <td>104</td>\n",
       "      <td>shivam</td>\n",
       "      <td>38</td>\n",
       "      <td>35</td>\n",
       "      <td>29</td>\n",
       "      <td>102</td>\n",
       "      <td>P</td>\n",
       "    </tr>\n",
       "    <tr>\n",
       "      <th>4</th>\n",
       "      <td>105</td>\n",
       "      <td>aakash</td>\n",
       "      <td>41</td>\n",
       "      <td>40</td>\n",
       "      <td>34</td>\n",
       "      <td>115</td>\n",
       "      <td>P</td>\n",
       "    </tr>\n",
       "  </tbody>\n",
       "</table>\n",
       "</div>"
      ],
      "text/plain": [
       "   Roll no.     Name  Subj1  Subj2  subj3  total result\n",
       "0       101   Manoj      45     45     45    135      P\n",
       "1       102   Manish     35     45     42    122      P\n",
       "2       103  shubham     29     26     30     85      P\n",
       "3       104   shivam     38     35     29    102      P\n",
       "4       105   aakash     41     40     34    115      P"
      ]
     },
     "execution_count": 11,
     "metadata": {
      "tags": []
     },
     "output_type": "execute_result"
    }
   ],
   "source": [
    "import pandas as pd\n",
    "location=\"result.xlsx\"\n",
    "df=pd.read_excel(location)\n",
    "df.head()"
   ]
  },
  {
   "cell_type": "markdown",
   "metadata": {
    "id": "rflpj4tM_M6A"
   },
   "source": [
    "**From Sql**\n"
   ]
  },
  {
   "cell_type": "code",
   "execution_count": 21,
   "metadata": {
    "colab": {
     "base_uri": "https://localhost:8080/",
     "height": 195
    },
    "executionInfo": {
     "elapsed": 1292,
     "status": "ok",
     "timestamp": 1616653646379,
     "user": {
      "displayName": "Manoj yadav",
      "photoUrl": "https://lh3.googleusercontent.com/a-/AOh14Gj29lFGhyV2Z2ONMepVP0_Z2ceOJRIMPe_pVZi-Xg=s64",
      "userId": "12050352384343200572"
     },
     "user_tz": -330
    },
    "id": "OPLav9Zg_RKQ",
    "outputId": "17605352-62ba-4bcc-cc9f-a0aaa81bca0e"
   },
   "outputs": [
    {
     "data": {
      "text/html": [
       "<div>\n",
       "<style scoped>\n",
       "    .dataframe tbody tr th:only-of-type {\n",
       "        vertical-align: middle;\n",
       "    }\n",
       "\n",
       "    .dataframe tbody tr th {\n",
       "        vertical-align: top;\n",
       "    }\n",
       "\n",
       "    .dataframe thead th {\n",
       "        text-align: right;\n",
       "    }\n",
       "</style>\n",
       "<table border=\"1\" class=\"dataframe\">\n",
       "  <thead>\n",
       "    <tr style=\"text-align: right;\">\n",
       "      <th></th>\n",
       "      <th>sales_Representative</th>\n",
       "      <th>Location</th>\n",
       "      <th>Region</th>\n",
       "      <th>Customer</th>\n",
       "      <th>Item</th>\n",
       "      <th>Quantity</th>\n",
       "      <th>Price</th>\n",
       "    </tr>\n",
       "  </thead>\n",
       "  <tbody>\n",
       "    <tr>\n",
       "      <th>0</th>\n",
       "      <td>sara</td>\n",
       "      <td>New_York</td>\n",
       "      <td>East</td>\n",
       "      <td>Justin</td>\n",
       "      <td>Watch</td>\n",
       "      <td>2</td>\n",
       "      <td>1000</td>\n",
       "    </tr>\n",
       "    <tr>\n",
       "      <th>1</th>\n",
       "      <td>farahan</td>\n",
       "      <td>Oregon</td>\n",
       "      <td>west</td>\n",
       "      <td>Roy</td>\n",
       "      <td>Mobile</td>\n",
       "      <td>1</td>\n",
       "      <td>25000</td>\n",
       "    </tr>\n",
       "    <tr>\n",
       "      <th>2</th>\n",
       "      <td>patrick</td>\n",
       "      <td>New_Jersy</td>\n",
       "      <td>East</td>\n",
       "      <td>Aian</td>\n",
       "      <td>Stationary</td>\n",
       "      <td>15</td>\n",
       "      <td>500</td>\n",
       "    </tr>\n",
       "    <tr>\n",
       "      <th>3</th>\n",
       "      <td>francheska</td>\n",
       "      <td>New_York</td>\n",
       "      <td>East</td>\n",
       "      <td>Franklin</td>\n",
       "      <td>Jeans</td>\n",
       "      <td>2</td>\n",
       "      <td>5750</td>\n",
       "    </tr>\n",
       "    <tr>\n",
       "      <th>4</th>\n",
       "      <td>Henry</td>\n",
       "      <td>Washington</td>\n",
       "      <td>West</td>\n",
       "      <td>Danie</td>\n",
       "      <td>Mobile</td>\n",
       "      <td>1</td>\n",
       "      <td>10000</td>\n",
       "    </tr>\n",
       "  </tbody>\n",
       "</table>\n",
       "</div>"
      ],
      "text/plain": [
       "  sales_Representative    Location Region  ...        Item Quantity  Price\n",
       "0                 sara    New_York   East  ...       Watch        2   1000\n",
       "1              farahan      Oregon   west  ...      Mobile        1  25000\n",
       "2              patrick   New_Jersy   East  ...  Stationary       15    500\n",
       "3           francheska    New_York   East  ...       Jeans        2   5750\n",
       "4                Henry  Washington   West  ...      Mobile        1  10000\n",
       "\n",
       "[5 rows x 7 columns]"
      ]
     },
     "execution_count": 21,
     "metadata": {
      "tags": []
     },
     "output_type": "execute_result"
    }
   ],
   "source": [
    "import pandas as pd \n",
    "import os\n",
    "import sqlite3 as lite\n",
    "from sqlalchemy import create_engine\n",
    "\n",
    "sales_Representative=[\"sara\",\"farahan\",\"patrick\",\"francheska\",\"Henry\",\"preson\"]\n",
    "Location=[\"New_York\",\"Oregon\",\"New_Jersy\",\"New_York\",\"Washington\",\"Oregon\"]\n",
    "Region=[\"East\",\"west\",\"East\",\"East\",\"West\",\"East\"]\n",
    "Customer=[\"Justin\",\"Roy\",\"Aian\",\"Franklin\",\"Danie\",\"Phyllis\"]\n",
    "Item=[\"Watch\",\"Mobile\",\"Stationary\",\"Jeans\",\"Mobile\",\"TV\"]\n",
    "Quantity=[2,1,15,2,1]\n",
    "Price=[1000,25000,500,5750,10000,50000]\n",
    "\n",
    "saledata = zip(sales_Representative,Location,Region,Customer,Item,Quantity,Price)\n",
    "df = pd.DataFrame(data =saledata, columns=['sales_Representative','Location','Region','Customer','Item','Quantity','Price'])\n",
    "\n",
    " \n",
    "db_filename = r'salesmandata.db'\n",
    "con = lite.connect(db_filename)\n",
    "df.to_sql('salesman',\n",
    "con,\n",
    "schema=None,\n",
    "if_exists='replace',\n",
    "index=False,\n",
    "index_label=None,\n",
    "chunksize=None,\n",
    "dtype=None)\n",
    "con.close()\n",
    "\n",
    "\n",
    "db_file = r'salesmandata.db'\n",
    "engine = create_engine(r\"sqlite:///{}\" .format(db_file))\n",
    "sql = 'SELECT * from salesman '\n",
    "\n",
    "\n",
    "saledf = pd.read_sql(sql, engine)\n",
    "saledf"
   ]
  },
  {
   "cell_type": "code",
   "execution_count": 38,
   "metadata": {
    "colab": {
     "base_uri": "https://localhost:8080/",
     "height": 136
    },
    "executionInfo": {
     "elapsed": 1321,
     "status": "ok",
     "timestamp": 1616655123273,
     "user": {
      "displayName": "Manoj yadav",
      "photoUrl": "https://lh3.googleusercontent.com/a-/AOh14Gj29lFGhyV2Z2ONMepVP0_Z2ceOJRIMPe_pVZi-Xg=s64",
      "userId": "12050352384343200572"
     },
     "user_tz": -330
    },
    "id": "mS9VVcG8Eb1V",
    "outputId": "5abf5cdb-e696-4a05-d70d-9b08bececcb5"
   },
   "outputs": [
    {
     "data": {
      "text/html": [
       "<div>\n",
       "<style scoped>\n",
       "    .dataframe tbody tr th:only-of-type {\n",
       "        vertical-align: middle;\n",
       "    }\n",
       "\n",
       "    .dataframe tbody tr th {\n",
       "        vertical-align: top;\n",
       "    }\n",
       "\n",
       "    .dataframe thead th {\n",
       "        text-align: right;\n",
       "    }\n",
       "</style>\n",
       "<table border=\"1\" class=\"dataframe\">\n",
       "  <thead>\n",
       "    <tr style=\"text-align: right;\">\n",
       "      <th></th>\n",
       "      <th>id</th>\n",
       "      <th>name</th>\n",
       "      <th>donation</th>\n",
       "      <th>location</th>\n",
       "      <th>status</th>\n",
       "    </tr>\n",
       "  </thead>\n",
       "  <tbody>\n",
       "    <tr>\n",
       "      <th>0</th>\n",
       "      <td>102</td>\n",
       "      <td>Adil Null</td>\n",
       "      <td>5500.0</td>\n",
       "      <td>India</td>\n",
       "      <td>1</td>\n",
       "    </tr>\n",
       "    <tr>\n",
       "      <th>1</th>\n",
       "      <td>103</td>\n",
       "      <td>Abbas connti</td>\n",
       "      <td>6500.0</td>\n",
       "      <td>India</td>\n",
       "      <td>1</td>\n",
       "    </tr>\n",
       "    <tr>\n",
       "      <th>2</th>\n",
       "      <td>104</td>\n",
       "      <td>Abzi Book</td>\n",
       "      <td>7000.0</td>\n",
       "      <td>India</td>\n",
       "      <td>0</td>\n",
       "    </tr>\n",
       "  </tbody>\n",
       "</table>\n",
       "</div>"
      ],
      "text/plain": [
       "    id          name  donation location  status\n",
       "0  102     Adil Null    5500.0    India       1\n",
       "1  103  Abbas connti    6500.0    India       1\n",
       "2  104     Abzi Book    7000.0    India       0"
      ]
     },
     "execution_count": 38,
     "metadata": {
      "tags": []
     },
     "output_type": "execute_result"
    }
   ],
   "source": [
    "import sqlite3\n",
    "conn = sqlite3.connect('sql-employee.db')\n",
    "#sql = 'SELECT * from employee'\n",
    "\n",
    "db_file = r'sql-employee.db'\n",
    "engine = create_engine(r\"sqlite:///{}\" .format(db_file))\n",
    "sql = 'SELECT * from employee'\n",
    "\n",
    "\n",
    "saledf = pd.read_sql(sql, engine)\n",
    "saledf\n"
   ]
  },
  {
   "cell_type": "markdown",
   "metadata": {
    "id": "eVg7rzVnJ_He"
   },
   "source": [
    " **Data Preprocessing (Data Preparation and Data Transformations)\n",
    "\n",
    "Missing Values\n",
    "\n",
    "Group By\n",
    "\n",
    "Merge\n",
    "\n",
    "Transform\n",
    "\n",
    "Apply**"
   ]
  },
  {
   "cell_type": "code",
   "execution_count": 56,
   "metadata": {
    "colab": {
     "base_uri": "https://localhost:8080/",
     "height": 195
    },
    "executionInfo": {
     "elapsed": 1316,
     "status": "ok",
     "timestamp": 1616656966791,
     "user": {
      "displayName": "Manoj yadav",
      "photoUrl": "https://lh3.googleusercontent.com/a-/AOh14Gj29lFGhyV2Z2ONMepVP0_Z2ceOJRIMPe_pVZi-Xg=s64",
      "userId": "12050352384343200572"
     },
     "user_tz": -330
    },
    "id": "zqR9pYYTKIfW",
    "outputId": "155e4c43-2c4e-43f3-f043-f85852de0dba"
   },
   "outputs": [
    {
     "data": {
      "text/html": [
       "<div>\n",
       "<style scoped>\n",
       "    .dataframe tbody tr th:only-of-type {\n",
       "        vertical-align: middle;\n",
       "    }\n",
       "\n",
       "    .dataframe tbody tr th {\n",
       "        vertical-align: top;\n",
       "    }\n",
       "\n",
       "    .dataframe thead th {\n",
       "        text-align: right;\n",
       "    }\n",
       "</style>\n",
       "<table border=\"1\" class=\"dataframe\">\n",
       "  <thead>\n",
       "    <tr style=\"text-align: right;\">\n",
       "      <th></th>\n",
       "      <th>Roll no.</th>\n",
       "      <th>Name</th>\n",
       "      <th>Subj1</th>\n",
       "      <th>Subj2</th>\n",
       "      <th>subj3</th>\n",
       "      <th>total</th>\n",
       "      <th>result</th>\n",
       "    </tr>\n",
       "  </thead>\n",
       "  <tbody>\n",
       "    <tr>\n",
       "      <th>0</th>\n",
       "      <td>101</td>\n",
       "      <td>Manoj</td>\n",
       "      <td>45</td>\n",
       "      <td>45</td>\n",
       "      <td>45</td>\n",
       "      <td>135</td>\n",
       "      <td>P</td>\n",
       "    </tr>\n",
       "    <tr>\n",
       "      <th>1</th>\n",
       "      <td>102</td>\n",
       "      <td>Manish</td>\n",
       "      <td>35</td>\n",
       "      <td>45</td>\n",
       "      <td>42</td>\n",
       "      <td>122</td>\n",
       "      <td>P</td>\n",
       "    </tr>\n",
       "    <tr>\n",
       "      <th>2</th>\n",
       "      <td>103</td>\n",
       "      <td>shubham</td>\n",
       "      <td>29</td>\n",
       "      <td>26</td>\n",
       "      <td>30</td>\n",
       "      <td>85</td>\n",
       "      <td>P</td>\n",
       "    </tr>\n",
       "    <tr>\n",
       "      <th>3</th>\n",
       "      <td>104</td>\n",
       "      <td>shivam</td>\n",
       "      <td>38</td>\n",
       "      <td>35</td>\n",
       "      <td>29</td>\n",
       "      <td>102</td>\n",
       "      <td>P</td>\n",
       "    </tr>\n",
       "    <tr>\n",
       "      <th>4</th>\n",
       "      <td>105</td>\n",
       "      <td>aakash</td>\n",
       "      <td>41</td>\n",
       "      <td>40</td>\n",
       "      <td>34</td>\n",
       "      <td>115</td>\n",
       "      <td>P</td>\n",
       "    </tr>\n",
       "  </tbody>\n",
       "</table>\n",
       "</div>"
      ],
      "text/plain": [
       "   Roll no.     Name  Subj1  Subj2  subj3  total result\n",
       "0       101   Manoj      45     45     45    135      P\n",
       "1       102   Manish     35     45     42    122      P\n",
       "2       103  shubham     29     26     30     85      P\n",
       "3       104   shivam     38     35     29    102      P\n",
       "4       105   aakash     41     40     34    115      P"
      ]
     },
     "execution_count": 56,
     "metadata": {
      "tags": []
     },
     "output_type": "execute_result"
    }
   ],
   "source": [
    "import pandas as pd\n",
    "location=\"result.csv\"\n",
    "df=pd.read_csv(location)\n",
    "df.head()"
   ]
  },
  {
   "cell_type": "code",
   "execution_count": 43,
   "metadata": {
    "colab": {
     "base_uri": "https://localhost:8080/"
    },
    "executionInfo": {
     "elapsed": 1798,
     "status": "ok",
     "timestamp": 1616655927538,
     "user": {
      "displayName": "Manoj yadav",
      "photoUrl": "https://lh3.googleusercontent.com/a-/AOh14Gj29lFGhyV2Z2ONMepVP0_Z2ceOJRIMPe_pVZi-Xg=s64",
      "userId": "12050352384343200572"
     },
     "user_tz": -330
    },
    "id": "pj6CzajALrLZ",
    "outputId": "324e5990-1e9c-45c6-c8fc-81d57e9b79a5"
   },
   "outputs": [
    {
     "name": "stdout",
     "output_type": "stream",
     "text": [
      "Roll no.    0\n",
      "Name        0\n",
      "Subj1       0\n",
      "Subj2       0\n",
      "subj3       0\n",
      "total       0\n",
      "result      0\n",
      "dtype: int64\n"
     ]
    }
   ],
   "source": [
    "# missing value\n",
    "print(df.isnull().sum())"
   ]
  },
  {
   "cell_type": "code",
   "execution_count": 48,
   "metadata": {
    "colab": {
     "base_uri": "https://localhost:8080/"
    },
    "executionInfo": {
     "elapsed": 1257,
     "status": "ok",
     "timestamp": 1616656098515,
     "user": {
      "displayName": "Manoj yadav",
      "photoUrl": "https://lh3.googleusercontent.com/a-/AOh14Gj29lFGhyV2Z2ONMepVP0_Z2ceOJRIMPe_pVZi-Xg=s64",
      "userId": "12050352384343200572"
     },
     "user_tz": -330
    },
    "id": "gw9M8Go6L9bD",
    "outputId": "250b221a-1be7-402a-8f3e-3c35116ce5c6"
   },
   "outputs": [
    {
     "name": "stdout",
     "output_type": "stream",
     "text": [
      "  result     Name\n",
      "0      P   Manoj \n",
      "1      P   Manish\n",
      "2      P  shubham\n",
      "3      P   shivam\n",
      "4      P   aakash\n",
      "5      P   ritwik\n",
      "6      P  saurabh\n",
      "7      P   nilesh\n",
      "8      P  prakash\n",
      "9      P  vikrant\n"
     ]
    },
    {
     "name": "stderr",
     "output_type": "stream",
     "text": [
      "/usr/local/lib/python3.7/dist-packages/ipykernel_launcher.py:2: FutureWarning: Indexing with multiple keys (implicitly converted to a tuple of keys) will be deprecated, use a list instead.\n",
      "  \n"
     ]
    }
   ],
   "source": [
    "#groupby\n",
    "newdata =df.groupby(\"Roll no.\")[\"result\",\"Name\"]\n",
    "print(newdata.head())"
   ]
  },
  {
   "cell_type": "code",
   "execution_count": 52,
   "metadata": {
    "colab": {
     "base_uri": "https://localhost:8080/"
    },
    "executionInfo": {
     "elapsed": 1258,
     "status": "ok",
     "timestamp": 1616656555733,
     "user": {
      "displayName": "Manoj yadav",
      "photoUrl": "https://lh3.googleusercontent.com/a-/AOh14Gj29lFGhyV2Z2ONMepVP0_Z2ceOJRIMPe_pVZi-Xg=s64",
      "userId": "12050352384343200572"
     },
     "user_tz": -330
    },
    "id": "ahDmxjsWNsaf",
    "outputId": "fb3ba23b-2c61-4364-88ff-d9cc47e4e6c1"
   },
   "outputs": [
    {
     "name": "stdout",
     "output_type": "stream",
     "text": [
      "2014\n",
      "     Team  Rank  Year  Points\n",
      "0  Riders     1  2014     876\n",
      "2  Devils     2  2014     863\n",
      "4   Kings     3  2014     741\n",
      "9  Royals     4  2014     701\n",
      "2015\n",
      "      Team  Rank  Year  Points\n",
      "1   Riders     2  2015     789\n",
      "3   Devils     3  2015     673\n",
      "5    kings     4  2015     812\n",
      "10  Royals     1  2015     804\n",
      "2016\n",
      "     Team  Rank  Year  Points\n",
      "6   Kings     1  2016     756\n",
      "8  Riders     2  2016     694\n",
      "2017\n",
      "      Team  Rank  Year  Points\n",
      "7    Kings     1  2017     788\n",
      "11  Riders     2  2017     690\n"
     ]
    }
   ],
   "source": [
    "import pandas as pd\n",
    "\n",
    "ipl_data = {'Team': ['Riders', 'Riders', 'Devils', 'Devils', 'Kings',\n",
    "   'kings', 'Kings', 'Kings', 'Riders', 'Royals', 'Royals', 'Riders'],\n",
    "   'Rank': [1, 2, 2, 3, 3,4 ,1 ,1,2 , 4,1,2],\n",
    "   'Year': [2014,2015,2014,2015,2014,2015,2016,2017,2016,2014,2015,2017],\n",
    "   'Points':[876,789,863,673,741,812,756,788,694,701,804,690]}\n",
    "df = pd.DataFrame(ipl_data)\n",
    "\n",
    "grouped = df.groupby('Year')\n",
    "for name,group in grouped:\n",
    "   print (name)\n",
    "   print (group)"
   ]
  },
  {
   "cell_type": "code",
   "execution_count": 54,
   "metadata": {
    "colab": {
     "base_uri": "https://localhost:8080/"
    },
    "executionInfo": {
     "elapsed": 1393,
     "status": "ok",
     "timestamp": 1616656830380,
     "user": {
      "displayName": "Manoj yadav",
      "photoUrl": "https://lh3.googleusercontent.com/a-/AOh14Gj29lFGhyV2Z2ONMepVP0_Z2ceOJRIMPe_pVZi-Xg=s64",
      "userId": "12050352384343200572"
     },
     "user_tz": -330
    },
    "id": "RUxxnKjqPZVP",
    "outputId": "d9a61305-b281-441b-bc69-e4a9774a0a5a"
   },
   "outputs": [
    {
     "name": "stdout",
     "output_type": "stream",
     "text": [
      "   id  Name_x subject_id_x Name_y subject_id_y\n",
      "0   1    Alex         sub1  Billy         sub2\n",
      "1   2     Amy         sub2  Brian         sub4\n",
      "2   3   Allen         sub4   Bran         sub3\n",
      "3   4   Alice         sub6  Bryce         sub6\n",
      "4   5  Ayoung         sub5  Betty         sub5\n"
     ]
    }
   ],
   "source": [
    "# merge\n",
    "import pandas as pd\n",
    "left = pd.DataFrame({\n",
    "   'id':[1,2,3,4,5],\n",
    "   'Name': ['Alex', 'Amy', 'Allen', 'Alice', 'Ayoung'],\n",
    "   'subject_id':['sub1','sub2','sub4','sub6','sub5']})\n",
    "right = pd.DataFrame({\n",
    "\t'id':[1,2,3,4,5],\n",
    "   'Name': ['Billy', 'Brian', 'Bran', 'Bryce', 'Betty'],\n",
    "   'subject_id':['sub2','sub4','sub3','sub6','sub5']})\n",
    "print (pd.merge(left,right,on='id'))"
   ]
  },
  {
   "cell_type": "code",
   "execution_count": 60,
   "metadata": {
    "colab": {
     "base_uri": "https://localhost:8080/"
    },
    "executionInfo": {
     "elapsed": 1268,
     "status": "ok",
     "timestamp": 1616657198257,
     "user": {
      "displayName": "Manoj yadav",
      "photoUrl": "https://lh3.googleusercontent.com/a-/AOh14Gj29lFGhyV2Z2ONMepVP0_Z2ceOJRIMPe_pVZi-Xg=s64",
      "userId": "12050352384343200572"
     },
     "user_tz": -330
    },
    "id": "7lqs4vnIQcMY",
    "outputId": "d17b7078-9b3f-4452-e41d-64d780a58c66"
   },
   "outputs": [
    {
     "name": "stdout",
     "output_type": "stream",
     "text": [
      "   Roll no.     Name  Subj1  Subj2  subj3  total result\n",
      "0       101   Manoj      45     45     45    135      P\n",
      "1       102   Manish     35     45     42    122      P\n",
      "2       103  shubham     29     26     30     85      P\n",
      "3       104   shivam     38     35     29    102      P\n",
      "4       105   aakash     41     40     34    115      P\n",
      "5       106   ritwik     46     62     41    149      P\n",
      "6       107  saurabh     29     48     27    104      P\n",
      "7       108   nilesh     43     33     33    109      P\n",
      "8       109  prakash     37     30     38    105      P\n",
      "9       110  vikrant     33     31     41    105      P\n"
     ]
    }
   ],
   "source": [
    "import pandas as pd\n",
    "location=\"result.csv\"\n",
    "df=pd.read_csv(location)\n",
    "df.head()\n"
   ]
  },
  {
   "cell_type": "code",
   "execution_count": 58,
   "metadata": {
    "colab": {
     "base_uri": "https://localhost:8080/",
     "height": 343
    },
    "executionInfo": {
     "elapsed": 1644,
     "status": "ok",
     "timestamp": 1616657124691,
     "user": {
      "displayName": "Manoj yadav",
      "photoUrl": "https://lh3.googleusercontent.com/a-/AOh14Gj29lFGhyV2Z2ONMepVP0_Z2ceOJRIMPe_pVZi-Xg=s64",
      "userId": "12050352384343200572"
     },
     "user_tz": -330
    },
    "id": "uwWp2_3TRW8N",
    "outputId": "83311cfb-7ef8-4fd9-87a4-f0b22e22a32d"
   },
   "outputs": [
    {
     "data": {
      "text/html": [
       "<div>\n",
       "<style scoped>\n",
       "    .dataframe tbody tr th:only-of-type {\n",
       "        vertical-align: middle;\n",
       "    }\n",
       "\n",
       "    .dataframe tbody tr th {\n",
       "        vertical-align: top;\n",
       "    }\n",
       "\n",
       "    .dataframe thead th {\n",
       "        text-align: right;\n",
       "    }\n",
       "</style>\n",
       "<table border=\"1\" class=\"dataframe\">\n",
       "  <thead>\n",
       "    <tr style=\"text-align: right;\">\n",
       "      <th></th>\n",
       "      <th>Roll no.</th>\n",
       "      <th>Name</th>\n",
       "      <th>Subj1</th>\n",
       "      <th>Subj2</th>\n",
       "      <th>subj3</th>\n",
       "      <th>total</th>\n",
       "      <th>result</th>\n",
       "    </tr>\n",
       "  </thead>\n",
       "  <tbody>\n",
       "    <tr>\n",
       "      <th>0</th>\n",
       "      <td>202</td>\n",
       "      <td>Manoj Manoj</td>\n",
       "      <td>90</td>\n",
       "      <td>90</td>\n",
       "      <td>90</td>\n",
       "      <td>270</td>\n",
       "      <td>PP</td>\n",
       "    </tr>\n",
       "    <tr>\n",
       "      <th>1</th>\n",
       "      <td>204</td>\n",
       "      <td>ManishManish</td>\n",
       "      <td>70</td>\n",
       "      <td>90</td>\n",
       "      <td>84</td>\n",
       "      <td>244</td>\n",
       "      <td>PP</td>\n",
       "    </tr>\n",
       "    <tr>\n",
       "      <th>2</th>\n",
       "      <td>206</td>\n",
       "      <td>shubhamshubham</td>\n",
       "      <td>58</td>\n",
       "      <td>52</td>\n",
       "      <td>60</td>\n",
       "      <td>170</td>\n",
       "      <td>PP</td>\n",
       "    </tr>\n",
       "    <tr>\n",
       "      <th>3</th>\n",
       "      <td>208</td>\n",
       "      <td>shivamshivam</td>\n",
       "      <td>76</td>\n",
       "      <td>70</td>\n",
       "      <td>58</td>\n",
       "      <td>204</td>\n",
       "      <td>PP</td>\n",
       "    </tr>\n",
       "    <tr>\n",
       "      <th>4</th>\n",
       "      <td>210</td>\n",
       "      <td>aakashaakash</td>\n",
       "      <td>82</td>\n",
       "      <td>80</td>\n",
       "      <td>68</td>\n",
       "      <td>230</td>\n",
       "      <td>PP</td>\n",
       "    </tr>\n",
       "    <tr>\n",
       "      <th>5</th>\n",
       "      <td>212</td>\n",
       "      <td>ritwikritwik</td>\n",
       "      <td>92</td>\n",
       "      <td>124</td>\n",
       "      <td>82</td>\n",
       "      <td>298</td>\n",
       "      <td>PP</td>\n",
       "    </tr>\n",
       "    <tr>\n",
       "      <th>6</th>\n",
       "      <td>214</td>\n",
       "      <td>saurabhsaurabh</td>\n",
       "      <td>58</td>\n",
       "      <td>96</td>\n",
       "      <td>54</td>\n",
       "      <td>208</td>\n",
       "      <td>PP</td>\n",
       "    </tr>\n",
       "    <tr>\n",
       "      <th>7</th>\n",
       "      <td>216</td>\n",
       "      <td>nileshnilesh</td>\n",
       "      <td>86</td>\n",
       "      <td>66</td>\n",
       "      <td>66</td>\n",
       "      <td>218</td>\n",
       "      <td>PP</td>\n",
       "    </tr>\n",
       "    <tr>\n",
       "      <th>8</th>\n",
       "      <td>218</td>\n",
       "      <td>prakashprakash</td>\n",
       "      <td>74</td>\n",
       "      <td>60</td>\n",
       "      <td>76</td>\n",
       "      <td>210</td>\n",
       "      <td>PP</td>\n",
       "    </tr>\n",
       "    <tr>\n",
       "      <th>9</th>\n",
       "      <td>220</td>\n",
       "      <td>vikrantvikrant</td>\n",
       "      <td>66</td>\n",
       "      <td>62</td>\n",
       "      <td>82</td>\n",
       "      <td>210</td>\n",
       "      <td>PP</td>\n",
       "    </tr>\n",
       "  </tbody>\n",
       "</table>\n",
       "</div>"
      ],
      "text/plain": [
       "   Roll no.            Name  Subj1  Subj2  subj3  total result\n",
       "0       202    Manoj Manoj      90     90     90    270     PP\n",
       "1       204    ManishManish     70     90     84    244     PP\n",
       "2       206  shubhamshubham     58     52     60    170     PP\n",
       "3       208    shivamshivam     76     70     58    204     PP\n",
       "4       210    aakashaakash     82     80     68    230     PP\n",
       "5       212    ritwikritwik     92    124     82    298     PP\n",
       "6       214  saurabhsaurabh     58     96     54    208     PP\n",
       "7       216    nileshnilesh     86     66     66    218     PP\n",
       "8       218  prakashprakash     74     60     76    210     PP\n",
       "9       220  vikrantvikrant     66     62     82    210     PP"
      ]
     },
     "execution_count": 58,
     "metadata": {
      "tags": []
     },
     "output_type": "execute_result"
    }
   ],
   "source": [
    "#apply\n",
    "def some_func(x):\n",
    "  return x*2\n",
    "df.apply(some_func) #update each entry of dataframe without any loop\n",
    "df.apply(lambda n: n*2) #lambda also works the same"
   ]
  },
  {
   "cell_type": "code",
   "execution_count": 64,
   "metadata": {
    "colab": {
     "base_uri": "https://localhost:8080/"
    },
    "executionInfo": {
     "elapsed": 2513,
     "status": "ok",
     "timestamp": 1616657366269,
     "user": {
      "displayName": "Manoj yadav",
      "photoUrl": "https://lh3.googleusercontent.com/a-/AOh14Gj29lFGhyV2Z2ONMepVP0_Z2ceOJRIMPe_pVZi-Xg=s64",
      "userId": "12050352384343200572"
     },
     "user_tz": -330
    },
    "id": "8QSpmY6hSU5O",
    "outputId": "8f20ae70-1837-480c-a3a4-bb731b801d9a"
   },
   "outputs": [
    {
     "name": "stdout",
     "output_type": "stream",
     "text": [
      "          A     B   C     D\n",
      "Row_1  12.0   7.0  20  14.0\n",
      "Row_2   4.0   2.0  16   3.0\n",
      "Row_3   5.0  54.0  11   NaN\n",
      "Row_4   NaN   3.0   3   2.0\n",
      "Row_5   1.0   NaN   8   6.0\n"
     ]
    }
   ],
   "source": [
    "# importing pandas as pd\n",
    "import pandas as pd\n",
    "\n",
    "# Creating the DataFrame\n",
    "df = pd.DataFrame({\"A\":[12, 4, 5, None, 1],\n",
    "\t\t\t\t\"B\":[7, 2, 54, 3, None],\n",
    "\t\t\t\t\"C\":[20, 16, 11, 3, 8],\n",
    "\t\t\t\t\"D\":[14, 3, None, 2, 6]})\n",
    "\n",
    "# Create the index\n",
    "index_ = ['Row_1', 'Row_2', 'Row_3', 'Row_4', 'Row_5']\n",
    "\n",
    "# Set the index\n",
    "df.index = index_\n",
    "\n",
    "# Print the DataFrame\n",
    "print(df)\n"
   ]
  },
  {
   "cell_type": "code",
   "execution_count": 66,
   "metadata": {
    "colab": {
     "base_uri": "https://localhost:8080/"
    },
    "executionInfo": {
     "elapsed": 2292,
     "status": "ok",
     "timestamp": 1616657409456,
     "user": {
      "displayName": "Manoj yadav",
      "photoUrl": "https://lh3.googleusercontent.com/a-/AOh14Gj29lFGhyV2Z2ONMepVP0_Z2ceOJRIMPe_pVZi-Xg=s64",
      "userId": "12050352384343200572"
     },
     "user_tz": -330
    },
    "id": "kBivu5UeSZ1N",
    "outputId": "b003b7b3-7cc2-4042-d0b7-a54134fbef9d"
   },
   "outputs": [
    {
     "name": "stdout",
     "output_type": "stream",
     "text": [
      "          A     B   C     D\n",
      "Row_1  22.0  17.0  30  24.0\n",
      "Row_2  14.0  12.0  26  13.0\n",
      "Row_3  15.0  64.0  21   NaN\n",
      "Row_4   NaN  13.0  13  12.0\n",
      "Row_5  11.0   NaN  18  16.0\n"
     ]
    }
   ],
   "source": [
    "#transform\n",
    "# add 10 to each element of the dataframe\n",
    "result = df.transform(func = lambda x : x + 10)\n",
    "\n",
    "# Print the result\n",
    "print(result)\n"
   ]
  }
 ],
 "metadata": {
  "colab": {
   "authorship_tag": "ABX9TyNb4B4j3U8QO1BA2SfbWciw",
   "collapsed_sections": [],
   "name": "LAB 01.ipynb",
   "provenance": []
  },
  "kernelspec": {
   "display_name": "Python 3",
   "language": "python",
   "name": "python3"
  },
  "language_info": {
   "codemirror_mode": {
    "name": "ipython",
    "version": 3
   },
   "file_extension": ".py",
   "mimetype": "text/x-python",
   "name": "python",
   "nbconvert_exporter": "python",
   "pygments_lexer": "ipython3",
   "version": "3.8.3"
  }
 },
 "nbformat": 4,
 "nbformat_minor": 1
}
