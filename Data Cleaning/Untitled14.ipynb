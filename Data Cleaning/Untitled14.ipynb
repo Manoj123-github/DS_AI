{
 "cells": [
  {
   "cell_type": "code",
   "execution_count": 1,
   "metadata": {
    "id": "e7BlHKkp9ZFi"
   },
   "outputs": [],
   "source": [
    "# import\n",
    "import pandas as pd\n",
    "import numpy as np\n",
    "import string as st\n",
    "import utils"
   ]
  },
  {
   "cell_type": "code",
   "execution_count": 2,
   "metadata": {
    "id": "1uZla4WC9tb0"
   },
   "outputs": [],
   "source": [
    "#reading data file\n",
    "df = pd.read_csv(\"C:/Users/Manoj Yadav/Desktop/ML/Python/Data cleaning/patient-data.csv\")\n"
   ]
  },
  {
   "cell_type": "code",
   "execution_count": 3,
   "metadata": {
    "colab": {
     "base_uri": "https://localhost:8080/"
    },
    "id": "y8C7ia4L-C7U",
    "outputId": "7a177d5b-28cf-45e2-b6c2-711738c7c918"
   },
   "outputs": [
    {
     "name": "stdout",
     "output_type": "stream",
     "text": [
      "\n",
      "*** Info ***\n",
      "<class 'pandas.core.frame.DataFrame'>\n",
      "RangeIndex: 100 entries, 0 to 99\n",
      "Data columns (total 14 columns):\n",
      " #   Column       Non-Null Count  Dtype  \n",
      "---  ------       --------------  -----  \n",
      " 0   ID           100 non-null    object \n",
      " 1   Name         100 non-null    object \n",
      " 2   Race         100 non-null    object \n",
      " 3   Gender       100 non-null    object \n",
      " 4   Smokes       100 non-null    object \n",
      " 5   HeightInCms  100 non-null    float64\n",
      " 6   WeightInKgs  100 non-null    float64\n",
      " 7   BirthDate    100 non-null    object \n",
      " 8   State        100 non-null    object \n",
      " 9   Pet          96 non-null     object \n",
      " 10  Health       100 non-null    int64  \n",
      " 11  Class        100 non-null    object \n",
      " 12  Died         100 non-null    bool   \n",
      " 13  RecDate      100 non-null    object \n",
      "dtypes: bool(1), float64(2), int64(1), object(10)\n",
      "memory usage: 10.4+ KB\n",
      "None\n"
     ]
    }
   ],
   "source": [
    "# view Col Info\n",
    "print(\"\\n*** Info ***\")\n",
    "print(df.info())"
   ]
  },
  {
   "cell_type": "code",
   "execution_count": 4,
   "metadata": {
    "colab": {
     "base_uri": "https://localhost:8080/"
    },
    "id": "AICXJhJQ-LSG",
    "outputId": "8bdad0a4-dce6-441b-d99d-610316aff15a"
   },
   "outputs": [
    {
     "name": "stdout",
     "output_type": "stream",
     "text": [
      "<class 'pandas.core.frame.DataFrame'>\n",
      "RangeIndex: 100 entries, 0 to 99\n",
      "Data columns (total 14 columns):\n",
      " #   Column       Non-Null Count  Dtype  \n",
      "---  ------       --------------  -----  \n",
      " 0   ID           100 non-null    object \n",
      " 1   Name         100 non-null    object \n",
      " 2   Race         100 non-null    object \n",
      " 3   Gender       100 non-null    object \n",
      " 4   Smokes       100 non-null    object \n",
      " 5   HeightInCms  100 non-null    float64\n",
      " 6   WeightInKgs  100 non-null    float64\n",
      " 7   BirthDate    100 non-null    object \n",
      " 8   State        100 non-null    object \n",
      " 9   Pet          96 non-null     object \n",
      " 10  Health       100 non-null    int64  \n",
      " 11  InsStatus    100 non-null    object \n",
      " 12  Died         100 non-null    bool   \n",
      " 13  RecDate      100 non-null    object \n",
      "dtypes: bool(1), float64(2), int64(1), object(10)\n",
      "memory usage: 10.4+ KB\n",
      "None\n"
     ]
    }
   ],
   "source": [
    "# rename Class to InsStatus\n",
    "df=df.rename(columns = {'Class':'InsStatus'})\n",
    "print(df.info())"
   ]
  },
  {
   "cell_type": "code",
   "execution_count": 5,
   "metadata": {
    "colab": {
     "base_uri": "https://localhost:8080/"
    },
    "id": "bNXQ_Cte-OJg",
    "outputId": "d6f3297a-18b2-42cc-b524-5e79b0b988a2"
   },
   "outputs": [
    {
     "name": "stdout",
     "output_type": "stream",
     "text": [
      "\n",
      "*** Summary ***\n",
      "       HeightInCms  WeightInKgs      Health\n",
      "count   100.000000    100.00000  100.000000\n",
      "mean    167.926700     74.89370    8.840000\n",
      "std       8.039584      8.55987   24.872897\n",
      "min     157.010000     63.54000    1.000000\n",
      "25%     161.522500     68.16750    1.000000\n",
      "50%     165.710000     72.26500    2.000000\n",
      "75%     174.490000     80.55500    3.000000\n",
      "max     185.430000     97.67000   99.000000\n"
     ]
    }
   ],
   "source": [
    "\n",
    "# view Col Info\n",
    "print(\"\\n*** Summary ***\")\n",
    "print(df.describe())"
   ]
  },
  {
   "cell_type": "code",
   "execution_count": 6,
   "metadata": {
    "colab": {
     "base_uri": "https://localhost:8080/"
    },
    "id": "EsdLM38s-RhA",
    "outputId": "5178417c-2441-4073-e4b3-f6b82d7bc236"
   },
   "outputs": [
    {
     "name": "stdout",
     "output_type": "stream",
     "text": [
      "\n",
      "*** Head ***\n",
      "  ID        Name   Race  Gender Smokes  HeightInCms  WeightInKgs   BirthDate  \\\n",
      "0     Demetr,ius  White    Male  FALSE       182.87        76.57  31-01-1972   \n",
      "1        Rosario  White    Male  FALSE       179.12        80.43  09-06-1972   \n",
      "2          Julio  Black    Male  FALSE       169.15        75.48  03-07-1972   \n",
      "3           Lupe  White    Male  FALSE       175.66        94.54  11-08-1972   \n",
      "4         Lavern  White  Female  FALSE       164.47        71.78  06-06-1973   \n",
      "\n",
      "          State Pet  Health InsStatus   Died     RecDate  \n",
      "0   Georgia,xxx           2         B  False  25-11-2015  \n",
      "1      Missouri           2         A  False  25-11-2015  \n",
      "2  Pennsylvania           2         A  False  25-11-2015  \n",
      "3       Florida           1         B  False  25-11-2015  \n",
      "4          Iowa           2         B   True  25-11-2015  \n"
     ]
    }
   ],
   "source": [
    "\n",
    "# view Data\n",
    "print(\"\\n*** Head ***\")\n",
    "print(df.head())\n"
   ]
  },
  {
   "cell_type": "code",
   "execution_count": 7,
   "metadata": {
    "colab": {
     "base_uri": "https://localhost:8080/"
    },
    "id": "LoYLYMnl-VWE",
    "outputId": "3a6c784e-52bf-420f-e70d-0fe49a364cc1"
   },
   "outputs": [
    {
     "name": "stdout",
     "output_type": "stream",
     "text": [
      "\n",
      "*** Columns With Nulls ***\n"
     ]
    },
    {
     "data": {
      "text/plain": [
       "ID             0\n",
       "Name           0\n",
       "Race           0\n",
       "Gender         0\n",
       "Smokes         0\n",
       "HeightInCms    0\n",
       "WeightInKgs    0\n",
       "BirthDate      0\n",
       "State          0\n",
       "Pet            4\n",
       "Health         0\n",
       "InsStatus      0\n",
       "Died           0\n",
       "RecDate        0\n",
       "dtype: int64"
      ]
     },
     "execution_count": 7,
     "metadata": {},
     "output_type": "execute_result"
    }
   ],
   "source": [
    "\n",
    "# check nulls\n",
    "print('\\n*** Columns With Nulls ***')\n",
    "df.isnull().sum()"
   ]
  },
  {
   "cell_type": "code",
   "execution_count": 8,
   "metadata": {
    "colab": {
     "base_uri": "https://localhost:8080/",
     "height": 548
    },
    "id": "_z7I3YX_-Z5o",
    "outputId": "28cb0d63-f85b-47c9-de67-4e147a86dc44"
   },
   "outputs": [
    {
     "name": "stdout",
     "output_type": "stream",
     "text": [
      "\n",
      "*** Columns With Zero ***\n",
      "ID              0\n",
      "Name            0\n",
      "Race            0\n",
      "Gender          0\n",
      "Smokes          0\n",
      "HeightInCms     0\n",
      "WeightInKgs     0\n",
      "BirthDate       0\n",
      "State           0\n",
      "Pet             0\n",
      "Health          0\n",
      "InsStatus       0\n",
      "Died           46\n",
      "RecDate         0\n",
      "dtype: int64\n",
      "\n",
      "*** Columns With Spaces ***\n",
      "ID           10\n",
      "Name          0\n",
      "Race          0\n",
      "Gender        0\n",
      "Smokes        0\n",
      "BirthDate     0\n",
      "State         0\n",
      "Pet           5\n",
      "InsStatus     0\n",
      "RecDate       0\n",
      "dtype: int32\n",
      "object\n"
     ]
    }
   ],
   "source": [
    "\n",
    "# check zeros\n",
    "print('\\n*** Columns With Zero ***')\n",
    "print((df==0).sum())\n",
    "\n",
    "print('\\n*** Columns With Spaces ***')\n",
    "print(utils.SpaceCount(df))\n",
    "\n",
    "print(df['ID'].dtype)"
   ]
  },
  {
   "cell_type": "code",
   "execution_count": 9,
   "metadata": {
    "id": "MyjtWi8d-ev6"
   },
   "outputs": [
    {
     "name": "stdout",
     "output_type": "stream",
     "text": [
      "*** ID ***\n",
      "Null Values\n",
      "0\n",
      "\n"
     ]
    }
   ],
   "source": [
    "# check ID\n",
    "print(\"*** ID ***\")\n",
    "print(\"Null Values\")\n",
    "print(df['ID'].isnull().sum())\n",
    "print(\"\")"
   ]
  },
  {
   "cell_type": "code",
   "execution_count": 10,
   "metadata": {
    "id": "6SUJ7r3k-iPu"
   },
   "outputs": [
    {
     "name": "stdout",
     "output_type": "stream",
     "text": [
      "*** Name ***\n",
      "Only Alpha Values 83\n",
      "\n"
     ]
    }
   ],
   "source": [
    "# check Name\n",
    "print(\"*** Name ***\")\n",
    "print(\"Only Alpha Values\", df.Name.map(lambda v: v.isalpha()).sum())\n",
    "print(\"\")"
   ]
  },
  {
   "cell_type": "code",
   "execution_count": 11,
   "metadata": {
    "id": "8otXdBF_-lBL"
   },
   "outputs": [
    {
     "name": "stdout",
     "output_type": "stream",
     "text": [
      "*** Race ***\n",
      "Race\n",
      "Asian         5\n",
      "Bi-Racial     1\n",
      "Black         8\n",
      "Dog           1\n",
      "Hispanic     17\n",
      "White        68\n",
      "Name: Name, dtype: int64\n",
      "\n"
     ]
    }
   ],
   "source": [
    "# check Race\n",
    "print(\"*** Race ***\")\n",
    "print(df.groupby(['Race'])['Name'].count())\n",
    "print(\"\")"
   ]
  },
  {
   "cell_type": "code",
   "execution_count": 12,
   "metadata": {
    "id": "kI3wGMTr-ncY"
   },
   "outputs": [
    {
     "name": "stdout",
     "output_type": "stream",
     "text": [
      "*** Gender ***\n",
      "Gender\n",
      " Female     6\n",
      " Male       3\n",
      "Female     45\n",
      "Female      4\n",
      "Male       40\n",
      "Male        2\n",
      "Name: Name, dtype: int64\n",
      "\n"
     ]
    }
   ],
   "source": [
    "# check Gender\n",
    "print(\"*** Gender ***\")\n",
    "print(df.groupby(['Gender'])['Name'].count())\n",
    "print(\"\")\n"
   ]
  },
  {
   "cell_type": "code",
   "execution_count": 13,
   "metadata": {
    "id": "UJW7-Xmn-tXm"
   },
   "outputs": [
    {
     "name": "stdout",
     "output_type": "stream",
     "text": [
      "*** Smokes ***\n",
      "Smokes\n",
      "FALSE    72\n",
      "No        6\n",
      "TRUE     18\n",
      "Yes       4\n",
      "Name: Name, dtype: int64\n",
      "Data Type\n",
      "object\n",
      "\n"
     ]
    }
   ],
   "source": [
    "\n",
    "# check Smokes\n",
    "print(\"*** Smokes ***\")\n",
    "print(df.groupby(['Smokes'])['Name'].count())\n",
    "print(\"Data Type\")\n",
    "print(df.Smokes.dtype.name)\n",
    "print(\"\")"
   ]
  },
  {
   "cell_type": "code",
   "execution_count": 16,
   "metadata": {
    "id": "2nCMrPMn-veL"
   },
   "outputs": [
    {
     "name": "stdout",
     "output_type": "stream",
     "text": [
      "*** HeightInCms ***\n",
      "Outlier Count\n",
      "0\n",
      "Outlier Value\n"
     ]
    },
    {
     "ename": "KeyError",
     "evalue": "'key of type tuple not found and not a MultiIndex'",
     "output_type": "error",
     "traceback": [
      "\u001b[1;31m---------------------------------------------------------------------------\u001b[0m",
      "\u001b[1;31mKeyError\u001b[0m                                  Traceback (most recent call last)",
      "\u001b[1;32mC:\\Temp/ipykernel_10908/2645939489.py\u001b[0m in \u001b[0;36m<module>\u001b[1;34m\u001b[0m\n\u001b[0;32m      4\u001b[0m \u001b[0mprint\u001b[0m\u001b[1;33m(\u001b[0m\u001b[0mutils\u001b[0m\u001b[1;33m.\u001b[0m\u001b[0mcolOutCount\u001b[0m\u001b[1;33m(\u001b[0m\u001b[0mdf\u001b[0m\u001b[1;33m.\u001b[0m\u001b[0mHeightInCms\u001b[0m\u001b[1;33m)\u001b[0m\u001b[1;33m)\u001b[0m\u001b[1;33m\u001b[0m\u001b[1;33m\u001b[0m\u001b[0m\n\u001b[0;32m      5\u001b[0m \u001b[0mprint\u001b[0m\u001b[1;33m(\u001b[0m\u001b[1;34m\"Outlier Value\"\u001b[0m\u001b[1;33m)\u001b[0m\u001b[1;33m\u001b[0m\u001b[1;33m\u001b[0m\u001b[0m\n\u001b[1;32m----> 6\u001b[1;33m \u001b[0mprint\u001b[0m\u001b[1;33m(\u001b[0m\u001b[0mutils\u001b[0m\u001b[1;33m.\u001b[0m\u001b[0mcolOutValues\u001b[0m\u001b[1;33m(\u001b[0m\u001b[0mdf\u001b[0m\u001b[1;33m.\u001b[0m\u001b[0mHeightInCms\u001b[0m\u001b[1;33m)\u001b[0m\u001b[1;33m)\u001b[0m\u001b[1;33m\u001b[0m\u001b[1;33m\u001b[0m\u001b[0m\n\u001b[0m\u001b[0;32m      7\u001b[0m \u001b[0mprint\u001b[0m\u001b[1;33m(\u001b[0m\u001b[1;34m\"HeightInCms Is < 160\"\u001b[0m\u001b[1;33m)\u001b[0m\u001b[1;33m\u001b[0m\u001b[1;33m\u001b[0m\u001b[0m\n\u001b[0;32m      8\u001b[0m \u001b[0mprint\u001b[0m\u001b[1;33m(\u001b[0m\u001b[0mdf\u001b[0m\u001b[1;33m.\u001b[0m\u001b[0mHeightInCms\u001b[0m\u001b[1;33m[\u001b[0m\u001b[0mdf\u001b[0m\u001b[1;33m.\u001b[0m\u001b[0mHeightInCms\u001b[0m\u001b[1;33m<\u001b[0m\u001b[1;36m160\u001b[0m\u001b[1;33m]\u001b[0m\u001b[1;33m.\u001b[0m\u001b[0mcount\u001b[0m\u001b[1;33m(\u001b[0m\u001b[1;33m)\u001b[0m\u001b[1;33m)\u001b[0m\u001b[1;33m\u001b[0m\u001b[1;33m\u001b[0m\u001b[0m\n",
      "\u001b[1;32m~\\Desktop\\ML\\Python\\Data cleaning\\utils.py\u001b[0m in \u001b[0;36mcolOutValues\u001b[1;34m(colValues)\u001b[0m\n\u001b[0;32m    124\u001b[0m     \u001b[0mupper_bound\u001b[0m \u001b[1;33m=\u001b[0m \u001b[0mquartile_3\u001b[0m \u001b[1;33m+\u001b[0m \u001b[1;33m(\u001b[0m\u001b[0miqr\u001b[0m \u001b[1;33m*\u001b[0m \u001b[1;36m3.0\u001b[0m\u001b[1;33m)\u001b[0m\u001b[1;33m\u001b[0m\u001b[1;33m\u001b[0m\u001b[0m\n\u001b[0;32m    125\u001b[0m     \u001b[0mndOutData\u001b[0m \u001b[1;33m=\u001b[0m \u001b[0mnp\u001b[0m\u001b[1;33m.\u001b[0m\u001b[0mwhere\u001b[0m\u001b[1;33m(\u001b[0m\u001b[1;33m(\u001b[0m\u001b[0mcolValues\u001b[0m \u001b[1;33m>\u001b[0m \u001b[0mupper_bound\u001b[0m\u001b[1;33m)\u001b[0m \u001b[1;33m|\u001b[0m \u001b[1;33m(\u001b[0m\u001b[0mcolValues\u001b[0m \u001b[1;33m<\u001b[0m \u001b[0mlower_bound\u001b[0m\u001b[1;33m)\u001b[0m\u001b[1;33m)\u001b[0m\u001b[1;33m\u001b[0m\u001b[1;33m\u001b[0m\u001b[0m\n\u001b[1;32m--> 126\u001b[1;33m     \u001b[0mndOutData\u001b[0m \u001b[1;33m=\u001b[0m \u001b[0mnp\u001b[0m\u001b[1;33m.\u001b[0m\u001b[0marray\u001b[0m\u001b[1;33m(\u001b[0m\u001b[0mcolValues\u001b[0m\u001b[1;33m{\u001b[0m\u001b[0mndOutData\u001b[0m\u001b[1;33m]\u001b[0m\u001b[1;33m)\u001b[0m\u001b[1;33m\u001b[0m\u001b[1;33m\u001b[0m\u001b[0m\n\u001b[0m\u001b[0;32m    127\u001b[0m     \u001b[1;32mreturn\u001b[0m \u001b[0mndOutData\u001b[0m\u001b[1;33m\u001b[0m\u001b[1;33m\u001b[0m\u001b[0m\n\u001b[0;32m    128\u001b[0m \u001b[1;33m\u001b[0m\u001b[0m\n",
      "\u001b[1;32m~\\anaconda3\\lib\\site-packages\\pandas\\core\\series.py\u001b[0m in \u001b[0;36m__getitem__\u001b[1;34m(self, key)\u001b[0m\n\u001b[0;32m    964\u001b[0m             \u001b[1;32mreturn\u001b[0m \u001b[0mself\u001b[0m\u001b[1;33m.\u001b[0m\u001b[0m_get_values\u001b[0m\u001b[1;33m(\u001b[0m\u001b[0mkey\u001b[0m\u001b[1;33m)\u001b[0m\u001b[1;33m\u001b[0m\u001b[1;33m\u001b[0m\u001b[0m\n\u001b[0;32m    965\u001b[0m \u001b[1;33m\u001b[0m\u001b[0m\n\u001b[1;32m--> 966\u001b[1;33m         \u001b[1;32mreturn\u001b[0m \u001b[0mself\u001b[0m\u001b[1;33m.\u001b[0m\u001b[0m_get_with\u001b[0m\u001b[1;33m(\u001b[0m\u001b[0mkey\u001b[0m\u001b[1;33m)\u001b[0m\u001b[1;33m\u001b[0m\u001b[1;33m\u001b[0m\u001b[0m\n\u001b[0m\u001b[0;32m    967\u001b[0m \u001b[1;33m\u001b[0m\u001b[0m\n\u001b[0;32m    968\u001b[0m     \u001b[1;32mdef\u001b[0m \u001b[0m_get_with\u001b[0m\u001b[1;33m(\u001b[0m\u001b[0mself\u001b[0m\u001b[1;33m,\u001b[0m \u001b[0mkey\u001b[0m\u001b[1;33m)\u001b[0m\u001b[1;33m:\u001b[0m\u001b[1;33m\u001b[0m\u001b[1;33m\u001b[0m\u001b[0m\n",
      "\u001b[1;32m~\\anaconda3\\lib\\site-packages\\pandas\\core\\series.py\u001b[0m in \u001b[0;36m_get_with\u001b[1;34m(self, key)\u001b[0m\n\u001b[0;32m    979\u001b[0m             )\n\u001b[0;32m    980\u001b[0m         \u001b[1;32melif\u001b[0m \u001b[0misinstance\u001b[0m\u001b[1;33m(\u001b[0m\u001b[0mkey\u001b[0m\u001b[1;33m,\u001b[0m \u001b[0mtuple\u001b[0m\u001b[1;33m)\u001b[0m\u001b[1;33m:\u001b[0m\u001b[1;33m\u001b[0m\u001b[1;33m\u001b[0m\u001b[0m\n\u001b[1;32m--> 981\u001b[1;33m             \u001b[1;32mreturn\u001b[0m \u001b[0mself\u001b[0m\u001b[1;33m.\u001b[0m\u001b[0m_get_values_tuple\u001b[0m\u001b[1;33m(\u001b[0m\u001b[0mkey\u001b[0m\u001b[1;33m)\u001b[0m\u001b[1;33m\u001b[0m\u001b[1;33m\u001b[0m\u001b[0m\n\u001b[0m\u001b[0;32m    982\u001b[0m \u001b[1;33m\u001b[0m\u001b[0m\n\u001b[0;32m    983\u001b[0m         \u001b[1;32melif\u001b[0m \u001b[1;32mnot\u001b[0m \u001b[0mis_list_like\u001b[0m\u001b[1;33m(\u001b[0m\u001b[0mkey\u001b[0m\u001b[1;33m)\u001b[0m\u001b[1;33m:\u001b[0m\u001b[1;33m\u001b[0m\u001b[1;33m\u001b[0m\u001b[0m\n",
      "\u001b[1;32m~\\anaconda3\\lib\\site-packages\\pandas\\core\\series.py\u001b[0m in \u001b[0;36m_get_values_tuple\u001b[1;34m(self, key)\u001b[0m\n\u001b[0;32m   1014\u001b[0m \u001b[1;33m\u001b[0m\u001b[0m\n\u001b[0;32m   1015\u001b[0m         \u001b[1;32mif\u001b[0m \u001b[1;32mnot\u001b[0m \u001b[0misinstance\u001b[0m\u001b[1;33m(\u001b[0m\u001b[0mself\u001b[0m\u001b[1;33m.\u001b[0m\u001b[0mindex\u001b[0m\u001b[1;33m,\u001b[0m \u001b[0mMultiIndex\u001b[0m\u001b[1;33m)\u001b[0m\u001b[1;33m:\u001b[0m\u001b[1;33m\u001b[0m\u001b[1;33m\u001b[0m\u001b[0m\n\u001b[1;32m-> 1016\u001b[1;33m             \u001b[1;32mraise\u001b[0m \u001b[0mKeyError\u001b[0m\u001b[1;33m(\u001b[0m\u001b[1;34m\"key of type tuple not found and not a MultiIndex\"\u001b[0m\u001b[1;33m)\u001b[0m\u001b[1;33m\u001b[0m\u001b[1;33m\u001b[0m\u001b[0m\n\u001b[0m\u001b[0;32m   1017\u001b[0m \u001b[1;33m\u001b[0m\u001b[0m\n\u001b[0;32m   1018\u001b[0m         \u001b[1;31m# If key is contained, would have returned by now\u001b[0m\u001b[1;33m\u001b[0m\u001b[1;33m\u001b[0m\u001b[1;33m\u001b[0m\u001b[0m\n",
      "\u001b[1;31mKeyError\u001b[0m: 'key of type tuple not found and not a MultiIndex'"
     ]
    }
   ],
   "source": [
    "# check HeightInCms\n",
    "print(\"*** HeightInCms ***\")\n",
    "print(\"Outlier Count\")\n",
    "print(utils.colOutCount(df.HeightInCms))\n",
    "print(\"Outlier Value\")\n",
    "print(utils.colOutValues(df.HeightInCms))\n",
    "print(\"HeightInCms Is < 160\")\n",
    "print(df.HeightInCms[df.HeightInCms<160].count())\n",
    "print(\"HeightInCms Is > 180\")\n",
    "print(df.HeightInCms[df.HeightInCms>=180].count())\n",
    "print(\"\")\n"
   ]
  },
  {
   "cell_type": "code",
   "execution_count": null,
   "metadata": {
    "id": "zR7lqQBm-2rH"
   },
   "outputs": [],
   "source": [
    "\n",
    "# check Height\n",
    "print(\"*** WeightInKgs ***\")\n",
    "print(\"Null Values \")\n",
    "print(df.WeightInKgs.isnull().sum())\n",
    "print(\"Outlier Count\")\n",
    "print(utils.colOutCount(df.WeightInKgs))\n",
    "print(\"Outlier Value\")\n",
    "print(utils.colOutValues(df.WeightInKgs))\n",
    "print(\"WeightInKgs Is < 65\")\n",
    "print(df.WeightInKgs[df.WeightInKgs<65].count())\n",
    "print(\"WeightInKgs Is > 85\")\n",
    "print(df.WeightInKgs[df.WeightInKgs>=85].count())\n",
    "print(\"\")\n"
   ]
  },
  {
   "cell_type": "code",
   "execution_count": null,
   "metadata": {
    "id": "558fo4bF-34o"
   },
   "outputs": [],
   "source": [
    "# check BirthDate\n",
    "print(\"*** BirthDate ***\")\n",
    "print(type(df.BirthDate[0]))\n",
    "print(\"\")"
   ]
  },
  {
   "cell_type": "code",
   "execution_count": null,
   "metadata": {
    "id": "EF9IGC4N-6YB"
   },
   "outputs": [],
   "source": [
    "# check State\n",
    "print(\"*** State ***\")\n",
    "print(df.groupby(['State'])['Name'].count())\n",
    "print(\"\")"
   ]
  },
  {
   "cell_type": "code",
   "execution_count": null,
   "metadata": {
    "id": "mjoXmAhx-9K6"
   },
   "outputs": [],
   "source": [
    "# check Pet\n",
    "print(\"*** Pet ***\")\n",
    "print(df.groupby(['Pet'])['Name'].count())\n",
    "print(\"\")"
   ]
  },
  {
   "cell_type": "code",
   "execution_count": null,
   "metadata": {
    "id": "PWQ24gAX_BAi"
   },
   "outputs": [],
   "source": [
    "# check health\n",
    "print(\"*** Health ***\")\n",
    "print(df.groupby(['Health'])['Name'].count())\n",
    "print(\"\")"
   ]
  },
  {
   "cell_type": "code",
   "execution_count": null,
   "metadata": {
    "id": "almC0Vnw_EFF"
   },
   "outputs": [],
   "source": [
    "# check InsStatus\n",
    "print(\"*** InsStatus ***\")\n",
    "print(df.groupby(['InsStatus'])['Name'].count())\n",
    "print(\"\")"
   ]
  },
  {
   "cell_type": "code",
   "execution_count": null,
   "metadata": {
    "id": "L3MnmAk0_Ee7"
   },
   "outputs": [],
   "source": [
    "# check Died\n",
    "print(\"*** Died ***\")\n",
    "print(df.groupby(['Died'])['Name'].count())\n",
    "print(\"\")\n"
   ]
  },
  {
   "cell_type": "code",
   "execution_count": null,
   "metadata": {
    "id": "dv5DT9de_KE_"
   },
   "outputs": [],
   "source": [
    "# check dates\n",
    "print(\"*** RecDate ***\")\n",
    "print(type(df.RecDate[0]))\n",
    "print(\"\")"
   ]
  },
  {
   "cell_type": "code",
   "execution_count": null,
   "metadata": {
    "id": "iwuemHUP_MxD"
   },
   "outputs": [],
   "source": [
    "# cleaning\n",
    "##################\n",
    "\n",
    "#df = pd.read_csv(\"./data/patient-data.csv\")\n",
    "\n",
    "# get cleanName - Function\n",
    "def getCleanName(pName):\n",
    "    # print arg\n",
    "    #print(pName)\n",
    "    # clean\n",
    "    vRetVals = pName.translate(str.maketrans(\" \", \" \", st.punctuation))\n",
    "    vRetVals = vRetVals.strip()\n",
    "    return(vRetVals)  \n",
    "\n",
    "# get cleanName - Unit Test\n",
    "def getCleanNameTest():\n",
    "    x = getCleanName(\"This, is. a; test: string? check!\")\n",
    "    print(x)"
   ]
  },
  {
   "cell_type": "code",
   "execution_count": null,
   "metadata": {
    "id": "C1NTUiN7_aQA"
   },
   "outputs": [],
   "source": [
    "\n",
    "# clean ID\n",
    "print(\"*** ID ***\")\n",
    "print(\"Null Values\")\n",
    "print(df['ID'].isnull().sum())\n",
    "print(\"Spaces\")\n",
    "print(utils.colSpaceCount(df['ID']))\n",
    "print(\"\")"
   ]
  },
  {
   "cell_type": "code",
   "execution_count": null,
   "metadata": {
    "id": "4cPBrnL8_dkC"
   },
   "outputs": [],
   "source": [
    "\n",
    "# clean Name\n",
    "print(\"*** Name ***\")\n",
    "print(\"*Original Count*\")\n",
    "print(\"Not Null Values\")\n",
    "print(df.Name.notnull().sum())\n",
    "print(\"Only Alpha Values\")\n",
    "print(df.Name.map(lambda v: v.isalpha()).sum())\n",
    "df['Name'] = [getCleanName(n) for n in df.Name]\n",
    "print(\"\")\n",
    "print(\"*Cleaned Count*\")\n",
    "print(\"Not Null Values\")\n",
    "print(df.Name.notnull().sum())\n",
    "print(\"Only Alpha Values\")\n",
    "print(df.Name.map(lambda v: v.isalpha()).sum())\n"
   ]
  },
  {
   "cell_type": "code",
   "execution_count": null,
   "metadata": {
    "id": "2XRiXnmq_g9F"
   },
   "outputs": [],
   "source": [
    "\n",
    "# clean Race\n",
    "print(\"*** Race ***\")\n",
    "print(\"*Original Count*\")\n",
    "print(\"Not Null Values\")\n",
    "print(df.Race.notnull().sum())\n",
    "print(df.groupby(['Race'])['Name'].count())\n",
    "df['Race'] = np.where(df['Race']=='Dog',None, df['Race'])\n",
    "df['Race'] = df['Race'].str.upper()\n",
    "print(\"\")\n",
    "print(\"*Cleaned Count*\")\n",
    "print(\"Not Null Values\")\n",
    "print(df.Race.notnull().sum())\n",
    "print(df.groupby(['Race'])['Name'].count())"
   ]
  },
  {
   "cell_type": "code",
   "execution_count": null,
   "metadata": {
    "id": "1xJ99QVf_kbt"
   },
   "outputs": [],
   "source": [
    "# clean Gender\n",
    "print(\"*** Gender ***\")\n",
    "print(\"*Original Count*\")\n",
    "print(\"Not Null Values\")\n",
    "print(df.Gender.notnull().sum())\n",
    "print(df.groupby(['Gender'])['Name'].count())\n",
    "print(\"\")\n",
    "df['Gender'] = df['Gender'].str.strip()\n",
    "df['Gender'] = df['Gender'].str.upper()\n",
    "#df['Gender'] = df['Gender'].str.upper().str.strip()\n",
    "print(\"*Cleaned Count*\")\n",
    "print(\"Not Null Values\")\n",
    "print(df.Gender.notnull().sum())\n",
    "print(df.groupby(['Gender'])['Name'].count())\n"
   ]
  },
  {
   "cell_type": "code",
   "execution_count": null,
   "metadata": {
    "id": "OW23gbby_nuU"
   },
   "outputs": [],
   "source": [
    "# cleaning Smokes\n",
    "print(\"*** Smokes ***\")\n",
    "print(\"*Original Count*\")\n",
    "print(\"Not Null Values\")\n",
    "print(df.Smokes.notnull().sum())\n",
    "print(df.groupby(['Smokes'])['Name'].count())\n",
    "print(df['Smokes'].dtypes)\n",
    "print(\"\")\n",
    "df['Smokes'] = np.where(df['Smokes'] == 'No', False, df['Smokes'])\n",
    "df['Smokes'] = np.where(df['Smokes'] == 'Yes', True, df['Smokes'])\n",
    "df['Smokes'] = np.where(df['Smokes'] == 'FALSE', False, df['Smokes'])\n",
    "df['Smokes'] = np.where(df['Smokes'] == 'TRUE', True, df['Smokes'])\n",
    "print(df['Smokes'].dtypes)\n",
    "df['Smokes'] = df['Smokes'].astype(bool)\n",
    "print(df['Smokes'].dtypes)\n",
    "print(\"*Cleaned Count*\")\n",
    "print(\"Not Null Values\")\n",
    "print(df.Smokes.notnull().sum())\n",
    "print(df.groupby(['Smokes'])['Name'].count())\n",
    "print(\"Data Type: \")\n",
    "print(df['Smokes'].dtypes)\n"
   ]
  },
  {
   "cell_type": "code",
   "execution_count": null,
   "metadata": {
    "id": "_4CaOnb-_qxH"
   },
   "outputs": [],
   "source": [
    "# check HeightInCms\n",
    "print(\"*** HeightInCms ***\")\n",
    "print(\"*Original Count*\")\n",
    "print(\"Null Values\")\n",
    "print(df.HeightInCms.isnull().sum())\n",
    "print(\"Outlier Count\")\n",
    "print(utils.colOutCount(df.HeightInCms))\n",
    "print(\"Outlier Value\")\n",
    "print(utils.colOutValues(df.HeightInCms))\n",
    "print(\"HeightInCms Is < 160\")\n",
    "print(df.HeightInCms[df.HeightInCms<160].count())\n",
    "print(\"HeightInCms Is >= 180\")\n",
    "print(df.HeightInCms[df.HeightInCms>180].count())\n",
    "print(\"\")\n",
    "# clean\n",
    "df['HeightInCms'] = np.where(df['HeightInCms'] < 160, 160, df['HeightInCms'])\n",
    "df['HeightInCms'] = np.where(df['HeightInCms'] > 180, 180, df['HeightInCms'])\n",
    "# cleaned\n",
    "print(\"*Cleaned Count*\")\n",
    "print(\"Null Values\")\n",
    "print(df.HeightInCms.isnull().sum())\n",
    "print(\"Outlier Count\")\n",
    "print(utils.colOutCount(df.HeightInCms))\n",
    "print(\"Outlier Value\")\n",
    "print(utils.colOutValues(df.HeightInCms))\n",
    "print(\"HeightInCms Is < 160\")\n",
    "print(df.HeightInCms[df.HeightInCms<160].count())\n",
    "print(\"HeightInCms Is >= 180\")\n",
    "print(df.HeightInCms[df.HeightInCms>180].count())\n",
    "print(\"\")"
   ]
  },
  {
   "cell_type": "code",
   "execution_count": null,
   "metadata": {
    "id": "iPDxAfiz_0Iz"
   },
   "outputs": [],
   "source": [
    "\n",
    "# check WeightInKgs\n",
    "print(\"*** WeightInKgs ***\")\n",
    "print(\"*Original Count*\")\n",
    "print(\"Null Values\")\n",
    "print(df.WeightInKgs.isnull().sum())\n",
    "print(\"Outlier Count\")\n",
    "print(utils.colOutCount(df.WeightInKgs))\n",
    "print(\"Outlier Value\")\n",
    "print(utils.colOutValues(df.WeightInKgs))\n",
    "print(\"WeightInKgs Is < 65\")\n",
    "print(df.WeightInKgs[df.WeightInKgs<65].count())\n",
    "print(\"WeightInKgs Is > 85\")\n",
    "print(df.WeightInKgs[df.WeightInKgs>85].count())\n",
    "print(\"\")\n",
    "# clean\n",
    "df['WeightInKgs'] = np.where(df['WeightInKgs'] < 65, 65, df['WeightInKgs'])\n",
    "df['WeightInKgs'] = np.where(df['WeightInKgs'] > 85, 85, df['WeightInKgs'])\n",
    "# cleaned\n",
    "print(\"*Cleaned Count*\")\n",
    "print(\"Null Values\")\n",
    "print(df.WeightInKgs.isnull().sum())\n",
    "print(\"Outlier Count\")\n",
    "print(utils.colOutCount(df.WeightInKgs))\n",
    "print(\"Outlier Value\")\n",
    "print(utils.colOutValues(df.WeightInKgs))\n",
    "print(\"WeightInKgs Is < 65\")\n",
    "print(df.WeightInKgs[df.WeightInKgs<65].count())\n",
    "print(\"WeightInKgs Is > 85\")\n",
    "print(df.WeightInKgs[df.WeightInKgs>85].count())\n",
    "print(\"\")"
   ]
  },
  {
   "cell_type": "code",
   "execution_count": null,
   "metadata": {
    "id": "YnyyhhPw_3wy"
   },
   "outputs": [],
   "source": [
    "\n",
    "# clean State\n",
    "print(\"*** State ***\")\n",
    "print(\"*Original Count*\")\n",
    "print(\"Not Null Values\")\n",
    "print(df.State.notnull().sum())\n",
    "print(df.groupby(['State'])['Name'].count())\n",
    "print(\"\")\n",
    "df['State'] = np.where(df['State'] == 'Georgia,xxx', 'Georgia', df['State'])\n",
    "df['State'] = np.where(df['State'] == 'Illlinois', 'Illinois', df['State'])\n",
    "df['State'] = np.where(df['State'] == 'WrongSpelling', 'RightSpelling', df['State'])\n",
    "df['State'] = df['State'].str.upper()\n",
    "print(\"*Cleaned Count*\")\n",
    "print(\"Not Null Values\")\n",
    "print(df.State.notnull().sum())\n",
    "print(df.groupby(['State'])['Name'].count())"
   ]
  },
  {
   "cell_type": "code",
   "execution_count": null,
   "metadata": {
    "id": "dxJhwsEb_6u4"
   },
   "outputs": [],
   "source": [
    "# clean Pet\n",
    "print(\"*** Pet ***\")\n",
    "print(\"*Original Count*\")\n",
    "print(\"Not Null Values\")\n",
    "print(df.Pet.notnull().sum())\n",
    "print(df.groupby(['Pet'])['Name'].count())\n",
    "print(\"\")\n",
    "df['Pet'] = df['Pet'].str.upper()\n",
    "print(\"*Cleaned Count*\")\n",
    "print(\"Not Null Values\")\n",
    "print(df.Pet.notnull().sum())\n",
    "print(df.groupby(['Pet'])['Name'].count())"
   ]
  },
  {
   "cell_type": "code",
   "execution_count": null,
   "metadata": {
    "id": "jplpnjM5_9vs"
   },
   "outputs": [],
   "source": [
    "# clean health\n",
    "print(\"*** Health ***\")\n",
    "print(\"*Original Count*\")\n",
    "print(df.Health.notnull().sum())\n",
    "print(df.groupby(['Health'])['Name'].count())\n",
    "print(\"Data Type\")\n",
    "print(df['Health'].dtypes)\n",
    "df['Health'] = df['Health'].map(\n",
    "    {1: \"Good Health\", 2: \"Normal\", 3:\"Poor Health\", 99:\"Unknown\"})\n",
    "df['Health'] = np.where(df['Health'] == 'Unknown', None, df['Health'])\n",
    "print(\"*Cleaned Count*\")\n",
    "print(\"Not Null Values\")\n",
    "print(df.Health.notnull().sum())\n",
    "print(df.groupby(['Health'])['Name'].count())\n",
    "print(\"\")"
   ]
  },
  {
   "cell_type": "code",
   "execution_count": null,
   "metadata": {
    "id": "GpkEF51hAAPc"
   },
   "outputs": [],
   "source": [
    "#reading data file\n",
    "#df = pd.read_csv(\"./data/patient-data.csv\")\n",
    "# clean InsStatus\n",
    "print(\"*** InsStatus ***\")\n",
    "print(\"*Original Count*\")\n",
    "print(\"Not Null Values\")\n",
    "print(df.InsStatus.notnull().sum())\n",
    "print(df.groupby(['InsStatus'])['Name'].count())\n",
    "print(\"\")"
   ]
  },
  {
   "cell_type": "code",
   "execution_count": null,
   "metadata": {
    "id": "0QkWZBz9AJ5m"
   },
   "outputs": [],
   "source": [
    "# use map\n",
    "df['InsStatus'] = df['InsStatus'].map({\"A\": 1, \"B\": 2, \"C\": 3})\n",
    "print(\"Data Type: \")\n",
    "print(df['InsStatus'].dtypes)\n",
    "#df['InsStatus'] = df['InsStatus'].astype(int)\n",
    "print(\"*Cleaned Count*\")\n",
    "print(\"Not Null Values\")\n",
    "print(df.InsStatus.notnull().sum())\n",
    "print(df.groupby(['InsStatus'])['Name'].count())\n",
    "print(\"\")"
   ]
  },
  {
   "cell_type": "code",
   "execution_count": null,
   "metadata": {
    "id": "CJpbVdYBANpp"
   },
   "outputs": [],
   "source": [
    "# compute BMIValue\n",
    "print(\"*** BMIValue ***\")\n",
    "#df = df.assign(BMIValue=df['WeightInKgs']/(df['HeightInCms']/100)**2)\n",
    "df['BMIValue'] = df['WeightInKgs'] / ( (df['HeightInCms']/100)**2 )\n",
    "print(\"*Cleaned Count*\")\n",
    "print(\"Not Null Values\")\n",
    "print(df.BMIValue.notnull().sum())\n",
    "print(df['BMIValue'].head())\n",
    "print(\"\")"
   ]
  },
  {
   "cell_type": "code",
   "execution_count": null,
   "metadata": {
    "id": "h34uGznMAQY4"
   },
   "outputs": [],
   "source": [
    "# compute BMILabel\n",
    "print(\"*** BMILabel ***\")\n",
    "df['BMILabel'] = \"\"\n",
    "df['BMILabel'] = np.where(df['BMIValue']  < 18.5 , 'Underweight', \n",
    "                    np.where((df['BMIValue'] < 25 ) , 'Normal', \n",
    "                    np.where((df['BMIValue'] < 30) , 'Overweight', \n",
    "                    \"Obese\")))\n",
    "print(\"*Cleaned Count*\")\n",
    "print(\"Not Null Values\")\n",
    "print(df.BMILabel.notnull().sum())\n",
    "print(df.groupby(['BMILabel'])['Name'].count())\n",
    "print(df['BMILabel'].head())\n",
    "print(\"\")"
   ]
  },
  {
   "cell_type": "code",
   "execution_count": null,
   "metadata": {
    "id": "g9IaKKWyAUBi"
   },
   "outputs": [],
   "source": [
    "#write data file\n",
    "df.to_csv(\"./data/patient-data-cleaned.csv\", index=False)"
   ]
  },
  {
   "cell_type": "code",
   "execution_count": null,
   "metadata": {
    "id": "4SEmNKfA_E-Z"
   },
   "outputs": [],
   "source": []
  }
 ],
 "metadata": {
  "colab": {
   "name": "Untitled14.ipynb",
   "provenance": []
  },
  "kernelspec": {
   "display_name": "Python 3 (ipykernel)",
   "language": "python",
   "name": "python3"
  },
  "language_info": {
   "codemirror_mode": {
    "name": "ipython",
    "version": 3
   },
   "file_extension": ".py",
   "mimetype": "text/x-python",
   "name": "python",
   "nbconvert_exporter": "python",
   "pygments_lexer": "ipython3",
   "version": "3.8.8"
  }
 },
 "nbformat": 4,
 "nbformat_minor": 1
}
