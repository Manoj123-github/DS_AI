{
 "cells": [
  {
   "cell_type": "code",
   "execution_count": 1,
   "id": "b454f7e9",
   "metadata": {},
   "outputs": [],
   "source": [
    "# hides all warnings\n",
    "import warnings\n",
    "warnings.filterwarnings('ignore')\n"
   ]
  },
  {
   "cell_type": "code",
   "execution_count": 3,
   "id": "086c64f2",
   "metadata": {},
   "outputs": [],
   "source": [
    "# imports\n",
    "# pandas \n",
    "import pandas as pd\n",
    "# numpy\n",
    "import numpy as np\n",
    "# matplotlib \n",
    "import matplotlib.pyplot as plt\n",
    "#%matplotlib inline\n",
    "plt.style.use('ggplot')\n",
    "# seaborn\n",
    "import seaborn as sns\n",
    "# utils\n",
    "import utils\n"
   ]
  },
  {
   "cell_type": "code",
   "execution_count": 6,
   "id": "1df3ba10",
   "metadata": {},
   "outputs": [],
   "source": [
    "# Read Data \n",
    "##############################################################\n",
    "\n",
    "# assign spreadsheet filename: file\n",
    "file = './lr-data.xlsx'"
   ]
  },
  {
   "cell_type": "code",
   "execution_count": 7,
   "id": "bd71c94e",
   "metadata": {},
   "outputs": [],
   "source": [
    " #load spreadsheet xls\n",
    "xls = pd.ExcelFile(file)\n"
   ]
  },
  {
   "cell_type": "code",
   "execution_count": 8,
   "id": "bc7e5f3d",
   "metadata": {},
   "outputs": [
    {
     "name": "stdout",
     "output_type": "stream",
     "text": [
      "['Ex1', 'Ex2', 'Ex3', 'Ex4', 'Ex5', 'LRO', 'Ex6']\n"
     ]
    }
   ],
   "source": [
    "# print sheet names\n",
    "print(xls.sheet_names)\n"
   ]
  },
  {
   "cell_type": "code",
   "execution_count": 9,
   "id": "7b431640",
   "metadata": {},
   "outputs": [],
   "source": [
    "# load a sheet into a dataFrame by name\n",
    "df = xls.parse('Ex1')\n"
   ]
  },
  {
   "cell_type": "code",
   "execution_count": 10,
   "id": "98d75f96",
   "metadata": {},
   "outputs": [
    {
     "name": "stdout",
     "output_type": "stream",
     "text": [
      "\n",
      "*** Columns ***\n",
      "Index(['Id', 'Hits', 'Revenue'], dtype='object')\n"
     ]
    }
   ],
   "source": [
    "# Exploratory Data Analytics\n",
    "##############################################################\n",
    "\n",
    "# columns\n",
    "print(\"\\n*** Columns ***\")\n",
    "print(df.columns)"
   ]
  },
  {
   "cell_type": "code",
   "execution_count": 11,
   "id": "b0943a46",
   "metadata": {},
   "outputs": [
    {
     "name": "stdout",
     "output_type": "stream",
     "text": [
      "\n",
      "*** Structure ***\n",
      "<class 'pandas.core.frame.DataFrame'>\n",
      "RangeIndex: 14 entries, 0 to 13\n",
      "Data columns (total 3 columns):\n",
      " #   Column   Non-Null Count  Dtype\n",
      "---  ------   --------------  -----\n",
      " 0   Id       14 non-null     int64\n",
      " 1   Hits     14 non-null     int64\n",
      " 2   Revenue  14 non-null     int64\n",
      "dtypes: int64(3)\n",
      "memory usage: 464.0 bytes\n",
      "None\n"
     ]
    }
   ],
   "source": [
    "# info\n",
    "print(\"\\n*** Structure ***\")\n",
    "print(df.info())"
   ]
  },
  {
   "cell_type": "code",
   "execution_count": 12,
   "id": "d171d29f",
   "metadata": {},
   "outputs": [
    {
     "name": "stdout",
     "output_type": "stream",
     "text": [
      "\n",
      "*** Summary ***\n",
      "            Id        Hits     Revenue\n",
      "count  14.0000   14.000000   14.000000\n",
      "mean    7.5000  506.857143  494.714286\n",
      "std     4.1833  164.200092  255.699472\n",
      "min     1.0000  284.000000  147.000000\n",
      "25%     4.2500  372.000000  235.000000\n",
      "50%     7.5000  508.500000  502.000000\n",
      "75%    10.7500  598.000000  698.000000\n",
      "max    14.0000  780.000000  893.000000\n"
     ]
    }
   ],
   "source": [
    "# summary\n",
    "print(\"\\n*** Summary ***\")\n",
    "print(df.describe())"
   ]
  },
  {
   "cell_type": "code",
   "execution_count": 13,
   "id": "e0152e4e",
   "metadata": {},
   "outputs": [
    {
     "name": "stdout",
     "output_type": "stream",
     "text": [
      "\n",
      "*** Head ***\n",
      "   Id  Hits  Revenue\n",
      "0   1   402      400\n",
      "1   2   780      722\n",
      "2   3   598      893\n",
      "3   4   284      147\n",
      "4   5   362      175\n"
     ]
    }
   ],
   "source": [
    "# head\n",
    "print(\"\\n*** Head ***\")\n",
    "print(df.head())"
   ]
  },
  {
   "cell_type": "code",
   "execution_count": 14,
   "id": "2c96a8fa",
   "metadata": {},
   "outputs": [
    {
     "name": "stdout",
     "output_type": "stream",
     "text": [
      "\n",
      "*** Dep Vars ***\n",
      "Revenue\n"
     ]
    }
   ],
   "source": [
    "# Dependent Variable \n",
    "##############################################################\n",
    "\n",
    "# store dep variable  \n",
    "# change as required\n",
    "depVars = \"Revenue\"\n",
    "print(\"\\n*** Dep Vars ***\")\n",
    "print(depVars)\n"
   ]
  },
  {
   "cell_type": "code",
   "execution_count": 15,
   "id": "397f6f70",
   "metadata": {},
   "outputs": [
    {
     "name": "stdout",
     "output_type": "stream",
     "text": [
      "\n",
      "*** Drop Cols ***\n",
      "Done ...\n"
     ]
    }
   ],
   "source": [
    "# Data Transformation\n",
    "##############################################################\n",
    "\n",
    "# drop cols\n",
    "# change as required\n",
    "print(\"\\n*** Drop Cols ***\")\n",
    "df = df.drop('Id', axis=1)\n",
    "print(\"Done ...\")"
   ]
  },
  {
   "cell_type": "code",
   "execution_count": 16,
   "id": "078af386",
   "metadata": {},
   "outputs": [
    {
     "name": "stdout",
     "output_type": "stream",
     "text": [
      "\n",
      "*** Outlier Count ***\n",
      "Hits       0\n",
      "Revenue    0\n",
      "dtype: int64\n"
     ]
    }
   ],
   "source": [
    "# check outlier count\n",
    "print('\\n*** Outlier Count ***')\n",
    "print(utils.OutlierCount(df))\n"
   ]
  },
  {
   "cell_type": "code",
   "execution_count": 17,
   "id": "921bf791",
   "metadata": {},
   "outputs": [
    {
     "name": "stdout",
     "output_type": "stream",
     "text": [
      "\n",
      "*** Outlier Values ***\n",
      "Hits       []\n",
      "Revenue    []\n",
      "dtype: object\n"
     ]
    }
   ],
   "source": [
    "# check outlier values\n",
    "print('\\n*** Outlier Values ***')\n",
    "print(utils.OutlierValues(df))\n"
   ]
  },
  {
   "cell_type": "code",
   "execution_count": 18,
   "id": "617dca7d",
   "metadata": {},
   "outputs": [],
   "source": [
    "# handle outliers if required"
   ]
  },
  {
   "cell_type": "code",
   "execution_count": 19,
   "id": "5c5fbfcc",
   "metadata": {},
   "outputs": [
    {
     "name": "stdout",
     "output_type": "stream",
     "text": [
      "\n",
      "*** Variance In Columns ***\n",
      "Hits       26961.67033\n",
      "Revenue    65382.21978\n",
      "dtype: float64\n"
     ]
    }
   ],
   "source": [
    "# check variance\n",
    "print('\\n*** Variance In Columns ***')\n",
    "print(df.var())\n"
   ]
  },
  {
   "cell_type": "code",
   "execution_count": 20,
   "id": "28700f9b",
   "metadata": {},
   "outputs": [
    {
     "name": "stdout",
     "output_type": "stream",
     "text": [
      "\n",
      "*** StdDev In Columns ***\n",
      "Hits       164.200092\n",
      "Revenue    255.699472\n",
      "dtype: float64\n"
     ]
    }
   ],
   "source": [
    "# check std dev \n",
    "print('\\n*** StdDev In Columns ***')\n",
    "print(df.std())\n"
   ]
  },
  {
   "cell_type": "code",
   "execution_count": 21,
   "id": "7dc3fd40",
   "metadata": {},
   "outputs": [
    {
     "name": "stdout",
     "output_type": "stream",
     "text": [
      "\n",
      "*** Mean In Columns ***\n",
      "Hits       506.857143\n",
      "Revenue    494.714286\n",
      "dtype: float64\n"
     ]
    }
   ],
   "source": [
    "# check mean\n",
    "print('\\n*** Mean In Columns ***')\n",
    "print(df.mean())\n"
   ]
  },
  {
   "cell_type": "code",
   "execution_count": 22,
   "id": "61398a7f",
   "metadata": {},
   "outputs": [],
   "source": [
    "# handle normalization if required"
   ]
  },
  {
   "cell_type": "code",
   "execution_count": 23,
   "id": "ea40cea5",
   "metadata": {},
   "outputs": [
    {
     "name": "stdout",
     "output_type": "stream",
     "text": [
      "\n",
      "*** Columns With Zeros ***\n",
      "Hits       0\n",
      "Revenue    0\n",
      "dtype: int64\n"
     ]
    }
   ],
   "source": [
    "# check zeros\n",
    "print('\\n*** Columns With Zeros ***')\n",
    "print((df==0).sum())\n"
   ]
  },
  {
   "cell_type": "code",
   "execution_count": 24,
   "id": "20f4c17b",
   "metadata": {},
   "outputs": [],
   "source": [
    "# handle zeros if required\n"
   ]
  },
  {
   "cell_type": "code",
   "execution_count": 25,
   "id": "f024fadc",
   "metadata": {},
   "outputs": [
    {
     "name": "stdout",
     "output_type": "stream",
     "text": [
      "\n",
      "*** Columns With Nulls ***\n",
      "Hits       0\n",
      "Revenue    0\n",
      "dtype: int64\n"
     ]
    }
   ],
   "source": [
    "# check nulls\n",
    "print('\\n*** Columns With Nulls ***')\n",
    "print(df.isnull().sum()) \n"
   ]
  },
  {
   "cell_type": "code",
   "execution_count": 26,
   "id": "80f65580",
   "metadata": {},
   "outputs": [],
   "source": [
    "# handle nulls if required"
   ]
  },
  {
   "cell_type": "code",
   "execution_count": 27,
   "id": "bfedec44",
   "metadata": {},
   "outputs": [
    {
     "name": "stdout",
     "output_type": "stream",
     "text": [
      "\n",
      "*** Correlation Table ***\n",
      "         Hits  Revenue\n",
      "Hits     1.00     0.90\n",
      "Revenue  0.90     1.00\n"
     ]
    }
   ],
   "source": [
    "# check relation with corelation - table\n",
    "print(\"\\n*** Correlation Table ***\")\n",
    "pd.options.display.float_format = '{:,.2f}'.format\n",
    "print(df.corr())\n"
   ]
  },
  {
   "cell_type": "code",
   "execution_count": 28,
   "id": "39ca2594",
   "metadata": {},
   "outputs": [],
   "source": [
    "# handle multi colinearity if required\n"
   ]
  },
  {
   "cell_type": "code",
   "execution_count": 30,
   "id": "381b1671",
   "metadata": {},
   "outputs": [
    {
     "name": "stdout",
     "output_type": "stream",
     "text": [
      "\n",
      "*** Heat Map ***\n"
     ]
    },
    {
     "data": {
      "image/png": "[encoded data removed]",
      "text/plain": [
       "<Figure size 288x288 with 2 Axes>"
      ]
     },
     "metadata": {},
     "output_type": "display_data"
    }
   ],
   "source": [
    "# Visual Data Analytics\n",
    "\n",
    "# check relation with corelation - heatmap\n",
    "print(\"\\n*** Heat Map ***\")\n",
    "plt.figure(figsize=(4,4))\n",
    "ax = sns.heatmap(df.corr(), annot=True, cmap=\"PiYG\")\n",
    "bottom, top = ax.get_ylim()\n",
    "ax.set_ylim(bottom+0.5, top-0.5)\n",
    "plt.show()"
   ]
  },
  {
   "cell_type": "code",
   "execution_count": 31,
   "id": "4f8c3d06",
   "metadata": {},
   "outputs": [
    {
     "name": "stdout",
     "output_type": "stream",
     "text": [
      "\n",
      "*** Boxplot ***\n"
     ]
    },
    {
     "data": {
      "image/png": "[encoded data removed]",
      "text/plain": [
       "<Figure size 432x288 with 1 Axes>"
      ]
     },
     "metadata": {},
     "output_type": "display_data"
    },
    {
     "data": {
      "image/png": "[encoded data removed]",
      "text/plain": [
       "<Figure size 432x288 with 1 Axes>"
      ]
     },
     "metadata": {},
     "output_type": "display_data"
    }
   ],
   "source": [
    "# boxplot\n",
    "print('\\n*** Boxplot ***')\n",
    "colNames = df.columns.tolist()\n",
    "for colName in colNames:\n",
    "    colValues = df[colName].values\n",
    "    plt.figure()\n",
    "    sns.boxplot(y=df[colName], color='b')\n",
    "    plt.title(colName)\n"
   ]
  },
  {
   "cell_type": "code",
   "execution_count": 32,
   "id": "4afb07ec",
   "metadata": {},
   "outputs": [
    {
     "name": "stdout",
     "output_type": "stream",
     "text": [
      "\n",
      "*** Boxplot ***\n"
     ]
    },
    {
     "data": {
      "image/png": "[encoded data removed]",
      "text/plain": [
       "<Figure size 432x288 with 1 Axes>"
      ]
     },
     "metadata": {},
     "output_type": "display_data"
    },
    {
     "data": {
      "image/png": "[encoded data removed]",
      "text/plain": [
       "<Figure size 432x288 with 1 Axes>"
      ]
     },
     "metadata": {},
     "output_type": "display_data"
    }
   ],
   "source": [
    "# boxplot\n",
    "print('\\n*** Boxplot ***')\n",
    "colNames = df.columns.tolist()\n",
    "for colName in colNames:\n",
    "    colValues = df[colName].values\n",
    "    plt.figure()\n",
    "    sns.boxplot(y=df[colName], color='b')\n",
    "    plt.title(colName)\n"
   ]
  },
  {
   "cell_type": "code",
   "execution_count": 33,
   "id": "d02619a2",
   "metadata": {},
   "outputs": [
    {
     "name": "stdout",
     "output_type": "stream",
     "text": [
      "\n",
      "*** Histograms ***\n"
     ]
    },
    {
     "data": {
      "image/png": "[encoded data removed]",
      "text/plain": [
       "<Figure size 432x288 with 1 Axes>"
      ]
     },
     "metadata": {},
     "output_type": "display_data"
    },
    {
     "data": {
      "image/png": "[encoded data removed]",
      "text/plain": [
       "<Figure size 432x288 with 1 Axes>"
      ]
     },
     "metadata": {},
     "output_type": "display_data"
    }
   ],
   "source": [
    "# plot histograms\n",
    "print('\\n*** Histograms ***')\n",
    "colNames = df.columns.tolist()\n",
    "for colName in colNames:\n",
    "    colValues = df[colName].values\n",
    "    plt.figure()\n",
    "    sns.distplot(colValues, bins=7, kde=False, color='b')\n",
    "    plt.title(colName)\n",
    "    plt.ylabel(colName)\n",
    "    plt.xlabel('Bins')\n",
    "    plt.show()"
   ]
  },
  {
   "cell_type": "code",
   "execution_count": 34,
   "id": "3a0f1dde",
   "metadata": {},
   "outputs": [
    {
     "name": "stdout",
     "output_type": "stream",
     "text": [
      "\n",
      "*** Scatterplot ***\n"
     ]
    },
    {
     "data": {
      "image/png": "[encoded data removed]",
      "text/plain": [
       "<Figure size 432x288 with 1 Axes>"
      ]
     },
     "metadata": {},
     "output_type": "display_data"
    }
   ],
   "source": [
    "# scatter plot - hits & rev - spl case\n",
    "print('\\n*** Scatterplot ***')\n",
    "plt.figure()\n",
    "sns.regplot(x='Revenue', y='Hits', data=df, color= 'b', scatter_kws={\"s\": 10})\n",
    "plt.title('Hits v/s Revenue')\n",
    "plt.ylabel('Hits')\n",
    "plt.xlabel('Revenue')\n",
    "# good practice\n",
    "plt.show()"
   ]
  },
  {
   "cell_type": "code",
   "execution_count": 35,
   "id": "b9cc78ca",
   "metadata": {},
   "outputs": [
    {
     "name": "stdout",
     "output_type": "stream",
     "text": [
      "\n",
      "*** Regression Data ***\n",
      "['Hits', 'Revenue']\n",
      "['Hits']\n"
     ]
    }
   ],
   "source": [
    "# Model Creation & Fitting And Prediction for Feature \n",
    "##############################################################\n",
    "\n",
    "# all cols except dep var\n",
    "print(\"\\n*** Regression Data ***\")\n",
    "allCols = df.columns.tolist()\n",
    "print(allCols)\n",
    "allCols.remove(depVars)\n",
    "print(allCols)\n"
   ]
  },
  {
   "cell_type": "code",
   "execution_count": 36,
   "id": "620181df",
   "metadata": {},
   "outputs": [
    {
     "name": "stdout",
     "output_type": "stream",
     "text": [
      "\n",
      "*** Regression Summary ***\n",
      "                            OLS Regression Results                            \n",
      "==============================================================================\n",
      "Dep. Variable:                Revenue   R-squared:                       0.808\n",
      "Model:                            OLS   Adj. R-squared:                  0.792\n",
      "Method:                 Least Squares   F-statistic:                     50.47\n",
      "Date:                Mon, 25 Oct 2021   Prob (F-statistic):           1.24e-05\n",
      "Time:                        18:47:27   Log-Likelihood:                -85.414\n",
      "No. Observations:                  14   AIC:                             174.8\n",
      "Df Residuals:                      12   BIC:                             176.1\n",
      "Df Model:                           1                                         \n",
      "Covariance Type:            nonrobust                                         \n",
      "==============================================================================\n",
      "                 coef    std err          t      P>|t|      [0.025      0.975]\n",
      "------------------------------------------------------------------------------\n",
      "const       -214.7397    104.615     -2.053      0.063    -442.676      13.197\n",
      "Hits           1.3997      0.197      7.104      0.000       0.970       1.829\n",
      "==============================================================================\n",
      "Omnibus:                        3.316   Durbin-Watson:                   2.340\n",
      "Prob(Omnibus):                  0.191   Jarque-Bera (JB):                1.269\n",
      "Skew:                           0.683   Prob(JB):                        0.530\n",
      "Kurtosis:                       3.558   Cond. No.                     1.78e+03\n",
      "==============================================================================\n",
      "\n",
      "Notes:\n",
      "[1] Standard Errors assume that the covariance matrix of the errors is correctly specified.\n",
      "[2] The condition number is large, 1.78e+03. This might indicate that there are\n",
      "strong multicollinearity or other numerical problems.\n"
     ]
    }
   ],
   "source": [
    "# regression summary for feature\n",
    "\n",
    "print(\"\\n*** Regression Summary ***\")\n",
    "import statsmodels.api as sm\n",
    "X = sm.add_constant(df[allCols])\n",
    "y = df[depVars]\n",
    "OlsSmry = sm.OLS(y, X)\n",
    "LRModel = OlsSmry.fit()\n",
    "print(LRModel.summary())"
   ]
  },
  {
   "cell_type": "code",
   "execution_count": 37,
   "id": "16eecf7d",
   "metadata": {},
   "outputs": [
    {
     "name": "stdout",
     "output_type": "stream",
     "text": [
      "\n",
      "*** Regression Model ***\n",
      "(14, 1)\n",
      "(14,)\n",
      "<class 'numpy.ndarray'>\n",
      "<class 'numpy.ndarray'>\n"
     ]
    }
   ],
   "source": [
    "# now create linear regression model\n",
    "print(\"\\n*** Regression Model ***\")\n",
    "X = df[allCols].values.reshape(-1,1)\n",
    "y = df[depVars].values\n",
    "print(X.shape)\n",
    "print(y.shape)\n",
    "print(type(X))\n",
    "print(type(y))"
   ]
  },
  {
   "cell_type": "code",
   "execution_count": 38,
   "id": "30acba1b",
   "metadata": {},
   "outputs": [
    {
     "name": "stdout",
     "output_type": "stream",
     "text": [
      "LinearRegression()\n"
     ]
    },
    {
     "data": {
      "text/plain": [
       "LinearRegression()"
      ]
     },
     "execution_count": 38,
     "metadata": {},
     "output_type": "execute_result"
    }
   ],
   "source": [
    "from sklearn.linear_model import LinearRegression\n",
    "model = LinearRegression()\n",
    "print(model)\n",
    "model.fit(X,y)"
   ]
  },
  {
   "cell_type": "code",
   "execution_count": 39,
   "id": "b9363427",
   "metadata": {},
   "outputs": [],
   "source": [
    "# predict\n",
    "p = model.predict(X)\n",
    "df['predict'] = p\n"
   ]
  },
  {
   "cell_type": "code",
   "execution_count": 40,
   "id": "68184c6e",
   "metadata": {},
   "outputs": [
    {
     "name": "stdout",
     "output_type": "stream",
     "text": [
      "\n",
      "*** Scatter Plot ***\n"
     ]
    },
    {
     "data": {
      "image/png": "[encoded data removed]",
      "text/plain": [
       "<Figure size 432x288 with 1 Axes>"
      ]
     },
     "metadata": {},
     "output_type": "display_data"
    }
   ],
   "source": [
    "# Model Evaluation\n",
    "##############################################################\n",
    "\n",
    "# visualize \n",
    "print(\"\\n*** Scatter Plot ***\")\n",
    "plt.figure()\n",
    "sns.regplot(data=df, x=depVars, y='predict', color='b', scatter_kws={\"s\": 10})\n",
    "plt.show()"
   ]
  },
  {
   "cell_type": "code",
   "execution_count": 41,
   "id": "da38bebe",
   "metadata": {},
   "outputs": [
    {
     "name": "stdout",
     "output_type": "stream",
     "text": [
      "\n",
      "*** Mean Absolute Error ***\n",
      "84.80827192088032\n"
     ]
    }
   ],
   "source": [
    "# mae \n",
    "print(\"\\n*** Mean Absolute Error ***\")\n",
    "from sklearn.metrics import mean_absolute_error\n",
    "mae = mean_absolute_error(df[depVars], df['predict'])\n",
    "print(mae)"
   ]
  },
  {
   "cell_type": "code",
   "execution_count": 42,
   "id": "f9e9fff9",
   "metadata": {},
   "outputs": [
    {
     "name": "stdout",
     "output_type": "stream",
     "text": [
      "\n",
      "*** Mean Squared Error ***\n",
      "11662.013432523314\n"
     ]
    }
   ],
   "source": [
    "# mse\n",
    "print(\"\\n*** Mean Squared Error ***\")\n",
    "from sklearn.metrics import mean_squared_error\n",
    "mse = mean_squared_error(df[depVars], df['predict'])\n",
    "print(mse)"
   ]
  },
  {
   "cell_type": "code",
   "execution_count": 51,
   "id": "dd6cf6a2",
   "metadata": {},
   "outputs": [
    {
     "name": "stdout",
     "output_type": "stream",
     "text": [
      "\n",
      "*** Root Mean Squared Error ***\n",
      "107.99080253671288\n"
     ]
    }
   ],
   "source": [
    "# rmse \n",
    "print(\"\\n*** Root Mean Squared Error ***\")\n",
    "rmse = np.sqrt(mse)\n",
    "print(rmse)"
   ]
  },
  {
   "cell_type": "code",
   "execution_count": 44,
   "id": "f4c88cb0",
   "metadata": {},
   "outputs": [
    {
     "name": "stdout",
     "output_type": "stream",
     "text": [
      "\n",
      "*** Mean ***\n",
      "494.7142857142857\n",
      "494.7142857142858\n"
     ]
    }
   ],
   "source": [
    "# check mean\n",
    "print('\\n*** Mean ***')\n",
    "print(df[depVars].mean())\n",
    "print(df['predict'].mean())"
   ]
  },
  {
   "cell_type": "code",
   "execution_count": 48,
   "id": "8c4fd929",
   "metadata": {},
   "outputs": [],
   "source": [
    "### accuracy\n",
    "# MAPE(Mean Absolute Percentage Error)\n",
    "\n",
    "mape = np.mean(np.abs(df['predict'] - df[depVars])/np.abs(df[depVars]))\n",
    "acc = 1 - mape\n"
   ]
  },
  {
   "cell_type": "code",
   "execution_count": 47,
   "id": "2b77b713",
   "metadata": {},
   "outputs": [
    {
     "name": "stdout",
     "output_type": "stream",
     "text": [
      "\n",
      "*** Scatter Index ***\n",
      "0.21828923411983545\n"
     ]
    }
   ],
   "source": [
    "# scatter index (SI) is defined to judge whether RMSE is good or not. \n",
    "# SI=RMSE/measured data mean. \n",
    "# If SI is less than one, your estimations are acceptable.\n",
    "# closer to zero the better\n",
    "print('\\n*** Scatter Index ***')\n",
    "si = rmse/df[depVars].mean()\n",
    "print(si)"
   ]
  },
  {
   "cell_type": "code",
   "execution_count": 49,
   "id": "f008a6d8",
   "metadata": {},
   "outputs": [
    {
     "name": "stdout",
     "output_type": "stream",
     "text": [
      "[200 300 400 500]\n"
     ]
    }
   ],
   "source": [
    "# predict for rooms from 200 to 500 step 100\n",
    "prd_X = np.array([[200],[300],[400],[500]])\n",
    "print(prd_X.flatten())"
   ]
  },
  {
   "cell_type": "code",
   "execution_count": 50,
   "id": "49989f7f",
   "metadata": {},
   "outputs": [
    {
     "name": "stdout",
     "output_type": "stream",
     "text": [
      "[ 65.20268415 205.17387647 345.14506878 485.1162611 ]\n"
     ]
    }
   ],
   "source": [
    "prd_p = model.predict(prd_X)\n",
    "print(prd_p)"
   ]
  },
  {
   "cell_type": "code",
   "execution_count": null,
   "id": "4b9430cf",
   "metadata": {},
   "outputs": [],
   "source": []
  }
 ],
 "metadata": {
  "kernelspec": {
   "display_name": "Python 3 (ipykernel)",
   "language": "python",
   "name": "python3"
  },
  "language_info": {
   "codemirror_mode": {
    "name": "ipython",
    "version": 3
   },
   "file_extension": ".py",
   "mimetype": "text/x-python",
   "name": "python",
   "nbconvert_exporter": "python",
   "pygments_lexer": "ipython3",
   "version": "3.8.8"
  }
 },
 "nbformat": 4,
 "nbformat_minor": 5
}
