{
 "cells": [
  {
   "cell_type": "code",
   "execution_count": 1,
   "id": "d1af879c",
   "metadata": {},
   "outputs": [],
   "source": [
    "# hides all warnings\n",
    "import warnings\n",
    "warnings.filterwarnings('ignore')\n"
   ]
  },
  {
   "cell_type": "code",
   "execution_count": 3,
   "id": "b029a4e3",
   "metadata": {},
   "outputs": [],
   "source": [
    "# imports\n",
    "import pandas as pd\n",
    "import utils"
   ]
  },
  {
   "cell_type": "code",
   "execution_count": 4,
   "id": "6a799546",
   "metadata": {},
   "outputs": [],
   "source": [
    "# read dataset\n",
    "df = pd.read_csv('./Iris.csv')"
   ]
  },
  {
   "cell_type": "code",
   "execution_count": 5,
   "id": "684f1637",
   "metadata": {},
   "outputs": [
    {
     "name": "stdout",
     "output_type": "stream",
     "text": [
      "\n",
      "*** Columns ***\n",
      "Index(['Id', 'SepalLengthCm', 'SepalWidthCm', 'PetalLengthCm', 'PetalWidthCm',\n",
      "       'Species'],\n",
      "      dtype='object')\n"
     ]
    }
   ],
   "source": [
    "# columns\n",
    "print(\"\\n*** Columns ***\")\n",
    "print(df.columns)"
   ]
  },
  {
   "cell_type": "code",
   "execution_count": 6,
   "id": "8796427c",
   "metadata": {},
   "outputs": [
    {
     "name": "stdout",
     "output_type": "stream",
     "text": [
      "\n",
      "*** Structure ***\n",
      "<class 'pandas.core.frame.DataFrame'>\n",
      "RangeIndex: 150 entries, 0 to 149\n",
      "Data columns (total 6 columns):\n",
      " #   Column         Non-Null Count  Dtype  \n",
      "---  ------         --------------  -----  \n",
      " 0   Id             150 non-null    int64  \n",
      " 1   SepalLengthCm  150 non-null    float64\n",
      " 2   SepalWidthCm   150 non-null    float64\n",
      " 3   PetalLengthCm  150 non-null    float64\n",
      " 4   PetalWidthCm   150 non-null    float64\n",
      " 5   Species        150 non-null    object \n",
      "dtypes: float64(4), int64(1), object(1)\n",
      "memory usage: 7.2+ KB\n",
      "None\n"
     ]
    }
   ],
   "source": [
    " #info\n",
    "print(\"\\n*** Structure ***\")\n",
    "print(df.info())"
   ]
  },
  {
   "cell_type": "code",
   "execution_count": 7,
   "id": "d4c26cfe",
   "metadata": {},
   "outputs": [
    {
     "name": "stdout",
     "output_type": "stream",
     "text": [
      "\n",
      "*** Summary ***\n",
      "               Id  SepalLengthCm  SepalWidthCm  PetalLengthCm  PetalWidthCm\n",
      "count  150.000000     150.000000    150.000000     150.000000    150.000000\n",
      "mean    75.500000       5.843333      3.054000       3.758667      1.198667\n",
      "std     43.445368       0.828066      0.433594       1.764420      0.763161\n",
      "min      1.000000       4.300000      2.000000       1.000000      0.100000\n",
      "25%     38.250000       5.100000      2.800000       1.600000      0.300000\n",
      "50%     75.500000       5.800000      3.000000       4.350000      1.300000\n",
      "75%    112.750000       6.400000      3.300000       5.100000      1.800000\n",
      "max    150.000000       7.900000      4.400000       6.900000      2.500000\n"
     ]
    }
   ],
   "source": [
    "# summary\n",
    "print(\"\\n*** Summary ***\")\n",
    "print(df.describe())\n"
   ]
  },
  {
   "cell_type": "code",
   "execution_count": 8,
   "id": "36c0589e",
   "metadata": {},
   "outputs": [
    {
     "name": "stdout",
     "output_type": "stream",
     "text": [
      "\n",
      "*** Head ***\n",
      "   Id  SepalLengthCm  SepalWidthCm  PetalLengthCm  PetalWidthCm      Species\n",
      "0   1            5.1           3.5            1.4           0.2  Iris-setosa\n",
      "1   2            4.9           3.0            1.4           0.2  Iris-setosa\n",
      "2   3            4.7           3.2            1.3           0.2  Iris-setosa\n",
      "3   4            4.6           3.1            1.5           0.2  Iris-setosa\n",
      "4   5            5.0           3.6            1.4           0.2  Iris-setosa\n"
     ]
    }
   ],
   "source": [
    "# head\n",
    "print(\"\\n*** Head ***\")\n",
    "print(df.head())"
   ]
  },
  {
   "cell_type": "code",
   "execution_count": 10,
   "id": "f9c2f10c",
   "metadata": {},
   "outputs": [
    {
     "name": "stdout",
     "output_type": "stream",
     "text": [
      "\n",
      "*** Transformation ***\n"
     ]
    }
   ],
   "source": [
    " #drop Id\n",
    "# change as required\n",
    "print(\"\\n*** Transformation ***\")\n",
    "df = df.drop('Id', axis=1)"
   ]
  },
  {
   "cell_type": "code",
   "execution_count": 11,
   "id": "f6723915",
   "metadata": {},
   "outputs": [
    {
     "name": "stdout",
     "output_type": "stream",
     "text": [
      "Done ...\n"
     ]
    }
   ],
   "source": [
    "# store class variable  \n",
    "# change as required\n",
    "clsVars = \"Species\"\n",
    "print(\"Done ...\")"
   ]
  },
  {
   "cell_type": "code",
   "execution_count": 12,
   "id": "db63a1f8",
   "metadata": {},
   "outputs": [
    {
     "name": "stdout",
     "output_type": "stream",
     "text": [
      "\n",
      "*** Counts ***\n",
      "Species\n",
      "Iris-setosa        50\n",
      "Iris-versicolor    50\n",
      "Iris-virginica     50\n",
      "dtype: int64\n"
     ]
    }
   ],
   "source": [
    "# counts\n",
    "print(\"\\n*** Counts ***\")\n",
    "print(df.groupby(df[clsVars]).size())"
   ]
  },
  {
   "cell_type": "code",
   "execution_count": 13,
   "id": "ea471910",
   "metadata": {},
   "outputs": [
    {
     "name": "stdout",
     "output_type": "stream",
     "text": [
      "\n",
      "*** Unique Species - Categoric Alpha***\n",
      "['Iris-setosa' 'Iris-versicolor' 'Iris-virginica']\n"
     ]
    }
   ],
   "source": [
    "# get unique Species names\n",
    "print(\"\\n*** Unique Species - Categoric Alpha***\")\n",
    "lnLabels = df[clsVars].unique()\n",
    "print(lnLabels)"
   ]
  },
  {
   "cell_type": "code",
   "execution_count": 14,
   "id": "d9a06237",
   "metadata": {},
   "outputs": [
    {
     "name": "stdout",
     "output_type": "stream",
     "text": [
      "\n",
      "*** Unique Species - Categoric Numeric ***\n",
      "[0 1 2]\n"
     ]
    }
   ],
   "source": [
    "# convert string / categoric to numeric\n",
    "print(\"\\n*** Unique Species - Categoric Numeric ***\")\n",
    "df[clsVars] = pd.Categorical(df[clsVars])\n",
    "df[clsVars] = df[clsVars].cat.codes\n",
    "lnCCodes = df[clsVars].unique()\n",
    "print(lnCCodes)"
   ]
  },
  {
   "cell_type": "code",
   "execution_count": 15,
   "id": "ee599128",
   "metadata": {},
   "outputs": [],
   "source": [
    "# master df\n",
    "dfm = df.copy()\n"
   ]
  },
  {
   "cell_type": "raw",
   "id": "ea1b6986",
   "metadata": {},
   "source": [
    "# Data Rescaling\n",
    "Your preprocessed data may contain attributes with a mixtures of scales for \n",
    "various quantities such as dollars, kilograms and sales volume.\n",
    "Many machine learning methods expect or are more effective if the data attributes have the same scale. \n",
    "Two popular data scaling methods are normalization and standardization.\n",
    " "
   ]
  },
  {
   "cell_type": "code",
   "execution_count": 20,
   "id": "40f87e30",
   "metadata": {},
   "outputs": [],
   "source": [
    "#Data Normalization\n",
    "# Normalization refers to rescaling real valued numeric attributes into the range 0 and 1.\n",
    "# It is useful to scale the input attributes for a model that relies on the \n",
    "# magnitude of values, such as distance measures used in k-nearest neighbors \n",
    "# and in the preparation of coefficients in regression.\n",
    "#\n",
    "# The MinMaxScaler transforms features by scaling each feature to a given range. \n",
    "# This range can be set by specifying the feature_range parameter (default at (0,1))\n",
    "#\n",
    "# manually\n",
    "#normalized = (x-min(x))/(max(x)-min(x))"
   ]
  },
  {
   "cell_type": "code",
   "execution_count": 19,
   "id": "cfb3c03b",
   "metadata": {},
   "outputs": [],
   "source": [
    "# preparing for normalization / standadrization\n",
    "df = dfm.copy()"
   ]
  },
  {
   "cell_type": "code",
   "execution_count": 21,
   "id": "8f503264",
   "metadata": {},
   "outputs": [
    {
     "name": "stdout",
     "output_type": "stream",
     "text": [
      "\n",
      "*** Variance In Columns ***\n",
      "SepalLengthCm    0.685694\n",
      "SepalWidthCm     0.188004\n",
      "PetalLengthCm    3.113179\n",
      "PetalWidthCm     0.582414\n",
      "Species          0.671141\n",
      "dtype: float64\n"
     ]
    }
   ],
   "source": [
    "# check variance\n",
    "print('\\n*** Variance In Columns ***')\n",
    "print(df.var())\n"
   ]
  },
  {
   "cell_type": "code",
   "execution_count": 22,
   "id": "919dda2b",
   "metadata": {},
   "outputs": [
    {
     "name": "stdout",
     "output_type": "stream",
     "text": [
      "\n",
      "*** StdDev In Columns ***\n",
      "SepalLengthCm    0.828066\n",
      "SepalWidthCm     0.433594\n",
      "PetalLengthCm    1.764420\n",
      "PetalWidthCm     0.763161\n",
      "Species          0.819232\n",
      "dtype: float64\n"
     ]
    }
   ],
   "source": [
    "# check std dev\n",
    "print('\\n*** StdDev In Columns ***')\n",
    "print(df.std())\n"
   ]
  },
  {
   "cell_type": "code",
   "execution_count": 23,
   "id": "c3200c64",
   "metadata": {},
   "outputs": [
    {
     "name": "stdout",
     "output_type": "stream",
     "text": [
      "\n",
      "*** Normalize Data ***\n",
      "Done ...\n"
     ]
    }
   ],
   "source": [
    "# normalize data\n",
    "print('\\n*** Normalize Data ***')\n",
    "df = utils.NormalizeData(df, clsVars)\n",
    "print('Done ...')\n"
   ]
  },
  {
   "cell_type": "code",
   "execution_count": 24,
   "id": "c59eb2b1",
   "metadata": {},
   "outputs": [
    {
     "name": "stdout",
     "output_type": "stream",
     "text": [
      "*** Variance In Columns ***\n",
      "SepalLengthCm    0.052908\n",
      "SepalWidthCm     0.032640\n",
      "PetalLengthCm    0.089433\n",
      "PetalWidthCm     0.101114\n",
      "Species          0.671141\n",
      "dtype: float64\n"
     ]
    }
   ],
   "source": [
    "# check variance\n",
    "print('*** Variance In Columns ***')\n",
    "print(df.var())"
   ]
  },
  {
   "cell_type": "code",
   "execution_count": 25,
   "id": "b82d00b9",
   "metadata": {},
   "outputs": [
    {
     "name": "stdout",
     "output_type": "stream",
     "text": [
      "\n",
      "*** StdDev In Columns ***\n",
      "SepalLengthCm    0.230018\n",
      "SepalWidthCm     0.180664\n",
      "PetalLengthCm    0.299054\n",
      "PetalWidthCm     0.317984\n",
      "Species          0.819232\n",
      "dtype: float64\n"
     ]
    }
   ],
   "source": [
    "# check std dev\n",
    "print('\\n*** StdDev In Columns ***')\n",
    "print(df.std())\n"
   ]
  },
  {
   "cell_type": "code",
   "execution_count": 26,
   "id": "bc111b5a",
   "metadata": {},
   "outputs": [],
   "source": [
    "# Data Standardization\n",
    "# Standardization refers to shifting the distribution of each attribute to have \n",
    "# a mean of zero and a standard deviation of one (unit variance).\n",
    "# \n",
    "# It is useful to standardize attributes for a model that relies on the \n",
    "# distribution of attributes such as Gaussian processes.\n",
    "#\n",
    "# Sklearn its main scaler, the StandardScaler, uses a strict definition of standardization \n",
    "# to standardize data. It purely centers the data by using the below formula\n",
    "#\n",
    "# manually\n",
    "# standardized = (x-mean(x))/stdev(x)\n",
    "\n",
    "# preparing for normalization / standadrization\n",
    "df = dfm.copy()"
   ]
  },
  {
   "cell_type": "code",
   "execution_count": 27,
   "id": "7e28af6d",
   "metadata": {},
   "outputs": [
    {
     "name": "stdout",
     "output_type": "stream",
     "text": [
      "\n",
      "*** Variance In Columns ***\n",
      "SepalLengthCm    0.685694\n",
      "SepalWidthCm     0.188004\n",
      "PetalLengthCm    3.113179\n",
      "PetalWidthCm     0.582414\n",
      "Species          0.671141\n",
      "dtype: float64\n"
     ]
    }
   ],
   "source": [
    "# check variance\n",
    "print('\\n*** Variance In Columns ***')\n",
    "print(df.var())\n"
   ]
  },
  {
   "cell_type": "code",
   "execution_count": 28,
   "id": "b320232d",
   "metadata": {},
   "outputs": [
    {
     "name": "stdout",
     "output_type": "stream",
     "text": [
      "\n",
      "*** StdDev In Columns ***\n",
      "SepalLengthCm    0.828066\n",
      "SepalWidthCm     0.433594\n",
      "PetalLengthCm    1.764420\n",
      "PetalWidthCm     0.763161\n",
      "Species          0.819232\n",
      "dtype: float64\n"
     ]
    }
   ],
   "source": [
    "# check std dev\n",
    "print('\\n*** StdDev In Columns ***')\n",
    "print(df.std())"
   ]
  },
  {
   "cell_type": "code",
   "execution_count": 29,
   "id": "3ffa62db",
   "metadata": {},
   "outputs": [
    {
     "name": "stdout",
     "output_type": "stream",
     "text": [
      "\n",
      "*** Standardize Data ***\n",
      "Done ...\n"
     ]
    }
   ],
   "source": [
    "# standardize data\n",
    "print('\\n*** Standardize Data ***')\n",
    "df = utils.StandardizeData(df, clsVars)\n",
    "print('Done ...')"
   ]
  },
  {
   "cell_type": "code",
   "execution_count": 30,
   "id": "1da84311",
   "metadata": {},
   "outputs": [
    {
     "name": "stdout",
     "output_type": "stream",
     "text": [
      "*** Variance In Columns ***\n",
      "SepalLengthCm    1.006711\n",
      "SepalWidthCm     1.006711\n",
      "PetalLengthCm    1.006711\n",
      "PetalWidthCm     1.006711\n",
      "Species          0.671141\n",
      "dtype: float64\n"
     ]
    }
   ],
   "source": [
    "# check variance\n",
    "print('*** Variance In Columns ***')\n",
    "print(df.var())\n"
   ]
  },
  {
   "cell_type": "code",
   "execution_count": 31,
   "id": "7843377c",
   "metadata": {},
   "outputs": [
    {
     "name": "stdout",
     "output_type": "stream",
     "text": [
      "\n",
      "*** StdDev In Columns ***\n",
      "SepalLengthCm    1.003350\n",
      "SepalWidthCm     1.003350\n",
      "PetalLengthCm    1.003350\n",
      "PetalWidthCm     1.003350\n",
      "Species          0.819232\n",
      "dtype: float64\n"
     ]
    }
   ],
   "source": [
    "# check std dev\n",
    "print('\\n*** StdDev In Columns ***')\n",
    "print(df.std())"
   ]
  },
  {
   "cell_type": "code",
   "execution_count": 32,
   "id": "1e7f440e",
   "metadata": {},
   "outputs": [],
   "source": [
    "# Absoulute Scaled\n",
    "# The MaxAbsScaler works very similarly to the MinMaxScaler but automatically \n",
    "# scales the data to a [-1,1] range based on the absolute maximum. This scaler \n",
    "# is meant for data that is already centered at zero or sparse data. It does not \n",
    "# shift/center the data, and thus does not destroy any sparsity.\n",
    "\n",
    "# manually\n",
    "# scaled = x / max(abs(x))\n",
    "\n",
    "# preparing for normalization / standadrization\n",
    "df = dfm.copy()"
   ]
  },
  {
   "cell_type": "code",
   "execution_count": 33,
   "id": "6d52f8c4",
   "metadata": {},
   "outputs": [
    {
     "name": "stdout",
     "output_type": "stream",
     "text": [
      "\n",
      "*** Variance In Columns ***\n",
      "SepalLengthCm    0.685694\n",
      "SepalWidthCm     0.188004\n",
      "PetalLengthCm    3.113179\n",
      "PetalWidthCm     0.582414\n",
      "Species          0.671141\n",
      "dtype: float64\n"
     ]
    }
   ],
   "source": [
    "# check variance\n",
    "print('\\n*** Variance In Columns ***')\n",
    "print(df.var())"
   ]
  },
  {
   "cell_type": "code",
   "execution_count": 34,
   "id": "64aeac2a",
   "metadata": {},
   "outputs": [
    {
     "name": "stdout",
     "output_type": "stream",
     "text": [
      "\n",
      "*** StdDev In Columns ***\n",
      "SepalLengthCm    0.828066\n",
      "SepalWidthCm     0.433594\n",
      "PetalLengthCm    1.764420\n",
      "PetalWidthCm     0.763161\n",
      "Species          0.819232\n",
      "dtype: float64\n"
     ]
    }
   ],
   "source": [
    "# check std dev\n",
    "print('\\n*** StdDev In Columns ***')\n",
    "print(df.std())"
   ]
  },
  {
   "cell_type": "code",
   "execution_count": 35,
   "id": "5d99291f",
   "metadata": {},
   "outputs": [
    {
     "name": "stdout",
     "output_type": "stream",
     "text": [
      "\n",
      "*** MaxAbsScaledData Data ***\n",
      "Done ...\n"
     ]
    }
   ],
   "source": [
    "# MaxAbsScaledData\n",
    "print('\\n*** MaxAbsScaledData Data ***')\n",
    "df = utils.MaxAbsScaledData(df, clsVars)\n",
    "print('Done ...')"
   ]
  },
  {
   "cell_type": "code",
   "execution_count": 36,
   "id": "8227d781",
   "metadata": {},
   "outputs": [
    {
     "name": "stdout",
     "output_type": "stream",
     "text": [
      "*** Variance In Columns ***\n",
      "SepalLengthCm    0.010987\n",
      "SepalWidthCm     0.009711\n",
      "PetalLengthCm    0.065389\n",
      "PetalWidthCm     0.093186\n",
      "Species          0.671141\n",
      "dtype: float64\n"
     ]
    }
   ],
   "source": [
    "# check variance\n",
    "print('*** Variance In Columns ***')\n",
    "print(df.var())"
   ]
  },
  {
   "cell_type": "code",
   "execution_count": 37,
   "id": "4b33729b",
   "metadata": {},
   "outputs": [
    {
     "name": "stdout",
     "output_type": "stream",
     "text": [
      "\n",
      "*** StdDev In Columns ***\n",
      "SepalLengthCm    0.104818\n",
      "SepalWidthCm     0.098544\n",
      "PetalLengthCm    0.255713\n",
      "PetalWidthCm     0.305264\n",
      "Species          0.819232\n",
      "dtype: float64\n"
     ]
    }
   ],
   "source": [
    "# check std dev\n",
    "print('\\n*** StdDev In Columns ***')\n",
    "print(df.std())\n"
   ]
  },
  {
   "cell_type": "code",
   "execution_count": null,
   "id": "19144a5d",
   "metadata": {},
   "outputs": [],
   "source": []
  }
 ],
 "metadata": {
  "kernelspec": {
   "display_name": "Python 3 (ipykernel)",
   "language": "python",
   "name": "python3"
  },
  "language_info": {
   "codemirror_mode": {
    "name": "ipython",
    "version": 3
   },
   "file_extension": ".py",
   "mimetype": "text/x-python",
   "name": "python",
   "nbconvert_exporter": "python",
   "pygments_lexer": "ipython3",
   "version": "3.8.8"
  }
 },
 "nbformat": 4,
 "nbformat_minor": 5
}
