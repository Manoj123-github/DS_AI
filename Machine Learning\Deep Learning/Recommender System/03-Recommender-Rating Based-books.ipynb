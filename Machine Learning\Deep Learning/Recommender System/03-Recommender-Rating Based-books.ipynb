{
 "cells": [
  {
   "cell_type": "code",
   "execution_count": 1,
   "id": "79699e9f",
   "metadata": {},
   "outputs": [],
   "source": [
    "# imports\n",
    "import pandas as pd\n"
   ]
  },
  {
   "cell_type": "code",
   "execution_count": 2,
   "id": "6c64eb6b",
   "metadata": {},
   "outputs": [],
   "source": [
    "# read data\n",
    "df = pd.read_csv('C:/Users/Manoj Yadav/Desktop/Part II/ML II/Recommender system/BX-Books.csv', usecols=[0,1,2,3,4], encoding = \"ISO-8859-1\", low_memory=False)\n",
    "# load ratings\n",
    "rt = pd.read_csv('C:/Users/Manoj Yadav/Desktop/Part II/ML II/Recommender system/BX-Books-Ratings.csv', encoding = \"ISO-8859-1\", low_memory=False)\n"
   ]
  },
  {
   "cell_type": "code",
   "execution_count": 3,
   "id": "b7267887",
   "metadata": {},
   "outputs": [],
   "source": [
    "# get count & mean of ratings\n",
    "rt = rt.groupby('ISBN')['Book-Rating'].agg(['count','mean'])\n",
    "rt = rt.reset_index()\n",
    "rt.columns = ['ISBN','RatingsCount','RatingsAverage']\n"
   ]
  },
  {
   "cell_type": "code",
   "execution_count": 4,
   "id": "c88ca129",
   "metadata": {},
   "outputs": [
    {
     "name": "stdout",
     "output_type": "stream",
     "text": [
      "Rows: 271379\n",
      "Rows: 271379\n",
      "         ISBN                                         Book-Title  \\\n",
      "0  0195153448                                Classical Mythology   \n",
      "1  0002005018                                       Clara Callan   \n",
      "2  0060973129                               Decision in Normandy   \n",
      "3  0374157065  Flu: The Story of the Great Influenza Pandemic...   \n",
      "4  0393045218                             The Mummies of Urumchi   \n",
      "\n",
      "            Book-Author Year-Of-Publication                   Publisher  \\\n",
      "0    Mark P. O. Morford                2002     Oxford University Press   \n",
      "1  Richard Bruce Wright                2001       HarperFlamingo Canada   \n",
      "2          Carlo D'Este                1991             HarperPerennial   \n",
      "3      Gina Bari Kolata                1999        Farrar Straus Giroux   \n",
      "4       E. J. W. Barber                1999  W. W. Norton &amp, Company   \n",
      "\n",
      "   RatingsCount  RatingsAverage  \n",
      "0           1.0        0.000000  \n",
      "1          14.0        4.928571  \n",
      "2           3.0        5.000000  \n",
      "3          11.0        4.272727  \n",
      "4           1.0        0.000000  \n"
     ]
    }
   ],
   "source": [
    "# merge cols based on key, inner left\n",
    "print(\"Rows:\",len(df))\n",
    "df = pd.merge(df, rt, on='ISBN', how='left')\n",
    "print(\"Rows:\",len(df))\n",
    "print(df.head())\n"
   ]
  },
  {
   "cell_type": "code",
   "execution_count": 5,
   "id": "a85ace42",
   "metadata": {},
   "outputs": [
    {
     "name": "stdout",
     "output_type": "stream",
     "text": [
      "<class 'pandas.core.frame.DataFrame'>\n"
     ]
    }
   ],
   "source": [
    "# type\n",
    "print(type(df))"
   ]
  },
  {
   "cell_type": "code",
   "execution_count": 6,
   "id": "a607e832",
   "metadata": {},
   "outputs": [
    {
     "name": "stdout",
     "output_type": "stream",
     "text": [
      "(271379, 7)\n"
     ]
    }
   ],
   "source": [
    " #shape\n",
    "print(df.shape)"
   ]
  },
  {
   "cell_type": "code",
   "execution_count": 7,
   "id": "b6bcac6a",
   "metadata": {},
   "outputs": [
    {
     "name": "stdout",
     "output_type": "stream",
     "text": [
      "<class 'pandas.core.frame.DataFrame'>\n",
      "Int64Index: 271379 entries, 0 to 271378\n",
      "Data columns (total 7 columns):\n",
      " #   Column               Non-Null Count   Dtype  \n",
      "---  ------               --------------   -----  \n",
      " 0   ISBN                 271379 non-null  object \n",
      " 1   Book-Title           271379 non-null  object \n",
      " 2   Book-Author          271378 non-null  object \n",
      " 3   Year-Of-Publication  271379 non-null  object \n",
      " 4   Publisher            271377 non-null  object \n",
      " 5   RatingsCount         270170 non-null  float64\n",
      " 6   RatingsAverage       270170 non-null  float64\n",
      "dtypes: float64(2), object(5)\n",
      "memory usage: 16.6+ MB\n",
      "None\n"
     ]
    }
   ],
   "source": [
    "# info\n",
    "print(df.info())"
   ]
  },
  {
   "cell_type": "code",
   "execution_count": 8,
   "id": "74578054",
   "metadata": {},
   "outputs": [
    {
     "name": "stdout",
     "output_type": "stream",
     "text": [
      "        RatingsCount  RatingsAverage\n",
      "count  270170.000000   270170.000000\n",
      "mean        3.816764        2.884259\n",
      "std        13.811221        3.284504\n",
      "min         1.000000        0.000000\n",
      "25%         1.000000        0.000000\n",
      "50%         1.000000        1.818182\n",
      "75%         3.000000        5.000000\n",
      "max      2502.000000       10.000000\n"
     ]
    }
   ],
   "source": [
    "# describe\n",
    "print(df.describe())"
   ]
  },
  {
   "cell_type": "code",
   "execution_count": 9,
   "id": "174cccc0",
   "metadata": {},
   "outputs": [
    {
     "name": "stdout",
     "output_type": "stream",
     "text": [
      "         ISBN                                         Book-Title  \\\n",
      "0  0195153448                                Classical Mythology   \n",
      "1  0002005018                                       Clara Callan   \n",
      "2  0060973129                               Decision in Normandy   \n",
      "3  0374157065  Flu: The Story of the Great Influenza Pandemic...   \n",
      "4  0393045218                             The Mummies of Urumchi   \n",
      "\n",
      "            Book-Author Year-Of-Publication                   Publisher  \\\n",
      "0    Mark P. O. Morford                2002     Oxford University Press   \n",
      "1  Richard Bruce Wright                2001       HarperFlamingo Canada   \n",
      "2          Carlo D'Este                1991             HarperPerennial   \n",
      "3      Gina Bari Kolata                1999        Farrar Straus Giroux   \n",
      "4       E. J. W. Barber                1999  W. W. Norton &amp, Company   \n",
      "\n",
      "   RatingsCount  RatingsAverage  \n",
      "0           1.0        0.000000  \n",
      "1          14.0        4.928571  \n",
      "2           3.0        5.000000  \n",
      "3          11.0        4.272727  \n",
      "4           1.0        0.000000  \n"
     ]
    }
   ],
   "source": [
    "# head\n",
    "print(df.head())\n"
   ]
  },
  {
   "cell_type": "raw",
   "id": "9a646df8",
   "metadata": {},
   "source": [
    " Simple Recommender \n",
    "##################################################\n",
    "# books\n",
    "# based on weighted average calculated from ratings_average & ratings_count \n",
    "# with 50 percentile cut-off? \n",
    "# wa = ( (v/(v+m)) * R) + ( (m/(m+v)) * C)\n",
    "# where\n",
    "# v is the number of votes for the movie\n",
    "# m is the minimum votes required to be listed in the chart\n",
    "# R is the average rating of the movie\n",
    "# C is the mean vote across the whole report"
   ]
  },
  {
   "cell_type": "code",
   "execution_count": 10,
   "id": "3c7f041d",
   "metadata": {},
   "outputs": [
    {
     "name": "stdout",
     "output_type": "stream",
     "text": [
      "2.884258615230613\n"
     ]
    }
   ],
   "source": [
    "# C is the mean vote across the whole report\n",
    "C = df['RatingsAverage'].mean()\n",
    "print(C)"
   ]
  },
  {
   "cell_type": "code",
   "execution_count": 11,
   "id": "95df0a35",
   "metadata": {},
   "outputs": [
    {
     "name": "stdout",
     "output_type": "stream",
     "text": [
      "2.0\n"
     ]
    }
   ],
   "source": [
    "# m is the minimum votes required to be listed in the chart\n",
    "m = df['RatingsCount'].quantile(0.70)\n",
    "print(m)"
   ]
  },
  {
   "cell_type": "code",
   "execution_count": 12,
   "id": "174fd7f8",
   "metadata": {},
   "outputs": [
    {
     "name": "stdout",
     "output_type": "stream",
     "text": [
      "Rows: 271379\n",
      "<class 'pandas.core.frame.DataFrame'>\n",
      "Rows: 124512\n",
      "         ISBN                                         Book-Title  \\\n",
      "1  0002005018                                       Clara Callan   \n",
      "2  0060973129                               Decision in Normandy   \n",
      "3  0374157065  Flu: The Story of the Great Influenza Pandemic...   \n",
      "5  0399135782                             The Kitchen God's Wife   \n",
      "6  0425176428  What If?: The World's Foremost Military Histor...   \n",
      "\n",
      "            Book-Author Year-Of-Publication                 Publisher  \\\n",
      "1  Richard Bruce Wright                2001     HarperFlamingo Canada   \n",
      "2          Carlo D'Este                1991           HarperPerennial   \n",
      "3      Gina Bari Kolata                1999      Farrar Straus Giroux   \n",
      "5               Amy Tan                1991          Putnam Pub Group   \n",
      "6         Robert Cowley                2000  Berkley Publishing Group   \n",
      "\n",
      "   RatingsCount  RatingsAverage  \n",
      "1          14.0        4.928571  \n",
      "2           3.0        5.000000  \n",
      "3          11.0        4.272727  \n",
      "5          33.0        4.212121  \n",
      "6           5.0        1.600000  \n"
     ]
    }
   ],
   "source": [
    "# create a copy and filter for m\n",
    "# Filter out all qualified movies into a new DataFrame\n",
    "tm = df.copy()\n",
    "print(\"Rows:\",len(tm))\n",
    "tm = tm[tm['RatingsCount'] >= m]\n",
    "print(type(tm))\n",
    "print(\"Rows:\",len(tm))\n",
    "print(tm.head())"
   ]
  },
  {
   "cell_type": "code",
   "execution_count": 13,
   "id": "92d6cfa2",
   "metadata": {},
   "outputs": [],
   "source": [
    "# function that computes the weighted rating of each movie\n",
    "def weightedRating(x, m=m, C=C):\n",
    "    v = x['RatingsCount']\n",
    "    R = x['RatingsAverage']\n",
    "    # Calculation based on the IMDB formula\n",
    "    return (v/(v+m) * R) + (m/(m+v) * C)"
   ]
  },
  {
   "cell_type": "code",
   "execution_count": 14,
   "id": "4aebda11",
   "metadata": {},
   "outputs": [
    {
     "name": "stdout",
     "output_type": "stream",
     "text": [
      "<class 'pandas.core.frame.DataFrame'>\n",
      "(124512, 8)\n",
      "         ISBN                                         Book-Title  \\\n",
      "1  0002005018                                       Clara Callan   \n",
      "2  0060973129                               Decision in Normandy   \n",
      "3  0374157065  Flu: The Story of the Great Influenza Pandemic...   \n",
      "5  0399135782                             The Kitchen God's Wife   \n",
      "6  0425176428  What If?: The World's Foremost Military Histor...   \n",
      "\n",
      "            Book-Author Year-Of-Publication                 Publisher  \\\n",
      "1  Richard Bruce Wright                2001     HarperFlamingo Canada   \n",
      "2          Carlo D'Este                1991           HarperPerennial   \n",
      "3      Gina Bari Kolata                1999      Farrar Straus Giroux   \n",
      "5               Amy Tan                1991          Putnam Pub Group   \n",
      "6         Robert Cowley                2000  Berkley Publishing Group   \n",
      "\n",
      "   RatingsCount  RatingsAverage     score  \n",
      "1          14.0        4.928571  4.673032  \n",
      "2           3.0        5.000000  4.153703  \n",
      "3          11.0        4.272727  4.059117  \n",
      "5          33.0        4.212121  4.136243  \n",
      "6           5.0        1.600000  1.966931  \n"
     ]
    }
   ],
   "source": [
    "# define a new feature 'score' and calculate its value with `weighted_rating()`\n",
    "tm['score'] = tm.apply(weightedRating, axis=1)\n",
    "print(type(tm))\n",
    "print(tm.shape)\n",
    "print(tm.head())"
   ]
  },
  {
   "cell_type": "code",
   "execution_count": 15,
   "id": "417ad193",
   "metadata": {},
   "outputs": [
    {
     "name": "stdout",
     "output_type": "stream",
     "text": [
      "                                           Book-Title  RatingsCount  \\\n",
      "1                                        Clara Callan          14.0   \n",
      "2                                Decision in Normandy           3.0   \n",
      "3   Flu: The Story of the Great Influenza Pandemic...          11.0   \n",
      "5                              The Kitchen God's Wife          33.0   \n",
      "6   What If?: The World's Foremost Military Histor...           5.0   \n",
      "7                                     PLEADING GUILTY           3.0   \n",
      "10                        Nights Below Station Street           6.0   \n",
      "12                                 The Middle Stories           2.0   \n",
      "14  A Second Chicken Soup for the Woman's Soul (Ch...           8.0   \n",
      "16  More Cunning Than Man: A Social History of Rat...           3.0   \n",
      "17                      Goodbye to the Buttermilk Sky           3.0   \n",
      "18                                      The Testament         422.0   \n",
      "19               Beloved (Plume Contemporary Fiction)         180.0   \n",
      "20  Our Dumb Century: The Onion Presents 100 Years...          19.0   \n",
      "21  New Vegetarian: Bold and Beautiful Recipes for...          37.0   \n",
      "\n",
      "    RatingsAverage     score  \n",
      "1         4.928571  4.673032  \n",
      "2         5.000000  4.153703  \n",
      "3         4.272727  4.059117  \n",
      "5         4.212121  4.136243  \n",
      "6         1.600000  1.966931  \n",
      "7         2.666667  2.753703  \n",
      "10        1.000000  1.471065  \n",
      "12        2.500000  2.692129  \n",
      "14        3.375000  3.276852  \n",
      "16        2.000000  2.353703  \n",
      "17        4.666667  3.953703  \n",
      "18        3.085308  3.084360  \n",
      "19        3.411111  3.405322  \n",
      "20        5.684211  5.417548  \n",
      "21        2.000000  2.045347  \n"
     ]
    }
   ],
   "source": [
    "# print the top 15 movies\n",
    "print(tm[['Book-Title', 'RatingsCount', 'RatingsAverage', 'score']].head(15))\n",
    "\n"
   ]
  },
  {
   "cell_type": "code",
   "execution_count": 18,
   "id": "349a7cad",
   "metadata": {},
   "outputs": [],
   "source": [
    "# movies of a genre\n",
    "def getBooksByAuthor(pAuthor):\n",
    "    global tm\n",
    "    #pAuthor = 'Gina Bari Kolata'\n",
    "    mask = tm['Book-Author'].apply(lambda x: pAuthor in x)\n",
    "    mg = tm[mask]\n",
    "    # print the top 5 movies\n",
    "    print(\"\\nAuthor:\", pAuthor)\n",
    "    print(\"==============================================\")\n",
    "    print(mg[['Book-Title', 'RatingsCount', 'RatingsAverage', 'score']].head(5))\n",
    "\n"
   ]
  },
  {
   "cell_type": "code",
   "execution_count": 17,
   "id": "3a9d80c1",
   "metadata": {},
   "outputs": [
    {
     "name": "stdout",
     "output_type": "stream",
     "text": [
      "\n",
      "Author: Gina Bari Kolata\n",
      "==============================================\n",
      "                                          Book-Title  RatingsCount  \\\n",
      "3  Flu: The Story of the Great Influenza Pandemic...          11.0   \n",
      "\n",
      "   RatingsAverage     score  \n",
      "3        4.272727  4.059117  \n",
      "\n",
      "Author: Amy Tan\n",
      "==============================================\n",
      "                                           Book-Title  RatingsCount  \\\n",
      "5                              The Kitchen God's Wife          33.0   \n",
      "67                                  The Joy Luck Club         519.0   \n",
      "1429                           The Kitchen God's Wife         273.0   \n",
      "2377  The Kitchen God's Wife (Vintage Contemporaries)          13.0   \n",
      "2969                        The Bonesetter's Daughter         117.0   \n",
      "\n",
      "      RatingsAverage     score  \n",
      "5           4.212121  4.136243  \n",
      "67          3.063584  3.062895  \n",
      "1429        2.875458  2.875522  \n",
      "2377        4.923077  4.651234  \n",
      "2969        3.358974  3.350996  \n"
     ]
    }
   ],
   "source": [
    "# sample genre\n",
    "getBooksByAuthor('Gina Bari Kolata')\n",
    "getBooksByAuthor('Amy Tan')\n"
   ]
  },
  {
   "cell_type": "code",
   "execution_count": 19,
   "id": "014caa6b",
   "metadata": {},
   "outputs": [
    {
     "name": "stdout",
     "output_type": "stream",
     "text": [
      "['Richard Bruce Wright' \"Carlo D'Este\" 'Gina Bari Kolata' ...\n",
      " 'David Bailey' 'Dody Myers' 'Frances Towner Giedt']\n",
      "43589\n"
     ]
    }
   ],
   "source": [
    "lstAuthor = (tm['Book-Author'].unique())\n",
    "print(lstAuthor)\n",
    "print(len(lstAuthor))"
   ]
  },
  {
   "cell_type": "code",
   "execution_count": null,
   "id": "9c6f7e9d",
   "metadata": {},
   "outputs": [],
   "source": []
  }
 ],
 "metadata": {
  "kernelspec": {
   "display_name": "Python 3 (ipykernel)",
   "language": "python",
   "name": "python3"
  },
  "language_info": {
   "codemirror_mode": {
    "name": "ipython",
    "version": 3
   },
   "file_extension": ".py",
   "mimetype": "text/x-python",
   "name": "python",
   "nbconvert_exporter": "python",
   "pygments_lexer": "ipython3",
   "version": "3.8.8"
  }
 },
 "nbformat": 4,
 "nbformat_minor": 5
}
