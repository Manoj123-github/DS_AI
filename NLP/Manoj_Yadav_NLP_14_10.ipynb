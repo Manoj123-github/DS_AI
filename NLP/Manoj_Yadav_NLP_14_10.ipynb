{
  "nbformat": 4,
  "nbformat_minor": 0,
  "metadata": {
    "colab": {
      "name": "Manoj Yadav_NLP_14/10.ipynb",
      "provenance": [],
      "collapsed_sections": []
    },
    "kernelspec": {
      "name": "python3",
      "display_name": "Python 3"
    },
    "language_info": {
      "name": "python"
    }
  },
  "cells": [
    {
      "cell_type": "markdown",
      "metadata": {
        "id": "NGmY2kCFiUz1"
      },
      "source": [
        "# NLP session 14/10/2021\n",
        "\n"
      ]
    },
    {
      "cell_type": "code",
      "metadata": {
        "colab": {
          "base_uri": "https://localhost:8080/",
          "height": 35
        },
        "id": "1Nv_GP0nq7oZ",
        "outputId": "6640292c-ad79-4dc4-c930-f8426ee292e9"
      },
      "source": [
        "import re\n",
        "m = re.search('(?<=abc)def','abcdef')\n",
        "m.group(0)"
      ],
      "execution_count": 2,
      "outputs": [
        {
          "output_type": "execute_result",
          "data": {
            "application/vnd.google.colaboratory.intrinsic+json": {
              "type": "string"
            },
            "text/plain": [
              "'def'"
            ]
          },
          "metadata": {},
          "execution_count": 2
        }
      ]
    },
    {
      "cell_type": "code",
      "metadata": {
        "colab": {
          "base_uri": "https://localhost:8080/",
          "height": 35
        },
        "id": "zOP4dVh10iD-",
        "outputId": "ae9f4bc9-c442-4f97-9f78-f1cfcb1300e3"
      },
      "source": [
        "m = re.search(r'(?<=-)\\w+', 'spam-egg')\n",
        "m.group(0)"
      ],
      "execution_count": 3,
      "outputs": [
        {
          "output_type": "execute_result",
          "data": {
            "application/vnd.google.colaboratory.intrinsic+json": {
              "type": "string"
            },
            "text/plain": [
              "'egg'"
            ]
          },
          "metadata": {},
          "execution_count": 3
        }
      ]
    },
    {
      "cell_type": "code",
      "metadata": {
        "colab": {
          "base_uri": "https://localhost:8080/"
        },
        "id": "TpLUpH4d0tW-",
        "outputId": "a9c2b9d5-e006-4b29-a44c-3b1ae883aa26"
      },
      "source": [
        "re.split(r'\\W+', 'Words, Shape, words.')"
      ],
      "execution_count": 4,
      "outputs": [
        {
          "output_type": "execute_result",
          "data": {
            "text/plain": [
              "['Words', 'Shape', 'words', '']"
            ]
          },
          "metadata": {},
          "execution_count": 4
        }
      ]
    },
    {
      "cell_type": "code",
      "metadata": {
        "colab": {
          "base_uri": "https://localhost:8080/"
        },
        "id": "sEgGcxCK065v",
        "outputId": "6ff814f3-0089-417d-d8d2-03156d73d69c"
      },
      "source": [
        "re.split(r'\\W+', 'Good, Best, Better')"
      ],
      "execution_count": 10,
      "outputs": [
        {
          "output_type": "execute_result",
          "data": {
            "text/plain": [
              "['Good', 'Best', 'Better']"
            ]
          },
          "metadata": {},
          "execution_count": 10
        }
      ]
    },
    {
      "cell_type": "code",
      "metadata": {
        "colab": {
          "base_uri": "https://localhost:8080/"
        },
        "id": "FNns9hY81vnr",
        "outputId": "00191945-819e-4f61-83db-bdc357e758d4"
      },
      "source": [
        "re.split(r'\\W+', 'Good Best Better')\n"
      ],
      "execution_count": 11,
      "outputs": [
        {
          "output_type": "execute_result",
          "data": {
            "text/plain": [
              "['Good', 'Best', 'Better']"
            ]
          },
          "metadata": {},
          "execution_count": 11
        }
      ]
    },
    {
      "cell_type": "code",
      "metadata": {
        "colab": {
          "base_uri": "https://localhost:8080/"
        },
        "id": "2DGZ-T2810Vq",
        "outputId": "b6f3bd45-d3a9-490d-a9ff-bd6668c085ba"
      },
      "source": [
        "re.split(r'\\W+', '..... Good Best ,,,,, Better')"
      ],
      "execution_count": 12,
      "outputs": [
        {
          "output_type": "execute_result",
          "data": {
            "text/plain": [
              "['', 'Good', 'Best', 'Better']"
            ]
          },
          "metadata": {},
          "execution_count": 12
        }
      ]
    },
    {
      "cell_type": "code",
      "metadata": {
        "colab": {
          "base_uri": "https://localhost:8080/"
        },
        "id": "7EsW35mb2Ilo",
        "outputId": "677cec0f-3cff-477e-9acd-0efecbb78b33"
      },
      "source": [
        "re.split(r'\\b', '..... Good Best ,,,,, Better')"
      ],
      "execution_count": 13,
      "outputs": [
        {
          "output_type": "execute_result",
          "data": {
            "text/plain": [
              "['..... ', 'Good', ' ', 'Best', ' ,,,,, ', 'Better', '']"
            ]
          },
          "metadata": {},
          "execution_count": 13
        }
      ]
    },
    {
      "cell_type": "code",
      "metadata": {
        "colab": {
          "base_uri": "https://localhost:8080/"
        },
        "id": "EIZYQ7TB2SLB",
        "outputId": "bc584fb6-8031-4e56-d7ac-4c5f5f7f2d7b"
      },
      "source": [
        "re.findall(r'\\bf[a-z]*', 'which Foot or hand fell fastest')\n"
      ],
      "execution_count": 14,
      "outputs": [
        {
          "output_type": "execute_result",
          "data": {
            "text/plain": [
              "['fell', 'fastest']"
            ]
          },
          "metadata": {},
          "execution_count": 14
        }
      ]
    },
    {
      "cell_type": "code",
      "metadata": {
        "colab": {
          "base_uri": "https://localhost:8080/"
        },
        "id": "z5giZBjA2Wlb",
        "outputId": "63cb6fab-291b-4537-c2a5-8432aa24ebce"
      },
      "source": [
        "re.findall(r'\\bR[a-z]*', 'I am a student of Ramniranjan Jhunjhunwala College')\n"
      ],
      "execution_count": 15,
      "outputs": [
        {
          "output_type": "execute_result",
          "data": {
            "text/plain": [
              "['Ramniranjan']"
            ]
          },
          "metadata": {},
          "execution_count": 15
        }
      ]
    },
    {
      "cell_type": "code",
      "metadata": {
        "colab": {
          "base_uri": "https://localhost:8080/"
        },
        "id": "_rwuKXvf27nl",
        "outputId": "9f13e23b-50de-467a-b9b4-1cd53a4530ef"
      },
      "source": [
        "re.findall(r'(\\w+)=(\\d+)', 'set width=20 and height=10 length 30')\n"
      ],
      "execution_count": 16,
      "outputs": [
        {
          "output_type": "execute_result",
          "data": {
            "text/plain": [
              "[('width', '20'), ('height', '10')]"
            ]
          },
          "metadata": {},
          "execution_count": 16
        }
      ]
    },
    {
      "cell_type": "code",
      "metadata": {
        "colab": {
          "base_uri": "https://localhost:8080/"
        },
        "id": "tBaMKmDj3rlP",
        "outputId": "b63ef7db-bd32-4690-912c-3768aa8a54dd"
      },
      "source": [
        "re.findall(r'(\\w+)<(\\d+)', 'set width=20 and height<10 length 30')\n"
      ],
      "execution_count": 17,
      "outputs": [
        {
          "output_type": "execute_result",
          "data": {
            "text/plain": [
              "[('height', '10')]"
            ]
          },
          "metadata": {},
          "execution_count": 17
        }
      ]
    },
    {
      "cell_type": "code",
      "metadata": {
        "colab": {
          "base_uri": "https://localhost:8080/"
        },
        "id": "WcbzO1Ag3Xi2",
        "outputId": "45727fdf-aa4f-40ba-d761-acbccd1e038c"
      },
      "source": [
        "re.findall(r'(\\w+) (\\d+)', 'set width=20 and height=10 length 30')\n"
      ],
      "execution_count": 18,
      "outputs": [
        {
          "output_type": "execute_result",
          "data": {
            "text/plain": [
              "[('length', '30')]"
            ]
          },
          "metadata": {},
          "execution_count": 18
        }
      ]
    },
    {
      "cell_type": "code",
      "metadata": {
        "colab": {
          "base_uri": "https://localhost:8080/"
        },
        "id": "YPVjbgZY391N",
        "outputId": "86a22cd9-561c-4057-e207-29d1bfa728f1"
      },
      "source": [
        "# Find the measuring unit from the following string  speed /km wheat /kg\n",
        "\n",
        "re.findall(r'/(\\w+)', '60/km and wheat 40/kg')\n"
      ],
      "execution_count": 19,
      "outputs": [
        {
          "output_type": "execute_result",
          "data": {
            "text/plain": [
              "['km', 'kg']"
            ]
          },
          "metadata": {},
          "execution_count": 19
        }
      ]
    },
    {
      "cell_type": "code",
      "metadata": {
        "colab": {
          "base_uri": "https://localhost:8080/"
        },
        "id": "nn4gjDaM5c8g",
        "outputId": "b91255b0-c70a-4aa3-8c34-66fe5db4e765"
      },
      "source": [
        "# Find the mobilenumber from the following string\n",
        "#\"My Contact nuber is 39845332422\"\n",
        "re.findall(r'(\\w+)[0-9]', 'My Contact nuber is 39845332422')"
      ],
      "execution_count": 20,
      "outputs": [
        {
          "output_type": "execute_result",
          "data": {
            "text/plain": [
              "['3984533242']"
            ]
          },
          "metadata": {},
          "execution_count": 20
        }
      ]
    },
    {
      "cell_type": "code",
      "metadata": {
        "colab": {
          "base_uri": "https://localhost:8080/"
        },
        "id": "t6l8sPF846oG",
        "outputId": "ddb9c35f-597a-4185-ffba-a3bfda6c5820"
      },
      "source": [
        "pattern = re.compile('o')\n",
        "pattern.search('dog')\n"
      ],
      "execution_count": 21,
      "outputs": [
        {
          "output_type": "execute_result",
          "data": {
            "text/plain": [
              "<re.Match object; span=(1, 2), match='o'>"
            ]
          },
          "metadata": {},
          "execution_count": 21
        }
      ]
    },
    {
      "cell_type": "code",
      "metadata": {
        "colab": {
          "base_uri": "https://localhost:8080/"
        },
        "id": "q_zqoh047hj3",
        "outputId": "3376bc49-2b36-4888-cdb8-1a6dc04f83af"
      },
      "source": [
        " \n",
        "pattern = re.compile(\"o\")\n",
        "pattern.match(\"stupendo\",7)\n"
      ],
      "execution_count": 22,
      "outputs": [
        {
          "output_type": "execute_result",
          "data": {
            "text/plain": [
              "<re.Match object; span=(7, 8), match='o'>"
            ]
          },
          "metadata": {},
          "execution_count": 22
        }
      ]
    },
    {
      "cell_type": "code",
      "metadata": {
        "colab": {
          "base_uri": "https://localhost:8080/"
        },
        "id": "mPXBYx2C71rX",
        "outputId": "2208b854-11a6-4f57-b3c7-68546c89d294"
      },
      "source": [
        "pattern = re.compile('o[gh]')\n",
        "pattern.fullmatch('dog',1)"
      ],
      "execution_count": 23,
      "outputs": [
        {
          "output_type": "execute_result",
          "data": {
            "text/plain": [
              "<re.Match object; span=(1, 3), match='og'>"
            ]
          },
          "metadata": {},
          "execution_count": 23
        }
      ]
    },
    {
      "cell_type": "code",
      "metadata": {
        "colab": {
          "base_uri": "https://localhost:8080/"
        },
        "id": "7o7pKilh8E2c",
        "outputId": "7abe8193-db10-4b44-8c09-a413d781cf21"
      },
      "source": [
        "#Q. Specify the pattern for finding the the word containing a character o and the character y\n",
        "#Example\n",
        "#Today\n",
        "#Tomorrow\n",
        "#Monday\n",
        "\n",
        "text='Today','Tomorrow','Monday'\n",
        "\n",
        "pattern=re.compile(\"(o+.+y)|(.+o+.)\")\n",
        "print(pattern.fullmatch('Today',1))\n",
        "print(pattern.fullmatch('Tomorrow',1))\n",
        "print(pattern.fullmatch('Monday',1))"
      ],
      "execution_count": 24,
      "outputs": [
        {
          "output_type": "stream",
          "name": "stdout",
          "text": [
            "<re.Match object; span=(1, 5), match='oday'>\n",
            "<re.Match object; span=(1, 8), match='omorrow'>\n",
            "<re.Match object; span=(1, 6), match='onday'>\n"
          ]
        }
      ]
    },
    {
      "cell_type": "code",
      "metadata": {
        "colab": {
          "base_uri": "https://localhost:8080/"
        },
        "id": "0S-LiJz592yn",
        "outputId": "c476a362-061a-437a-d4e4-c8c7097ba9ad"
      },
      "source": [
        "\n",
        "m = re.match(r\"(?P<first_name>\\w+) (?P<m_name>\\w+) (?P<last_name>\\w+)\", \"Bharati B Bhole\")\n",
        "print(m.group('first_name'))\n",
        "print(m.group('m_name'))\n",
        "print(m.group('last_name'))\n"
      ],
      "execution_count": 25,
      "outputs": [
        {
          "output_type": "stream",
          "name": "stdout",
          "text": [
            "Bharati\n",
            "B\n",
            "Bhole\n"
          ]
        }
      ]
    },
    {
      "cell_type": "code",
      "metadata": {
        "colab": {
          "base_uri": "https://localhost:8080/"
        },
        "id": "lwceo61j99Ms",
        "outputId": "51a30ee7-2cce-4154-df28-2b4607edbdef"
      },
      "source": [
        "#Q Retrieve the Initials and the phone number from the given string\n",
        "#\"Bharati Bhole  2345345678\"\n",
        "#Output Expe\n",
        "#BB 2345345678\n",
        "text=\"Bharati Bhole  2345345678\"\n",
        "\n",
        "m = re.findall(r\"\\b\\w\",text)\n",
        "n = re.findall(r\"\\d\",text)\n",
        "l=\"\"\n",
        "for i in n:\n",
        "  l=l+i\n",
        "print(str(m[0])+str(m[1])+\" \"+l)\n",
        "\n"
      ],
      "execution_count": 26,
      "outputs": [
        {
          "output_type": "stream",
          "name": "stdout",
          "text": [
            "BB 2345345678\n"
          ]
        }
      ]
    },
    {
      "cell_type": "code",
      "metadata": {
        "id": "DpIsOYfMAy8Y"
      },
      "source": [
        "import re\n",
        "replacement_patterns = [\n",
        " (r'won\\'t', 'will not'),\n",
        " (r'can\\'t', 'cannot'),\n",
        " (r'i\\'m', 'i am'),\n",
        " (r'ain\\'t', 'is not'),\n",
        " (r'(\\w+)\\'ll', '\\g<1> will'),\n",
        " (r'(\\w+)n\\'t', '\\g<1> not'),\n",
        " (r'(\\w+)\\'ve', '\\g<1> have'),\n",
        " (r'(\\w+)\\'s', '\\g<1> is'),\n",
        " (r'(\\w+)\\'re', '\\g<1> are'),\n",
        " (r'(\\w+)\\'d', '\\g<1> would')\n",
        "]\n"
      ],
      "execution_count": 27,
      "outputs": []
    },
    {
      "cell_type": "code",
      "metadata": {
        "id": "lxzQpRjvBAj2"
      },
      "source": [
        "class RegexpReplacer(object):\n",
        " def __init__(self, patterns=replacement_patterns):\n",
        "    self.patterns = [(re.compile(regex), repl) for (regex, repl) in  patterns]\n",
        " \n",
        " def replace(self, text):\n",
        "    s = text\n",
        "    for (pattern, repl) in self.patterns:\n",
        "      s = re.sub(pattern, repl, s)\n",
        "    return s\n"
      ],
      "execution_count": 28,
      "outputs": []
    },
    {
      "cell_type": "code",
      "metadata": {
        "colab": {
          "base_uri": "https://localhost:8080/",
          "height": 35
        },
        "id": "2HkNuesqBEo_",
        "outputId": "d4aea2ea-eceb-4ca1-a017-d5a01885f52e"
      },
      "source": [
        "replacer = RegexpReplacer()\n",
        "replacer.replace(\"can't is a contraction\")\n"
      ],
      "execution_count": 29,
      "outputs": [
        {
          "output_type": "execute_result",
          "data": {
            "application/vnd.google.colaboratory.intrinsic+json": {
              "type": "string"
            },
            "text/plain": [
              "'cannot is a contraction'"
            ]
          },
          "metadata": {},
          "execution_count": 29
        }
      ]
    },
    {
      "cell_type": "code",
      "metadata": {
        "colab": {
          "base_uri": "https://localhost:8080/",
          "height": 35
        },
        "id": "I2rhueTwBEk1",
        "outputId": "962808a7-d540-4dfb-8de0-c6f36d208ce2"
      },
      "source": [
        "replacer.replace(\"don't know \")\n"
      ],
      "execution_count": 30,
      "outputs": [
        {
          "output_type": "execute_result",
          "data": {
            "application/vnd.google.colaboratory.intrinsic+json": {
              "type": "string"
            },
            "text/plain": [
              "'do not know '"
            ]
          },
          "metadata": {},
          "execution_count": 30
        }
      ]
    },
    {
      "cell_type": "code",
      "metadata": {
        "id": "FZmraG_mDK6A"
      },
      "source": [
        "#Removing the repeated characters\n",
        " \n",
        "import re\n",
        "class RepeatReplacer(object):\n",
        "  def __init__(self):\n",
        "    self.repeat_regexp = re.compile(r'(\\w*)(\\w)\\2(\\w*)')\n",
        "    self.repl = r'\\1\\2\\3'\n",
        "  def replace(self, word):\n",
        "   repl_word = self.repeat_regexp.sub(self.repl, word)\n",
        "   if repl_word != word:\n",
        "     return self.replace(repl_word)\n",
        "   else:\n",
        "     return repl_word\n"
      ],
      "execution_count": 31,
      "outputs": []
    },
    {
      "cell_type": "code",
      "metadata": {
        "colab": {
          "base_uri": "https://localhost:8080/",
          "height": 35
        },
        "id": "Pn9rj0XVDPz8",
        "outputId": "d859c3f5-d1e4-4d37-bd1f-9d868e2505d1"
      },
      "source": [
        " \n",
        "replacer = RepeatReplacer()\n",
        "replacer.replace('looooove')\n"
      ],
      "execution_count": 32,
      "outputs": [
        {
          "output_type": "execute_result",
          "data": {
            "application/vnd.google.colaboratory.intrinsic+json": {
              "type": "string"
            },
            "text/plain": [
              "'love'"
            ]
          },
          "metadata": {},
          "execution_count": 32
        }
      ]
    },
    {
      "cell_type": "code",
      "metadata": {
        "colab": {
          "base_uri": "https://localhost:8080/",
          "height": 35
        },
        "id": "XrtUG251DYW5",
        "outputId": "c78c1103-a1f0-495d-e520-72b53bda7caf"
      },
      "source": [
        "replacer.replace('Yellowwwwww')"
      ],
      "execution_count": 33,
      "outputs": [
        {
          "output_type": "execute_result",
          "data": {
            "application/vnd.google.colaboratory.intrinsic+json": {
              "type": "string"
            },
            "text/plain": [
              "'Yelow'"
            ]
          },
          "metadata": {},
          "execution_count": 33
        }
      ]
    },
    {
      "cell_type": "code",
      "metadata": {
        "colab": {
          "base_uri": "https://localhost:8080/"
        },
        "id": "tZbo1MzaEwbS",
        "outputId": "39b2d8ea-91da-4a7b-9f97-8630bb5abf75"
      },
      "source": [
        "#Use Wordnet for correct word\n",
        "import nltk\n",
        "nltk.download('wordnet')\n"
      ],
      "execution_count": 34,
      "outputs": [
        {
          "output_type": "stream",
          "name": "stdout",
          "text": [
            "[nltk_data] Downloading package wordnet to /root/nltk_data...\n",
            "[nltk_data]   Unzipping corpora/wordnet.zip.\n"
          ]
        },
        {
          "output_type": "execute_result",
          "data": {
            "text/plain": [
              "True"
            ]
          },
          "metadata": {},
          "execution_count": 34
        }
      ]
    },
    {
      "cell_type": "code",
      "metadata": {
        "id": "EmTu9uPIE2ua"
      },
      "source": [
        "import re\n",
        "from nltk.corpus import wordnet\n",
        "class RepeatReplacer(object):\n",
        "  def __init__(self):\n",
        "    self.repeat_regexp = re.compile(r'(\\w*)(\\w)\\2(\\w*)')\n",
        "    self.repl = r'\\1\\2\\3'\n",
        "  def replace(self, word):\n",
        "    if wordnet.synsets(word):\n",
        "      return word\n",
        "    repl_word = self.repeat_regexp.sub(self.repl, word)\n",
        "    \n",
        "    if repl_word != word:\n",
        "      return self.replace(repl_word)\n",
        "    else:\n",
        "      return repl_word\n"
      ],
      "execution_count": 35,
      "outputs": []
    },
    {
      "cell_type": "code",
      "metadata": {
        "colab": {
          "base_uri": "https://localhost:8080/",
          "height": 35
        },
        "id": "Fr-Ghtw9E7ZA",
        "outputId": "91573941-d63f-4853-ca6d-df0e96508666"
      },
      "source": [
        "replacer = RepeatReplacer()\n",
        "\n",
        "replacer.replace(\"deer\")\n",
        "\n"
      ],
      "execution_count": 36,
      "outputs": [
        {
          "output_type": "execute_result",
          "data": {
            "application/vnd.google.colaboratory.intrinsic+json": {
              "type": "string"
            },
            "text/plain": [
              "'deer'"
            ]
          },
          "metadata": {},
          "execution_count": 36
        }
      ]
    },
    {
      "cell_type": "code",
      "metadata": {
        "id": "l6tI6EQviQdq"
      },
      "source": [
        ""
      ],
      "execution_count": 36,
      "outputs": []
    }
  ]
}