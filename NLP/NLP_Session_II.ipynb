{
  "nbformat": 4,
  "nbformat_minor": 0,
  "metadata": {
    "colab": {
      "name": "43_ManojYadav_NLP Session II.ipynb",
      "provenance": [],
      "collapsed_sections": []
    },
    "kernelspec": {
      "name": "python3",
      "display_name": "Python 3"
    },
    "language_info": {
      "name": "python"
    }
  },
  "cells": [
    {
      "cell_type": "markdown",
      "metadata": {
        "id": "WnpJeJyQicjN"
      },
      "source": [
        "**NLP** **Session** **II**   **23**/**09**/**2021** "
      ]
    },
    {
      "cell_type": "code",
      "metadata": {
        "id": "-DDq7sfFf840"
      },
      "source": [
        ""
      ],
      "execution_count": null,
      "outputs": []
    },
    {
      "cell_type": "code",
      "metadata": {
        "colab": {
          "base_uri": "https://localhost:8080/"
        },
        "id": "eaNIdge0gMPK",
        "outputId": "caf3cb4e-bd0b-429d-f777-dbce1d268a8a"
      },
      "source": [
        "import nltk\n",
        "nltk.download('inaugural')\n",
        "from nltk.corpus import inaugural"
      ],
      "execution_count": 1,
      "outputs": [
        {
          "output_type": "stream",
          "name": "stdout",
          "text": [
            "[nltk_data] Downloading package inaugural to /root/nltk_data...\n",
            "[nltk_data]   Unzipping corpora/inaugural.zip.\n"
          ]
        }
      ]
    },
    {
      "cell_type": "code",
      "metadata": {
        "colab": {
          "base_uri": "https://localhost:8080/"
        },
        "id": "EE4jA4nwiCUI",
        "outputId": "f8ebf9da-dc3b-4bc5-ddf2-fee95fda87d9"
      },
      "source": [
        "print(inaugural.fileids(),end='  ')"
      ],
      "execution_count": 2,
      "outputs": [
        {
          "output_type": "stream",
          "name": "stdout",
          "text": [
            "['1789-Washington.txt', '1793-Washington.txt', '1797-Adams.txt', '1801-Jefferson.txt', '1805-Jefferson.txt', '1809-Madison.txt', '1813-Madison.txt', '1817-Monroe.txt', '1821-Monroe.txt', '1825-Adams.txt', '1829-Jackson.txt', '1833-Jackson.txt', '1837-VanBuren.txt', '1841-Harrison.txt', '1845-Polk.txt', '1849-Taylor.txt', '1853-Pierce.txt', '1857-Buchanan.txt', '1861-Lincoln.txt', '1865-Lincoln.txt', '1869-Grant.txt', '1873-Grant.txt', '1877-Hayes.txt', '1881-Garfield.txt', '1885-Cleveland.txt', '1889-Harrison.txt', '1893-Cleveland.txt', '1897-McKinley.txt', '1901-McKinley.txt', '1905-Roosevelt.txt', '1909-Taft.txt', '1913-Wilson.txt', '1917-Wilson.txt', '1921-Harding.txt', '1925-Coolidge.txt', '1929-Hoover.txt', '1933-Roosevelt.txt', '1937-Roosevelt.txt', '1941-Roosevelt.txt', '1945-Roosevelt.txt', '1949-Truman.txt', '1953-Eisenhower.txt', '1957-Eisenhower.txt', '1961-Kennedy.txt', '1965-Johnson.txt', '1969-Nixon.txt', '1973-Nixon.txt', '1977-Carter.txt', '1981-Reagan.txt', '1985-Reagan.txt', '1989-Bush.txt', '1993-Clinton.txt', '1997-Clinton.txt', '2001-Bush.txt', '2005-Bush.txt', '2009-Obama.txt', '2013-Obama.txt', '2017-Trump.txt']  "
          ]
        }
      ]
    },
    {
      "cell_type": "code",
      "metadata": {
        "colab": {
          "base_uri": "https://localhost:8080/"
        },
        "id": "C2YwGzoKiGRo",
        "outputId": "44a0f94b-fe82-4450-b377-0dd0e672e2dd"
      },
      "source": [
        "print([fileids[:4] for fileids in inaugural.fileids()])"
      ],
      "execution_count": 3,
      "outputs": [
        {
          "output_type": "stream",
          "name": "stdout",
          "text": [
            "['1789', '1793', '1797', '1801', '1805', '1809', '1813', '1817', '1821', '1825', '1829', '1833', '1837', '1841', '1845', '1849', '1853', '1857', '1861', '1865', '1869', '1873', '1877', '1881', '1885', '1889', '1893', '1897', '1901', '1905', '1909', '1913', '1917', '1921', '1925', '1929', '1933', '1937', '1941', '1945', '1949', '1953', '1957', '1961', '1965', '1969', '1973', '1977', '1981', '1985', '1989', '1993', '1997', '2001', '2005', '2009', '2013', '2017']\n"
          ]
        }
      ]
    },
    {
      "cell_type": "code",
      "metadata": {
        "colab": {
          "base_uri": "https://localhost:8080/"
        },
        "id": "T1_Y9pPliRRy",
        "outputId": "05fb2573-0d80-44ff-e78d-b2de7151b20b"
      },
      "source": [
        "print([fileids[:6] for fileids in inaugural.fileids()])"
      ],
      "execution_count": 4,
      "outputs": [
        {
          "output_type": "stream",
          "name": "stdout",
          "text": [
            "['1789-W', '1793-W', '1797-A', '1801-J', '1805-J', '1809-M', '1813-M', '1817-M', '1821-M', '1825-A', '1829-J', '1833-J', '1837-V', '1841-H', '1845-P', '1849-T', '1853-P', '1857-B', '1861-L', '1865-L', '1869-G', '1873-G', '1877-H', '1881-G', '1885-C', '1889-H', '1893-C', '1897-M', '1901-M', '1905-R', '1909-T', '1913-W', '1917-W', '1921-H', '1925-C', '1929-H', '1933-R', '1937-R', '1941-R', '1945-R', '1949-T', '1953-E', '1957-E', '1961-K', '1965-J', '1969-N', '1973-N', '1977-C', '1981-R', '1985-R', '1989-B', '1993-C', '1997-C', '2001-B', '2005-B', '2009-O', '2013-O', '2017-T']\n"
          ]
        }
      ]
    },
    {
      "cell_type": "code",
      "metadata": {
        "colab": {
          "base_uri": "https://localhost:8080/"
        },
        "id": "J4d1dhngiZWB",
        "outputId": "e43ea0c9-47fa-4fff-97aa-938380d8446e"
      },
      "source": [
        "print(len(inaugural.fileids()))"
      ],
      "execution_count": 5,
      "outputs": [
        {
          "output_type": "stream",
          "name": "stdout",
          "text": [
            "58\n"
          ]
        }
      ]
    },
    {
      "cell_type": "code",
      "metadata": {
        "id": "3_MsR5kVmFD4"
      },
      "source": [
        ""
      ],
      "execution_count": null,
      "outputs": []
    },
    {
      "cell_type": "code",
      "metadata": {
        "colab": {
          "base_uri": "https://localhost:8080/",
          "height": 295
        },
        "id": "EpPGJDY0i7ni",
        "outputId": "a13e18e2-ff71-42a9-c6bd-fee326b64f9a"
      },
      "source": [
        "cfd=nltk.ConditionalFreqDist(\n",
        "    (t,fileid[:4])\n",
        "    for fileid in inaugural.fileids()\n",
        "    for w in inaugural.words(fileid)\n",
        "    for t in ['america','citizen']\n",
        "    if w.lower().startswith(t))\n",
        "cfd.plot()\n",
        "    "
      ],
      "execution_count": 8,
      "outputs": [
        {
          "output_type": "display_data",
          "data": {
            "image/png": "[encoded data removed]",
            "text/plain": [
              "<Figure size 432x288 with 1 Axes>"
            ]
          },
          "metadata": {
            "needs_background": "light"
          }
        }
      ]
    },
    {
      "cell_type": "code",
      "metadata": {
        "colab": {
          "base_uri": "https://localhost:8080/",
          "height": 295
        },
        "id": "zkKAtHr0j9wH",
        "outputId": "8a081ce6-a8f0-466d-f967-3868e8419995"
      },
      "source": [
        "cfd=nltk.ConditionalFreqDist(\n",
        "    (t,fileid[:4])\n",
        "    for fileid in inaugural.fileids()\n",
        "    for w in inaugural.words(fileid)\n",
        "    for t in ['america']\n",
        "    if w.lower().startswith(t))\n",
        "cfd.plot()"
      ],
      "execution_count": 9,
      "outputs": [
        {
          "output_type": "display_data",
          "data": {
            "image/png": "[encoded data removed]",
            "text/plain": [
              "<Figure size 432x288 with 1 Axes>"
            ]
          },
          "metadata": {
            "needs_background": "light"
          }
        }
      ]
    },
    {
      "cell_type": "code",
      "metadata": {
        "colab": {
          "base_uri": "https://localhost:8080/"
        },
        "id": "Cd9ofEwdkwwq",
        "outputId": "044d6259-7395-4bb3-f951-c9f6d52ea50f"
      },
      "source": [
        "import requests\n",
        "from bs4 import BeautifulSoup\n",
        "\n",
        "def Get_the_page_by_beautibulsoup():\n",
        "  page = requests.get(\"https://www.rjcollege.edu.in/about-us/\")\n",
        "  soup = BeautifulSoup(page.content,'html.parser')\n",
        "  print(soup.find_all('p')[0].get_text())\n",
        "  print(soup.find_all('p')[1].get_text())\n",
        "  print(soup.find_all('p')[2].get_text())\n",
        "  print(soup.find_all('p')[3].get_text())\n",
        "\n",
        "if __name__ ==\"__main__\":\n",
        "  Get_the_page_by_beautibulsoup()"
      ],
      "execution_count": 20,
      "outputs": [
        {
          "output_type": "stream",
          "name": "stdout",
          "text": [
            "On the auspicious day of Shri Krishna Janmashtami, 15th August 1938, the people of Ghatkopar and the surrounding suburbs witnessed the birth of Hindi Vidya Prachar Samiti, a brain child of a visionary Late Shri Nandkishore Singh Jairamji. The Samiti was established with the objectives of catering to the educational needs of the Hindi speaking community. It made a humble beginning by starting a primary school, which gradually expanded into a full-fledged secondary school.\n",
            "The Hindi High School with its high academic standards has carved for itself a place not only among leading secondary schools in Mumbai but also educational institutions imparting instructions in Hindi throughout Maharashtra. With its primary objectives achieved the Samiti decided to extend its frontiers and broaden its horizons. As a result, Ramniranjan Jhunjhunwala College came into existence in 1963, enabling a larger section of the society to take advantage of the facilities provided for higher education.\n",
            "In 1976 the Junior College section was introduced and in 1981 the Commerce faculty commenced both at the Junior and Degree College level.\n",
            "From 1999-2000 the College has added a number of self-financing courses like BMS, B.B.I, B.Sc. in C.S., I.T., Biotechnology, M.Sc. in Computer Science and Biotechnology as well as add on courses, which further hone the special skills of the students.\n",
            "In 2014 saw a change in education system with greater emphasis being given to employability of youth. As an effort to realize the dream of Make in India, Digital India, Clean and Green India, we have started skill based program supported by University Grants commission known as Bachelor in Vocation.\n",
            "The college has been reaccredited with ‘A’ Grade by NAAC in 2014 with a CGPA 3.50 and received the Best College Award (2007-2008) of the University of Mumbai. The College has been bestowed with IMC RAMKRISHNA BAJAJ PERFORMANCE EXCELLENCE TROPHY, 2010. The Principal of the college was awarded “Best Teacher” by Government of Maharashtra in 2011. Government of Maharashtra conferred the college with “JAAGAR JAANIVANCHA” (First in Mumbai Suburban- in 2013 and Second in Mumbai Suburban- in 2014) for safety of girls.\n",
            " \n",
            "Shri Nandikishore Singh Jairamji\n",
            "To empower students through focused teaching and research.\n"
          ]
        }
      ]
    },
    {
      "cell_type": "code",
      "metadata": {
        "colab": {
          "base_uri": "https://localhost:8080/"
        },
        "id": "dMIgHvjvpnep",
        "outputId": "e09fc344-064d-456a-c7f3-13fcc3ab6445"
      },
      "source": [
        "import requests\n",
        "from bs4 import BeautifulSoup\n",
        "\n",
        "def Get_the_page_by_beautibulsoup():\n",
        "  page = requests.get(\"https://en.wikipedia.org/wiki/Natural_language_processing\")\n",
        "  soup = BeautifulSoup(page.content,'html.parser')\n",
        "  print(soup.find_all('p')[0].get_text())\n",
        "  print(soup.find_all('p')[1].get_text())\n",
        "  print(soup.find_all('p')[2].get_text())\n",
        "  print(soup.find_all('p')[3].get_text())\n",
        "  print(soup.find_all('p')[4].get_text())\n",
        "if __name__ ==\"__main__\":\n",
        "  Get_the_page_by_beautibulsoup()"
      ],
      "execution_count": 22,
      "outputs": [
        {
          "output_type": "stream",
          "name": "stdout",
          "text": [
            "Natural language processing (NLP) is a subfield of linguistics, computer science, and artificial intelligence concerned with the interactions between computers and human language, in particular how to program computers to process and analyze large amounts of natural language data.  The goal is a computer capable of \"understanding\" the contents of documents, including the contextual nuances of the language within them. The technology can then accurately extract information and insights contained in the documents as well as categorize and organize the documents themselves.\n",
            "\n",
            "Challenges in natural language processing frequently involve speech recognition, natural language understanding, and natural language generation.\n",
            "\n",
            "Natural language processing has its roots in the 1950s. Already in 1950, Alan Turing published an article titled \"Computing Machinery and Intelligence\" which proposed what is now called the Turing test as a criterion of intelligence, a task that involves the automated interpretation and generation of natural language, but at the time not articulated as a problem separate from artificial intelligence.\n",
            "\n",
            "The premise of symbolic NLP is well-summarized by John Searle's Chinese room experiment: Given a collection of rules (e.g., a Chinese phrasebook, with questions and matching answers), the computer emulates natural language understanding (or other NLP tasks) by applying those rules to the data it is confronted with.\n",
            "\n",
            "Up to the 1980s, most natural language processing systems were based on complex sets of hand-written rules.  Starting in the late 1980s, however, there was a revolution in natural language processing with the introduction of machine learning algorithms for language processing.  This was due to both the steady increase in computational power (see Moore's law) and the gradual lessening of the dominance of Chomskyan theories of linguistics (e.g. transformational grammar), whose theoretical underpinnings discouraged the sort of corpus linguistics that underlies the machine-learning approach to language processing.[6]\n",
            "\n"
          ]
        }
      ]
    },
    {
      "cell_type": "code",
      "metadata": {
        "id": "uO54cq3QqxLj"
      },
      "source": [
        "grammer1=nltk.CFG.fromstring(\"\"\"\n",
        "  S -> NP VP\n",
        "  VP -> V NP | V NP PP\n",
        "  PP -> P NP\n",
        "  V -> \"saw\" | \"äte\" | \"walked\" \n",
        "  NP -> \"John\" | \"Mary\" | \"Bob\" | Det N PP\n",
        "  Det -> \"a\" | \"am\" |\"the\" | \"my\"\n",
        "  N -> \"man\" | \"dog\" | \"cat\" | \"telescope\" | \"park\"\n",
        "  P -> \"in\" | \"on\" \"by\" | \"with\"  \n",
        "\"\"\")\n",
        "\n"
      ],
      "execution_count": 52,
      "outputs": []
    },
    {
      "cell_type": "code",
      "metadata": {
        "id": "R3rl-4U479go"
      },
      "source": [
        "sent =\"Mary saw Bob\""
      ],
      "execution_count": 53,
      "outputs": []
    },
    {
      "cell_type": "code",
      "metadata": {
        "id": "Mzurd0228ABc"
      },
      "source": [
        "sent1=sent.split()"
      ],
      "execution_count": 54,
      "outputs": []
    },
    {
      "cell_type": "code",
      "metadata": {
        "id": "EtTbQ0iL8DN6"
      },
      "source": [
        "rd_parser = nltk.RecursiveDescentParser(grammer1)"
      ],
      "execution_count": 55,
      "outputs": []
    },
    {
      "cell_type": "code",
      "metadata": {
        "colab": {
          "base_uri": "https://localhost:8080/"
        },
        "id": "t7fNW5B-4HDZ",
        "outputId": "9ee2aa9e-70ec-49bd-c59e-4fa6901bd4b2"
      },
      "source": [
        "for t in rd_parser.parse(sent1):\n",
        "    print(t)"
      ],
      "execution_count": 56,
      "outputs": [
        {
          "output_type": "stream",
          "name": "stdout",
          "text": [
            "(S (NP Mary) (VP (V saw) (NP Bob)))\n"
          ]
        }
      ]
    },
    {
      "cell_type": "code",
      "metadata": {
        "id": "F_l-meZV4vXR"
      },
      "source": [
        "grammar1 = nltk.CFG.fromstring(\"\"\"\n",
        "  S -> NP VP\n",
        "  PP -> P NP\n",
        "  NP -> Det N | Det N PP | 'I'\n",
        "  VP -> V NP | VP PP\n",
        "  Det -> 'an' | 'my'\n",
        "  N -> 'elephant' | 'pajamas'\n",
        "  V -> 'shot'\n",
        "  P -> 'in'\n",
        " \"\"\")"
      ],
      "execution_count": 42,
      "outputs": []
    },
    {
      "cell_type": "code",
      "metadata": {
        "id": "LxNayb9l6x28"
      },
      "source": [
        "sent = ['I', 'shot', 'an', 'elephant', 'in', 'my', 'pajamas']"
      ],
      "execution_count": 40,
      "outputs": []
    },
    {
      "cell_type": "code",
      "metadata": {
        "id": "MCza6Fsi646r"
      },
      "source": [
        "parser = nltk.ChartParser(grammar1)"
      ],
      "execution_count": 43,
      "outputs": []
    },
    {
      "cell_type": "code",
      "metadata": {
        "colab": {
          "base_uri": "https://localhost:8080/"
        },
        "id": "NBYX9y4y7Iw5",
        "outputId": "bf3e1988-587e-43f9-f425-98fc59e45e7d"
      },
      "source": [
        "for tree in parser.parse(sent):\n",
        "    print(tree)"
      ],
      "execution_count": 44,
      "outputs": [
        {
          "output_type": "stream",
          "name": "stdout",
          "text": [
            "(S\n",
            "  (NP I)\n",
            "  (VP\n",
            "    (VP (V shot) (NP (Det an) (N elephant)))\n",
            "    (PP (P in) (NP (Det my) (N pajamas)))))\n",
            "(S\n",
            "  (NP I)\n",
            "  (VP\n",
            "    (V shot)\n",
            "    (NP (Det an) (N elephant) (PP (P in) (NP (Det my) (N pajamas))))))\n"
          ]
        }
      ]
    },
    {
      "cell_type": "code",
      "metadata": {
        "id": "N3t73TSc7jsF"
      },
      "source": [
        ""
      ],
      "execution_count": null,
      "outputs": []
    }
  ]
}