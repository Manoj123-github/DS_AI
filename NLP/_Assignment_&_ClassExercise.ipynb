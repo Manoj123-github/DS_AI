{
  "nbformat": 4,
  "nbformat_minor": 0,
  "metadata": {
    "colab": {
      "name": "43_ManojYadav _ Assignment & ClassExercise.ipynb",
      "provenance": [],
      "collapsed_sections": []
    },
    "kernelspec": {
      "name": "python3",
      "display_name": "Python 3"
    },
    "language_info": {
      "name": "python"
    }
  },
  "cells": [
    {
      "cell_type": "code",
      "metadata": {
        "colab": {
          "base_uri": "https://localhost:8080/"
        },
        "id": "5frN_2tQjs3o",
        "outputId": "530f4338-2e7c-487e-d173-91b2b95ebf1f"
      },
      "source": [
        "from nltk.stem import PorterStemmer\n",
        " \n",
        "word = \"unexpected\"\n",
        "text = \"disagreement\"\n",
        "text1 = \"disagree\"\n",
        "text2 = \"agreement\"\n",
        "text3 = \"quirkiness\"\n",
        "text4 = \"historical\"\n",
        "text5 = \"canonical\"\n",
        "text6 = \"happiness\"\n",
        "text7 = \"unkind\"\n",
        "text8 = \"dogs\"\n",
        "text9 = \"expected\"\n",
        " \n",
        "words = [\"unexpected\", \"disagreement\", \"disagree\", \"agreement\", \"quirkiness\", \"canonical\" \"historical\"]\n",
        " \n",
        "def stemmer_porter():\n",
        "    port = PorterStemmer()\n",
        "    print(\"\\nDerivational Morphemes\")\n",
        "    print(\" \".join([port.stem(i) for i in text6.split()]))\n",
        "    print(\" \".join([port.stem(i) for i in text7.split()]))\n",
        "    print(\"\\nInflectional  Morphemes\")\n",
        "    print(\" \".join([port.stem(i) for i in text8.split()]))\n",
        "    print(\" \".join([port.stem(i) for i in text9.split()]))\n",
        "    print(\"\\nSome examples\")\n",
        "    print(\" \".join([port.stem(i) for i in word.split()]))\n",
        "    print(\" \".join([port.stem(i) for i in text.split()]))\n",
        "    print(\" \".join([port.stem(i) for i in text1.split()]))\n",
        "    print(\" \".join([port.stem(i) for i in text2.split()]))\n",
        "    print(\" \".join([port.stem(i) for i in text3.split()]))\n",
        "    print(\" \".join([port.stem(i) for i in text4.split()]))\n",
        "    print(\" \".join([port.stem(i) for i in text5.split()]))\n",
        "if __name__ == \"__main__\":\n",
        "    stemmer_porter()\n"
      ],
      "execution_count": 2,
      "outputs": [
        {
          "output_type": "stream",
          "name": "stdout",
          "text": [
            "\n",
            "Derivational Morphemes\n",
            "happi\n",
            "unkind\n",
            "\n",
            "Inflectional  Morphemes\n",
            "dog\n",
            "expect\n",
            "\n",
            "Some examples\n",
            "unexpect\n",
            "disagr\n",
            "disagre\n",
            "agreement\n",
            "quirki\n",
            "histor\n",
            "canon\n"
          ]
        }
      ]
    },
    {
      "cell_type": "code",
      "metadata": {
        "colab": {
          "base_uri": "https://localhost:8080/"
        },
        "id": "WgmNCeNby6B4",
        "outputId": "73b632c6-b726-40e9-fae6-f9d5e6575cc1"
      },
      "source": [
        "from nltk.stem import PorterStemmer\n",
        "from nltk.stem import SnowballStemmer \n",
        "# Snowball Stemmer has language as a parameter.\n",
        "\n",
        "words = [\"grows\",\"leaves\",\"fairly\",\"cats\",\"trouble\",\"misunderstanding\",\"friendships\",\"easily\", \"rational\", \"relational\"]\n",
        "\n",
        "#Create instances of both stemmers, and stem the words using them.\n",
        "stemmer_ps = PorterStemmer()  \n",
        "\n",
        "#an instance of Porter Stemmer\n",
        "stemmed_words_ps = [stemmer_ps.stem(word) for word in words]\n",
        "print(\"Porter stemmed words: \", stemmed_words_ps)\n",
        "stemmer_ss = SnowballStemmer(\"english\")   \n",
        "\n",
        "#an instance of Snowball Stemmer\n",
        "stemmed_words_ss = [stemmer_ss.stem(word) for word in words]\n",
        "print(\"Snowball stemmed words: \", stemmed_words_ss)\n",
        "\n"
      ],
      "execution_count": 4,
      "outputs": [
        {
          "output_type": "stream",
          "name": "stdout",
          "text": [
            "Porter stemmed words:  ['grow', 'leav', 'fairli', 'cat', 'troubl', 'misunderstand', 'friendship', 'easili', 'ration', 'relat']\n",
            "Snowball stemmed words:  ['grow', 'leav', 'fair', 'cat', 'troubl', 'misunderstand', 'friendship', 'easili', 'ration', 'relat']\n"
          ]
        }
      ]
    },
    {
      "cell_type": "code",
      "metadata": {
        "colab": {
          "base_uri": "https://localhost:8080/"
        },
        "id": "WmQuqnqH2pTE",
        "outputId": "bb3390ce-0578-47d5-e62f-39197ca65ccb"
      },
      "source": [
        "from nltk.tokenize import word_tokenize, sent_tokenize\n",
        "import nltk\n",
        "nltk.download('punkt')"
      ],
      "execution_count": 7,
      "outputs": [
        {
          "output_type": "stream",
          "name": "stdout",
          "text": [
            "[nltk_data] Downloading package punkt to /root/nltk_data...\n",
            "[nltk_data]   Unzipping tokenizers/punkt.zip.\n"
          ]
        },
        {
          "output_type": "execute_result",
          "data": {
            "text/plain": [
              "True"
            ]
          },
          "metadata": {},
          "execution_count": 7
        }
      ]
    },
    {
      "cell_type": "code",
      "metadata": {
        "colab": {
          "base_uri": "https://localhost:8080/"
        },
        "id": "1mcLQ8IO1-IH",
        "outputId": "a3722e0a-eb08-4ffb-f605-702ea8f6ea4b"
      },
      "source": [
        "# A function which takes a sentence/corpus and gets its stemmed version.\n",
        "def stemSentence(sentence):\n",
        "    token_words=word_tokenize(sentence) #we need to tokenize the sentence or else stemming will return the entire sentence as is.\n",
        "    stem_sentence=[]\n",
        "    for word in token_words:\n",
        "        stem_sentence.append(stemmer_ps.stem(word))\n",
        "        stem_sentence.append(\" \") #adding a space so that we can join all the words at the end to form the sentence again.\n",
        "    return \"\".join(stem_sentence)\n",
        "str=\"The circumstances under which I now meet you will acquit me from entering into that subject further than to refer to the great constitutional charter under which you are assembled, and which, in defining your powers, designates the objects to which your attention is to be given.\"\n",
        "print(\"Original Sentencs : \",str)\n",
        "stemmed_sentence = stemSentence(str)\n",
        "print(\"The Porter stemmed sentence is: \", stemmed_sentence)"
      ],
      "execution_count": 12,
      "outputs": [
        {
          "output_type": "stream",
          "name": "stdout",
          "text": [
            "Original Sentencs :  The circumstances under which I now meet you will acquit me from entering into that subject further than to refer to the great constitutional charter under which you are assembled, and which, in defining your powers, designates the objects to which your attention is to be given.\n",
            "The Porter stemmed sentence is:  the circumst under which I now meet you will acquit me from enter into that subject further than to refer to the great constitut charter under which you are assembl , and which , in defin your power , design the object to which your attent is to be given . \n"
          ]
        }
      ]
    },
    {
      "cell_type": "code",
      "metadata": {
        "id": "X6o2JXCz4au4"
      },
      "source": [
        "# A function which takes a sentence/corpus and gets its stemmed version.\n",
        "def stemSentence(sentence):\n",
        "    token_words=word_tokenize(sentence) #we need to tokenize the sentence or else stemming will return the entire sentence as is.\n",
        "    stem_sentence=[]\n",
        "    for word in token_words:\n",
        "        stem_sentence.append(stemmer_ps.stem(word))\n",
        "        stem_sentence.append(\" \") #adding a space so that we can join all the words at the end to form the sentence again.\n",
        "    return \"\".join(stem_sentence)\n",
        "str=\"The circumstances under which I now meet you will acquit me from entering into that subject further than to refer to the great constitutional charter under which you are assembled, and which, in defining your powers, designates the objects to which your attention is to be given.\"\n",
        "print(\"Original Sentencs : \",str)\n",
        "stemmed_sentence = stemSentence(str)\n",
        "print(\"The Porter stemmed sentence is: \", stemmed_sentence)"
      ],
      "execution_count": null,
      "outputs": []
    },
    {
      "cell_type": "markdown",
      "metadata": {
        "id": "P40R0DpcBaEt"
      },
      "source": [
        "**Lemmatizer**"
      ]
    },
    {
      "cell_type": "code",
      "metadata": {
        "colab": {
          "base_uri": "https://localhost:8080/"
        },
        "id": "5MdMoD8uBOB4",
        "outputId": "871101a6-7c88-44d5-c153-422f22b70ec3"
      },
      "source": [
        " \n",
        "# import these modules\n",
        "import nltk\n",
        "nltk.download('wordnet')\n",
        "from nltk.stem import WordNetLemmatizer\n",
        "from nltk.stem import SnowballStemmer \n",
        "lemmatizer = WordNetLemmatizer()\n",
        "stemmer_ss = SnowballStemmer(\"english\")\n",
        " \n",
        "print(\"rocks :\", stemmer_ss.stem(\"rocks\"))\n",
        "print(\"corpora :\", stemmer_ss.stem(\"corpora\"))\n",
        "print(\"easily :\", stemmer_ss.stem(\"easily\"))\n",
        "print(\"leaves :\", stemmer_ss.stem(\"leaves\"))\n",
        " \n",
        " \n",
        "print(\"rocks :\", lemmatizer.lemmatize(\"rocks\"))\n",
        "print(\"corpora :\", lemmatizer.lemmatize(\"corpora\"))\n",
        "print(\"easily :\", lemmatizer.lemmatize(\"easily\"))\n",
        "print(\"leaves :\", lemmatizer.lemmatize(\"leaves\"))\n",
        " \n",
        "# a denotes adjective in \"pos\"\n",
        "#print(\"better :\", lemmatizer.lemmatize(\"better\", pos =\"a\"))\n"
      ],
      "execution_count": 42,
      "outputs": [
        {
          "output_type": "stream",
          "name": "stdout",
          "text": [
            "[nltk_data] Downloading package wordnet to /root/nltk_data...\n",
            "[nltk_data]   Unzipping corpora/wordnet.zip.\n",
            "rocks : rock\n",
            "corpora : corpora\n",
            "easily : easili\n",
            "leaves : leav\n",
            "rocks : rock\n",
            "corpora : corpus\n",
            "easily : easily\n",
            "leaves : leaf\n"
          ]
        }
      ]
    },
    {
      "cell_type": "code",
      "metadata": {
        "id": "Lg4pRqV2Idvp"
      },
      "source": [
        ""
      ],
      "execution_count": null,
      "outputs": []
    },
    {
      "cell_type": "code",
      "metadata": {
        "id": "aPt9-FckIdKD"
      },
      "source": [
        ""
      ],
      "execution_count": null,
      "outputs": []
    },
    {
      "cell_type": "markdown",
      "metadata": {
        "id": "XHq4hC1hIf-d"
      },
      "source": [
        "# **Assignment**"
      ]
    },
    {
      "cell_type": "code",
      "metadata": {
        "colab": {
          "base_uri": "https://localhost:8080/"
        },
        "id": "UVMk3gV8IjrA",
        "outputId": "8d6e3f10-c578-4a50-ac6e-7ffcf48e08ae"
      },
      "source": [
        "import requests\n",
        "from nltk.tokenize import sent_tokenize\n",
        "from bs4 import BeautifulSoup\n",
        "from nltk.stem import PorterStemmer\n",
        "\n",
        "stemmer_ps = PorterStemmer() \n",
        "\n",
        "def stemSentence(sentence):\n",
        "  token_words=word_tokenize(sentence)\n",
        "  stem_sentence=[]\n",
        "  for word in token_words:\n",
        "        stem_sentence.append(stemmer_ps.stem(word))\n",
        "  return stem_sentence\n",
        " \n",
        "def Get_the_page_by_beutibulsoup(i):\n",
        "  page=requests.get(\"https://www.rjcollege.edu.in/about-us/\")\n",
        "  soup=BeautifulSoup(page.content,'html.parser')\n",
        "  text=soup.find_all('p')[0].get_text()\n",
        "  return text\n",
        "\n",
        "No_of_paragraph=1\n",
        "\n",
        "for i in range(0,No_of_paragraph):\n",
        "  print(\"Original Sentence : \",Get_the_page_by_beutibulsoup(i))\n",
        "  stemmed_sentence = stemSentence(Get_the_page_by_beutibulsoup(i))\n",
        "  print(\"Stem of each morphemes in above Paragraph -\",stemmed_sentence)"
      ],
      "execution_count": 63,
      "outputs": [
        {
          "output_type": "stream",
          "name": "stdout",
          "text": [
            "Original Sentence :  On the auspicious day of Shri Krishna Janmashtami, 15th August 1938, the people of Ghatkopar and the surrounding suburbs witnessed the birth of Hindi Vidya Prachar Samiti, a brain child of a visionary Late Shri Nandkishore Singh Jairamji. The Samiti was established with the objectives of catering to the educational needs of the Hindi speaking community. It made a humble beginning by starting a primary school, which gradually expanded into a full-fledged secondary school.\n",
            "The Hindi High School with its high academic standards has carved for itself a place not only among leading secondary schools in Mumbai but also educational institutions imparting instructions in Hindi throughout Maharashtra. With its primary objectives achieved the Samiti decided to extend its frontiers and broaden its horizons. As a result, Ramniranjan Jhunjhunwala College came into existence in 1963, enabling a larger section of the society to take advantage of the facilities provided for higher education.\n",
            "In 1976 the Junior College section was introduced and in 1981 the Commerce faculty commenced both at the Junior and Degree College level.\n",
            "From 1999-2000 the College has added a number of self-financing courses like BMS, B.B.I, B.Sc. in C.S., I.T., Biotechnology, M.Sc. in Computer Science and Biotechnology as well as add on courses, which further hone the special skills of the students.\n",
            "In 2014 saw a change in education system with greater emphasis being given to employability of youth. As an effort to realize the dream of Make in India, Digital India, Clean and Green India, we have started skill based program supported by University Grants commission known as Bachelor in Vocation.\n",
            "The college has been reaccredited with ‘A’ Grade by NAAC in 2014 with a CGPA 3.50 and received the Best College Award (2007-2008) of the University of Mumbai. The College has been bestowed with IMC RAMKRISHNA BAJAJ PERFORMANCE EXCELLENCE TROPHY, 2010. The Principal of the college was awarded “Best Teacher” by Government of Maharashtra in 2011. Government of Maharashtra conferred the college with “JAAGAR JAANIVANCHA” (First in Mumbai Suburban- in 2013 and Second in Mumbai Suburban- in 2014) for safety of girls.\n",
            "Stem of each morphemes in above Paragraph - ['On', 'the', 'auspici', 'day', 'of', 'shri', 'krishna', 'janmashtami', ',', '15th', 'august', '1938', ',', 'the', 'peopl', 'of', 'ghatkopar', 'and', 'the', 'surround', 'suburb', 'wit', 'the', 'birth', 'of', 'hindi', 'vidya', 'prachar', 'samiti', ',', 'a', 'brain', 'child', 'of', 'a', 'visionari', 'late', 'shri', 'nandkishor', 'singh', 'jairamji', '.', 'the', 'samiti', 'wa', 'establish', 'with', 'the', 'object', 'of', 'cater', 'to', 'the', 'educ', 'need', 'of', 'the', 'hindi', 'speak', 'commun', '.', 'It', 'made', 'a', 'humbl', 'begin', 'by', 'start', 'a', 'primari', 'school', ',', 'which', 'gradual', 'expand', 'into', 'a', 'full-fledg', 'secondari', 'school', '.', 'the', 'hindi', 'high', 'school', 'with', 'it', 'high', 'academ', 'standard', 'ha', 'carv', 'for', 'itself', 'a', 'place', 'not', 'onli', 'among', 'lead', 'secondari', 'school', 'in', 'mumbai', 'but', 'also', 'educ', 'institut', 'impart', 'instruct', 'in', 'hindi', 'throughout', 'maharashtra', '.', 'with', 'it', 'primari', 'object', 'achiev', 'the', 'samiti', 'decid', 'to', 'extend', 'it', 'frontier', 'and', 'broaden', 'it', 'horizon', '.', 'As', 'a', 'result', ',', 'ramniranjan', 'jhunjhunwala', 'colleg', 'came', 'into', 'exist', 'in', '1963', ',', 'enabl', 'a', 'larger', 'section', 'of', 'the', 'societi', 'to', 'take', 'advantag', 'of', 'the', 'facil', 'provid', 'for', 'higher', 'educ', '.', 'In', '1976', 'the', 'junior', 'colleg', 'section', 'wa', 'introduc', 'and', 'in', '1981', 'the', 'commerc', 'faculti', 'commenc', 'both', 'at', 'the', 'junior', 'and', 'degre', 'colleg', 'level', '.', 'from', '1999-2000', 'the', 'colleg', 'ha', 'ad', 'a', 'number', 'of', 'self-financ', 'cours', 'like', 'bm', ',', 'b.b.i', ',', 'b.sc', '.', 'in', 'c.s.', ',', 'i.t.', ',', 'biotechnolog', ',', 'm.sc', '.', 'in', 'comput', 'scienc', 'and', 'biotechnolog', 'as', 'well', 'as', 'add', 'on', 'cours', ',', 'which', 'further', 'hone', 'the', 'special', 'skill', 'of', 'the', 'student', '.', 'In', '2014', 'saw', 'a', 'chang', 'in', 'educ', 'system', 'with', 'greater', 'emphasi', 'be', 'given', 'to', 'employ', 'of', 'youth', '.', 'As', 'an', 'effort', 'to', 'realiz', 'the', 'dream', 'of', 'make', 'in', 'india', ',', 'digit', 'india', ',', 'clean', 'and', 'green', 'india', ',', 'we', 'have', 'start', 'skill', 'base', 'program', 'support', 'by', 'univers', 'grant', 'commiss', 'known', 'as', 'bachelor', 'in', 'vocat', '.', 'the', 'colleg', 'ha', 'been', 'reaccredit', 'with', '‘', 'A', '’', 'grade', 'by', 'naac', 'in', '2014', 'with', 'a', 'cgpa', '3.50', 'and', 'receiv', 'the', 'best', 'colleg', 'award', '(', '2007-2008', ')', 'of', 'the', 'univers', 'of', 'mumbai', '.', 'the', 'colleg', 'ha', 'been', 'bestow', 'with', 'imc', 'ramkrishna', 'bajaj', 'perform', 'excel', 'trophi', ',', '2010', '.', 'the', 'princip', 'of', 'the', 'colleg', 'wa', 'award', '“', 'best', 'teacher', '”', 'by', 'govern', 'of', 'maharashtra', 'in', '2011', '.', 'govern', 'of', 'maharashtra', 'confer', 'the', 'colleg', 'with', '“', 'jaagar', 'jaanivancha', '”', '(', 'first', 'in', 'mumbai', 'suburban-', 'in', '2013', 'and', 'second', 'in', 'mumbai', 'suburban-', 'in', '2014', ')', 'for', 'safeti', 'of', 'girl', '.']\n"
          ]
        }
      ]
    },
    {
      "cell_type": "code",
      "metadata": {
        "colab": {
          "base_uri": "https://localhost:8080/"
        },
        "id": "6vy6PO9uRyAw",
        "outputId": "af5b92f9-e90a-4b35-836d-6c2b9ba94857"
      },
      "source": [
        "import requests\n",
        "from nltk.tokenize import sent_tokenize\n",
        "from bs4 import BeautifulSoup\n",
        "from nltk.stem import PorterStemmer\n",
        "\n",
        "stemmer_ps = PorterStemmer() \n",
        "\n",
        "def stemSentence(sentence):\n",
        "  token_words=word_tokenize(sentence)\n",
        "  stem_sentence=[]\n",
        "  for word in token_words:\n",
        "        stem_sentence.append(stemmer_ps.stem(word))\n",
        "  return stem_sentence\n",
        " \n",
        "def Get_the_page_by_beutibulsoup(i):\n",
        "  page=requests.get(\"https://en.wikipedia.org/wiki/Natural_language_processing\")\n",
        "  soup=BeautifulSoup(page.content,'html.parser')\n",
        "  text=soup.find_all('p')[0].get_text()\n",
        "  return text\n",
        "\n",
        "No_of_paragraph=1\n",
        "\n",
        "for i in range(0,No_of_paragraph):\n",
        "  print(\"Original Sentence : \",Get_the_page_by_beutibulsoup(i))\n",
        "  stemmed_sentence = stemSentence(Get_the_page_by_beutibulsoup(i))\n",
        "  print(\"Stem of each morphemes in above Paragraph -\",stemmed_sentence)"
      ],
      "execution_count": 64,
      "outputs": [
        {
          "output_type": "stream",
          "name": "stdout",
          "text": [
            "Original Sentence :  Natural language processing (NLP) is a subfield of linguistics, computer science, and artificial intelligence concerned with the interactions between computers and human language, in particular how to program computers to process and analyze large amounts of natural language data.  The goal is a computer capable of \"understanding\" the contents of documents, including the contextual nuances of the language within them. The technology can then accurately extract information and insights contained in the documents as well as categorize and organize the documents themselves.\n",
            "\n",
            "Stem of each morphemes in above Paragraph - ['natur', 'languag', 'process', '(', 'nlp', ')', 'is', 'a', 'subfield', 'of', 'linguist', ',', 'comput', 'scienc', ',', 'and', 'artifici', 'intellig', 'concern', 'with', 'the', 'interact', 'between', 'comput', 'and', 'human', 'languag', ',', 'in', 'particular', 'how', 'to', 'program', 'comput', 'to', 'process', 'and', 'analyz', 'larg', 'amount', 'of', 'natur', 'languag', 'data', '.', 'the', 'goal', 'is', 'a', 'comput', 'capabl', 'of', '``', 'understand', \"''\", 'the', 'content', 'of', 'document', ',', 'includ', 'the', 'contextu', 'nuanc', 'of', 'the', 'languag', 'within', 'them', '.', 'the', 'technolog', 'can', 'then', 'accur', 'extract', 'inform', 'and', 'insight', 'contain', 'in', 'the', 'document', 'as', 'well', 'as', 'categor', 'and', 'organ', 'the', 'document', 'themselv', '.']\n"
          ]
        }
      ]
    }
  ]
}