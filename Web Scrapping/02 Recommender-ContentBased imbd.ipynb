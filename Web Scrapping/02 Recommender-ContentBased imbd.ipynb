{
 "cells": [
  {
   "cell_type": "code",
   "execution_count": 1,
   "id": "edb0176d",
   "metadata": {},
   "outputs": [],
   "source": [
    "# imports\n",
    "import pandas as pd\n"
   ]
  },
  {
   "cell_type": "code",
   "execution_count": 2,
   "id": "b2f1ec3d",
   "metadata": {},
   "outputs": [
    {
     "name": "stdout",
     "output_type": "stream",
     "text": [
      "<class 'pandas.core.frame.DataFrame'>\n"
     ]
    }
   ],
   "source": [
    "\n",
    "# read small dataset (sandom sample)\n",
    "md = pd.read_csv('C:/Users/Manoj Yadav/Desktop/Part II/ML II/Recommender system/movies_small.csv', low_memory=False)\n",
    "\n",
    "# type\n",
    "print(type(md))"
   ]
  },
  {
   "cell_type": "code",
   "execution_count": 3,
   "id": "0eed08fa",
   "metadata": {},
   "outputs": [
    {
     "name": "stdout",
     "output_type": "stream",
     "text": [
      "(4822, 24)\n"
     ]
    }
   ],
   "source": [
    "# shape\n",
    "print(md.shape)\n"
   ]
  },
  {
   "cell_type": "code",
   "execution_count": 4,
   "id": "522f61cb",
   "metadata": {},
   "outputs": [
    {
     "name": "stdout",
     "output_type": "stream",
     "text": [
      "<class 'pandas.core.frame.DataFrame'>\n",
      "RangeIndex: 4822 entries, 0 to 4821\n",
      "Data columns (total 24 columns):\n",
      " #   Column                 Non-Null Count  Dtype  \n",
      "---  ------                 --------------  -----  \n",
      " 0   adult                  4822 non-null   bool   \n",
      " 1   belongs_to_collection  496 non-null    object \n",
      " 2   budget                 4822 non-null   int64  \n",
      " 3   genres                 4822 non-null   object \n",
      " 4   homepage               817 non-null    object \n",
      " 5   id                     4822 non-null   int64  \n",
      " 6   imdb_id                4820 non-null   object \n",
      " 7   original_language      4822 non-null   object \n",
      " 8   original_title         4822 non-null   object \n",
      " 9   overview               4714 non-null   object \n",
      " 10  popularity             4822 non-null   float64\n",
      " 11  poster_path            4785 non-null   object \n",
      " 12  production_companies   4822 non-null   object \n",
      " 13  production_countries   4822 non-null   object \n",
      " 14  release_date           4810 non-null   object \n",
      " 15  revenue                4822 non-null   int64  \n",
      " 16  runtime                4787 non-null   float64\n",
      " 17  spoken_languages       4822 non-null   object \n",
      " 18  status                 4815 non-null   object \n",
      " 19  tagline                2189 non-null   object \n",
      " 20  title                  4822 non-null   object \n",
      " 21  video                  4822 non-null   bool   \n",
      " 22  vote_average           4822 non-null   float64\n",
      " 23  vote_count             4822 non-null   int64  \n",
      "dtypes: bool(2), float64(3), int64(4), object(15)\n",
      "memory usage: 838.3+ KB\n",
      "None\n"
     ]
    }
   ],
   "source": [
    "# info\n",
    "print(md.info())"
   ]
  },
  {
   "cell_type": "code",
   "execution_count": 5,
   "id": "3f3e74a3",
   "metadata": {},
   "outputs": [
    {
     "name": "stdout",
     "output_type": "stream",
     "text": [
      "             budget             id   popularity       revenue      runtime  \\\n",
      "count  4.822000e+03    4822.000000  4822.000000  4.822000e+03  4787.000000   \n",
      "mean   4.479554e+06  107730.768768     2.906584  1.118364e+07    94.059954   \n",
      "std    1.901221e+07  111954.424191     4.892050  6.289271e+07    38.291402   \n",
      "min    0.000000e+00       5.000000     0.000000  0.000000e+00     0.000000   \n",
      "25%    0.000000e+00   25796.000000     0.374494  0.000000e+00    85.000000   \n",
      "50%    0.000000e+00   59315.500000     1.151589  0.000000e+00    94.000000   \n",
      "75%    0.000000e+00  157845.250000     3.815565  0.000000e+00   107.000000   \n",
      "max    3.000000e+08  469172.000000   133.827820  1.108561e+09   720.000000   \n",
      "\n",
      "       vote_average    vote_count  \n",
      "count   4822.000000   4822.000000  \n",
      "mean       5.576918    105.345085  \n",
      "std        1.944913    483.901944  \n",
      "min        0.000000      0.000000  \n",
      "25%        5.000000      3.000000  \n",
      "50%        6.000000     10.000000  \n",
      "75%        6.800000     35.000000  \n",
      "max       10.000000  12269.000000  \n"
     ]
    }
   ],
   "source": [
    "# describe\n",
    "print(md.describe())\n"
   ]
  },
  {
   "cell_type": "code",
   "execution_count": 6,
   "id": "1dab2b3f",
   "metadata": {},
   "outputs": [
    {
     "name": "stdout",
     "output_type": "stream",
     "text": [
      "   adult                              belongs_to_collection     budget  \\\n",
      "0  False                                                NaN    4000000   \n",
      "1  False                                                NaN     839727   \n",
      "2  False  {'id': 295, 'name': 'Pirates of the Caribbean ...  200000000   \n",
      "3  False                                                NaN          0   \n",
      "4  False                                                NaN   20000000   \n",
      "\n",
      "                                              genres  \\\n",
      "0  [{'id': 80, 'name': 'Crime'}, {'id': 35, 'name...   \n",
      "1  [{'id': 9648, 'name': 'Mystery'}, {'id': 18, '...   \n",
      "2  [{'id': 12, 'name': 'Adventure'}, {'id': 14, '...   \n",
      "3  [{'id': 53, 'name': 'Thriller'}, {'id': 80, 'n...   \n",
      "4                      [{'id': 18, 'name': 'Drama'}]   \n",
      "\n",
      "                                       homepage  id    imdb_id  \\\n",
      "0                                           NaN   5  tt0113101   \n",
      "1                                           NaN  15  tt0033467   \n",
      "2  http://disney.go.com/disneypictures/pirates/  58  tt0383574   \n",
      "3        http://wip.warnerbros.com/paradisenow/  67  tt0445620   \n",
      "4                      http://www.historyx.com/  73  tt0120586   \n",
      "\n",
      "  original_language                              original_title  \\\n",
      "0                en                                  Four Rooms   \n",
      "1                en                                Citizen Kane   \n",
      "2                en  Pirates of the Caribbean: Dead Man's Chest   \n",
      "3                en                                Paradise Now   \n",
      "4                en                          American History X   \n",
      "\n",
      "                                            overview  ...  release_date  \\\n",
      "0  It's Ted the Bellhop's first night on the job....  ...      09-12-95   \n",
      "1  Newspaper magnate, Charles Foster Kane is take...  ...      30-04-41   \n",
      "2  Captain Jack Sparrow works his way out of a bl...  ...      20-06-06   \n",
      "3  Paradise Now is filmed from the perspective of...  ...      14-02-05   \n",
      "4  Derek Vineyard is paroled after serving 3 year...  ...      30-10-98   \n",
      "\n",
      "      revenue runtime                                   spoken_languages  \\\n",
      "0     4300000    98.0           [{'iso_639_1': 'en', 'name': 'English'}]   \n",
      "1    23217674   119.0           [{'iso_639_1': 'en', 'name': 'English'}]   \n",
      "2  1065659812   151.0  [{'iso_639_1': 'en', 'name': 'English'}, {'iso...   \n",
      "3     3357075    90.0  [{'iso_639_1': 'ar', 'name': 'العربية'}, {'iso...   \n",
      "4    23875127   119.0           [{'iso_639_1': 'en', 'name': 'English'}]   \n",
      "\n",
      "     status                                            tagline  \\\n",
      "0  Released  Twelve outrageous guests. Four scandalous requ...   \n",
      "1  Released                                     It's Terrific!   \n",
      "2  Released                                      Jack is back!   \n",
      "3  Released  From the most unexpected place, come a  new ca...   \n",
      "4  Released                            Some Legacies Must End.   \n",
      "\n",
      "                                        title  video vote_average vote_count  \n",
      "0                                  Four Rooms  False          6.5        539  \n",
      "1                                Citizen Kane  False          8.0       1244  \n",
      "2  Pirates of the Caribbean: Dead Man's Chest  False          7.0       5380  \n",
      "3                                Paradise Now  False          6.9         63  \n",
      "4                          American History X  False          8.2       3120  \n",
      "\n",
      "[5 rows x 24 columns]\n"
     ]
    }
   ],
   "source": [
    "# head\n",
    "print(md.head())\n"
   ]
  },
  {
   "cell_type": "raw",
   "id": "0f449641",
   "metadata": {},
   "source": [
    " Content-Based Recommender\n",
    "##################################################\n",
    " Recommender System based on similarity in columns 'overview'\n",
    " a system that recommends movies that are similar to a particular movie more\n",
    " specifically, pairwise similarity scores are computed for all movies based\n",
    " on their plot descriptions and recommend movies based on that similarity score.\n",
    "\n",
    " In its current form, it is not possible to compute the similarity between any \n",
    " two overviews. To do this, we need to compute the word vectors of each overview \n",
    " or document, as it will be called from now on.\n",
    "\n",
    " We will compute Term Frequency-Inverse Document Frequency (TF-IDF) vectors for \n",
    " each document. This will give you a matrix where each column represents a word \n",
    " in the overview vocabulary (all the words that appear in at least one document) \n",
    " and each column represents a movie, as before.\n",
    "\n",
    " In its essence, the TF-IDF score is the frequency of a word occurring in a \n",
    " document, down-weighted by the number of documents in which it occurs. This is \n",
    " done to reduce the importance of words that occur frequently in plot overviews \n",
    " and therefore, their significance in computing the final similarity score.\n",
    "\n",
    " scikit-learn gives you a built-in TfIdfVectorizer class that produces the \n",
    " TF-IDF matrix in a couple of lines.\n"
   ]
  },
  {
   "cell_type": "code",
   "execution_count": 7,
   "id": "1dea006f",
   "metadata": {},
   "outputs": [
    {
     "name": "stdout",
     "output_type": "stream",
     "text": [
      "0    It's Ted the Bellhop's first night on the job....\n",
      "1    Newspaper magnate, Charles Foster Kane is take...\n",
      "2    Captain Jack Sparrow works his way out of a bl...\n",
      "3    Paradise Now is filmed from the perspective of...\n",
      "4    Derek Vineyard is paroled after serving 3 year...\n",
      "Name: overview, dtype: object\n",
      "It's Ted the Bellhop's first night on the job...and the hotel's very unusual guests are about to place him in some outrageous predicaments. It seems that this evening's room service is serving up one unbelievable happening after another. \n",
      "\n",
      "Newspaper magnate, Charles Foster Kane is taken from his mother as a boy and made the ward of a rich industrialist. As a result, every well-meaning, tyrannical or self-destructive move he makes for the rest of his life appears in some way to be a reaction to that deeply wounding event. \n",
      "\n",
      "Captain Jack Sparrow works his way out of a blood debt with the ghostly Davey Jones, he also attempts to avoid eternal damnation. \n",
      "\n",
      "Paradise Now is filmed from the perspective of two Palestinian men who are preparing to perform a suicide attack in Israel. This is the first film to deal with the subject of suicide bombers. \n",
      "\n",
      "Derek Vineyard is paroled after serving 3 years in prison for killing two thugs who tried to break into/steal his truck. Through his brother, Danny Vineyard's narration, we learn that before going to prison, Derek was a skinhead and the leader of a violent white supremacist gang that committed acts of racial crime throughout L.A. and his actions greatly influenced Danny. Reformed and fresh out of prison, Derek severs contact with the gang and becomes determined to keep Danny from going down the same violent path as he did. \n",
      "\n"
     ]
    }
   ],
   "source": [
    "#print 'overview' \n",
    "print(md['overview'].head())\n",
    "for i in range(0, 5):\n",
    "    print(md['overview'][i],'\\n')"
   ]
  },
  {
   "cell_type": "code",
   "execution_count": 8,
   "id": "4a9508f8",
   "metadata": {},
   "outputs": [],
   "source": [
    "# imports\n",
    "from sklearn.feature_extraction.text import TfidfVectorizer\n"
   ]
  },
  {
   "cell_type": "code",
   "execution_count": 9,
   "id": "e7e3cb5d",
   "metadata": {},
   "outputs": [],
   "source": [
    "# replace NaN with an empty string\n",
    "md['overview'] = md['overview'].fillna('')\n"
   ]
  },
  {
   "cell_type": "code",
   "execution_count": 10,
   "id": "b726486f",
   "metadata": {},
   "outputs": [],
   "source": [
    "# define a TF-IDF Vectorizer Object; remove all english stop words such as 'the', 'a'\n",
    "tf = TfidfVectorizer(stop_words='english')"
   ]
  },
  {
   "cell_type": "code",
   "execution_count": 11,
   "id": "1729f86c",
   "metadata": {},
   "outputs": [],
   "source": [
    "# construct the required TF-IDF matrix by fitting and transforming the data\n",
    "tfidf_matrix = tf.fit_transform(md['overview'])\n"
   ]
  },
  {
   "cell_type": "code",
   "execution_count": 12,
   "id": "3bef9135",
   "metadata": {},
   "outputs": [
    {
     "name": "stdout",
     "output_type": "stream",
     "text": [
      "<class 'scipy.sparse.csr.csr_matrix'>\n"
     ]
    }
   ],
   "source": [
    "# output the typeof tfidf_matrix\n",
    "print(type(tfidf_matrix))\n"
   ]
  },
  {
   "cell_type": "code",
   "execution_count": 13,
   "id": "dc858317",
   "metadata": {},
   "outputs": [
    {
     "name": "stdout",
     "output_type": "stream",
     "text": [
      "(4822, 24794)\n"
     ]
    }
   ],
   "source": [
    "# output the shape of tfidf_matrix\n",
    "print(tfidf_matrix.shape)"
   ]
  },
  {
   "cell_type": "code",
   "execution_count": 14,
   "id": "97e61980",
   "metadata": {},
   "outputs": [
    {
     "name": "stdout",
     "output_type": "stream",
     "text": [
      "  (0, 9862)\t0.26475198317629595\n",
      "  (0, 23023)\t0.2978814822195355\n",
      "  (0, 19806)\t0.25386551454823836\n",
      "  (0, 19802)\t0.2242443257218525\n",
      "  (0, 18949)\t0.2155845000406412\n",
      "  (0, 7637)\t0.2494083674216807\n",
      "  (0, 17103)\t0.33255576769625694\n",
      "  (0, 15879)\t0.26172300601909476\n",
      "  (0, 16734)\t0.17955857042986587\n",
      "  (0, 9633)\t0.24736235494982683\n",
      "  (0, 23295)\t0.24181458442331408\n",
      "  (0, 10549)\t0.2242443257218525\n",
      "  (0, 11817)\t0.17547206302100224\n",
      "  (0, 15249)\t0.16312433127529546\n",
      "  (0, 2341)\t0.31721215194164165\n",
      "  (0, 22007)\t0.28009559893091124\n",
      "  (0, 9862)\t0.26475198317629595\n",
      "  (0, 23023)\t0.2978814822195355\n",
      "  (0, 19806)\t0.25386551454823836\n",
      "  (0, 19802)\t0.2242443257218525\n",
      "  (0, 18949)\t0.2155845000406412\n",
      "  (0, 7637)\t0.2494083674216807\n",
      "  (0, 17103)\t0.33255576769625694\n",
      "  (0, 15879)\t0.26172300601909476\n",
      "  (0, 16734)\t0.17955857042986587\n",
      "  (0, 9633)\t0.24736235494982683\n",
      "  (0, 23295)\t0.24181458442331408\n",
      "  (0, 10549)\t0.2242443257218525\n",
      "  (0, 11817)\t0.17547206302100224\n",
      "  (0, 15249)\t0.16312433127529546\n",
      "  (0, 2341)\t0.31721215194164165\n",
      "  (0, 22007)\t0.28009559893091124\n",
      "  (1, 7639)\t0.20059965044745373\n",
      "  (1, 24403)\t0.2778074077853085\n",
      "  (1, 5743)\t0.20347546083581614\n",
      "  (1, 17946)\t0.24307794888224543\n",
      "  (1, 23999)\t0.12262442776833302\n",
      "  (1, 1348)\t0.19016001199578997\n",
      "  (1, 12954)\t0.0934029453783825\n",
      "  (1, 18515)\t0.18081976307916578\n",
      "  (1, 13518)\t0.15414008347423117\n",
      "  :\t:\n",
      "  (1, 11079)\t0.23398370989054923\n",
      "  (1, 18682)\t0.16281561282393509\n",
      "  (1, 23923)\t0.21411206014777623\n",
      "  (1, 2929)\t0.1419611238420072\n",
      "  (1, 14683)\t0.1319136835155426\n",
      "  (1, 21851)\t0.16824816304841034\n",
      "  (1, 12047)\t0.22692967010345966\n",
      "  (1, 8637)\t0.22391671366131866\n",
      "  (1, 3920)\t0.19327191097821178\n",
      "  (1, 13460)\t0.2778074077853085\n",
      "  (1, 15195)\t0.19796378136899043\n",
      "  (2, 5504)\t0.35708924229513694\n",
      "  (2, 7582)\t0.28781899754210194\n",
      "  (2, 1865)\t0.23964270576091384\n",
      "  (2, 1724)\t0.21563353154803014\n",
      "  (2, 11861)\t0.2678078493770701\n",
      "  (2, 5596)\t0.34061368945225967\n",
      "  (2, 9158)\t0.32892409867898076\n",
      "  (2, 5664)\t0.2528658261907645\n",
      "  (2, 2688)\t0.22097020096509978\n",
      "  (2, 24371)\t0.2047329697028849\n",
      "  (2, 20727)\t0.32892409867898076\n",
      "  (2, 11604)\t0.22711527678874227\n",
      "  (2, 3531)\t0.22470068257460826\n",
      "  (2, 23999)\t0.15761949743438214\n"
     ]
    }
   ],
   "source": [
    "# print\n",
    "print(tfidf_matrix[0:1])\n",
    "\n",
    "print(tfidf_matrix[0:3])"
   ]
  },
  {
   "cell_type": "raw",
   "id": "9d5ccc14",
   "metadata": {},
   "source": [
    "# with this matrix, we can now compute a similarity score. There are several \n",
    "# methods for this; such as the euclidean, the Pearson and the cosine similarity \n",
    "# scores. Again, there is no right answer to which score is the best. \n",
    "# http://dataaspirant.com/2015/04/11/five-most-popular-similarity-measures-implementation-in-python/\n",
    "#\n",
    "# different scores work well in different scenarios and it is often a good idea \n",
    "# to experiment with different metrics.\n",
    "#\n",
    "# we will use the cosine-similarity to calculate a numeric quantity that denotes \n",
    "# the similarity between two movies. You use the cosine similarity score since \n",
    "# it is independent of magnitude and is relatively easy and fast to calculate \n",
    "# (especially when used in conjunction with TF-IDF scores). "
   ]
  },
  {
   "cell_type": "code",
   "execution_count": 15,
   "id": "72bfa160",
   "metadata": {},
   "outputs": [],
   "source": [
    "# import linear_kernel\n",
    "from sklearn.metrics.pairwise import linear_kernel"
   ]
  },
  {
   "cell_type": "code",
   "execution_count": 16,
   "id": "a222201b",
   "metadata": {},
   "outputs": [],
   "source": [
    "# compute the cosine similarity matrix\n",
    "cosSimilarity = linear_kernel(tfidf_matrix, tfidf_matrix)"
   ]
  },
  {
   "cell_type": "code",
   "execution_count": 17,
   "id": "75679fa5",
   "metadata": {},
   "outputs": [
    {
     "name": "stdout",
     "output_type": "stream",
     "text": [
      "<class 'numpy.ndarray'>\n",
      "(4822, 4822)\n"
     ]
    }
   ],
   "source": [
    "# output the typeof cosSimilarity\n",
    "print(type(cosSimilarity))\n",
    "\n",
    "# output the shape of cosSimilarity\n",
    "print(cosSimilarity.shape)"
   ]
  },
  {
   "cell_type": "code",
   "execution_count": 18,
   "id": "cdc5f7f9",
   "metadata": {},
   "outputs": [
    {
     "name": "stdout",
     "output_type": "stream",
     "text": [
      "[[1.         0.         0.         ... 0.01465983 0.         0.        ]\n",
      " [0.         1.         0.019328   ... 0.00575351 0.         0.04124054]\n",
      " [0.         0.019328   1.         ... 0.         0.         0.        ]\n",
      " [0.         0.         0.         ... 0.         0.02783031 0.        ]\n",
      " [0.030992   0.         0.         ... 0.         0.00940921 0.        ]]\n"
     ]
    }
   ],
   "source": [
    "# print\n",
    "print(cosSimilarity[0:5])"
   ]
  },
  {
   "cell_type": "code",
   "execution_count": 19,
   "id": "628c5002",
   "metadata": {},
   "outputs": [
    {
     "name": "stdout",
     "output_type": "stream",
     "text": [
      "title\n",
      "Four Rooms                                    0\n",
      "Citizen Kane                                  1\n",
      "Pirates of the Caribbean: Dead Man's Chest    2\n",
      "Paradise Now                                  3\n",
      "American History X                            4\n",
      "dtype: int64\n",
      "title\n",
      "Seizure                            4817\n",
      "Batman & Bill                      4818\n",
      "Stasis                             4819\n",
      "Tragedy in a Temporary Town        4820\n",
      "Manuel on the Island of Wonders    4821\n",
      "dtype: int64\n"
     ]
    }
   ],
   "source": [
    "# construct a reverse map of indices and movie titles\n",
    "indices = pd.Series(md.index, index=md['title']).drop_duplicates()\n",
    "print(indices.head())\n",
    "print(indices.tail())\n"
   ]
  },
  {
   "cell_type": "raw",
   "id": "a7068084",
   "metadata": {},
   "source": [
    " now we can define recommendation function with the following steps\n",
    " o get the index of the movie given its title\n",
    " o get the list of cosine similarity scores for that particular movie with all \n",
    "  movies. Convert it into a list of tuples key-value the first element is its \n",
    "   position and the second is the similarity score\n",
    " o sort the aforementioned list of tuples based on the similarity scores; that \n",
    "   is, the second element\n",
    " o get the top 5 elements of this list; ignore the first element as it refers \n",
    "    to self (the movie most similar to a particular movie is the movie itself)\n",
    " o return the titles corresponding to the indices of the top elements\n"
   ]
  },
  {
   "cell_type": "code",
   "execution_count": 20,
   "id": "ecae51dd",
   "metadata": {},
   "outputs": [],
   "source": [
    "# Function that takes in movie title as input and outputs most similar movies\n",
    "def getReccos(title, cosine_sim=cosSimilarity):\n",
    "    #title = 'The Godfather'\n",
    "    #cosine_sim=cosSimilarity\n",
    "    #print(cosine_sim)\n",
    "    # Get the index of the movie that matches the title\n",
    "    #idx = indices[title]\n",
    "    try:\n",
    "        idx = indices[title]\n",
    "        #print(idx)\n",
    "    except:\n",
    "        return \"Title Not Found ...\"\n",
    "    # Get the pairwsie similarity scores of all movies with that movie\n",
    "    sim_scores = list(enumerate(cosine_sim[idx]))\n",
    "    #print(sim_scores)\n",
    "    # Sort the movies based on the similarity scores\n",
    "    sim_scores = sorted(sim_scores, key=lambda x: x[1], reverse=True)\n",
    "    #print(sim_scores)\n",
    "    # Get the scores of the 10 most similar movies\n",
    "    sim_scores = sim_scores[0:9]\n",
    "    #print(sim_scores)\n",
    "    # Get the movie indices\n",
    "    movie_indices = [i[0] for i in sim_scores]\n",
    "    #print(movie_indices)\n",
    "    # Return the top 10 most similar movies\n",
    "    #print(md['title'].iloc[movie_indices],sim_scores)\n",
    "    return md['title'].iloc[movie_indices],sim_scores\n"
   ]
  },
  {
   "cell_type": "code",
   "execution_count": 24,
   "id": "fc40cfe2",
   "metadata": {},
   "outputs": [
    {
     "data": {
      "text/plain": [
       "(5       Raiders of the Lost Ark\n",
       " 620               American Teen\n",
       " 4500               Killer Crush\n",
       " 484               Armour of God\n",
       " 167               Evan Almighty\n",
       " 860            The Last Templar\n",
       " 890            Black Belt Jones\n",
       " 1934            Pimpernel Smith\n",
       " 1066          Hangmen Also Die!\n",
       " Name: title, dtype: object,\n",
       " [(5, 0.9999999999999996),\n",
       "  (620, 0.10690011675806509),\n",
       "  (4500, 0.10129446676641474),\n",
       "  (484, 0.10032132386187706),\n",
       "  (167, 0.09077955206019427),\n",
       "  (860, 0.08985768030625924),\n",
       "  (890, 0.0893770860737702),\n",
       "  (1934, 0.08876425902801763),\n",
       "  (1066, 0.08840966569615166)])"
      ]
     },
     "execution_count": 24,
     "metadata": {},
     "output_type": "execute_result"
    }
   ],
   "source": [
    "# call the function\n",
    "#getReccos('Four Rooms')\n",
    "getReccos('Raiders of the Lost Ark')\n",
    "#getReccos('Little Hiawatha')\n",
    "#getReccos('Red Sun')\n"
   ]
  },
  {
   "cell_type": "code",
   "execution_count": null,
   "id": "7c424920",
   "metadata": {},
   "outputs": [],
   "source": []
  }
 ],
 "metadata": {
  "kernelspec": {
   "display_name": "Python 3 (ipykernel)",
   "language": "python",
   "name": "python3"
  },
  "language_info": {
   "codemirror_mode": {
    "name": "ipython",
    "version": 3
   },
   "file_extension": ".py",
   "mimetype": "text/x-python",
   "name": "python",
   "nbconvert_exporter": "python",
   "pygments_lexer": "ipython3",
   "version": "3.8.8"
  }
 },
 "nbformat": 4,
 "nbformat_minor": 5
}
