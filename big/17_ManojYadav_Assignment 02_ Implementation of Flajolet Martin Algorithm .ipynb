{
 "cells": [
  {
   "cell_type": "code",
   "execution_count": 13,
   "metadata": {
    "colab": {
     "base_uri": "https://localhost:8080/"
    },
    "id": "SXW1q1ylZibL",
    "outputId": "e7425d01-91bb-4e63-ceeb-3c90bda639e5"
   },
   "outputs": [
    {
     "name": "stdout",
     "output_type": "stream",
     "text": [
      "Hash functions are defined in the form of (ax+b)%c , where x is an element of input stream\n",
      "enter the number of hash functions:1\n",
      "Enter the space seprated values of a, b & c: 6 1 2\n",
      "['1']\n",
      "['1', '1']\n",
      "['1', '1', '1']\n",
      "['1', '1', '1', '1']\n",
      "counts recorded for the given hash function  [1]\n"
     ]
    }
   ],
   "source": [
    "data=[1,3,2,1,2,3,4,3,1,2,3,1]\n",
    "print(\"Hash functions are defined in the form of (ax+b)%c , where x is an element of input stream\")\n",
    "inputCount = int(input (\"enter the number of hash functions:\"))\n",
    "abcList=[]\n",
    "\n",
    "for i in range (inputCount):\n",
    "  inputList = input(\"Enter the space seprated values of a, b & c: \").split(\" \")\n",
    "  abcList.append([int(i) for i in inputList])\n",
    "finalCountsRecorded=[]\n",
    "\n",
    "for i in abcList:\n",
    "  binElems=[]\n",
    "  for j in set(data):\n",
    "    binElems.append(str(bin((i[0]*j+i[1])%i[2])).split(\"b\")[1])\n",
    "    #print(binElems)\n",
    "  greatestTrailing = 0\n",
    "  for k in binElems:\n",
    "    reversedcount = k[::-1]\n",
    "    count = 0\n",
    "    for i in reversedcount:\n",
    "      if(i=='1'):\n",
    "        if(count>greatestTrailing):\n",
    "          #print(count)\n",
    "          greatestTrailing=count\n",
    "        break\n",
    "      else:\n",
    "        count+=1\n",
    "  finalCountsRecorded.append(2**greatestTrailing)\n",
    "  print(\"counts recorded for the given hash function \",finalCountsRecorded)\n"
   ]
  },
  {
   "cell_type": "code",
   "execution_count": null,
   "metadata": {
    "id": "o7ZZoyZmaEaf"
   },
   "outputs": [],
   "source": []
  }
 ],
 "metadata": {
  "colab": {
   "collapsed_sections": [],
   "name": "Big_Data_Analytics_FlajoletMartin_algorithm_Implementation_Ritvik_Kanchan_12/10/2021.ipynb",
   "provenance": []
  },
  "kernelspec": {
   "display_name": "Python 3",
   "language": "python",
   "name": "python3"
  },
  "language_info": {
   "codemirror_mode": {
    "name": "ipython",
    "version": 3
   },
   "file_extension": ".py",
   "mimetype": "text/x-python",
   "name": "python",
   "nbconvert_exporter": "python",
   "pygments_lexer": "ipython3",
   "version": "3.8.8"
  }
 },
 "nbformat": 4,
 "nbformat_minor": 1
}
